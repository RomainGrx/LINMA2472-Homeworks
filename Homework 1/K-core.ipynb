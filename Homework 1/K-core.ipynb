{
 "metadata": {
  "language_info": {
   "codemirror_mode": {
    "name": "ipython",
    "version": 3
   },
   "file_extension": ".py",
   "mimetype": "text/x-python",
   "name": "python",
   "nbconvert_exporter": "python",
   "pygments_lexer": "ipython3",
   "version": "3.8.0-final"
  },
  "orig_nbformat": 2,
  "kernelspec": {
   "name": "Python 3.8.0 32-bit",
   "display_name": "Python 3.8.0 32-bit",
   "metadata": {
    "interpreter": {
     "hash": "7a542ca580817fc4dd55327026e074e2fa0cd470fc5dee9350c2d8b13822db8d"
    }
   }
  }
 },
 "nbformat": 4,
 "nbformat_minor": 2,
 "cells": [
  {
   "source": [
    "import networkx as nx\n",
    "\n",
    "def k_core(G):\n",
    "\n",
    "    k_decomposition={}\n",
    "\n",
    "    neight = {}\n",
    "    for i in range(len(G)):\n",
    "        neight[i] = G.neighbors(i)\n",
    "\n",
    "    degree = {}\n",
    "    for j in G:\n",
    "        degree[j] = len(G[j])\n",
    "    \n",
    "    pruned = {}\n",
    "    for k in G:\n",
    "        pruned[k] = False\n",
    "\n",
    "    k=1\n",
    "    total_pruned = 0\n",
    "\n",
    "    while total_pruned<len(G):\n",
    "        to_prune={}\n",
    "        order={}\n",
    "        for h in G:\n",
    "            if degree[h]==k:\n",
    "                to_prune.append(G[h])\n",
    "                order.append(h)\n",
    "            k_shell={}\n",
    "            while len(to_prune)>0:\n",
    "                i=to_prune.pop(0)\n",
    "                index=order.pop(0)\n",
    "                for l in neight[index]:\n",
    "                    for z in G:\n",
    "                        if l==G[z]:\n",
    "                            index2=z\n",
    "                    if pruned[z]==false:\n",
    "                        degree[index2]=degree[index2]-1\n",
    "                        if degree[index2]==k:\n",
    "                            to_prune.append(G[indexe2])\n",
    "                pruned[index]=True\n",
    "                k_shell.append(G[index])\n",
    "                total_pruned=total_pruned+1\n",
    "            k_decomposition.append(k_shell)\n",
    "            k=k+1\n",
    "    return k_decomposition\n",
    "\n"
   ],
   "cell_type": "code",
   "metadata": {},
   "execution_count": 3,
   "outputs": []
  }
 ]
}