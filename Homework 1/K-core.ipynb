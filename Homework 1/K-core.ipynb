{
 "metadata": {
  "language_info": {
   "codemirror_mode": {
    "name": "ipython",
    "version": 3
   },
   "file_extension": ".py",
   "mimetype": "text/x-python",
   "name": "python",
   "nbconvert_exporter": "python",
   "pygments_lexer": "ipython3",
   "version": "3.8.6-final"
  },
  "orig_nbformat": 2,
  "kernelspec": {
   "name": "Python 3.8.6 64-bit",
   "display_name": "Python 3.8.6 64-bit",
   "metadata": {
    "interpreter": {
     "hash": "fc3928d54e39a99c2d6f07a95422ec65faf6d925dc0679c1879548a1aee458f5"
    }
   }
  }
 },
 "nbformat": 4,
 "nbformat_minor": 2,
 "cells": [
  {
   "source": [
    "import networkx as nx\n",
    "from netwulf import visualize\n",
    "\n",
    "# ---\n",
    "# K-Core decomposition\n",
    "# Reworked version\n",
    "\n",
    "def kcore(graph):\n",
    "\n",
    "    knots, decomposition = {}, {}\n",
    "\n",
    "    # Using the class Point() in work_variables.py\n",
    "    # knots = [Point(person, list(graph.neighbors(person))) for person in graph.nodes]\n",
    "\n",
    "    # Using a dictionary\n",
    "    for person in graph.nodes:\n",
    "        neighbors = list(graph.neighbors(person))\n",
    "        knots[person] = {\"neighbors\": neighbors, \"degree\": len(neighbors), \"pruned\": False}\n",
    "\n",
    "    k, total_pruned = 1, 0\n",
    "\n",
    "    while total_pruned < len(graph):\n",
    "        to_prune = [person for person,elems in knots.items() if elems['degree'] == k]\n",
    "        k_shell = []\n",
    "        while len(to_prune) > 0:\n",
    "            x = to_prune.pop(0)\n",
    "            for n in knots.get(x)['neighbors']:\n",
    "                v = knots.get(n)\n",
    "                if not v['pruned']:\n",
    "                    v['degree'] -= 1\n",
    "                    if v['degree'] == k : to_prune.append(n)\n",
    "            knots.get(x)['pruned'] = True\n",
    "            k_shell.append(x)\n",
    "            total_pruned += 1\n",
    "        decomposition[k] = sorted(k_shell)\n",
    "        k += 1\n",
    "    \n",
    "    return decomposition \n",
    "\n",
    "\n",
    "G = nx.Graph([(1,2),(1,0),(1,3),(0,2),(0,3),(0,7),(0,4),(1,4),(1,5),(2,3),(2,6),(2,5),(3,7),(3,6),(4,8),(5,9),(6,10),(7,11)])\n",
    "\n",
    "\n",
    "#function to recunstruct graphes with the wanted order\n",
    "\n",
    "def order_kcore(graph,order):\n",
    "\n",
    "    newGraph=graph.copy()\n",
    "    output=kcore(newGraph)\n",
    "\n",
    "    for i in range(order-1):\n",
    "        newGraph.remove_nodes_from(output[i+1])\n",
    "\n",
    "    data=visualize(newGraph)\n",
    "\n",
    "order_kcore(G,2) #here order 1(=whole graph)\n",
    "\n",
    "\n",
    "#barabazi graph\n",
    "\n",
    "def gen_barabazi(graph):\n",
    "\n",
    "    mean_number_of_edges=round((graph.number_of_edges()/len(list(graph.nodes()))))\n",
    "\n",
    "    return nx.barabasi_albert_graph(len(list(graph.nodes())),mean_number_of_edges)\n",
    "\n",
    "bgraph=gen_barabazi(G)\n",
    "\n",
    "order_kcore(bgraph,2) #here order 1(=whole graph)\n",
    "\n",
    "\n",
    "\n"
   ],
   "cell_type": "code",
   "metadata": {
    "tags": []
   },
   "execution_count": null,
   "outputs": []
  }
 ]
}