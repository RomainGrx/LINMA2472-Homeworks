{
 "metadata": {
  "language_info": {
   "codemirror_mode": {
    "name": "ipython",
    "version": 3
   },
   "file_extension": ".py",
   "mimetype": "text/x-python",
   "name": "python",
   "nbconvert_exporter": "python",
   "pygments_lexer": "ipython3",
   "version": "3.8.6-final"
  },
  "orig_nbformat": 2,
  "kernelspec": {
   "name": "Python 3.8.6 64-bit",
   "display_name": "Python 3.8.6 64-bit",
   "metadata": {
    "interpreter": {
     "hash": "fc3928d54e39a99c2d6f07a95422ec65faf6d925dc0679c1879548a1aee458f5"
    }
   }
  }
 },
 "nbformat": 4,
 "nbformat_minor": 2,
 "cells": [
  {
   "source": [
    "import networkx as nx\n",
    "from netwulf import visualize\n",
    "\n",
    "class Point:\n",
    "        def __init__(self,luimeme,neight,degree,pruned):\n",
    "            self.lui = luimeme\n",
    "            self.voisin = neight\n",
    "            self.degre = degree\n",
    "            self.prune = pruned\n",
    "\n",
    "def kcore(G):\n",
    "\n",
    "    deco=[]\n",
    "\n",
    "    noeuds=[]\n",
    "\n",
    "    #for i in G:\n",
    "        #noeuds.append(Point(G[i],list(G.neighbors(i)),len(G[i]),False)) #changer\n",
    "\n",
    "    noeuds.append(Point(0,[1,2,3,7,4],5,False))\n",
    "    noeuds.append(Point(1,[0,2,3,4,5],5,False))\n",
    "    noeuds.append(Point(2,[1,0,3,5,6],5,False))\n",
    "    noeuds.append(Point(3,[0,1,2,7,6],5,False))\n",
    "    noeuds.append(Point(4,[0,1,8],3,False))\n",
    "    noeuds.append(Point(5,[1,2,9],3,False))\n",
    "    noeuds.append(Point(6,[2,3,10],3,False))\n",
    "    noeuds.append(Point(7,[0,3,11],3,False))\n",
    "    noeuds.append(Point(8,[4],1,False))\n",
    "    noeuds.append(Point(9,[5],1,False))\n",
    "    noeuds.append(Point(10,[6],1,False))\n",
    "    noeuds.append(Point(11,[7],1,False))\n",
    "    \n",
    "\n",
    "    k=1\n",
    "    total_pruned = 0\n",
    "    \n",
    "\n",
    "    while total_pruned<len(G):\n",
    "        to_prune=[]\n",
    "        for w in noeuds:\n",
    "            if w.degre==k:\n",
    "                to_prune.append(w)\n",
    "            shell=[]          \n",
    "        while len(to_prune)>0:\n",
    "            x=to_prune.pop(0)\n",
    "            for j in x.voisin:\n",
    "                for w in noeuds:\n",
    "                    if j==w.lui: \n",
    "                        clodo=w\n",
    "                if clodo.prune==False:\n",
    "                    clodo.degre=clodo.degre-1\n",
    "                    if clodo.degre==k:\n",
    "                        to_prune.append(clodo)\n",
    "            clodo.prune=True\n",
    "            shell.append(x.lui)\n",
    "            total_pruned=total_pruned+1\n",
    "        deco.append(shell)\n",
    "        k=k+1\n",
    "    return deco\n",
    "\n",
    "\n",
    "G = nx.Graph([(1,2),(1,0),(1,3),(0,2),(0,3),(0,7),(0,4),(1,4),(1,5),(2,3),(2,6),(2,5),(3,7),(3,6),(4,8),(5,9),(6,10),(7,11)])\n",
    "\n",
    "\n",
    "#Sortie=nx.algorithms.core.k_core(G,k=4)\n",
    "\n",
    "sortie = kcore(G)\n",
    "\n",
    "#data=nx.graph()\n",
    "\n",
    "#data = visualize(sortie[2])\n",
    "print(sortie[0])\n",
    "print(sortie[1])\n",
    "print(sortie[2])\n",
    "#for i in range(2)\n",
    "    #data.add_nodes_from(sortie[i])\n",
    "#for j in range(len(unique_real_chapter_persons)-1):\n",
    "    #graph.add_edge(unique_real_chapter_persons[idx], unique_real_chapter_persons[idx-1])\n",
    "\n",
    "\n",
    "\n",
    "\n",
    "\n",
    "\n",
    "\n",
    "\n"
   ],
   "cell_type": "code",
   "metadata": {
    "tags": []
   },
   "execution_count": 12,
   "outputs": [
    {
     "output_type": "stream",
     "name": "stdout",
     "text": [
      "[8, 9, 10, 11]\n[4, 5, 6, 7]\n[0, 1, 2, 3]\n"
     ]
    }
   ]
  }
 ]
}