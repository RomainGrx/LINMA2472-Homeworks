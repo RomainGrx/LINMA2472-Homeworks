{
 "cells": [
  {
   "cell_type": "code",
   "execution_count": 1,
   "metadata": {},
   "outputs": [],
   "source": [
    "import networkx as nx\n",
    "import numpy as np"
   ]
  },
  {
   "cell_type": "code",
   "execution_count": 33,
   "metadata": {},
   "outputs": [],
   "source": [
    "def propagate_neighbours(graph:nx.Graph, new_active, p, seed=None):\n",
    "    neighbors = []\n",
    "    for node in new_active:\n",
    "        neighbors += g.neighbors(node)\n",
    "    \n",
    "    if seed:\n",
    "        np.random.seed(seed)\n",
    "\n",
    "    activation = np.random.uniform(low=0, high=1, size=len(neighbors)) < p\n",
    "    activated_neighbors = list(np.extract(activation, sorted(neighbors)))\n",
    "\n",
    "    return activated_neighbors\n",
    "\n",
    "def independent_cascade_model(graph:nx.Graph, activated_nodes, p=.2, seed=None):\n",
    "    new_active = activated_nodes[:]\n",
    "    list_active = activated_nodes[:]\n",
    "    while new_active:\n",
    "        activated_neighbors = propagate_neighbours(graph, new_active, p=p, seed=seed)\n",
    "        new_active = list(set(activated_neighbors) - set(list_active))\n",
    "        list_active  += new_active\n",
    "    \n",
    "    spread = len(list_active)\n",
    "\n",
    "    return {'spread':spread, 'list_active':list_active}\n",
    "\n",
    "def n_independent_cascade_model(graph:nx.Graph, activated_nodes, n, p=.2, seed_list=None):\n",
    "    if seed_list is None:\n",
    "        seed_list = [None]*n\n",
    "    spread_sum = 0\n",
    "    for seed in seed_list:\n",
    "        icm_dict = independent_cascade_model(g, activated_nodes, p=p, seed=seed)\n",
    "        spread_sum += icm_dict.get('spread')\n",
    "    return spread_sum\n",
    "\n",
    "def greedy_influence_maximisation(g:nx.Graph, k, n, p=.2, seed=None):\n",
    "    A0 = []\n",
    "    if seed:\n",
    "        np.random.seed(seed)\n",
    "    g_seed = np.random.randint(np.iinfo(np.int32).max ,size=n)\n",
    "    for node_idx in range(k):\n",
    "        nodes = set(g.nodes()) - set(A0)\n",
    "        spread_score = {node:n_independent_cascade_model(g, A0 + [node], n, p=p, seed_list=g_seed) for node in nodes}\n",
    "        max_node = -1; max_spread = -1\n",
    "        for n, total_spread in spread_score.items():\n",
    "            if total_spread > max_spread:\n",
    "                max_node = n\n",
    "                max_spread = total_spread\n",
    "        A0.append(max_node)\n",
    "    # list_active = spread_score.get(A0[-1])['list_active']\n",
    "    return {'A0':A0, \n",
    "           # 'spread':len(list_active), \n",
    "           # 'list_active':list_active\n",
    "           }\n"
   ]
  },
  {
   "cell_type": "code",
   "execution_count": 48,
   "metadata": {},
   "outputs": [
    {
     "name": "stdout",
     "output_type": "stream",
     "text": [
      "{'spread': 2, 'list_active': [0, 12]}\n",
      "{'A0': [33, 0, 1]}\n"
     ]
    }
   ],
   "source": [
    "g = nx.karate_club_graph()\n",
    "\n",
    "info_icm = independent_cascade_model(g, [0], p=.1)\n",
    "print(info_icm)\n",
    "\n",
    "info= greedy_influence_maximisation(g, 3, n=100, seed=None)\n",
    "print(info)"
   ]
  },
  {
   "cell_type": "code",
   "execution_count": null,
   "metadata": {},
   "outputs": [],
   "source": []
  },
  {
   "cell_type": "code",
   "execution_count": null,
   "metadata": {},
   "outputs": [],
   "source": []
  },
  {
   "cell_type": "code",
   "execution_count": null,
   "metadata": {},
   "outputs": [],
   "source": []
  }
 ],
 "metadata": {
  "kernelspec": {
   "display_name": "Python 3",
   "language": "python",
   "name": "python3"
  },
  "language_info": {
   "codemirror_mode": {
    "name": "ipython",
    "version": 3
   },
   "file_extension": ".py",
   "mimetype": "text/x-python",
   "name": "python",
   "nbconvert_exporter": "python",
   "pygments_lexer": "ipython3",
   "version": "3.8.5"
  }
 },
 "nbformat": 4,
 "nbformat_minor": 4
}
