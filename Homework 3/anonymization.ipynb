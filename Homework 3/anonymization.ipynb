{
 "cells": [
  {
   "cell_type": "code",
   "execution_count": 3,
   "metadata": {},
   "outputs": [],
   "source": [
    "import os\n",
    "import hashlib\n",
    "import pandas as pd\n",
    "import numpy as np\n",
    "from collections import Counter\n",
    "import math, statistics\n",
    "\n",
    "csv_path = os.path.join(os.curdir, \"datasets\", \"dataset - Privacy-Engineering.csv\")\n",
    "zip_path = os.path.join(os.curdir, \"datasets\", \"matched_zips.csv\")\n",
    "\n",
    "df = pd.read_csv(csv_path)\n",
    "df_zip = pd.read_csv(zip_path, dtype={\"zip\": 'string'})\n",
    "matched_zips = df_zip.set_index('zip')['state'].to_dict()"
   ]
  },
  {
   "cell_type": "markdown",
   "metadata": {},
   "source": [
    "Drop useless columns\n",
    "---"
   ]
  },
  {
   "cell_type": "code",
   "execution_count": 4,
   "metadata": {},
   "outputs": [
    {
     "data": {
      "text/html": "<div>\n<style scoped>\n    .dataframe tbody tr th:only-of-type {\n        vertical-align: middle;\n    }\n\n    .dataframe tbody tr th {\n        vertical-align: top;\n    }\n\n    .dataframe thead th {\n        text-align: right;\n    }\n</style>\n<table border=\"1\" class=\"dataframe\">\n  <thead>\n    <tr style=\"text-align: right;\">\n      <th></th>\n      <th>id</th>\n      <th>gender</th>\n      <th>dob</th>\n      <th>zipcode</th>\n      <th>education</th>\n      <th>employment</th>\n      <th>children</th>\n      <th>marital_status</th>\n      <th>number_vehicles</th>\n      <th>commute_time</th>\n      <th>accommodation</th>\n      <th>disease</th>\n    </tr>\n  </thead>\n  <tbody>\n    <tr>\n      <th>0</th>\n      <td>Amelia Morrow</td>\n      <td>female</td>\n      <td>12/1950</td>\n      <td>26904</td>\n      <td>High School</td>\n      <td>Retired</td>\n      <td>2</td>\n      <td>married</td>\n      <td>2</td>\n      <td>0.0</td>\n      <td>Own house</td>\n      <td>Alzheimer's disease</td>\n    </tr>\n    <tr>\n      <th>1</th>\n      <td>Lillian Cole</td>\n      <td>female</td>\n      <td>4/1940</td>\n      <td>78088</td>\n      <td>PhD/md</td>\n      <td>Retired</td>\n      <td>1</td>\n      <td>married</td>\n      <td>1</td>\n      <td>0.0</td>\n      <td>Rent flat</td>\n      <td>multiple sclerosis</td>\n    </tr>\n    <tr>\n      <th>2</th>\n      <td>Lillian Simpson</td>\n      <td>female</td>\n      <td>12/1966</td>\n      <td>51502</td>\n      <td>Bachelor</td>\n      <td>Employed</td>\n      <td>1</td>\n      <td>married</td>\n      <td>0</td>\n      <td>0.1</td>\n      <td>Rent flat</td>\n      <td>heart disease</td>\n    </tr>\n    <tr>\n      <th>3</th>\n      <td>Avery Richards</td>\n      <td>female</td>\n      <td>4/1943</td>\n      <td>54080</td>\n      <td>Bachelor</td>\n      <td>Retired</td>\n      <td>1</td>\n      <td>married</td>\n      <td>0</td>\n      <td>0.0</td>\n      <td>Rent room</td>\n      <td>endometriosis</td>\n    </tr>\n    <tr>\n      <th>4</th>\n      <td>Sophia Alvarado</td>\n      <td>female</td>\n      <td>10/1947</td>\n      <td>68785</td>\n      <td>High School</td>\n      <td>Retired</td>\n      <td>1</td>\n      <td>married</td>\n      <td>0</td>\n      <td>0.0</td>\n      <td>Rent flat</td>\n      <td>gastritis</td>\n    </tr>\n  </tbody>\n</table>\n</div>",
      "text/plain": "                id  gender      dob  zipcode    education employment  \\\n0    Amelia Morrow  female  12/1950    26904  High School    Retired   \n1     Lillian Cole  female   4/1940    78088       PhD/md    Retired   \n2  Lillian Simpson  female  12/1966    51502     Bachelor   Employed   \n3   Avery Richards  female   4/1943    54080     Bachelor    Retired   \n4  Sophia Alvarado  female  10/1947    68785  High School    Retired   \n\n   children marital_status  number_vehicles  commute_time accommodation  \\\n0         2        married                2           0.0     Own house   \n1         1        married                1           0.0     Rent flat   \n2         1        married                0           0.1     Rent flat   \n3         1        married                0           0.0     Rent room   \n4         1        married                0           0.0     Rent flat   \n\n               disease  \n0  Alzheimer's disease  \n1   multiple sclerosis  \n2        heart disease  \n3        endometriosis  \n4            gastritis  "
     },
     "execution_count": 4,
     "metadata": {},
     "output_type": "execute_result"
    }
   ],
   "source": [
    "columns_to_drop = [\"ancestry\"]\n",
    "df.drop(columns_to_drop, axis=1, inplace=True)\n",
    "df.head(5)"
   ]
  },
  {
   "cell_type": "markdown",
   "metadata": {},
   "source": [
    "Generate a unique id based on the hash of the initial id, the date of birth and the zipcode\n",
    "---"
   ]
  },
  {
   "cell_type": "code",
   "execution_count": 5,
   "metadata": {},
   "outputs": [
    {
     "data": {
      "text/html": "<div>\n<style scoped>\n    .dataframe tbody tr th:only-of-type {\n        vertical-align: middle;\n    }\n\n    .dataframe tbody tr th {\n        vertical-align: top;\n    }\n\n    .dataframe thead th {\n        text-align: right;\n    }\n</style>\n<table border=\"1\" class=\"dataframe\">\n  <thead>\n    <tr style=\"text-align: right;\">\n      <th></th>\n      <th>id</th>\n      <th>gender</th>\n      <th>dob</th>\n      <th>zipcode</th>\n      <th>education</th>\n      <th>employment</th>\n      <th>children</th>\n      <th>marital_status</th>\n      <th>number_vehicles</th>\n      <th>commute_time</th>\n      <th>accommodation</th>\n      <th>disease</th>\n    </tr>\n  </thead>\n  <tbody>\n    <tr>\n      <th>0</th>\n      <td>8f6c050946988234e80586775ff401a86898b270b5111a...</td>\n      <td>female</td>\n      <td>12/1950</td>\n      <td>26904</td>\n      <td>High School</td>\n      <td>Retired</td>\n      <td>2</td>\n      <td>married</td>\n      <td>2</td>\n      <td>0.0</td>\n      <td>Own house</td>\n      <td>Alzheimer's disease</td>\n    </tr>\n    <tr>\n      <th>1</th>\n      <td>43ae9c63fa40fa3e4873f50b19730c670808cb78f789b2...</td>\n      <td>female</td>\n      <td>4/1940</td>\n      <td>78088</td>\n      <td>PhD/md</td>\n      <td>Retired</td>\n      <td>1</td>\n      <td>married</td>\n      <td>1</td>\n      <td>0.0</td>\n      <td>Rent flat</td>\n      <td>multiple sclerosis</td>\n    </tr>\n    <tr>\n      <th>2</th>\n      <td>ac937a096e35bb40f0776d0d3505a32168baf853353865...</td>\n      <td>female</td>\n      <td>12/1966</td>\n      <td>51502</td>\n      <td>Bachelor</td>\n      <td>Employed</td>\n      <td>1</td>\n      <td>married</td>\n      <td>0</td>\n      <td>0.1</td>\n      <td>Rent flat</td>\n      <td>heart disease</td>\n    </tr>\n    <tr>\n      <th>3</th>\n      <td>543f72d9aa3fed3bfe35c324151a2ab9bf5e570ef56293...</td>\n      <td>female</td>\n      <td>4/1943</td>\n      <td>54080</td>\n      <td>Bachelor</td>\n      <td>Retired</td>\n      <td>1</td>\n      <td>married</td>\n      <td>0</td>\n      <td>0.0</td>\n      <td>Rent room</td>\n      <td>endometriosis</td>\n    </tr>\n    <tr>\n      <th>4</th>\n      <td>ef018d17c59cea78a0eecc1d8ee6043236c5438f070e73...</td>\n      <td>female</td>\n      <td>10/1947</td>\n      <td>68785</td>\n      <td>High School</td>\n      <td>Retired</td>\n      <td>1</td>\n      <td>married</td>\n      <td>0</td>\n      <td>0.0</td>\n      <td>Rent flat</td>\n      <td>gastritis</td>\n    </tr>\n  </tbody>\n</table>\n</div>",
      "text/plain": "                                                  id  gender      dob  \\\n0  8f6c050946988234e80586775ff401a86898b270b5111a...  female  12/1950   \n1  43ae9c63fa40fa3e4873f50b19730c670808cb78f789b2...  female   4/1940   \n2  ac937a096e35bb40f0776d0d3505a32168baf853353865...  female  12/1966   \n3  543f72d9aa3fed3bfe35c324151a2ab9bf5e570ef56293...  female   4/1943   \n4  ef018d17c59cea78a0eecc1d8ee6043236c5438f070e73...  female  10/1947   \n\n   zipcode    education employment  children marital_status  number_vehicles  \\\n0    26904  High School    Retired         2        married                2   \n1    78088       PhD/md    Retired         1        married                1   \n2    51502     Bachelor   Employed         1        married                0   \n3    54080     Bachelor    Retired         1        married                0   \n4    68785  High School    Retired         1        married                0   \n\n   commute_time accommodation              disease  \n0           0.0     Own house  Alzheimer's disease  \n1           0.0     Rent flat   multiple sclerosis  \n2           0.1     Rent flat        heart disease  \n3           0.0     Rent room        endometriosis  \n4           0.0     Rent flat            gastritis  "
     },
     "execution_count": 5,
     "metadata": {},
     "output_type": "execute_result"
    }
   ],
   "source": [
    "salt = b\"\\x91\\xff=s\\x18?JH\\x940\\xf1$wN\\xa4\\xbf\\x9f\\xcdi\\x8c\\xa2\\xf3\\xe3I\\xeb\\xf4\\x1f\\xc0y\\x94\\x84\\xa8\"\n",
    "\n",
    "df.id = df.apply(lambda x : hashlib.sha512((str(x.id) + str(x.dob) + str(x.zipcode)).encode() + salt).hexdigest(), axis=1)\n",
    "df.head(5)"
   ]
  },
  {
   "cell_type": "code",
   "execution_count": 6,
   "metadata": {},
   "outputs": [
    {
     "data": {
      "text/html": "<div>\n<style scoped>\n    .dataframe tbody tr th:only-of-type {\n        vertical-align: middle;\n    }\n\n    .dataframe tbody tr th {\n        vertical-align: top;\n    }\n\n    .dataframe thead th {\n        text-align: right;\n    }\n</style>\n<table border=\"1\" class=\"dataframe\">\n  <thead>\n    <tr style=\"text-align: right;\">\n      <th></th>\n      <th>id</th>\n      <th>gender</th>\n      <th>dob</th>\n      <th>education</th>\n      <th>employment</th>\n      <th>children</th>\n      <th>marital_status</th>\n      <th>number_vehicles</th>\n      <th>commute_time</th>\n      <th>accommodation</th>\n      <th>disease</th>\n      <th>state</th>\n    </tr>\n  </thead>\n  <tbody>\n    <tr>\n      <th>0</th>\n      <td>8f6c050946988234e80586775ff401a86898b270b5111a...</td>\n      <td>female</td>\n      <td>12/1950</td>\n      <td>High School</td>\n      <td>Retired</td>\n      <td>2</td>\n      <td>married</td>\n      <td>2</td>\n      <td>0.0</td>\n      <td>Own house</td>\n      <td>Alzheimer's disease</td>\n      <td>Unknown</td>\n    </tr>\n    <tr>\n      <th>1</th>\n      <td>43ae9c63fa40fa3e4873f50b19730c670808cb78f789b2...</td>\n      <td>female</td>\n      <td>4/1940</td>\n      <td>PhD/md</td>\n      <td>Retired</td>\n      <td>1</td>\n      <td>married</td>\n      <td>1</td>\n      <td>0.0</td>\n      <td>Rent flat</td>\n      <td>multiple sclerosis</td>\n      <td>(TX) Texas</td>\n    </tr>\n    <tr>\n      <th>2</th>\n      <td>ac937a096e35bb40f0776d0d3505a32168baf853353865...</td>\n      <td>female</td>\n      <td>12/1966</td>\n      <td>Bachelor</td>\n      <td>Employed</td>\n      <td>1</td>\n      <td>married</td>\n      <td>0</td>\n      <td>0.1</td>\n      <td>Rent flat</td>\n      <td>heart disease</td>\n      <td>(IA) Iowa</td>\n    </tr>\n    <tr>\n      <th>3</th>\n      <td>543f72d9aa3fed3bfe35c324151a2ab9bf5e570ef56293...</td>\n      <td>female</td>\n      <td>4/1943</td>\n      <td>Bachelor</td>\n      <td>Retired</td>\n      <td>1</td>\n      <td>married</td>\n      <td>0</td>\n      <td>0.0</td>\n      <td>Rent room</td>\n      <td>endometriosis</td>\n      <td>(WI) Wisconsin</td>\n    </tr>\n    <tr>\n      <th>4</th>\n      <td>ef018d17c59cea78a0eecc1d8ee6043236c5438f070e73...</td>\n      <td>female</td>\n      <td>10/1947</td>\n      <td>High School</td>\n      <td>Retired</td>\n      <td>1</td>\n      <td>married</td>\n      <td>0</td>\n      <td>0.0</td>\n      <td>Rent flat</td>\n      <td>gastritis</td>\n      <td>(NE) Nebraska</td>\n    </tr>\n  </tbody>\n</table>\n</div>",
      "text/plain": "                                                  id  gender      dob  \\\n0  8f6c050946988234e80586775ff401a86898b270b5111a...  female  12/1950   \n1  43ae9c63fa40fa3e4873f50b19730c670808cb78f789b2...  female   4/1940   \n2  ac937a096e35bb40f0776d0d3505a32168baf853353865...  female  12/1966   \n3  543f72d9aa3fed3bfe35c324151a2ab9bf5e570ef56293...  female   4/1943   \n4  ef018d17c59cea78a0eecc1d8ee6043236c5438f070e73...  female  10/1947   \n\n     education employment  children marital_status  number_vehicles  \\\n0  High School    Retired         2        married                2   \n1       PhD/md    Retired         1        married                1   \n2     Bachelor   Employed         1        married                0   \n3     Bachelor    Retired         1        married                0   \n4  High School    Retired         1        married                0   \n\n   commute_time accommodation              disease           state  \n0           0.0     Own house  Alzheimer's disease         Unknown  \n1           0.0     Rent flat   multiple sclerosis      (TX) Texas  \n2           0.1     Rent flat        heart disease       (IA) Iowa  \n3           0.0     Rent room        endometriosis  (WI) Wisconsin  \n4           0.0     Rent flat            gastritis   (NE) Nebraska  "
     },
     "execution_count": 6,
     "metadata": {},
     "output_type": "execute_result"
    }
   ],
   "source": [
    "def find_state(zip_code):\n",
    "    res = matched_zips.get(str(zip_code)[0:3])\n",
    "    if res is None: return \"Unknown\"\n",
    "    return res\n",
    "\n",
    "df['state'] = df.zipcode.apply(find_state)\n",
    "df = df.drop(\"zipcode\", axis=1)\n",
    "df.head(5)"
   ]
  },
  {
   "cell_type": "code",
   "execution_count": 7,
   "metadata": {},
   "outputs": [
    {
     "data": {
      "text/html": "<div>\n<style scoped>\n    .dataframe tbody tr th:only-of-type {\n        vertical-align: middle;\n    }\n\n    .dataframe tbody tr th {\n        vertical-align: top;\n    }\n\n    .dataframe thead th {\n        text-align: right;\n    }\n</style>\n<table border=\"1\" class=\"dataframe\">\n  <thead>\n    <tr style=\"text-align: right;\">\n      <th></th>\n      <th>id</th>\n      <th>gender</th>\n      <th>dob</th>\n      <th>education</th>\n      <th>employment</th>\n      <th>children</th>\n      <th>marital_status</th>\n      <th>number_vehicles</th>\n      <th>commute_time</th>\n      <th>accommodation</th>\n      <th>disease</th>\n      <th>state</th>\n    </tr>\n  </thead>\n  <tbody>\n    <tr>\n      <th>0</th>\n      <td>8f6c050946988234e80586775ff401a86898b270b5111a...</td>\n      <td>female</td>\n      <td>[1950 - 1952]</td>\n      <td>High School</td>\n      <td>Retired</td>\n      <td>True</td>\n      <td>married</td>\n      <td>2</td>\n      <td>0</td>\n      <td>Own</td>\n      <td>Alzheimer's disease</td>\n      <td>Unknown</td>\n    </tr>\n    <tr>\n      <th>1</th>\n      <td>43ae9c63fa40fa3e4873f50b19730c670808cb78f789b2...</td>\n      <td>female</td>\n      <td>[1938 - 1940]</td>\n      <td>Masters and higher</td>\n      <td>Retired</td>\n      <td>True</td>\n      <td>married</td>\n      <td>1</td>\n      <td>0</td>\n      <td>Rent</td>\n      <td>multiple sclerosis</td>\n      <td>(TX) Texas</td>\n    </tr>\n    <tr>\n      <th>2</th>\n      <td>ac937a096e35bb40f0776d0d3505a32168baf853353865...</td>\n      <td>female</td>\n      <td>[1965 - 1967]</td>\n      <td>Bachelor</td>\n      <td>Employed</td>\n      <td>True</td>\n      <td>married</td>\n      <td>0</td>\n      <td>[0-1]</td>\n      <td>Rent</td>\n      <td>heart disease</td>\n      <td>(IA) Iowa</td>\n    </tr>\n    <tr>\n      <th>3</th>\n      <td>543f72d9aa3fed3bfe35c324151a2ab9bf5e570ef56293...</td>\n      <td>female</td>\n      <td>[1941 - 1943]</td>\n      <td>Bachelor</td>\n      <td>Retired</td>\n      <td>True</td>\n      <td>married</td>\n      <td>0</td>\n      <td>0</td>\n      <td>Rent</td>\n      <td>endometriosis</td>\n      <td>(WI) Wisconsin</td>\n    </tr>\n    <tr>\n      <th>4</th>\n      <td>ef018d17c59cea78a0eecc1d8ee6043236c5438f070e73...</td>\n      <td>female</td>\n      <td>[1947 - 1949]</td>\n      <td>High School</td>\n      <td>Retired</td>\n      <td>True</td>\n      <td>married</td>\n      <td>0</td>\n      <td>0</td>\n      <td>Rent</td>\n      <td>gastritis</td>\n      <td>(NE) Nebraska</td>\n    </tr>\n  </tbody>\n</table>\n</div>",
      "text/plain": "                                                  id  gender            dob  \\\n0  8f6c050946988234e80586775ff401a86898b270b5111a...  female  [1950 - 1952]   \n1  43ae9c63fa40fa3e4873f50b19730c670808cb78f789b2...  female  [1938 - 1940]   \n2  ac937a096e35bb40f0776d0d3505a32168baf853353865...  female  [1965 - 1967]   \n3  543f72d9aa3fed3bfe35c324151a2ab9bf5e570ef56293...  female  [1941 - 1943]   \n4  ef018d17c59cea78a0eecc1d8ee6043236c5438f070e73...  female  [1947 - 1949]   \n\n            education employment  children marital_status  number_vehicles  \\\n0         High School    Retired      True        married                2   \n1  Masters and higher    Retired      True        married                1   \n2            Bachelor   Employed      True        married                0   \n3            Bachelor    Retired      True        married                0   \n4         High School    Retired      True        married                0   \n\n  commute_time accommodation              disease           state  \n0            0           Own  Alzheimer's disease         Unknown  \n1            0          Rent   multiple sclerosis      (TX) Texas  \n2        [0-1]          Rent        heart disease       (IA) Iowa  \n3            0          Rent        endometriosis  (WI) Wisconsin  \n4            0          Rent            gastritis   (NE) Nebraska  "
     },
     "execution_count": 7,
     "metadata": {},
     "output_type": "execute_result"
    }
   ],
   "source": [
    "\n",
    "\n",
    "def more_than_2_children(x):\n",
    "    if isinstance(x, str): return x\n",
    "    elif x == 0: return '0'\n",
    "    elif x == 1: return '1'\n",
    "    elif x > 1: return '2+'\n",
    "\n",
    "def has_child(childs):\n",
    "    if childs == 0: return False\n",
    "    return True\n",
    "\n",
    "def more_than_1_hour(x):\n",
    "    if isinstance(x, str): return x\n",
    "    elif x == 0.0: return '0'\n",
    "    elif x <= 1.0: return '[0-1]'\n",
    "    elif x > 1.0: return '1+'\n",
    "\n",
    "def change_accom(accomod):\n",
    "    how, _ = accomod.split(' ')\n",
    "    return how\n",
    "\n",
    "def change_education(educ):\n",
    "    if educ == \"PhD/md\" or educ == \"Masters\": return \"Masters and higher\"\n",
    "    return educ\n",
    "\n",
    "def change_dob(dob):\n",
    "    _, year = dob.split('/')\n",
    "    year = int(year)\n",
    "    while year % 3 != 0: year -= 1\n",
    "    return f\"[{year} - {year+2}]\"\n",
    "\n",
    "df.dob = df.dob.apply(change_dob)\n",
    "\n",
    "df.accommodation = df.accommodation.apply(change_accom)\n",
    "df.education = df.education.apply(change_education)\n",
    "# df.children=df.children.apply(more_than_2_children)\n",
    "\n",
    "df.children=df.children.apply(has_child)\n",
    "\n",
    "df.commute_time=df.commute_time.apply(more_than_1_hour)\n",
    "\n",
    "df.head(5)"
   ]
  },
  {
   "cell_type": "code",
   "execution_count": 8,
   "metadata": {},
   "outputs": [],
   "source": [
    "def entropy(C, N=2000): return round(- sum([(ci/N) * math.log(ci/N, 2) for i,ci in enumerate(C)]),4)\n",
    "# Max : 11"
   ]
  },
  {
   "cell_type": "code",
   "execution_count": 9,
   "metadata": {},
   "outputs": [
    {
     "name": "stderr",
     "output_type": "stream",
     "text": [
      "100%|██████████| 10/10 [00:05<00:00,  1.82it/s]\n"
     ]
    }
   ],
   "source": [
    "from itertools import *\n",
    "from tqdm import tqdm\n",
    "\n",
    "\n",
    "covariates = [\"education\", \"gender\", \"dob\", \"state\", \"children\", \"employment\", \"marital_status\", \"number_vehicles\", \"commute_time\", \"accommodation\"]\n",
    "\n",
    "results = []\n",
    "\n",
    "for c in tqdm(range(1, len(covariates)+1)):\n",
    "    for used in combinations(covariates, c):\n",
    "        used = used + (\"disease\",)\n",
    "        used = list(used)\n",
    "        ct = df.groupby(used).size().to_frame(\"count\")\n",
    "        len_groups = len(ct)\n",
    "        len_unique = sum(ct['count'] < 2)\n",
    "\n",
    "        C = ct['count'].to_numpy()\n",
    "        CR = C[C > 1]\n",
    "\n",
    "        size_cr = 2000-len_unique\n",
    "\n",
    "        entropy_full = entropy(C)\n",
    "        entropy_cut = entropy(CR, size_cr)\n",
    "\n",
    "        results.append(\n",
    "            {\n",
    "                \"used\": used,\n",
    "                \"len_groups\": len_groups,\n",
    "                \"len_unique\": len_unique,\n",
    "                \"diff\": size_cr,\n",
    "                \"entropy_full\": entropy_full,\n",
    "                \"entropy_cut\": entropy_cut\n",
    "            }\n",
    "        )"
   ]
  },
  {
   "cell_type": "code",
   "execution_count": 10,
   "metadata": {},
   "outputs": [],
   "source": [
    "results_sort = sorted(results, key=lambda x: (x['diff'], x['len_groups'],  x['entropy_cut'], x['entropy_full'], ), reverse=True)"
   ]
  },
  {
   "cell_type": "code",
   "execution_count": 11,
   "metadata": {},
   "outputs": [],
   "source": [
    "results_filter = [ dic for dic in results_sort if dic.get('len_unique') > 0 and dic.get('len_unique') < 100 and dic.get('entropy_full') > 5]    \n",
    "results_filter_sorted = sorted(results_filter, key=lambda x: x['entropy_cut'], reverse=True)"
   ]
  },
  {
   "cell_type": "code",
   "execution_count": 12,
   "metadata": {},
   "outputs": [
    {
     "data": {
      "text/plain": "[{'used': ['gender', 'dob', 'disease'],\n  'len_groups': 533,\n  'len_unique': 80,\n  'diff': 1920,\n  'entropy_full': 8.8033,\n  'entropy_cut': 8.6543},\n {'used': ['education',\n   'gender',\n   'number_vehicles',\n   'accommodation',\n   'disease'],\n  'len_groups': 430,\n  'len_unique': 94,\n  'diff': 1906,\n  'entropy_full': 8.3062,\n  'entropy_cut': 8.1056},\n {'used': ['dob', 'children', 'disease'],\n  'len_groups': 394,\n  'len_unique': 90,\n  'diff': 1910,\n  'entropy_full': 8.2104,\n  'entropy_cut': 8.0142},\n {'used': ['education', 'number_vehicles', 'commute_time', 'disease'],\n  'len_groups': 392,\n  'len_unique': 76,\n  'diff': 1924,\n  'entropy_full': 8.1299,\n  'entropy_cut': 7.962},\n {'used': ['dob', 'disease'],\n  'len_groups': 304,\n  'len_unique': 16,\n  'diff': 1984,\n  'entropy_full': 7.9867,\n  'entropy_cut': 7.9511}]"
     },
     "execution_count": 12,
     "metadata": {},
     "output_type": "execute_result"
    }
   ],
   "source": [
    "# Best ?\n",
    "results_filter_sorted[:5]"
   ]
  },
  {
   "cell_type": "code",
   "execution_count": 13,
   "metadata": {},
   "outputs": [
    {
     "name": "stdout",
     "output_type": "stream",
     "text": [
      "[106, 202, 227, 873, 917]\n"
     ]
    },
    {
     "data": {
      "text/plain": "1857"
     },
     "execution_count": 13,
     "metadata": {},
     "output_type": "execute_result"
    }
   ],
   "source": [
    "g = [\"education\", \"gender\", \"number_vehicles\", \"accommodation\", \"employment\", \"children\", \"commute_time\"]\n",
    "\n",
    "# Demandez pas pourquoi les noms sont ct..\n",
    "ctt = df[df.duplicated(g, keep=False)].sort_values(by=g) # Enlève ceux qui sont uniques (sans disease pris en compte)\n",
    "\n",
    "g2 = g.copy()\n",
    "g2.append(\"disease\")\n",
    "\n",
    "g3 = []\n",
    "cttt = ctt.groupby(g2).size().to_frame(\"count\") # disease inclus\n",
    "\n",
    "\n",
    "def checkForUnique(grouped_frame):\n",
    "    checked = {}    \n",
    "    for i,row in enumerate(grouped_frame.iterrows()):\n",
    "        *identifiers, _ = row[0] \n",
    "        identifiers = ':'.join([str(iden) for iden in identifiers])\n",
    "        if identifiers in checked:\n",
    "            if checked.get(identifiers).get(\"found\") is True: continue\n",
    "            else : checked[identifiers][\"found\"] = True\n",
    "        else: checked[identifiers] = {\"found\": False, \"index\": i+2}\n",
    "    return checked\n",
    "\n",
    "false_checked = [ v.get('index') for k,v in checkForUnique(cttt).items() if v.get(\"found\") == False]\n",
    "print(false_checked)\n",
    "\n",
    "g_final = [\"id\", \"gender\", \"education\", \"employment\", \"children\", \"number_vehicles\", \"commute_time\", \"accommodation\", \"disease\"]\n",
    "base_1 = ctt[g_final].reset_index().drop(index=false_checked) # enlève ceux qui sont pas bon pour le l-diversity\n",
    "base_1 = base_1.drop(columns=[\"index\"])\n",
    "\n",
    "base_1.__len__()"
   ]
  },
  {
   "cell_type": "code",
   "execution_count": 14,
   "metadata": {},
   "outputs": [],
   "source": [
    "g = [\"education\", \"gender\", \"number_vehicles\", \"accommodation\", \"employment\", \"children\", \"commute_time\"]\n",
    "gbqi = df[g+[\"disease\"]].groupby(g)\n",
    "indexes_to_drop = gbqi.filter(lambda x:x.disease.nunique()==1).index\n",
    "df[[\"id\"]+g+[\"disease\"]].drop(indexes_to_drop).to_csv(\"FINAL.csv\", index=False)"
   ]
  },
  {
   "cell_type": "code",
   "execution_count": 45,
   "metadata": {},
   "outputs": [
    {
     "data": {
      "text/plain": "a       b     \ncoucou  coucou    1\n        papa      1\npapa    papa      2\nName: c, dtype: int64"
     },
     "execution_count": 45,
     "metadata": {},
     "output_type": "execute_result"
    }
   ],
   "source": [
    "d = pd.DataFrame(\n",
    "    dict(\n",
    "        a = [\"coucou\", \"papa\", \"coucou\", \"papa\"],\n",
    "        b = [\"papa\", \"papa\", \"coucou\", \"papa\"],\n",
    "        c = [0, 1, 1, 2]\n",
    "    )\n",
    ")\n",
    "\n",
    "d.groupby(['a','b']).c.nunique()\n",
    "#d.groupby(['a','b']).c.count()"
   ]
  }
 ],
 "metadata": {
  "kernelspec": {
   "display_name": "Python 3",
   "name": "python3"
  },
  "language_info": {
   "codemirror_mode": {
    "name": "ipython",
    "version": 3
   },
   "file_extension": ".py",
   "mimetype": "text/x-python",
   "name": "python",
   "nbconvert_exporter": "python",
   "pygments_lexer": "ipython3",
   "version": "3.7.6"
  },
  "orig_nbformat": 2
 },
 "nbformat": 4,
 "nbformat_minor": 2
}