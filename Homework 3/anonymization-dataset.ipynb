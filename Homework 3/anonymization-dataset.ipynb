{
 "cells": [
  {
   "cell_type": "code",
   "execution_count": 1,
   "metadata": {},
   "outputs": [],
   "source": [
    "import os\n",
    "import hashlib\n",
    "import pandas as pd\n",
    "import numpy as np\n",
    "from collections import Counter\n",
    "import math, statistics\n",
    "\n",
    "datasets_path = os.path.join(os.curdir, \"datasets\")\n",
    "csv_path = os.path.join(datasets_path, \"dataset - Privacy-Engineering.csv\")\n",
    "zip_path = os.path.join(datasets_path, \"matched_zips.csv\")\n",
    "\n",
    "save_final_path = os.path.join(datasets_path, \"final\", \"anonymized_dataset.csv\")\n",
    "\n",
    "raw_df = df = pd.read_csv(csv_path)\n",
    "df_zip = pd.read_csv(zip_path, dtype={\"zip\": 'string'})\n",
    "matched_zips = df_zip.set_index('zip')['state'].to_dict()"
   ]
  },
  {
   "cell_type": "markdown",
   "metadata": {},
   "source": [
    "Drop useless columns\n",
    "---"
   ]
  },
  {
   "cell_type": "code",
   "execution_count": 2,
   "metadata": {},
   "outputs": [
    {
     "data": {
      "text/html": "<div>\n<style scoped>\n    .dataframe tbody tr th:only-of-type {\n        vertical-align: middle;\n    }\n\n    .dataframe tbody tr th {\n        vertical-align: top;\n    }\n\n    .dataframe thead th {\n        text-align: right;\n    }\n</style>\n<table border=\"1\" class=\"dataframe\">\n  <thead>\n    <tr style=\"text-align: right;\">\n      <th></th>\n      <th>id</th>\n      <th>gender</th>\n      <th>dob</th>\n      <th>zipcode</th>\n      <th>education</th>\n      <th>employment</th>\n      <th>children</th>\n      <th>marital_status</th>\n      <th>number_vehicles</th>\n      <th>commute_time</th>\n      <th>accommodation</th>\n      <th>disease</th>\n    </tr>\n  </thead>\n  <tbody>\n    <tr>\n      <th>0</th>\n      <td>Amelia Morrow</td>\n      <td>female</td>\n      <td>12/1950</td>\n      <td>26904</td>\n      <td>High School</td>\n      <td>Retired</td>\n      <td>2</td>\n      <td>married</td>\n      <td>2</td>\n      <td>0.0</td>\n      <td>Own house</td>\n      <td>Alzheimer's disease</td>\n    </tr>\n    <tr>\n      <th>1</th>\n      <td>Lillian Cole</td>\n      <td>female</td>\n      <td>4/1940</td>\n      <td>78088</td>\n      <td>PhD/md</td>\n      <td>Retired</td>\n      <td>1</td>\n      <td>married</td>\n      <td>1</td>\n      <td>0.0</td>\n      <td>Rent flat</td>\n      <td>multiple sclerosis</td>\n    </tr>\n    <tr>\n      <th>2</th>\n      <td>Lillian Simpson</td>\n      <td>female</td>\n      <td>12/1966</td>\n      <td>51502</td>\n      <td>Bachelor</td>\n      <td>Employed</td>\n      <td>1</td>\n      <td>married</td>\n      <td>0</td>\n      <td>0.1</td>\n      <td>Rent flat</td>\n      <td>heart disease</td>\n    </tr>\n    <tr>\n      <th>3</th>\n      <td>Avery Richards</td>\n      <td>female</td>\n      <td>4/1943</td>\n      <td>54080</td>\n      <td>Bachelor</td>\n      <td>Retired</td>\n      <td>1</td>\n      <td>married</td>\n      <td>0</td>\n      <td>0.0</td>\n      <td>Rent room</td>\n      <td>endometriosis</td>\n    </tr>\n    <tr>\n      <th>4</th>\n      <td>Sophia Alvarado</td>\n      <td>female</td>\n      <td>10/1947</td>\n      <td>68785</td>\n      <td>High School</td>\n      <td>Retired</td>\n      <td>1</td>\n      <td>married</td>\n      <td>0</td>\n      <td>0.0</td>\n      <td>Rent flat</td>\n      <td>gastritis</td>\n    </tr>\n  </tbody>\n</table>\n</div>",
      "text/plain": "                id  gender      dob  zipcode    education employment  \\\n0    Amelia Morrow  female  12/1950    26904  High School    Retired   \n1     Lillian Cole  female   4/1940    78088       PhD/md    Retired   \n2  Lillian Simpson  female  12/1966    51502     Bachelor   Employed   \n3   Avery Richards  female   4/1943    54080     Bachelor    Retired   \n4  Sophia Alvarado  female  10/1947    68785  High School    Retired   \n\n   children marital_status  number_vehicles  commute_time accommodation  \\\n0         2        married                2           0.0     Own house   \n1         1        married                1           0.0     Rent flat   \n2         1        married                0           0.1     Rent flat   \n3         1        married                0           0.0     Rent room   \n4         1        married                0           0.0     Rent flat   \n\n               disease  \n0  Alzheimer's disease  \n1   multiple sclerosis  \n2        heart disease  \n3        endometriosis  \n4            gastritis  "
     },
     "execution_count": 2,
     "metadata": {},
     "output_type": "execute_result"
    }
   ],
   "source": [
    "columns_to_drop = [\"ancestry\"]\n",
    "df.drop(columns_to_drop, axis=1, inplace=True)\n",
    "df.head(5)"
   ]
  },
  {
   "cell_type": "markdown",
   "metadata": {},
   "source": [
    "Generate a unique id based on the hash of the initial id, the date of birth, the zipcode and a salt\n",
    "---"
   ]
  },
  {
   "cell_type": "code",
   "execution_count": 3,
   "metadata": {},
   "outputs": [
    {
     "name": "stdout",
     "output_type": "stream",
     "text": [
      "All id unique ? True\n"
     ]
    },
    {
     "data": {
      "text/html": "<div>\n<style scoped>\n    .dataframe tbody tr th:only-of-type {\n        vertical-align: middle;\n    }\n\n    .dataframe tbody tr th {\n        vertical-align: top;\n    }\n\n    .dataframe thead th {\n        text-align: right;\n    }\n</style>\n<table border=\"1\" class=\"dataframe\">\n  <thead>\n    <tr style=\"text-align: right;\">\n      <th></th>\n      <th>id</th>\n      <th>gender</th>\n      <th>dob</th>\n      <th>zipcode</th>\n      <th>education</th>\n      <th>employment</th>\n      <th>children</th>\n      <th>marital_status</th>\n      <th>number_vehicles</th>\n      <th>commute_time</th>\n      <th>accommodation</th>\n      <th>disease</th>\n    </tr>\n  </thead>\n  <tbody>\n    <tr>\n      <th>0</th>\n      <td>71b16769bddf0440ff64ec84b0b45b6195d6615bdd4081...</td>\n      <td>female</td>\n      <td>12/1950</td>\n      <td>26904</td>\n      <td>High School</td>\n      <td>Retired</td>\n      <td>2</td>\n      <td>married</td>\n      <td>2</td>\n      <td>0.0</td>\n      <td>Own house</td>\n      <td>Alzheimer's disease</td>\n    </tr>\n    <tr>\n      <th>1</th>\n      <td>6b74fc359232226f86832a5a410c4bff578b9ff4b27ee0...</td>\n      <td>female</td>\n      <td>4/1940</td>\n      <td>78088</td>\n      <td>PhD/md</td>\n      <td>Retired</td>\n      <td>1</td>\n      <td>married</td>\n      <td>1</td>\n      <td>0.0</td>\n      <td>Rent flat</td>\n      <td>multiple sclerosis</td>\n    </tr>\n    <tr>\n      <th>2</th>\n      <td>848cebbf8e346ae57828741171c11be134f3ce55d3bb71...</td>\n      <td>female</td>\n      <td>12/1966</td>\n      <td>51502</td>\n      <td>Bachelor</td>\n      <td>Employed</td>\n      <td>1</td>\n      <td>married</td>\n      <td>0</td>\n      <td>0.1</td>\n      <td>Rent flat</td>\n      <td>heart disease</td>\n    </tr>\n    <tr>\n      <th>3</th>\n      <td>1c245b3234d6dc888021e3002d01a3593d20e51606ebf0...</td>\n      <td>female</td>\n      <td>4/1943</td>\n      <td>54080</td>\n      <td>Bachelor</td>\n      <td>Retired</td>\n      <td>1</td>\n      <td>married</td>\n      <td>0</td>\n      <td>0.0</td>\n      <td>Rent room</td>\n      <td>endometriosis</td>\n    </tr>\n    <tr>\n      <th>4</th>\n      <td>4212e9f5b1b5596f78cd3ffe1f7298d4a44cb2d0011658...</td>\n      <td>female</td>\n      <td>10/1947</td>\n      <td>68785</td>\n      <td>High School</td>\n      <td>Retired</td>\n      <td>1</td>\n      <td>married</td>\n      <td>0</td>\n      <td>0.0</td>\n      <td>Rent flat</td>\n      <td>gastritis</td>\n    </tr>\n  </tbody>\n</table>\n</div>",
      "text/plain": "                                                  id  gender      dob  \\\n0  71b16769bddf0440ff64ec84b0b45b6195d6615bdd4081...  female  12/1950   \n1  6b74fc359232226f86832a5a410c4bff578b9ff4b27ee0...  female   4/1940   \n2  848cebbf8e346ae57828741171c11be134f3ce55d3bb71...  female  12/1966   \n3  1c245b3234d6dc888021e3002d01a3593d20e51606ebf0...  female   4/1943   \n4  4212e9f5b1b5596f78cd3ffe1f7298d4a44cb2d0011658...  female  10/1947   \n\n   zipcode    education employment  children marital_status  number_vehicles  \\\n0    26904  High School    Retired         2        married                2   \n1    78088       PhD/md    Retired         1        married                1   \n2    51502     Bachelor   Employed         1        married                0   \n3    54080     Bachelor    Retired         1        married                0   \n4    68785  High School    Retired         1        married                0   \n\n   commute_time accommodation              disease  \n0           0.0     Own house  Alzheimer's disease  \n1           0.0     Rent flat   multiple sclerosis  \n2           0.1     Rent flat        heart disease  \n3           0.0     Rent room        endometriosis  \n4           0.0     Rent flat            gastritis  "
     },
     "execution_count": 3,
     "metadata": {},
     "output_type": "execute_result"
    }
   ],
   "source": [
    "\n",
    "df.id = df.apply(lambda x : hashlib.sha512((str(x.id) + str(x.dob) + str(x.zipcode)).encode() + os.urandom(256)).hexdigest(), axis=1)\n",
    "\n",
    "print(f\"All id unique ? {len(df.id) == df.id.nunique()}\")\n",
    "\n",
    "df.head(5)"
   ]
  },
  {
   "cell_type": "markdown",
   "metadata": {},
   "source": [
    "Change all zipcodes to corresponding state\n",
    "---"
   ]
  },
  {
   "cell_type": "code",
   "execution_count": 4,
   "metadata": {},
   "outputs": [
    {
     "data": {
      "text/html": "<div>\n<style scoped>\n    .dataframe tbody tr th:only-of-type {\n        vertical-align: middle;\n    }\n\n    .dataframe tbody tr th {\n        vertical-align: top;\n    }\n\n    .dataframe thead th {\n        text-align: right;\n    }\n</style>\n<table border=\"1\" class=\"dataframe\">\n  <thead>\n    <tr style=\"text-align: right;\">\n      <th></th>\n      <th>id</th>\n      <th>gender</th>\n      <th>dob</th>\n      <th>state</th>\n      <th>education</th>\n      <th>employment</th>\n      <th>children</th>\n      <th>marital_status</th>\n      <th>number_vehicles</th>\n      <th>commute_time</th>\n      <th>accommodation</th>\n      <th>disease</th>\n    </tr>\n  </thead>\n  <tbody>\n    <tr>\n      <th>0</th>\n      <td>71b16769bddf0440ff64ec84b0b45b6195d6615bdd4081...</td>\n      <td>female</td>\n      <td>12/1950</td>\n      <td>Unknown</td>\n      <td>High School</td>\n      <td>Retired</td>\n      <td>2</td>\n      <td>married</td>\n      <td>2</td>\n      <td>0.0</td>\n      <td>Own house</td>\n      <td>Alzheimer's disease</td>\n    </tr>\n    <tr>\n      <th>1</th>\n      <td>6b74fc359232226f86832a5a410c4bff578b9ff4b27ee0...</td>\n      <td>female</td>\n      <td>4/1940</td>\n      <td>(TX) Texas</td>\n      <td>PhD/md</td>\n      <td>Retired</td>\n      <td>1</td>\n      <td>married</td>\n      <td>1</td>\n      <td>0.0</td>\n      <td>Rent flat</td>\n      <td>multiple sclerosis</td>\n    </tr>\n    <tr>\n      <th>2</th>\n      <td>848cebbf8e346ae57828741171c11be134f3ce55d3bb71...</td>\n      <td>female</td>\n      <td>12/1966</td>\n      <td>(IA) Iowa</td>\n      <td>Bachelor</td>\n      <td>Employed</td>\n      <td>1</td>\n      <td>married</td>\n      <td>0</td>\n      <td>0.1</td>\n      <td>Rent flat</td>\n      <td>heart disease</td>\n    </tr>\n    <tr>\n      <th>3</th>\n      <td>1c245b3234d6dc888021e3002d01a3593d20e51606ebf0...</td>\n      <td>female</td>\n      <td>4/1943</td>\n      <td>(WI) Wisconsin</td>\n      <td>Bachelor</td>\n      <td>Retired</td>\n      <td>1</td>\n      <td>married</td>\n      <td>0</td>\n      <td>0.0</td>\n      <td>Rent room</td>\n      <td>endometriosis</td>\n    </tr>\n    <tr>\n      <th>4</th>\n      <td>4212e9f5b1b5596f78cd3ffe1f7298d4a44cb2d0011658...</td>\n      <td>female</td>\n      <td>10/1947</td>\n      <td>(NE) Nebraska</td>\n      <td>High School</td>\n      <td>Retired</td>\n      <td>1</td>\n      <td>married</td>\n      <td>0</td>\n      <td>0.0</td>\n      <td>Rent flat</td>\n      <td>gastritis</td>\n    </tr>\n  </tbody>\n</table>\n</div>",
      "text/plain": "                                                  id  gender      dob  \\\n0  71b16769bddf0440ff64ec84b0b45b6195d6615bdd4081...  female  12/1950   \n1  6b74fc359232226f86832a5a410c4bff578b9ff4b27ee0...  female   4/1940   \n2  848cebbf8e346ae57828741171c11be134f3ce55d3bb71...  female  12/1966   \n3  1c245b3234d6dc888021e3002d01a3593d20e51606ebf0...  female   4/1943   \n4  4212e9f5b1b5596f78cd3ffe1f7298d4a44cb2d0011658...  female  10/1947   \n\n            state    education employment  children marital_status  \\\n0         Unknown  High School    Retired         2        married   \n1      (TX) Texas       PhD/md    Retired         1        married   \n2       (IA) Iowa     Bachelor   Employed         1        married   \n3  (WI) Wisconsin     Bachelor    Retired         1        married   \n4   (NE) Nebraska  High School    Retired         1        married   \n\n   number_vehicles  commute_time accommodation              disease  \n0                2           0.0     Own house  Alzheimer's disease  \n1                1           0.0     Rent flat   multiple sclerosis  \n2                0           0.1     Rent flat        heart disease  \n3                0           0.0     Rent room        endometriosis  \n4                0           0.0     Rent flat            gastritis  "
     },
     "execution_count": 4,
     "metadata": {},
     "output_type": "execute_result"
    }
   ],
   "source": [
    "def find_state(zip_code):\n",
    "    \"\"\"\n",
    "        Return the state corresponding to the zipcode\n",
    "    \"\"\"\n",
    "    return matched_zips.get(str(zip_code)[0:3], \"Unknown\")\n",
    "\n",
    "df['zipcode'] = df.zipcode.apply(find_state)\n",
    "df.rename(columns={'zipcode':'state'}, inplace=True)\n",
    "df.head(5)"
   ]
  },
  {
   "cell_type": "markdown",
   "metadata": {},
   "source": [
    "Change columns to a less accurate attribute in order to generalise\n",
    "---"
   ]
  },
  {
   "cell_type": "code",
   "execution_count": 5,
   "metadata": {},
   "outputs": [
    {
     "data": {
      "text/html": "<div>\n<style scoped>\n    .dataframe tbody tr th:only-of-type {\n        vertical-align: middle;\n    }\n\n    .dataframe tbody tr th {\n        vertical-align: top;\n    }\n\n    .dataframe thead th {\n        text-align: right;\n    }\n</style>\n<table border=\"1\" class=\"dataframe\">\n  <thead>\n    <tr style=\"text-align: right;\">\n      <th></th>\n      <th>id</th>\n      <th>gender</th>\n      <th>dob</th>\n      <th>state</th>\n      <th>education</th>\n      <th>employment</th>\n      <th>children</th>\n      <th>marital_status</th>\n      <th>number_vehicles</th>\n      <th>commute_time</th>\n      <th>accommodation</th>\n      <th>disease</th>\n    </tr>\n  </thead>\n  <tbody>\n    <tr>\n      <th>0</th>\n      <td>71b16769bddf0440ff64ec84b0b45b6195d6615bdd4081...</td>\n      <td>female</td>\n      <td>[1950 - 1952]</td>\n      <td>Unknown</td>\n      <td>High School</td>\n      <td>Retired</td>\n      <td>True</td>\n      <td>married</td>\n      <td>2</td>\n      <td>0</td>\n      <td>Own</td>\n      <td>Alzheimer's disease</td>\n    </tr>\n    <tr>\n      <th>1</th>\n      <td>6b74fc359232226f86832a5a410c4bff578b9ff4b27ee0...</td>\n      <td>female</td>\n      <td>[1938 - 1940]</td>\n      <td>(TX) Texas</td>\n      <td>Masters and higher</td>\n      <td>Retired</td>\n      <td>True</td>\n      <td>married</td>\n      <td>1</td>\n      <td>0</td>\n      <td>Rent</td>\n      <td>multiple sclerosis</td>\n    </tr>\n    <tr>\n      <th>2</th>\n      <td>848cebbf8e346ae57828741171c11be134f3ce55d3bb71...</td>\n      <td>female</td>\n      <td>[1965 - 1967]</td>\n      <td>(IA) Iowa</td>\n      <td>Bachelor</td>\n      <td>Employed</td>\n      <td>True</td>\n      <td>married</td>\n      <td>0</td>\n      <td>[0-1]</td>\n      <td>Rent</td>\n      <td>heart disease</td>\n    </tr>\n    <tr>\n      <th>3</th>\n      <td>1c245b3234d6dc888021e3002d01a3593d20e51606ebf0...</td>\n      <td>female</td>\n      <td>[1941 - 1943]</td>\n      <td>(WI) Wisconsin</td>\n      <td>Bachelor</td>\n      <td>Retired</td>\n      <td>True</td>\n      <td>married</td>\n      <td>0</td>\n      <td>0</td>\n      <td>Rent</td>\n      <td>endometriosis</td>\n    </tr>\n    <tr>\n      <th>4</th>\n      <td>4212e9f5b1b5596f78cd3ffe1f7298d4a44cb2d0011658...</td>\n      <td>female</td>\n      <td>[1947 - 1949]</td>\n      <td>(NE) Nebraska</td>\n      <td>High School</td>\n      <td>Retired</td>\n      <td>True</td>\n      <td>married</td>\n      <td>0</td>\n      <td>0</td>\n      <td>Rent</td>\n      <td>gastritis</td>\n    </tr>\n  </tbody>\n</table>\n</div>",
      "text/plain": "                                                  id  gender            dob  \\\n0  71b16769bddf0440ff64ec84b0b45b6195d6615bdd4081...  female  [1950 - 1952]   \n1  6b74fc359232226f86832a5a410c4bff578b9ff4b27ee0...  female  [1938 - 1940]   \n2  848cebbf8e346ae57828741171c11be134f3ce55d3bb71...  female  [1965 - 1967]   \n3  1c245b3234d6dc888021e3002d01a3593d20e51606ebf0...  female  [1941 - 1943]   \n4  4212e9f5b1b5596f78cd3ffe1f7298d4a44cb2d0011658...  female  [1947 - 1949]   \n\n            state           education employment  children marital_status  \\\n0         Unknown         High School    Retired      True        married   \n1      (TX) Texas  Masters and higher    Retired      True        married   \n2       (IA) Iowa            Bachelor   Employed      True        married   \n3  (WI) Wisconsin            Bachelor    Retired      True        married   \n4   (NE) Nebraska         High School    Retired      True        married   \n\n   number_vehicles commute_time accommodation              disease  \n0                2            0           Own  Alzheimer's disease  \n1                1            0          Rent   multiple sclerosis  \n2                0        [0-1]          Rent        heart disease  \n3                0            0          Rent        endometriosis  \n4                0            0          Rent            gastritis  "
     },
     "execution_count": 5,
     "metadata": {},
     "output_type": "execute_result"
    }
   ],
   "source": [
    "def has_child(child):\n",
    "    if child == 0: return False\n",
    "    return True\n",
    "\n",
    "def more_than_1_hour(x):\n",
    "    if isinstance(x, str): return x\n",
    "    elif x == 0.0: return '0'\n",
    "    elif x <= 1.0: return '[0-1]'\n",
    "    elif x > 1.0: return '1+'\n",
    "\n",
    "def change_accom(accomod):\n",
    "    how, _ = accomod.split(' ')\n",
    "    return how\n",
    "\n",
    "def change_education(educ):\n",
    "    if educ == \"PhD/md\" or educ == \"Masters\": return \"Masters and higher\"\n",
    "    return educ\n",
    "\n",
    "def change_dob(dob):\n",
    "    _, year = dob.split('/')\n",
    "    year = int(year)\n",
    "    while year % 3 != 0: year -= 1\n",
    "    return f\"[{year} - {year+2}]\"\n",
    "\n",
    "df.dob = df.dob.apply(change_dob)\n",
    "\n",
    "df.accommodation = df.accommodation.apply(change_accom)\n",
    "\n",
    "df.education = df.education.apply(change_education)\n",
    "\n",
    "df.children=df.children.apply(has_child)\n",
    "\n",
    "df.commute_time=df.commute_time.apply(more_than_1_hour)\n",
    "\n",
    "df.head(5)"
   ]
  },
  {
   "cell_type": "markdown",
   "metadata": {},
   "source": [
    "Compute the entropy for all possible columns combination in order to find the best entropy\n",
    "---"
   ]
  },
  {
   "cell_type": "code",
   "execution_count": 6,
   "metadata": {},
   "outputs": [],
   "source": [
    "def entropy(C, N=2000): return round(- sum([(ci/N) * math.log(ci/N, 2) for i,ci in enumerate(C)]),4)\n",
    "# Max : 11"
   ]
  },
  {
   "cell_type": "code",
   "execution_count": 7,
   "metadata": {},
   "outputs": [
    {
     "name": "stderr",
     "output_type": "stream",
     "text": [
      "100%|██████████| 10/10 [00:05<00:00,  1.97it/s]\n"
     ]
    }
   ],
   "source": [
    "from itertools import *\n",
    "from tqdm import tqdm\n",
    "\n",
    "\n",
    "covariates = [\"education\", \"gender\", \"dob\", \"state\", \"children\", \"employment\", \"marital_status\", \"number_vehicles\", \"commute_time\", \"accommodation\"]\n",
    "\n",
    "results = []\n",
    "\n",
    "for c in tqdm(range(1, len(covariates)+1)):\n",
    "    for used in combinations(covariates, c):\n",
    "        used = used + (\"disease\",)\n",
    "        used = list(used)\n",
    "        ct = df.groupby(used).size().to_frame(\"count\")\n",
    "        len_groups = len(ct)\n",
    "        len_unique = sum(ct['count'] < 2)\n",
    "\n",
    "        C = ct['count'].to_numpy()\n",
    "        CR = C[C > 1]\n",
    "\n",
    "        size_cr = 2000-len_unique\n",
    "\n",
    "        entropy_full = entropy(C)\n",
    "        entropy_cut = entropy(CR, size_cr)\n",
    "\n",
    "        results.append(\n",
    "            {\n",
    "                \"used\": used,\n",
    "                \"len_groups\": len_groups,\n",
    "                \"len_unique\": len_unique,\n",
    "                \"diff\": size_cr,\n",
    "                \"entropy_full\": entropy_full,\n",
    "                \"entropy_cut\": entropy_cut\n",
    "            }\n",
    "        )"
   ]
  },
  {
   "cell_type": "code",
   "execution_count": 8,
   "metadata": {},
   "outputs": [
    {
     "data": {
      "text/plain": "[{'used': ['gender', 'dob', 'disease'],\n  'len_groups': 533,\n  'len_unique': 80,\n  'diff': 1920,\n  'entropy_full': 8.8033,\n  'entropy_cut': 8.6543},\n {'used': ['education',\n   'gender',\n   'number_vehicles',\n   'accommodation',\n   'disease'],\n  'len_groups': 430,\n  'len_unique': 94,\n  'diff': 1906,\n  'entropy_full': 8.3062,\n  'entropy_cut': 8.1056},\n {'used': ['dob', 'children', 'disease'],\n  'len_groups': 394,\n  'len_unique': 90,\n  'diff': 1910,\n  'entropy_full': 8.2104,\n  'entropy_cut': 8.0142},\n {'used': ['education', 'number_vehicles', 'commute_time', 'disease'],\n  'len_groups': 392,\n  'len_unique': 76,\n  'diff': 1924,\n  'entropy_full': 8.1299,\n  'entropy_cut': 7.962},\n {'used': ['dob', 'disease'],\n  'len_groups': 304,\n  'len_unique': 16,\n  'diff': 1984,\n  'entropy_full': 7.9867,\n  'entropy_cut': 7.9511}]"
     },
     "execution_count": 8,
     "metadata": {},
     "output_type": "execute_result"
    }
   ],
   "source": [
    "results_sort = sorted(results, key=lambda x: (x['diff'], x['len_groups'],  x['entropy_cut'], x['entropy_full'], ), reverse=True)\n",
    "results_filter = [ dic for dic in results_sort if dic.get('len_unique') > 0 and dic.get('len_unique') < 100 and dic.get('entropy_full') > 5]    \n",
    "results_filter_sorted = sorted(results_filter, key=lambda x: x['entropy_cut'], reverse=True)\n",
    "\n",
    "results_filter_sorted[:5]"
   ]
  },
  {
   "cell_type": "markdown",
   "metadata": {},
   "source": [
    "Drop all unique quasi-identifiers and those who do not respect the 2-diversity\n",
    "---"
   ]
  },
  {
   "cell_type": "code",
   "execution_count": 9,
   "metadata": {},
   "outputs": [],
   "source": [
    "quasi_identifiers = [\"education\", \"gender\", \"number_vehicles\", \"accommodation\", \"employment\", \"children\", \"commute_time\"]\n",
    "sensitive_column = \"disease\"\n",
    "\n",
    "gbqi = df[quasi_identifiers+[sensitive_column]].groupby(quasi_identifiers)\n",
    "indexes_to_drop = gbqi.filter(lambda x:x[sensitive_column].nunique()==1).index\n",
    "df = df[[\"id\"]+quasi_identifiers+[sensitive_column]].drop(indexes_to_drop)"
   ]
  },
  {
   "cell_type": "markdown",
   "metadata": {},
   "source": [
    "To ensure that it's impossible to do a skewness attack, we need to drop 2 people\n",
    "---"
   ]
  },
  {
   "cell_type": "code",
   "execution_count": 10,
   "metadata": {},
   "outputs": [],
   "source": [
    "idx_to_drop_sorry_guys = [346, 846]\n",
    "df.drop(idx_to_drop_sorry_guys, inplace=True)"
   ]
  },
  {
   "cell_type": "markdown",
   "metadata": {},
   "source": [
    "Save the final dataset\n",
    "---"
   ]
  },
  {
   "cell_type": "code",
   "execution_count": 11,
   "metadata": {},
   "outputs": [
    {
     "name": "stdout",
     "output_type": "stream",
     "text": [
      "CSV saved to ./datasets/final/anonymized_dataset.csv\n",
      "Percentage dropped to respect 2-anonimity and 2-diversity = 7.4 %\n"
     ]
    },
    {
     "data": {
      "text/html": "<div>\n<style scoped>\n    .dataframe tbody tr th:only-of-type {\n        vertical-align: middle;\n    }\n\n    .dataframe tbody tr th {\n        vertical-align: top;\n    }\n\n    .dataframe thead th {\n        text-align: right;\n    }\n</style>\n<table border=\"1\" class=\"dataframe\">\n  <thead>\n    <tr style=\"text-align: right;\">\n      <th></th>\n      <th>id</th>\n      <th>education</th>\n      <th>gender</th>\n      <th>number_vehicles</th>\n      <th>accommodation</th>\n      <th>employment</th>\n      <th>children</th>\n      <th>commute_time</th>\n      <th>disease</th>\n    </tr>\n  </thead>\n  <tbody>\n    <tr>\n      <th>0</th>\n      <td>71b16769bddf0440ff64ec84b0b45b6195d6615bdd4081...</td>\n      <td>High School</td>\n      <td>female</td>\n      <td>2</td>\n      <td>Own</td>\n      <td>Retired</td>\n      <td>True</td>\n      <td>0</td>\n      <td>Alzheimer's disease</td>\n    </tr>\n    <tr>\n      <th>2</th>\n      <td>848cebbf8e346ae57828741171c11be134f3ce55d3bb71...</td>\n      <td>Bachelor</td>\n      <td>female</td>\n      <td>0</td>\n      <td>Rent</td>\n      <td>Employed</td>\n      <td>True</td>\n      <td>[0-1]</td>\n      <td>heart disease</td>\n    </tr>\n    <tr>\n      <th>3</th>\n      <td>1c245b3234d6dc888021e3002d01a3593d20e51606ebf0...</td>\n      <td>Bachelor</td>\n      <td>female</td>\n      <td>0</td>\n      <td>Rent</td>\n      <td>Retired</td>\n      <td>True</td>\n      <td>0</td>\n      <td>endometriosis</td>\n    </tr>\n    <tr>\n      <th>4</th>\n      <td>4212e9f5b1b5596f78cd3ffe1f7298d4a44cb2d0011658...</td>\n      <td>High School</td>\n      <td>female</td>\n      <td>0</td>\n      <td>Rent</td>\n      <td>Retired</td>\n      <td>True</td>\n      <td>0</td>\n      <td>gastritis</td>\n    </tr>\n    <tr>\n      <th>5</th>\n      <td>b1962816e48d9d6f89ce83a7c1fbc364345df4df797d7b...</td>\n      <td>High School</td>\n      <td>male</td>\n      <td>1</td>\n      <td>Own</td>\n      <td>Retired</td>\n      <td>True</td>\n      <td>0</td>\n      <td>endometriosis</td>\n    </tr>\n  </tbody>\n</table>\n</div>",
      "text/plain": "                                                  id    education  gender  \\\n0  71b16769bddf0440ff64ec84b0b45b6195d6615bdd4081...  High School  female   \n2  848cebbf8e346ae57828741171c11be134f3ce55d3bb71...     Bachelor  female   \n3  1c245b3234d6dc888021e3002d01a3593d20e51606ebf0...     Bachelor  female   \n4  4212e9f5b1b5596f78cd3ffe1f7298d4a44cb2d0011658...  High School  female   \n5  b1962816e48d9d6f89ce83a7c1fbc364345df4df797d7b...  High School    male   \n\n   number_vehicles accommodation employment  children commute_time  \\\n0                2           Own    Retired      True            0   \n2                0          Rent   Employed      True        [0-1]   \n3                0          Rent    Retired      True            0   \n4                0          Rent    Retired      True            0   \n5                1           Own    Retired      True            0   \n\n               disease  \n0  Alzheimer's disease  \n2        heart disease  \n3        endometriosis  \n4            gastritis  \n5        endometriosis  "
     },
     "execution_count": 11,
     "metadata": {},
     "output_type": "execute_result"
    }
   ],
   "source": [
    "if input(f\"Save the dataset to {save_final_path} ? [y/n]\").lower() in [\"y\", \"yes\"]:\n",
    "    df.to_csv(save_final_path, index=False)\n",
    "    print(f\"CSV saved to {save_final_path}\")\n",
    "\n",
    "print(f\"Percentage dropped to respect 2-anonymity and 2-diversity = {100*len(indexes_to_drop)/len(df)} %\")\n",
    "final_df.head(5)"

   ]
  },
  {
   "cell_type": "markdown",
   "metadata": {},
   "source": [
    "Verify if the final dataset is 2-anonym and 2-diverse\n",
    "---"
   ]
  },
  {
   "cell_type": "code",
   "execution_count": 12,
   "metadata": {},
   "outputs": [
    {
     "name": "stdout",
     "output_type": "stream",
     "text": [
      "Is the final dataset 2-anonym? True\n",
      "Is the final dataset 2-diverse? True\n"
     ]
    }
   ],
   "source": [
    "from utils import is_k_anonym, is_l_diverse # Personnal implemented functions\n",
    "\n",
    "k, l = 2, 2\n",
    "_is_k_anonym = is_k_anonym(df, quasi_identifiers, k)\n",
    "_is_l_diverse = is_l_diverse(df, sensitive_column, quasi_identifiers, l)\n",
    "\n",
    "print(f\"Is the final dataset {k}-anonym? {_is_k_anonym}\")\n",
    "print(f\"Is the final dataset {l}-diverse? {_is_l_diverse}\")"
   ]
  }
 ],
 "metadata": {
  "kernelspec": {
   "display_name": "Python 3.8.5 64-bit ('linma2472': conda)",
   "name": "python38564bitlinma2472conda3fd5d50668e246798fbdb3a5ee74f779"
  },
  "language_info": {
   "codemirror_mode": {
    "name": "ipython",
    "version": 3
   },
   "file_extension": ".py",
   "mimetype": "text/x-python",
   "name": "python",
   "nbconvert_exporter": "python",
   "pygments_lexer": "ipython3",
   "version": "3.8.5"
  },
  "orig_nbformat": 2
 },
 "nbformat": 4,
 "nbformat_minor": 2
}
