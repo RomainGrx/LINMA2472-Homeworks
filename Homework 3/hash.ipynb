{
 "cells": [
  {
   "cell_type": "code",
   "execution_count": 1,
   "metadata": {},
   "outputs": [],
   "source": [
    "import os\n",
    "import hashlib\n",
    "import pandas as pd\n",
    "import numpy as np\n",
    "from collections import Counter\n",
    "import math, statistics\n",
    "\n",
    "csv_path = os.path.join(os.curdir, \"datasets\", \"dataset - Privacy-Engineering.csv\")\n",
    "zip_path = os.path.join(os.curdir, \"datasets\", \"matched_zips.csv\")\n",
    "\n",
    "df = pd.read_csv(csv_path)\n",
    "df_zip = pd.read_csv(zip_path, dtype={\"zip\": 'string'})\n",
    "matched_zips = df_zip.set_index('zip')['state'].to_dict()"
   ]
  },
  {
   "cell_type": "code",
   "execution_count": 2,
   "metadata": {},
   "outputs": [],
   "source": [
    "columns_to_drop = [\"ancestry\"]\n",
    "df = df.drop(columns_to_drop, axis=1)"
   ]
  },
  {
   "cell_type": "code",
   "execution_count": 3,
   "metadata": {},
   "outputs": [],
   "source": [
    "salt = b\"\\x91\\xff=s\\x18?JH\\x940\\xf1$wN\\xa4\\xbf\\x9f\\xcdi\\x8c\\xa2\\xf3\\xe3I\\xeb\\xf4\\x1f\\xc0y\\x94\\x84\\xa8\"\n",
    "\n",
    "df.id = df.id.apply(lambda x : hashlib.sha512(str(x).encode() + salt).hexdigest())"
   ]
  },
  {
   "cell_type": "code",
   "execution_count": 4,
   "metadata": {},
   "outputs": [],
   "source": [
    "def find_state(zip_code):\n",
    "    res = matched_zips.get(str(zip_code)[0:3])\n",
    "    if res is None: return \"Unknown\"\n",
    "    return res\n",
    "\n",
    "df['state'] = df.zipcode.apply(find_state)\n",
    "df = df.drop(\"zipcode\", axis=1)"
   ]
  },
  {
   "cell_type": "code",
   "execution_count": 5,
   "metadata": {},
   "outputs": [],
   "source": [
    "def more_than_2_children(x):\n",
    "    if isinstance(x, str): return x\n",
    "    elif x == 0: return '0'\n",
    "    elif x == 1: return '1'\n",
    "    elif x > 1: return '2+'\n",
    "\n",
    "def has_child(childs):\n",
    "    if childs == 0: return False\n",
    "    return True\n",
    "\n",
    "def more_than_1_hour(x):\n",
    "    if isinstance(x, str): return x\n",
    "    elif x == 0.0: return '0'\n",
    "    elif x <= 1.0: return '1'\n",
    "    elif x > 1.0: return '1+'\n",
    "\n",
    "def change_accom(accomod):\n",
    "    how, _ = accomod.split(' ')\n",
    "    return how\n",
    "\n",
    "def change_education(educ):\n",
    "    if educ == \"PhD/md\" or educ == \"Masters\": return \"Masters and higher\"\n",
    "    return educ\n",
    "\n",
    "def change_dob(dob):\n",
    "    _, year = dob.split('/')\n",
    "    year = int(year)\n",
    "    while year % 3 != 0: year -= 1\n",
    "    return f\"[{year} - {year+2}]\"\n",
    "\n",
    "df.dob = df.dob.apply(change_dob)\n",
    "\n",
    "df.accommodation = df.accommodation.apply(change_accom)\n",
    "df.education = df.education.apply(change_education)\n",
    "# df.children=df.children.apply(more_than_2_children)\n",
    "\n",
    "df.children=df.children.apply(has_child)\n",
    "\n",
    "df.commute_time=df.commute_time.apply(more_than_1_hour)"
   ]
  },
  {
   "cell_type": "code",
   "execution_count": 6,
   "metadata": {},
   "outputs": [],
   "source": [
    "def entropy(C, N=2000): return round(- sum([(ci/N) * math.log(ci/N, 2) for i,ci in enumerate(C)]),4)\n",
    "# Max : 11"
   ]
  },
  {
   "cell_type": "code",
   "execution_count": 7,
   "metadata": {},
   "outputs": [
    {
     "output_type": "stream",
     "name": "stderr",
     "text": [
      "100%|██████████| 10/10 [00:08<00:00,  1.20it/s]\n"
     ]
    }
   ],
   "source": [
    "from itertools import *\n",
    "from tqdm import tqdm\n",
    "\n",
    "\n",
    "covariates = [\"education\", \"gender\", \"dob\", \"state\", \"children\", \"employment\", \"marital_status\", \"number_vehicles\", \"commute_time\", \"accommodation\"]\n",
    "\n",
    "results = []\n",
    "\n",
    "for c in tqdm(range(1, len(covariates)+1)):\n",
    "    for used in combinations(covariates, c):\n",
    "        used = used + (\"disease\",)\n",
    "        used = list(used)\n",
    "        ct = df.groupby(used).size().to_frame(\"count\")\n",
    "        len_groups = len(ct)\n",
    "        len_unique = sum(ct['count'] < 2)\n",
    "\n",
    "        C = ct['count'].to_numpy()\n",
    "        CR = C[C > 1]\n",
    "\n",
    "        size_cr = 2000-len_unique\n",
    "\n",
    "        entropy_full = entropy(C)\n",
    "        entropy_cut = entropy(CR, size_cr)\n",
    "\n",
    "        results.append(\n",
    "            {\n",
    "                \"used\": used,\n",
    "                \"len_groups\": len_groups,\n",
    "                \"len_unique\": len_unique,\n",
    "                \"diff\": size_cr,\n",
    "                \"entropy_full\": entropy_full,\n",
    "                \"entropy_cut\": entropy_cut\n",
    "            }\n",
    "        )"
   ]
  },
  {
   "cell_type": "code",
   "execution_count": 10,
   "metadata": {},
   "outputs": [],
   "source": [
    "results_sort = sorted(results, key=lambda x: (x['diff'], x['len_groups'],  x['entropy_cut'], x['entropy_full'], ), reverse=True)"
   ]
  },
  {
   "cell_type": "code",
   "execution_count": 45,
   "metadata": {},
   "outputs": [],
   "source": [
    "# import csv\n",
    "\n",
    "# with open(os.path.join(os.curdir, \"datasets\", \"entropy_results.csv\"), \"w\", newline='') as out:\n",
    "#     dict_writer = csv.DictWriter(out, results_sort[0].keys())\n",
    "#     dict_writer.writeheader()\n",
    "#     dict_writer.writerows(results_sort)"
   ]
  },
  {
   "cell_type": "code",
   "execution_count": 11,
   "metadata": {},
   "outputs": [],
   "source": [
    "results_filter = [ dic for dic in results_sort if dic.get('len_unique') > 0 and dic.get('len_unique') < 100 and dic.get('entropy_full') > 5]    \n",
    "results_filter_sorted = sorted(results_filter, key=lambda x: x['entropy_cut'], reverse=True)"
   ]
  },
  {
   "cell_type": "code",
   "execution_count": 12,
   "metadata": {},
   "outputs": [
    {
     "output_type": "execute_result",
     "data": {
      "text/plain": [
       "[{'used': ['gender', 'dob', 'disease'],\n",
       "  'len_groups': 533,\n",
       "  'len_unique': 80,\n",
       "  'diff': 1920,\n",
       "  'entropy_full': 8.8033,\n",
       "  'entropy_cut': 8.6543},\n",
       " {'used': ['education',\n",
       "   'gender',\n",
       "   'number_vehicles',\n",
       "   'accommodation',\n",
       "   'disease'],\n",
       "  'len_groups': 430,\n",
       "  'len_unique': 94,\n",
       "  'diff': 1906,\n",
       "  'entropy_full': 8.3062,\n",
       "  'entropy_cut': 8.1056},\n",
       " {'used': ['dob', 'children', 'disease'],\n",
       "  'len_groups': 394,\n",
       "  'len_unique': 90,\n",
       "  'diff': 1910,\n",
       "  'entropy_full': 8.2104,\n",
       "  'entropy_cut': 8.0142},\n",
       " {'used': ['education', 'number_vehicles', 'commute_time', 'disease'],\n",
       "  'len_groups': 392,\n",
       "  'len_unique': 76,\n",
       "  'diff': 1924,\n",
       "  'entropy_full': 8.1299,\n",
       "  'entropy_cut': 7.962},\n",
       " {'used': ['dob', 'disease'],\n",
       "  'len_groups': 304,\n",
       "  'len_unique': 16,\n",
       "  'diff': 1984,\n",
       "  'entropy_full': 7.9867,\n",
       "  'entropy_cut': 7.9511},\n",
       " {'used': ['gender',\n",
       "   'number_vehicles',\n",
       "   'commute_time',\n",
       "   'accommodation',\n",
       "   'disease'],\n",
       "  'len_groups': 385,\n",
       "  'len_unique': 86,\n",
       "  'diff': 1914,\n",
       "  'entropy_full': 8.0614,\n",
       "  'entropy_cut': 7.8675},\n",
       " {'used': ['marital_status', 'number_vehicles', 'commute_time', 'disease'],\n",
       "  'len_groups': 392,\n",
       "  'len_unique': 88,\n",
       "  'diff': 1912,\n",
       "  'entropy_full': 7.996,\n",
       "  'entropy_cut': 7.7944},\n",
       " {'used': ['education', 'gender', 'number_vehicles', 'disease'],\n",
       "  'len_groups': 277,\n",
       "  'len_unique': 27,\n",
       "  'diff': 1973,\n",
       "  'entropy_full': 7.7541,\n",
       "  'entropy_cut': 7.6905},\n",
       " {'used': ['education', 'gender', 'marital_status', 'disease'],\n",
       "  'len_groups': 338,\n",
       "  'len_unique': 59,\n",
       "  'diff': 1941,\n",
       "  'entropy_full': 7.811,\n",
       "  'entropy_cut': 7.6719},\n",
       " {'used': ['education', 'gender', 'employment', 'disease'],\n",
       "  'len_groups': 307,\n",
       "  'len_unique': 55,\n",
       "  'diff': 1945,\n",
       "  'entropy_full': 7.754,\n",
       "  'entropy_cut': 7.6229}]"
      ]
     },
     "metadata": {},
     "execution_count": 12
    }
   ],
   "source": [
    "# Best ?\n",
    "results_filter_sorted[0:10]"
   ]
  },
  {
   "cell_type": "code",
   "execution_count": 49,
   "metadata": {},
   "outputs": [
    {
     "output_type": "execute_result",
     "data": {
      "text/plain": [
       "                                                                           count\n",
       "education        gender number_vehicles accommodation disease                   \n",
       "Bachelor         female 0               Own           HIV/AIDS                 5\n",
       "                                                      breast cancer            2\n",
       "                                                      diabetes                 2\n",
       "                                                      endometriosis            1\n",
       "                                                      gastritis                5\n",
       "...                                                                          ...\n",
       "Masters and more male   3               Own           hypertension             1\n",
       "                                                      kidney disease           2\n",
       "                                                      prostate cancer          1\n",
       "                                                      skin cancer              2\n",
       "                                        Rent          Alzheimer's disease      1\n",
       "\n",
       "[430 rows x 1 columns]"
      ],
      "text/html": "<div>\n<style scoped>\n    .dataframe tbody tr th:only-of-type {\n        vertical-align: middle;\n    }\n\n    .dataframe tbody tr th {\n        vertical-align: top;\n    }\n\n    .dataframe thead th {\n        text-align: right;\n    }\n</style>\n<table border=\"1\" class=\"dataframe\">\n  <thead>\n    <tr style=\"text-align: right;\">\n      <th></th>\n      <th></th>\n      <th></th>\n      <th></th>\n      <th></th>\n      <th>count</th>\n    </tr>\n    <tr>\n      <th>education</th>\n      <th>gender</th>\n      <th>number_vehicles</th>\n      <th>accommodation</th>\n      <th>disease</th>\n      <th></th>\n    </tr>\n  </thead>\n  <tbody>\n    <tr>\n      <th rowspan=\"5\" valign=\"top\">Bachelor</th>\n      <th rowspan=\"5\" valign=\"top\">female</th>\n      <th rowspan=\"5\" valign=\"top\">0</th>\n      <th rowspan=\"5\" valign=\"top\">Own</th>\n      <th>HIV/AIDS</th>\n      <td>5</td>\n    </tr>\n    <tr>\n      <th>breast cancer</th>\n      <td>2</td>\n    </tr>\n    <tr>\n      <th>diabetes</th>\n      <td>2</td>\n    </tr>\n    <tr>\n      <th>endometriosis</th>\n      <td>1</td>\n    </tr>\n    <tr>\n      <th>gastritis</th>\n      <td>5</td>\n    </tr>\n    <tr>\n      <th>...</th>\n      <th>...</th>\n      <th>...</th>\n      <th>...</th>\n      <th>...</th>\n      <td>...</td>\n    </tr>\n    <tr>\n      <th rowspan=\"5\" valign=\"top\">Masters and more</th>\n      <th rowspan=\"5\" valign=\"top\">male</th>\n      <th rowspan=\"5\" valign=\"top\">3</th>\n      <th rowspan=\"4\" valign=\"top\">Own</th>\n      <th>hypertension</th>\n      <td>1</td>\n    </tr>\n    <tr>\n      <th>kidney disease</th>\n      <td>2</td>\n    </tr>\n    <tr>\n      <th>prostate cancer</th>\n      <td>1</td>\n    </tr>\n    <tr>\n      <th>skin cancer</th>\n      <td>2</td>\n    </tr>\n    <tr>\n      <th>Rent</th>\n      <th>Alzheimer's disease</th>\n      <td>1</td>\n    </tr>\n  </tbody>\n</table>\n<p>430 rows × 1 columns</p>\n</div>"
     },
     "metadata": {},
     "execution_count": 49
    }
   ],
   "source": [
    "g = [\"education\", \"gender\", \"number_vehicles\", \"accommodation\",\"disease\"]\n",
    "ct = df.groupby(g).size().to_frame(\"count\")\n",
    "ctt = df[df.duplicated(g, keep=False)].sort_values(by=g) # Enlève ceux qui sont uniques\n",
    "ctt"
   ]
  },
  {
   "cell_type": "code",
   "execution_count": null,
   "metadata": {},
   "outputs": [],
   "source": []
  }
 ],
 "metadata": {
  "kernelspec": {
   "display_name": "Python 3",
   "name": "python3"
  },
  "language_info": {
   "codemirror_mode": {
    "name": "ipython",
    "version": 3
   },
   "file_extension": ".py",
   "mimetype": "text/x-python",
   "name": "python",
   "nbconvert_exporter": "python",
   "pygments_lexer": "ipython3",
   "version": "3.8.3-final"
  },
  "orig_nbformat": 2
 },
 "nbformat": 4,
 "nbformat_minor": 2
}