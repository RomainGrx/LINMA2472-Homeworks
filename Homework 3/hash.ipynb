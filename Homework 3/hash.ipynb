{
 "cells": [
  {
   "cell_type": "code",
   "execution_count": 14,
   "metadata": {},
   "outputs": [],
   "source": [
    "import os\n",
    "import hashlib\n",
    "import pandas as pd\n",
    "\n",
    "csv_path = os.path.join(os.curdir, \"datasets\", \"dataset - Privacy-Engineering.csv\")\n",
    "df = pd.read_csv(csv_path)"
   ]
  },
  {
   "cell_type": "code",
   "execution_count": 15,
   "metadata": {},
   "outputs": [
    {
     "data": {
      "text/html": "<div>\n<style scoped>\n    .dataframe tbody tr th:only-of-type {\n        vertical-align: middle;\n    }\n\n    .dataframe tbody tr th {\n        vertical-align: top;\n    }\n\n    .dataframe thead th {\n        text-align: right;\n    }\n</style>\n<table border=\"1\" class=\"dataframe\">\n  <thead>\n    <tr style=\"text-align: right;\">\n      <th></th>\n      <th>id</th>\n      <th>gender</th>\n      <th>dob</th>\n      <th>zipcode</th>\n      <th>education</th>\n      <th>employment</th>\n      <th>children</th>\n      <th>marital_status</th>\n      <th>number_vehicles</th>\n      <th>commute_time</th>\n      <th>accommodation</th>\n      <th>disease</th>\n    </tr>\n  </thead>\n  <tbody>\n    <tr>\n      <th>0</th>\n      <td>Amelia Morrow</td>\n      <td>female</td>\n      <td>12/1950</td>\n      <td>26904</td>\n      <td>High School</td>\n      <td>Retired</td>\n      <td>2</td>\n      <td>married</td>\n      <td>2</td>\n      <td>0.0</td>\n      <td>Own house</td>\n      <td>Alzheimer's disease</td>\n    </tr>\n    <tr>\n      <th>1</th>\n      <td>Lillian Cole</td>\n      <td>female</td>\n      <td>4/1940</td>\n      <td>78088</td>\n      <td>PhD/md</td>\n      <td>Retired</td>\n      <td>1</td>\n      <td>married</td>\n      <td>1</td>\n      <td>0.0</td>\n      <td>Rent flat</td>\n      <td>multiple sclerosis</td>\n    </tr>\n    <tr>\n      <th>2</th>\n      <td>Lillian Simpson</td>\n      <td>female</td>\n      <td>12/1966</td>\n      <td>51502</td>\n      <td>Bachelor</td>\n      <td>Employed</td>\n      <td>1</td>\n      <td>married</td>\n      <td>0</td>\n      <td>0.1</td>\n      <td>Rent flat</td>\n      <td>heart disease</td>\n    </tr>\n    <tr>\n      <th>3</th>\n      <td>Avery Richards</td>\n      <td>female</td>\n      <td>4/1943</td>\n      <td>54080</td>\n      <td>Bachelor</td>\n      <td>Retired</td>\n      <td>1</td>\n      <td>married</td>\n      <td>0</td>\n      <td>0.0</td>\n      <td>Rent room</td>\n      <td>endometriosis</td>\n    </tr>\n    <tr>\n      <th>4</th>\n      <td>Sophia Alvarado</td>\n      <td>female</td>\n      <td>10/1947</td>\n      <td>68785</td>\n      <td>High School</td>\n      <td>Retired</td>\n      <td>1</td>\n      <td>married</td>\n      <td>0</td>\n      <td>0.0</td>\n      <td>Rent flat</td>\n      <td>gastritis</td>\n    </tr>\n  </tbody>\n</table>\n</div>",
      "text/plain": "                id  gender      dob  zipcode    education employment  \\\n0    Amelia Morrow  female  12/1950    26904  High School    Retired   \n1     Lillian Cole  female   4/1940    78088       PhD/md    Retired   \n2  Lillian Simpson  female  12/1966    51502     Bachelor   Employed   \n3   Avery Richards  female   4/1943    54080     Bachelor    Retired   \n4  Sophia Alvarado  female  10/1947    68785  High School    Retired   \n\n   children marital_status  number_vehicles  commute_time accommodation  \\\n0         2        married                2           0.0     Own house   \n1         1        married                1           0.0     Rent flat   \n2         1        married                0           0.1     Rent flat   \n3         1        married                0           0.0     Rent room   \n4         1        married                0           0.0     Rent flat   \n\n               disease  \n0  Alzheimer's disease  \n1   multiple sclerosis  \n2        heart disease  \n3        endometriosis  \n4            gastritis  "
     },
     "execution_count": 15,
     "metadata": {},
     "output_type": "execute_result"
    }
   ],
   "source": [
    "columns_to_drop = [\"ancestry\"]\n",
    "df = df.drop(columns_to_drop, axis=1)\n",
    "df.head(5)"
   ]
  },
  {
   "cell_type": "code",
   "execution_count": 18,
   "metadata": {},
   "outputs": [],
   "source": [
    "salt = b\"\\x91\\xff=s\\x18?JH\\x940\\xf1$wN\\xa4\\xbf\\x9f\\xcdi\\x8c\\xa2\\xf3\\xe3I\\xeb\\xf4\\x1f\\xc0y\\x94\\x84\\xa8\"\n",
    "\n",
    "df.id = df.id.apply(lambda x : hashlib.sha512(str(x).encode() + salt).hexdigest())"
   ]
  },
  {
   "cell_type": "code",
   "execution_count": 19,
   "metadata": {},
   "outputs": [
    {
     "data": {
      "text/html": "<div>\n<style scoped>\n    .dataframe tbody tr th:only-of-type {\n        vertical-align: middle;\n    }\n\n    .dataframe tbody tr th {\n        vertical-align: top;\n    }\n\n    .dataframe thead th {\n        text-align: right;\n    }\n</style>\n<table border=\"1\" class=\"dataframe\">\n  <thead>\n    <tr style=\"text-align: right;\">\n      <th></th>\n      <th>id</th>\n      <th>gender</th>\n      <th>dob</th>\n      <th>zipcode</th>\n      <th>education</th>\n      <th>employment</th>\n      <th>children</th>\n      <th>marital_status</th>\n      <th>number_vehicles</th>\n      <th>commute_time</th>\n      <th>accommodation</th>\n      <th>disease</th>\n    </tr>\n  </thead>\n  <tbody>\n    <tr>\n      <th>0</th>\n      <td>1141b567bad57e77d361c1a63e2b7c6071deda204b2e23...</td>\n      <td>female</td>\n      <td>12/1950</td>\n      <td>26904</td>\n      <td>High School</td>\n      <td>Retired</td>\n      <td>2</td>\n      <td>married</td>\n      <td>2</td>\n      <td>0.0</td>\n      <td>Own house</td>\n      <td>Alzheimer's disease</td>\n    </tr>\n    <tr>\n      <th>1</th>\n      <td>97e128377c7d0d92f83a3c2e361446bd8e570c1b57b7fc...</td>\n      <td>female</td>\n      <td>4/1940</td>\n      <td>78088</td>\n      <td>PhD/md</td>\n      <td>Retired</td>\n      <td>1</td>\n      <td>married</td>\n      <td>1</td>\n      <td>0.0</td>\n      <td>Rent flat</td>\n      <td>multiple sclerosis</td>\n    </tr>\n    <tr>\n      <th>2</th>\n      <td>2f1d90f629a4ceba4a135fb1f903d62ffc24424a63fcee...</td>\n      <td>female</td>\n      <td>12/1966</td>\n      <td>51502</td>\n      <td>Bachelor</td>\n      <td>Employed</td>\n      <td>1</td>\n      <td>married</td>\n      <td>0</td>\n      <td>0.1</td>\n      <td>Rent flat</td>\n      <td>heart disease</td>\n    </tr>\n    <tr>\n      <th>3</th>\n      <td>d26355db08f6123e10f63cd5e3711719133d6fc746da00...</td>\n      <td>female</td>\n      <td>4/1943</td>\n      <td>54080</td>\n      <td>Bachelor</td>\n      <td>Retired</td>\n      <td>1</td>\n      <td>married</td>\n      <td>0</td>\n      <td>0.0</td>\n      <td>Rent room</td>\n      <td>endometriosis</td>\n    </tr>\n    <tr>\n      <th>4</th>\n      <td>ad39f73e9baf6a40bc384d54bf6ce6465f20fc58e93790...</td>\n      <td>female</td>\n      <td>10/1947</td>\n      <td>68785</td>\n      <td>High School</td>\n      <td>Retired</td>\n      <td>1</td>\n      <td>married</td>\n      <td>0</td>\n      <td>0.0</td>\n      <td>Rent flat</td>\n      <td>gastritis</td>\n    </tr>\n  </tbody>\n</table>\n</div>",
      "text/plain": "                                                  id  gender      dob  \\\n0  1141b567bad57e77d361c1a63e2b7c6071deda204b2e23...  female  12/1950   \n1  97e128377c7d0d92f83a3c2e361446bd8e570c1b57b7fc...  female   4/1940   \n2  2f1d90f629a4ceba4a135fb1f903d62ffc24424a63fcee...  female  12/1966   \n3  d26355db08f6123e10f63cd5e3711719133d6fc746da00...  female   4/1943   \n4  ad39f73e9baf6a40bc384d54bf6ce6465f20fc58e93790...  female  10/1947   \n\n   zipcode    education employment  children marital_status  number_vehicles  \\\n0    26904  High School    Retired         2        married                2   \n1    78088       PhD/md    Retired         1        married                1   \n2    51502     Bachelor   Employed         1        married                0   \n3    54080     Bachelor    Retired         1        married                0   \n4    68785  High School    Retired         1        married                0   \n\n   commute_time accommodation              disease  \n0           0.0     Own house  Alzheimer's disease  \n1           0.0     Rent flat   multiple sclerosis  \n2           0.1     Rent flat        heart disease  \n3           0.0     Rent room        endometriosis  \n4           0.0     Rent flat            gastritis  "
     },
     "execution_count": 19,
     "metadata": {},
     "output_type": "execute_result"
    }
   ],
   "source": [
    "df.head(5)"
   ]
  }
 ],
 "metadata": {
  "kernelspec": {
   "display_name": "Python 3",
   "name": "python3"
  },
  "language_info": {
   "codemirror_mode": {
    "name": "ipython",
    "version": 3
   },
   "file_extension": ".py",
   "mimetype": "text/x-python",
   "name": "python",
   "nbconvert_exporter": "python",
   "pygments_lexer": "ipython3",
   "version": "3.7.6"
  },
  "orig_nbformat": 2
 },
 "nbformat": 4,
 "nbformat_minor": 2
}