{
 "cells": [
  {
   "cell_type": "code",
   "execution_count": 2,
   "metadata": {},
   "outputs": [],
   "source": [
    "import os\n",
    "import hashlib\n",
    "import pandas as pd\n",
    "\n",
    "csv_path = os.path.join(os.curdir, \"datasets\", \"dataset - Privacy-Engineering.csv\")\n",
    "df = pd.read_csv(csv_path)"
   ]
  },
  {
   "cell_type": "code",
   "execution_count": 4,
   "metadata": {},
   "outputs": [
    {
     "data": {
      "text/html": "<div>\n<style scoped>\n    .dataframe tbody tr th:only-of-type {\n        vertical-align: middle;\n    }\n\n    .dataframe tbody tr th {\n        vertical-align: top;\n    }\n\n    .dataframe thead th {\n        text-align: right;\n    }\n</style>\n<table border=\"1\" class=\"dataframe\">\n  <thead>\n    <tr style=\"text-align: right;\">\n      <th></th>\n      <th>id</th>\n      <th>gender</th>\n      <th>dob</th>\n      <th>zipcode</th>\n      <th>education</th>\n      <th>employment</th>\n      <th>children</th>\n      <th>marital_status</th>\n      <th>number_vehicles</th>\n      <th>commute_time</th>\n      <th>accommodation</th>\n      <th>disease</th>\n    </tr>\n  </thead>\n  <tbody>\n    <tr>\n      <th>0</th>\n      <td>Amelia Morrow</td>\n      <td>female</td>\n      <td>12/1950</td>\n      <td>26904</td>\n      <td>High School</td>\n      <td>Retired</td>\n      <td>2</td>\n      <td>married</td>\n      <td>2</td>\n      <td>0.0</td>\n      <td>Own house</td>\n      <td>Alzheimer's disease</td>\n    </tr>\n    <tr>\n      <th>1</th>\n      <td>Lillian Cole</td>\n      <td>female</td>\n      <td>4/1940</td>\n      <td>78088</td>\n      <td>PhD/md</td>\n      <td>Retired</td>\n      <td>1</td>\n      <td>married</td>\n      <td>1</td>\n      <td>0.0</td>\n      <td>Rent flat</td>\n      <td>multiple sclerosis</td>\n    </tr>\n    <tr>\n      <th>2</th>\n      <td>Lillian Simpson</td>\n      <td>female</td>\n      <td>12/1966</td>\n      <td>51502</td>\n      <td>Bachelor</td>\n      <td>Employed</td>\n      <td>1</td>\n      <td>married</td>\n      <td>0</td>\n      <td>0.1</td>\n      <td>Rent flat</td>\n      <td>heart disease</td>\n    </tr>\n    <tr>\n      <th>3</th>\n      <td>Avery Richards</td>\n      <td>female</td>\n      <td>4/1943</td>\n      <td>54080</td>\n      <td>Bachelor</td>\n      <td>Retired</td>\n      <td>1</td>\n      <td>married</td>\n      <td>0</td>\n      <td>0.0</td>\n      <td>Rent room</td>\n      <td>endometriosis</td>\n    </tr>\n    <tr>\n      <th>4</th>\n      <td>Sophia Alvarado</td>\n      <td>female</td>\n      <td>10/1947</td>\n      <td>68785</td>\n      <td>High School</td>\n      <td>Retired</td>\n      <td>1</td>\n      <td>married</td>\n      <td>0</td>\n      <td>0.0</td>\n      <td>Rent flat</td>\n      <td>gastritis</td>\n    </tr>\n  </tbody>\n</table>\n</div>",
      "text/plain": "                id  gender      dob  zipcode    education employment  \\\n0    Amelia Morrow  female  12/1950    26904  High School    Retired   \n1     Lillian Cole  female   4/1940    78088       PhD/md    Retired   \n2  Lillian Simpson  female  12/1966    51502     Bachelor   Employed   \n3   Avery Richards  female   4/1943    54080     Bachelor    Retired   \n4  Sophia Alvarado  female  10/1947    68785  High School    Retired   \n\n   children marital_status  number_vehicles  commute_time accommodation  \\\n0         2        married                2           0.0     Own house   \n1         1        married                1           0.0     Rent flat   \n2         1        married                0           0.1     Rent flat   \n3         1        married                0           0.0     Rent room   \n4         1        married                0           0.0     Rent flat   \n\n               disease  \n0  Alzheimer's disease  \n1   multiple sclerosis  \n2        heart disease  \n3        endometriosis  \n4            gastritis  "
     },
     "execution_count": 4,
     "metadata": {},
     "output_type": "execute_result"
    }
   ],
   "source": [
    "columns_to_drop = [\"ancestry\"]\n",
    "df = df.drop(columns_to_drop, axis=1)\n",
    "df.head(5)"
   ]
  },
  {
   "cell_type": "code",
   "execution_count": 12,
   "metadata": {},
   "outputs": [],
   "source": [
    "def apply_row(r):\n",
    "    return r.apply(lambda x : hashlib.sha512(str(x).encode('utf8')).hexdigest())\n",
    "\n",
    "hashed_df = df.apply(lambda r:apply_row(r), axis=1)"
   ]
  },
  {
   "cell_type": "code",
   "execution_count": 13,
   "metadata": {},
   "outputs": [
    {
     "data": {
      "text/html": "<div>\n<style scoped>\n    .dataframe tbody tr th:only-of-type {\n        vertical-align: middle;\n    }\n\n    .dataframe tbody tr th {\n        vertical-align: top;\n    }\n\n    .dataframe thead th {\n        text-align: right;\n    }\n</style>\n<table border=\"1\" class=\"dataframe\">\n  <thead>\n    <tr style=\"text-align: right;\">\n      <th></th>\n      <th>id</th>\n      <th>gender</th>\n      <th>dob</th>\n      <th>zipcode</th>\n      <th>education</th>\n      <th>employment</th>\n      <th>children</th>\n      <th>marital_status</th>\n      <th>number_vehicles</th>\n      <th>commute_time</th>\n      <th>accommodation</th>\n      <th>disease</th>\n    </tr>\n  </thead>\n  <tbody>\n    <tr>\n      <th>0</th>\n      <td>4638888ac83bb73f619caaaa9bcbf1bb1a23a29eccd4ca...</td>\n      <td>dff8d2c36469557308ca878b4e8583aea4862ed3cec654...</td>\n      <td>9f13517b902de9ce7e738f769ebb40954c32b3a35c76e9...</td>\n      <td>3a06dede5d8db2f2707ba4655893460026743de160b24b...</td>\n      <td>0a4e3f258fcfad31e4d42f3e0d9b3eb3ef562cb6907fd0...</td>\n      <td>db28e565f38ca95aa51a7365a87e7071a262ae3ad355bd...</td>\n      <td>40b244112641dd78dd4f93b6c9190dd46e0099194d5a44...</td>\n      <td>612bbf046fc9c2d7f13bff224c73753d80bb05bd3c60da...</td>\n      <td>40b244112641dd78dd4f93b6c9190dd46e0099194d5a44...</td>\n      <td>bae7abd40654bacb1369448f0a7b0ce638060d15189e9c...</td>\n      <td>bd958efb802f305f41aa0aa6b621bf0942ce521d35c547...</td>\n      <td>fe26d3a712af6043d03e38aacf7c57830d12f9283e8daf...</td>\n    </tr>\n    <tr>\n      <th>1</th>\n      <td>b389c9d8b7e78b73fc74dec5c37258f3d242a0b7116d53...</td>\n      <td>dff8d2c36469557308ca878b4e8583aea4862ed3cec654...</td>\n      <td>19c3d891a6aa38d9e10868170507a25af822d4b303e0db...</td>\n      <td>6888b4bec5acac5440c7038b8e2ad20c24fa333b8ce8f7...</td>\n      <td>72360df5642814ec82cbeb22ec6c5347a1215ff358f8a4...</td>\n      <td>db28e565f38ca95aa51a7365a87e7071a262ae3ad355bd...</td>\n      <td>4dff4ea340f0a823f15d3f4f01ab62eae0e5da579ccb85...</td>\n      <td>612bbf046fc9c2d7f13bff224c73753d80bb05bd3c60da...</td>\n      <td>4dff4ea340f0a823f15d3f4f01ab62eae0e5da579ccb85...</td>\n      <td>bae7abd40654bacb1369448f0a7b0ce638060d15189e9c...</td>\n      <td>d427d41e0fe9597d438e49d6f41cdda307921e01cae2b4...</td>\n      <td>234fb2a771951c29f875e958cd5655a7591b2a89231f25...</td>\n    </tr>\n    <tr>\n      <th>2</th>\n      <td>1c4e87b6064d42d075ef297040601218ef4ffcdd1b3352...</td>\n      <td>dff8d2c36469557308ca878b4e8583aea4862ed3cec654...</td>\n      <td>40e6d896eedb4b8500896d4a018647f332db56b8f39c40...</td>\n      <td>b9b9f3cb806ab45af3bc4270c0c0a680a76b0926ea6892...</td>\n      <td>9ca8816ec4b781c9e77eac34ebb3bc7db23740d0ceebd6...</td>\n      <td>5f8abdb81e5b27435d04366838418ff694825e3b1fb324...</td>\n      <td>4dff4ea340f0a823f15d3f4f01ab62eae0e5da579ccb85...</td>\n      <td>612bbf046fc9c2d7f13bff224c73753d80bb05bd3c60da...</td>\n      <td>31bca02094eb78126a517b206a88c73cfa9ec6f704c703...</td>\n      <td>957f720b6d516c8e273968c9be2ffbe146329c1a11a209...</td>\n      <td>d427d41e0fe9597d438e49d6f41cdda307921e01cae2b4...</td>\n      <td>3b45eeadb776e5a5cbd85f3c8bd15ec0eca6577475b2ab...</td>\n    </tr>\n    <tr>\n      <th>3</th>\n      <td>c6397929f938e655e48170e015246df17dd415da98586b...</td>\n      <td>dff8d2c36469557308ca878b4e8583aea4862ed3cec654...</td>\n      <td>70c57cd3573f50e8347632a7a9ab81f8017e6d7ca60b97...</td>\n      <td>aaf17b03d7eff6d28668cfedf9d1bef645cd01fbfeae3a...</td>\n      <td>9ca8816ec4b781c9e77eac34ebb3bc7db23740d0ceebd6...</td>\n      <td>db28e565f38ca95aa51a7365a87e7071a262ae3ad355bd...</td>\n      <td>4dff4ea340f0a823f15d3f4f01ab62eae0e5da579ccb85...</td>\n      <td>612bbf046fc9c2d7f13bff224c73753d80bb05bd3c60da...</td>\n      <td>31bca02094eb78126a517b206a88c73cfa9ec6f704c703...</td>\n      <td>bae7abd40654bacb1369448f0a7b0ce638060d15189e9c...</td>\n      <td>b23ac24c4fbacd1fe2b7be79e3d7fd860a0351602c4917...</td>\n      <td>f071cdc7f9fe0b7ef15d47a87291fb109747137e48c2cd...</td>\n    </tr>\n    <tr>\n      <th>4</th>\n      <td>8f845858866a4fc9effe5472701a5487a54d7e68e54146...</td>\n      <td>dff8d2c36469557308ca878b4e8583aea4862ed3cec654...</td>\n      <td>3071088f734bbecff2300193232c5f70cf27f117fb5418...</td>\n      <td>300c8b72cd8a42f3c3fda6e459bfa01f783ce6ce91b756...</td>\n      <td>0a4e3f258fcfad31e4d42f3e0d9b3eb3ef562cb6907fd0...</td>\n      <td>db28e565f38ca95aa51a7365a87e7071a262ae3ad355bd...</td>\n      <td>4dff4ea340f0a823f15d3f4f01ab62eae0e5da579ccb85...</td>\n      <td>612bbf046fc9c2d7f13bff224c73753d80bb05bd3c60da...</td>\n      <td>31bca02094eb78126a517b206a88c73cfa9ec6f704c703...</td>\n      <td>bae7abd40654bacb1369448f0a7b0ce638060d15189e9c...</td>\n      <td>d427d41e0fe9597d438e49d6f41cdda307921e01cae2b4...</td>\n      <td>e4896781bf75e3601c160b9b4819c3a3a1c2a0bb369d83...</td>\n    </tr>\n  </tbody>\n</table>\n</div>",
      "text/plain": "                                                  id  \\\n0  4638888ac83bb73f619caaaa9bcbf1bb1a23a29eccd4ca...   \n1  b389c9d8b7e78b73fc74dec5c37258f3d242a0b7116d53...   \n2  1c4e87b6064d42d075ef297040601218ef4ffcdd1b3352...   \n3  c6397929f938e655e48170e015246df17dd415da98586b...   \n4  8f845858866a4fc9effe5472701a5487a54d7e68e54146...   \n\n                                              gender  \\\n0  dff8d2c36469557308ca878b4e8583aea4862ed3cec654...   \n1  dff8d2c36469557308ca878b4e8583aea4862ed3cec654...   \n2  dff8d2c36469557308ca878b4e8583aea4862ed3cec654...   \n3  dff8d2c36469557308ca878b4e8583aea4862ed3cec654...   \n4  dff8d2c36469557308ca878b4e8583aea4862ed3cec654...   \n\n                                                 dob  \\\n0  9f13517b902de9ce7e738f769ebb40954c32b3a35c76e9...   \n1  19c3d891a6aa38d9e10868170507a25af822d4b303e0db...   \n2  40e6d896eedb4b8500896d4a018647f332db56b8f39c40...   \n3  70c57cd3573f50e8347632a7a9ab81f8017e6d7ca60b97...   \n4  3071088f734bbecff2300193232c5f70cf27f117fb5418...   \n\n                                             zipcode  \\\n0  3a06dede5d8db2f2707ba4655893460026743de160b24b...   \n1  6888b4bec5acac5440c7038b8e2ad20c24fa333b8ce8f7...   \n2  b9b9f3cb806ab45af3bc4270c0c0a680a76b0926ea6892...   \n3  aaf17b03d7eff6d28668cfedf9d1bef645cd01fbfeae3a...   \n4  300c8b72cd8a42f3c3fda6e459bfa01f783ce6ce91b756...   \n\n                                           education  \\\n0  0a4e3f258fcfad31e4d42f3e0d9b3eb3ef562cb6907fd0...   \n1  72360df5642814ec82cbeb22ec6c5347a1215ff358f8a4...   \n2  9ca8816ec4b781c9e77eac34ebb3bc7db23740d0ceebd6...   \n3  9ca8816ec4b781c9e77eac34ebb3bc7db23740d0ceebd6...   \n4  0a4e3f258fcfad31e4d42f3e0d9b3eb3ef562cb6907fd0...   \n\n                                          employment  \\\n0  db28e565f38ca95aa51a7365a87e7071a262ae3ad355bd...   \n1  db28e565f38ca95aa51a7365a87e7071a262ae3ad355bd...   \n2  5f8abdb81e5b27435d04366838418ff694825e3b1fb324...   \n3  db28e565f38ca95aa51a7365a87e7071a262ae3ad355bd...   \n4  db28e565f38ca95aa51a7365a87e7071a262ae3ad355bd...   \n\n                                            children  \\\n0  40b244112641dd78dd4f93b6c9190dd46e0099194d5a44...   \n1  4dff4ea340f0a823f15d3f4f01ab62eae0e5da579ccb85...   \n2  4dff4ea340f0a823f15d3f4f01ab62eae0e5da579ccb85...   \n3  4dff4ea340f0a823f15d3f4f01ab62eae0e5da579ccb85...   \n4  4dff4ea340f0a823f15d3f4f01ab62eae0e5da579ccb85...   \n\n                                      marital_status  \\\n0  612bbf046fc9c2d7f13bff224c73753d80bb05bd3c60da...   \n1  612bbf046fc9c2d7f13bff224c73753d80bb05bd3c60da...   \n2  612bbf046fc9c2d7f13bff224c73753d80bb05bd3c60da...   \n3  612bbf046fc9c2d7f13bff224c73753d80bb05bd3c60da...   \n4  612bbf046fc9c2d7f13bff224c73753d80bb05bd3c60da...   \n\n                                     number_vehicles  \\\n0  40b244112641dd78dd4f93b6c9190dd46e0099194d5a44...   \n1  4dff4ea340f0a823f15d3f4f01ab62eae0e5da579ccb85...   \n2  31bca02094eb78126a517b206a88c73cfa9ec6f704c703...   \n3  31bca02094eb78126a517b206a88c73cfa9ec6f704c703...   \n4  31bca02094eb78126a517b206a88c73cfa9ec6f704c703...   \n\n                                        commute_time  \\\n0  bae7abd40654bacb1369448f0a7b0ce638060d15189e9c...   \n1  bae7abd40654bacb1369448f0a7b0ce638060d15189e9c...   \n2  957f720b6d516c8e273968c9be2ffbe146329c1a11a209...   \n3  bae7abd40654bacb1369448f0a7b0ce638060d15189e9c...   \n4  bae7abd40654bacb1369448f0a7b0ce638060d15189e9c...   \n\n                                       accommodation  \\\n0  bd958efb802f305f41aa0aa6b621bf0942ce521d35c547...   \n1  d427d41e0fe9597d438e49d6f41cdda307921e01cae2b4...   \n2  d427d41e0fe9597d438e49d6f41cdda307921e01cae2b4...   \n3  b23ac24c4fbacd1fe2b7be79e3d7fd860a0351602c4917...   \n4  d427d41e0fe9597d438e49d6f41cdda307921e01cae2b4...   \n\n                                             disease  \n0  fe26d3a712af6043d03e38aacf7c57830d12f9283e8daf...  \n1  234fb2a771951c29f875e958cd5655a7591b2a89231f25...  \n2  3b45eeadb776e5a5cbd85f3c8bd15ec0eca6577475b2ab...  \n3  f071cdc7f9fe0b7ef15d47a87291fb109747137e48c2cd...  \n4  e4896781bf75e3601c160b9b4819c3a3a1c2a0bb369d83...  "
     },
     "execution_count": 13,
     "metadata": {},
     "output_type": "execute_result"
    }
   ],
   "source": [
    "hashed_df.head(5)"
   ]
  }
 ],
 "metadata": {
  "kernelspec": {
   "display_name": "Python 3",
   "name": "python3"
  },
  "language_info": {
   "codemirror_mode": {
    "name": "ipython",
    "version": 3
   },
   "file_extension": ".py",
   "mimetype": "text/x-python",
   "name": "python",
   "nbconvert_exporter": "python",
   "pygments_lexer": "ipython3",
   "version": "3.7.6"
  },
  "orig_nbformat": 2
 },
 "nbformat": 4,
 "nbformat_minor": 2
}