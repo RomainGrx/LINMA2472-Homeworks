{
 "cells": [
  {
   "cell_type": "code",
   "execution_count": 48,
   "metadata": {},
   "outputs": [],
   "source": [
    "import os\n",
    "import hashlib\n",
    "import pandas as pd\n",
    "import numpy as np\n",
    "from collections import Counter\n",
    "import math, statistics\n",
    "\n",
    "csv_path = os.path.join(os.curdir, \"datasets\", \"dataset - Privacy-Engineering.csv\")\n",
    "zip_path = os.path.join(os.curdir, \"datasets\", \"matched_zips.csv\")\n",
    "\n",
    "df = pd.read_csv(csv_path)\n",
    "df_zip = pd.read_csv(zip_path, dtype={\"zip\": 'string'})\n",
    "matched_zips = df_zip.set_index('zip')['state'].to_dict()"
   ]
  },
  {
   "cell_type": "code",
   "execution_count": 49,
   "metadata": {},
   "outputs": [],
   "source": [
    "columns_to_drop = [\"ancestry\"]\n",
    "df = df.drop(columns_to_drop, axis=1)"
   ]
  },
  {
   "cell_type": "code",
   "execution_count": 50,
   "metadata": {},
   "outputs": [],
   "source": [
    "salt = b\"\\x91\\xff=s\\x18?JH\\x940\\xf1$wN\\xa4\\xbf\\x9f\\xcdi\\x8c\\xa2\\xf3\\xe3I\\xeb\\xf4\\x1f\\xc0y\\x94\\x84\\xa8\"\n",
    "\n",
    "def pseudoAnonymisation(i, row):\n",
    "    name, sex, dob, *rest = row\n",
    "    hashed = hashlib.sha512(str(name+sex+dob).encode() + salt).hexdigest()\n",
    "    df.loc[i] = [hashed, sex, dob, *rest]\n",
    "\n",
    "for i, row in df.iterrows(): pseudoAnonymisation(i, row)"
   ]
  },
  {
   "cell_type": "code",
   "execution_count": 52,
   "metadata": {},
   "outputs": [
    {
     "output_type": "execute_result",
     "data": {
      "text/plain": [
       "                                                  id  gender      dob  \\\n",
       "0  1df0ffe53bf3f9f933b262768d89fe91254c17f97b6479...  female  12/1950   \n",
       "1  8500bd676f3124a12cbcc212c4d01f7f3e79705df4d0e1...  female   4/1940   \n",
       "2  235ce4408c70dc7edae44b052edb154c658c710176c882...  female  12/1966   \n",
       "3  e6c07ae522682aea1d375f0bfa33f85a3340baef3aea9c...  female   4/1943   \n",
       "4  c09207b520ed7d82c04eee506c6be57bcfe3df62598461...  female  10/1947   \n",
       "\n",
       "   zipcode    education employment  children marital_status  number_vehicles  \\\n",
       "0    26904  High School    Retired         2        married                2   \n",
       "1    78088       PhD/md    Retired         1        married                1   \n",
       "2    51502     Bachelor   Employed         1        married                0   \n",
       "3    54080     Bachelor    Retired         1        married                0   \n",
       "4    68785  High School    Retired         1        married                0   \n",
       "\n",
       "   commute_time accommodation              disease  \n",
       "0           0.0     Own house  Alzheimer's disease  \n",
       "1           0.0     Rent flat   multiple sclerosis  \n",
       "2           0.1     Rent flat        heart disease  \n",
       "3           0.0     Rent room        endometriosis  \n",
       "4           0.0     Rent flat            gastritis  "
      ],
      "text/html": "<div>\n<style scoped>\n    .dataframe tbody tr th:only-of-type {\n        vertical-align: middle;\n    }\n\n    .dataframe tbody tr th {\n        vertical-align: top;\n    }\n\n    .dataframe thead th {\n        text-align: right;\n    }\n</style>\n<table border=\"1\" class=\"dataframe\">\n  <thead>\n    <tr style=\"text-align: right;\">\n      <th></th>\n      <th>id</th>\n      <th>gender</th>\n      <th>dob</th>\n      <th>zipcode</th>\n      <th>education</th>\n      <th>employment</th>\n      <th>children</th>\n      <th>marital_status</th>\n      <th>number_vehicles</th>\n      <th>commute_time</th>\n      <th>accommodation</th>\n      <th>disease</th>\n    </tr>\n  </thead>\n  <tbody>\n    <tr>\n      <th>0</th>\n      <td>1df0ffe53bf3f9f933b262768d89fe91254c17f97b6479...</td>\n      <td>female</td>\n      <td>12/1950</td>\n      <td>26904</td>\n      <td>High School</td>\n      <td>Retired</td>\n      <td>2</td>\n      <td>married</td>\n      <td>2</td>\n      <td>0.0</td>\n      <td>Own house</td>\n      <td>Alzheimer's disease</td>\n    </tr>\n    <tr>\n      <th>1</th>\n      <td>8500bd676f3124a12cbcc212c4d01f7f3e79705df4d0e1...</td>\n      <td>female</td>\n      <td>4/1940</td>\n      <td>78088</td>\n      <td>PhD/md</td>\n      <td>Retired</td>\n      <td>1</td>\n      <td>married</td>\n      <td>1</td>\n      <td>0.0</td>\n      <td>Rent flat</td>\n      <td>multiple sclerosis</td>\n    </tr>\n    <tr>\n      <th>2</th>\n      <td>235ce4408c70dc7edae44b052edb154c658c710176c882...</td>\n      <td>female</td>\n      <td>12/1966</td>\n      <td>51502</td>\n      <td>Bachelor</td>\n      <td>Employed</td>\n      <td>1</td>\n      <td>married</td>\n      <td>0</td>\n      <td>0.1</td>\n      <td>Rent flat</td>\n      <td>heart disease</td>\n    </tr>\n    <tr>\n      <th>3</th>\n      <td>e6c07ae522682aea1d375f0bfa33f85a3340baef3aea9c...</td>\n      <td>female</td>\n      <td>4/1943</td>\n      <td>54080</td>\n      <td>Bachelor</td>\n      <td>Retired</td>\n      <td>1</td>\n      <td>married</td>\n      <td>0</td>\n      <td>0.0</td>\n      <td>Rent room</td>\n      <td>endometriosis</td>\n    </tr>\n    <tr>\n      <th>4</th>\n      <td>c09207b520ed7d82c04eee506c6be57bcfe3df62598461...</td>\n      <td>female</td>\n      <td>10/1947</td>\n      <td>68785</td>\n      <td>High School</td>\n      <td>Retired</td>\n      <td>1</td>\n      <td>married</td>\n      <td>0</td>\n      <td>0.0</td>\n      <td>Rent flat</td>\n      <td>gastritis</td>\n    </tr>\n  </tbody>\n</table>\n</div>"
     },
     "metadata": {},
     "execution_count": 52
    }
   ],
   "source": [
    "df.head()"
   ]
  },
  {
   "cell_type": "code",
   "execution_count": 53,
   "metadata": {},
   "outputs": [],
   "source": [
    "def find_state(zip_code):\n",
    "    res = matched_zips.get(str(zip_code)[0:3])\n",
    "    if res is None: return \"Unknown\"\n",
    "    return res\n",
    "\n",
    "df['state'] = df.zipcode.apply(find_state)\n",
    "df = df.drop(\"zipcode\", axis=1)"
   ]
  },
  {
   "cell_type": "code",
   "execution_count": 54,
   "metadata": {},
   "outputs": [],
   "source": [
    "def more_than_2_children(x):\n",
    "    if isinstance(x, str): return x\n",
    "    elif x == 0: return '0'\n",
    "    elif x == 1: return '1'\n",
    "    elif x > 1: return '2+'\n",
    "\n",
    "def has_child(childs):\n",
    "    if childs == 0: return False\n",
    "    return True\n",
    "\n",
    "def more_than_1_hour(x):\n",
    "    if isinstance(x, str): return x\n",
    "    elif x == 0.0: return '0'\n",
    "    elif x <= 1.0: return '[0-1]'\n",
    "    elif x > 1.0: return '1+'\n",
    "\n",
    "def change_accom(accomod):\n",
    "    how, _ = accomod.split(' ')\n",
    "    return how\n",
    "\n",
    "def change_education(educ):\n",
    "    if educ == \"PhD/md\" or educ == \"Masters\": return \"Masters and higher\"\n",
    "    return educ\n",
    "\n",
    "def change_dob(dob):\n",
    "    _, year = dob.split('/')\n",
    "    year = int(year)\n",
    "    while year % 3 != 0: year -= 1\n",
    "    return f\"[{year} - {year+2}]\"\n",
    "\n",
    "df.dob = df.dob.apply(change_dob)\n",
    "\n",
    "df.accommodation = df.accommodation.apply(change_accom)\n",
    "df.education = df.education.apply(change_education)\n",
    "# df.children=df.children.apply(more_than_2_children)\n",
    "\n",
    "df.children=df.children.apply(has_child)\n",
    "\n",
    "df.commute_time=df.commute_time.apply(more_than_1_hour)"
   ]
  },
  {
   "cell_type": "code",
   "execution_count": 55,
   "metadata": {},
   "outputs": [],
   "source": [
    "def entropy(C, N=2000): return round(- sum([(ci/N) * math.log(ci/N, 2) for i,ci in enumerate(C)]),4)\n",
    "# Max : 11"
   ]
  },
  {
   "cell_type": "code",
   "execution_count": 56,
   "metadata": {},
   "outputs": [
    {
     "output_type": "execute_result",
     "data": {
      "text/plain": [
       "                                                  id  gender            dob  \\\n",
       "0  1df0ffe53bf3f9f933b262768d89fe91254c17f97b6479...  female  [1950 - 1952]   \n",
       "1  8500bd676f3124a12cbcc212c4d01f7f3e79705df4d0e1...  female  [1938 - 1940]   \n",
       "2  235ce4408c70dc7edae44b052edb154c658c710176c882...  female  [1965 - 1967]   \n",
       "3  e6c07ae522682aea1d375f0bfa33f85a3340baef3aea9c...  female  [1941 - 1943]   \n",
       "4  c09207b520ed7d82c04eee506c6be57bcfe3df62598461...  female  [1947 - 1949]   \n",
       "\n",
       "            education employment  children marital_status  number_vehicles  \\\n",
       "0         High School    Retired      True        married                2   \n",
       "1  Masters and higher    Retired      True        married                1   \n",
       "2            Bachelor   Employed      True        married                0   \n",
       "3            Bachelor    Retired      True        married                0   \n",
       "4         High School    Retired      True        married                0   \n",
       "\n",
       "  commute_time accommodation              disease           state  \n",
       "0            0           Own  Alzheimer's disease         Unknown  \n",
       "1            0          Rent   multiple sclerosis      (TX) Texas  \n",
       "2        [0-1]          Rent        heart disease       (IA) Iowa  \n",
       "3            0          Rent        endometriosis  (WI) Wisconsin  \n",
       "4            0          Rent            gastritis   (NE) Nebraska  "
      ],
      "text/html": "<div>\n<style scoped>\n    .dataframe tbody tr th:only-of-type {\n        vertical-align: middle;\n    }\n\n    .dataframe tbody tr th {\n        vertical-align: top;\n    }\n\n    .dataframe thead th {\n        text-align: right;\n    }\n</style>\n<table border=\"1\" class=\"dataframe\">\n  <thead>\n    <tr style=\"text-align: right;\">\n      <th></th>\n      <th>id</th>\n      <th>gender</th>\n      <th>dob</th>\n      <th>education</th>\n      <th>employment</th>\n      <th>children</th>\n      <th>marital_status</th>\n      <th>number_vehicles</th>\n      <th>commute_time</th>\n      <th>accommodation</th>\n      <th>disease</th>\n      <th>state</th>\n    </tr>\n  </thead>\n  <tbody>\n    <tr>\n      <th>0</th>\n      <td>1df0ffe53bf3f9f933b262768d89fe91254c17f97b6479...</td>\n      <td>female</td>\n      <td>[1950 - 1952]</td>\n      <td>High School</td>\n      <td>Retired</td>\n      <td>True</td>\n      <td>married</td>\n      <td>2</td>\n      <td>0</td>\n      <td>Own</td>\n      <td>Alzheimer's disease</td>\n      <td>Unknown</td>\n    </tr>\n    <tr>\n      <th>1</th>\n      <td>8500bd676f3124a12cbcc212c4d01f7f3e79705df4d0e1...</td>\n      <td>female</td>\n      <td>[1938 - 1940]</td>\n      <td>Masters and higher</td>\n      <td>Retired</td>\n      <td>True</td>\n      <td>married</td>\n      <td>1</td>\n      <td>0</td>\n      <td>Rent</td>\n      <td>multiple sclerosis</td>\n      <td>(TX) Texas</td>\n    </tr>\n    <tr>\n      <th>2</th>\n      <td>235ce4408c70dc7edae44b052edb154c658c710176c882...</td>\n      <td>female</td>\n      <td>[1965 - 1967]</td>\n      <td>Bachelor</td>\n      <td>Employed</td>\n      <td>True</td>\n      <td>married</td>\n      <td>0</td>\n      <td>[0-1]</td>\n      <td>Rent</td>\n      <td>heart disease</td>\n      <td>(IA) Iowa</td>\n    </tr>\n    <tr>\n      <th>3</th>\n      <td>e6c07ae522682aea1d375f0bfa33f85a3340baef3aea9c...</td>\n      <td>female</td>\n      <td>[1941 - 1943]</td>\n      <td>Bachelor</td>\n      <td>Retired</td>\n      <td>True</td>\n      <td>married</td>\n      <td>0</td>\n      <td>0</td>\n      <td>Rent</td>\n      <td>endometriosis</td>\n      <td>(WI) Wisconsin</td>\n    </tr>\n    <tr>\n      <th>4</th>\n      <td>c09207b520ed7d82c04eee506c6be57bcfe3df62598461...</td>\n      <td>female</td>\n      <td>[1947 - 1949]</td>\n      <td>High School</td>\n      <td>Retired</td>\n      <td>True</td>\n      <td>married</td>\n      <td>0</td>\n      <td>0</td>\n      <td>Rent</td>\n      <td>gastritis</td>\n      <td>(NE) Nebraska</td>\n    </tr>\n  </tbody>\n</table>\n</div>"
     },
     "metadata": {},
     "execution_count": 56
    }
   ],
   "source": [
    "df.head()"
   ]
  },
  {
   "cell_type": "code",
   "execution_count": 57,
   "metadata": {},
   "outputs": [
    {
     "output_type": "stream",
     "name": "stderr",
     "text": [
      "100%|██████████| 5/5 [00:00<00:00, 31.33it/s]\n"
     ]
    }
   ],
   "source": [
    "from itertools import *\n",
    "from tqdm import tqdm\n",
    "\n",
    "# Compute all possibilities\n",
    "covariates = [\"education\", \"gender\", \"marital_status\", \"number_vehicles\", \"accommodation\"]\n",
    "\n",
    "results = []\n",
    "\n",
    "for c in tqdm(range(1, len(covariates)+1)):\n",
    "    for used in combinations(covariates, c):\n",
    "        used = used + (\"employment\", \"children\", \"commute_time\")\n",
    "        used = list(used)\n",
    "        ct = df.groupby(used).size().to_frame(\"count\")\n",
    "        len_groups = len(ct)\n",
    "        len_unique = sum(ct['count'] < 2)\n",
    "\n",
    "        C = ct['count'].to_numpy()\n",
    "        CR = C[C > 1]\n",
    "\n",
    "        size_cr = 2000-len_unique\n",
    "\n",
    "        entropy_full = entropy(C)\n",
    "        entropy_cut = entropy(CR, size_cr)\n",
    "\n",
    "        results.append(\n",
    "            {\n",
    "                \"used\": used,\n",
    "                \"len_groups\": len_groups,\n",
    "                \"len_unique\": len_unique,\n",
    "                \"diff\": size_cr,\n",
    "                \"entropy_full\": entropy_full,\n",
    "                \"entropy_cut\": entropy_cut\n",
    "            }\n",
    "        )"
   ]
  },
  {
   "cell_type": "code",
   "execution_count": 58,
   "metadata": {},
   "outputs": [],
   "source": [
    "results_sort = sorted(results, key=lambda x: (x['entropy_cut'], x['diff'], x['len_groups'],   x['entropy_full'], ), reverse=True)"
   ]
  },
  {
   "cell_type": "code",
   "execution_count": 59,
   "metadata": {},
   "outputs": [],
   "source": [
    "# import csv\n",
    "\n",
    "# with open(os.path.join(os.curdir, \"datasets\", \"entropy_results.csv\"), \"w\", newline='') as out:\n",
    "#     dict_writer = csv.DictWriter(out, results_sort[0].keys())\n",
    "#     dict_writer.writeheader()\n",
    "#     dict_writer.writerows(results_sort)"
   ]
  },
  {
   "cell_type": "code",
   "execution_count": 60,
   "metadata": {},
   "outputs": [],
   "source": [
    "results_filter = [ dic for dic in results_sort if dic.get('len_unique') < 150 and dic.get('entropy_full') > 5]    \n",
    "results_filter_sorted = sorted(results_filter, key=lambda x: x['entropy_cut'], reverse=True)"
   ]
  },
  {
   "cell_type": "code",
   "execution_count": 61,
   "metadata": {},
   "outputs": [
    {
     "output_type": "execute_result",
     "data": {
      "text/plain": [
       "[{'used': ['education',\n",
       "   'gender',\n",
       "   'marital_status',\n",
       "   'accommodation',\n",
       "   'employment',\n",
       "   'children',\n",
       "   'commute_time'],\n",
       "  'len_groups': 361,\n",
       "  'len_unique': 147,\n",
       "  'diff': 1853,\n",
       "  'entropy_full': 7.4561,\n",
       "  'entropy_cut': 7.0676},\n",
       " {'used': ['education',\n",
       "   'gender',\n",
       "   'number_vehicles',\n",
       "   'accommodation',\n",
       "   'employment',\n",
       "   'children',\n",
       "   'commute_time'],\n",
       "  'len_groups': 343,\n",
       "  'len_unique': 138,\n",
       "  'diff': 1862,\n",
       "  'entropy_full': 7.3307,\n",
       "  'entropy_cut': 6.9581},\n",
       " {'used': ['education',\n",
       "   'marital_status',\n",
       "   'number_vehicles',\n",
       "   'employment',\n",
       "   'children',\n",
       "   'commute_time'],\n",
       "  'len_groups': 309,\n",
       "  'len_unique': 113,\n",
       "  'diff': 1887,\n",
       "  'entropy_full': 7.1426,\n",
       "  'entropy_cut': 6.8298},\n",
       " {'used': ['education',\n",
       "   'gender',\n",
       "   'number_vehicles',\n",
       "   'employment',\n",
       "   'children',\n",
       "   'commute_time'],\n",
       "  'len_groups': 230,\n",
       "  'len_unique': 59,\n",
       "  'diff': 1941,\n",
       "  'entropy_full': 6.8563,\n",
       "  'entropy_cut': 6.6881},\n",
       " {'used': ['gender',\n",
       "   'marital_status',\n",
       "   'number_vehicles',\n",
       "   'accommodation',\n",
       "   'employment',\n",
       "   'children',\n",
       "   'commute_time'],\n",
       "  'len_groups': 328,\n",
       "  'len_unique': 148,\n",
       "  'diff': 1852,\n",
       "  'entropy_full': 7.0456,\n",
       "  'entropy_cut': 6.6214}]"
      ]
     },
     "metadata": {},
     "execution_count": 61
    }
   ],
   "source": [
    "# Best ?\n",
    "results_filter_sorted[0:5]"
   ]
  },
  {
   "cell_type": "code",
   "execution_count": 63,
   "metadata": {},
   "outputs": [
    {
     "output_type": "stream",
     "name": "stdout",
     "text": [
      "[106, 202, 227, 873, 917]\n"
     ]
    }
   ],
   "source": [
    "g = [\"education\", \"gender\", \"number_vehicles\", \"accommodation\", \"employment\", \"children\", \"commute_time\"]\n",
    "\n",
    "# Demandez pas pourquoi les noms sont ct..\n",
    "# ct = df.groupby(g).size().to_frame(\"count\")\n",
    "ctt = df[df.duplicated(g, keep=False)].sort_values(by=g) # Enlève ceux qui sont uniques (sans disease pris en compte)\n",
    "\n",
    "g2 = g.copy()\n",
    "g2.append(\"disease\")\n",
    "\n",
    "g3 = []\n",
    "cttt = ctt.groupby(g2).size().to_frame(\"count\") # disease inclus\n",
    "\n",
    "\n",
    "def checkForUnique(grouped_frame):\n",
    "    checked = {}    \n",
    "    for i,row in enumerate(grouped_frame.iterrows()):\n",
    "        *identifiers, _ = row[0] \n",
    "        identifiers = ':'.join([str(iden) for iden in identifiers])\n",
    "        if identifiers in checked:\n",
    "            if checked.get(identifiers).get(\"found\") is True: continue\n",
    "            else : checked[identifiers][\"found\"] = True\n",
    "        else: checked[identifiers] = {\"found\": False, \"index\": i+2}\n",
    "    return checked\n",
    "\n",
    "false_checked = [ v.get('index') for k,v in checkForUnique(cttt).items() if v.get(\"found\") == False]\n",
    "print(false_checked)\n",
    "\n",
    "g_final = [\"id\", \"gender\", \"education\", \"employment\", \"children\", \"number_vehicles\", \"commute_time\", \"accommodation\", \"disease\"]\n",
    "base_1 = ctt[g_final].reset_index().drop(index=false_checked) # enlève ceux qui sont pas bon pour le l-diversity\n",
    "base_1 = base_1.drop(columns=[\"index\"])\n",
    "\n",
    "# base_1.to_csv(os.path.join(os.curdir, \"datasets\", \"final\", \"base_1_sorted.csv\"), index=False)\n",
    "# base_1.sort_values(by=\"id\").to_csv(os.path.join(os.curdir, \"datasets\", \"final\", \"base_1_final.csv\"), index=False)"
   ]
  }
 ],
 "metadata": {
  "kernelspec": {
   "display_name": "Python 3",
   "name": "python3"
  },
  "language_info": {
   "codemirror_mode": {
    "name": "ipython",
    "version": 3
   },
   "file_extension": ".py",
   "mimetype": "text/x-python",
   "name": "python",
   "nbconvert_exporter": "python",
   "pygments_lexer": "ipython3",
   "version": "3.8.3-final"
  },
  "orig_nbformat": 2
 },
 "nbformat": 4,
 "nbformat_minor": 2
}