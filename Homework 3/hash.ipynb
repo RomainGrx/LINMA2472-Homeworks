{
 "cells": [
  {
   "cell_type": "code",
   "execution_count": 50,
   "metadata": {},
   "outputs": [],
   "source": [
    "import os\n",
    "import hashlib\n",
    "import pandas as pd\n",
    "\n",
    "csv_path = os.path.join(os.curdir, \"datasets\", \"dataset - Privacy-Engineering.csv\")\n",
    "df = pd.read_csv(csv_path)"
   ]
  },
  {
   "cell_type": "code",
   "execution_count": 51,
   "metadata": {},
   "outputs": [],
   "source": [
    "columns_to_drop = [\"ancestry\"]\n",
    "df = df.drop(columns_to_drop, axis=1)"
   ]
  },
  {
   "cell_type": "code",
   "execution_count": 52,
   "metadata": {},
   "outputs": [],
   "source": [
    "salt = b\"\\x91\\xff=s\\x18?JH\\x940\\xf1$wN\\xa4\\xbf\\x9f\\xcdi\\x8c\\xa2\\xf3\\xe3I\\xeb\\xf4\\x1f\\xc0y\\x94\\x84\\xa8\"\n",
    "\n",
    "df.id = df.id.apply(lambda x : hashlib.sha512(str(x).encode() + salt).hexdigest())"
   ]
  },
  {
   "cell_type": "code",
   "execution_count": 53,
   "metadata": {},
   "outputs": [],
   "source": [
    "def more_than_2_children(x):\n",
    "    if isinstance(x, str): return x\n",
    "    elif x == 0: return '0'\n",
    "    elif x == 1: return '1'\n",
    "    elif x > 1: return '2+'\n",
    "\n",
    "df.children=df.children.apply(more_than_2_children)"
   ]
  },
  {
   "cell_type": "code",
   "execution_count": 54,
   "metadata": {},
   "outputs": [],
   "source": [
    "def more_than_1_hour(x):\n",
    "    if isinstance(x, str): return x\n",
    "    elif x == 0.0: return '0'\n",
    "    elif x <= 1.0: return '1.0-'\n",
    "    elif x > 1.0: return '+1.0'\n",
    "\n",
    "df.commute_time=df.commute_time.apply(more_than_1_hour)"
   ]
  },
  {
   "cell_type": "code",
   "execution_count": 55,
   "metadata": {},
   "outputs": [],
   "source": [
    "def get_year_ob(x):\n",
    "    y=x.split('/')\n",
    "    return y[1]\n",
    "df.dob=df.dob.apply(get_year_ob)"
   ]
  },
  {
   "cell_type": "code",
   "execution_count": 56,
   "metadata": {},
   "outputs": [
    {
     "output_type": "execute_result",
     "data": {
      "text/plain": [
       "                                                  id  gender   dob  zipcode  \\\n",
       "0  97eb7a57528a1baea5a7be646149f9d75cc53f3c5ba87f...  female  1950    26904   \n",
       "1  730151ea90e546b7b8fe5911d91ac943a9095ebb6691ba...  female  1940    78088   \n",
       "2  ef150a1bf99c1188ff526b1408d959e2cdb1729c4f1153...  female  1966    51502   \n",
       "3  d9240d1730615fa39e50b22de35439c79814e162454e9e...  female  1943    54080   \n",
       "4  a445d7cdb7efbbc10c59a27331869c8151ddb55313fcd0...  female  1947    68785   \n",
       "\n",
       "     education employment children marital_status  number_vehicles  \\\n",
       "0  High School    Retired       2+        married                2   \n",
       "1       PhD/md    Retired        1        married                1   \n",
       "2     Bachelor   Employed        1        married                0   \n",
       "3     Bachelor    Retired        1        married                0   \n",
       "4  High School    Retired        1        married                0   \n",
       "\n",
       "  commute_time accommodation              disease  \n",
       "0            0     Own house  Alzheimer's disease  \n",
       "1            0     Rent flat   multiple sclerosis  \n",
       "2         1.0-     Rent flat        heart disease  \n",
       "3            0     Rent room        endometriosis  \n",
       "4            0     Rent flat            gastritis  "
      ],
      "text/html": "<div>\n<style scoped>\n    .dataframe tbody tr th:only-of-type {\n        vertical-align: middle;\n    }\n\n    .dataframe tbody tr th {\n        vertical-align: top;\n    }\n\n    .dataframe thead th {\n        text-align: right;\n    }\n</style>\n<table border=\"1\" class=\"dataframe\">\n  <thead>\n    <tr style=\"text-align: right;\">\n      <th></th>\n      <th>id</th>\n      <th>gender</th>\n      <th>dob</th>\n      <th>zipcode</th>\n      <th>education</th>\n      <th>employment</th>\n      <th>children</th>\n      <th>marital_status</th>\n      <th>number_vehicles</th>\n      <th>commute_time</th>\n      <th>accommodation</th>\n      <th>disease</th>\n    </tr>\n  </thead>\n  <tbody>\n    <tr>\n      <th>0</th>\n      <td>97eb7a57528a1baea5a7be646149f9d75cc53f3c5ba87f...</td>\n      <td>female</td>\n      <td>1950</td>\n      <td>26904</td>\n      <td>High School</td>\n      <td>Retired</td>\n      <td>2+</td>\n      <td>married</td>\n      <td>2</td>\n      <td>0</td>\n      <td>Own house</td>\n      <td>Alzheimer's disease</td>\n    </tr>\n    <tr>\n      <th>1</th>\n      <td>730151ea90e546b7b8fe5911d91ac943a9095ebb6691ba...</td>\n      <td>female</td>\n      <td>1940</td>\n      <td>78088</td>\n      <td>PhD/md</td>\n      <td>Retired</td>\n      <td>1</td>\n      <td>married</td>\n      <td>1</td>\n      <td>0</td>\n      <td>Rent flat</td>\n      <td>multiple sclerosis</td>\n    </tr>\n    <tr>\n      <th>2</th>\n      <td>ef150a1bf99c1188ff526b1408d959e2cdb1729c4f1153...</td>\n      <td>female</td>\n      <td>1966</td>\n      <td>51502</td>\n      <td>Bachelor</td>\n      <td>Employed</td>\n      <td>1</td>\n      <td>married</td>\n      <td>0</td>\n      <td>1.0-</td>\n      <td>Rent flat</td>\n      <td>heart disease</td>\n    </tr>\n    <tr>\n      <th>3</th>\n      <td>d9240d1730615fa39e50b22de35439c79814e162454e9e...</td>\n      <td>female</td>\n      <td>1943</td>\n      <td>54080</td>\n      <td>Bachelor</td>\n      <td>Retired</td>\n      <td>1</td>\n      <td>married</td>\n      <td>0</td>\n      <td>0</td>\n      <td>Rent room</td>\n      <td>endometriosis</td>\n    </tr>\n    <tr>\n      <th>4</th>\n      <td>a445d7cdb7efbbc10c59a27331869c8151ddb55313fcd0...</td>\n      <td>female</td>\n      <td>1947</td>\n      <td>68785</td>\n      <td>High School</td>\n      <td>Retired</td>\n      <td>1</td>\n      <td>married</td>\n      <td>0</td>\n      <td>0</td>\n      <td>Rent flat</td>\n      <td>gastritis</td>\n    </tr>\n  </tbody>\n</table>\n</div>"
     },
     "metadata": {},
     "execution_count": 56
    }
   ],
   "source": [
    "df.head(5)"
   ]
  },
  {
   "cell_type": "code",
   "execution_count": null,
   "metadata": {},
   "outputs": [],
   "source": []
  }
 ],
 "metadata": {
  "kernelspec": {
   "display_name": "Python 3",
   "name": "python3"
  },
  "language_info": {
   "codemirror_mode": {
    "name": "ipython",
    "version": 3
   },
   "file_extension": ".py",
   "mimetype": "text/x-python",
   "name": "python",
   "nbconvert_exporter": "python",
   "pygments_lexer": "ipython3",
   "version": "3.8.6-final"
  },
  "orig_nbformat": 2
 },
 "nbformat": 4,
 "nbformat_minor": 2
}