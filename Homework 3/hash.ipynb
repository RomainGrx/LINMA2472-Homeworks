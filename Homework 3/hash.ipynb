{
 "cells": [
  {
   "cell_type": "code",
   "execution_count": 6,
   "metadata": {},
   "outputs": [],
   "source": [
    "import os\n",
    "import hashlib\n",
    "import pandas as pd\n",
    "import numpy as np\n",
    "from collections import Counter\n",
    "import math, statistics\n",
    "\n",
    "csv_path = os.path.join(os.curdir, \"datasets\", \"dataset - Privacy-Engineering.csv\")\n",
    "zip_path = os.path.join(os.curdir, \"datasets\", \"matched_zips.csv\")\n",
    "\n",
    "df = pd.read_csv(csv_path)\n",
    "df_zip = pd.read_csv(zip_path, dtype={\"zip\": 'string'})\n",
    "matched_zips = df_zip.set_index('zip')['state'].to_dict()"
   ]
  },
  {
   "cell_type": "code",
   "execution_count": 7,
   "metadata": {},
   "outputs": [],
   "source": [
    "columns_to_drop = [\"ancestry\"]\n",
    "df = df.drop(columns_to_drop, axis=1)"
   ]
  },
  {
   "cell_type": "code",
   "execution_count": 8,
   "metadata": {},
   "outputs": [],
   "source": [
    "salt = b\"\\x91\\xff=s\\x18?JH\\x940\\xf1$wN\\xa4\\xbf\\x9f\\xcdi\\x8c\\xa2\\xf3\\xe3I\\xeb\\xf4\\x1f\\xc0y\\x94\\x84\\xa8\"\n",
    "\n",
    "df.id = df.id.apply(lambda x : hashlib.sha512(str(x).encode() + salt).hexdigest())\n",
    "df.dob = df.dob.apply(lambda x : x.split(\"/\")[1])"
   ]
  },
  {
   "cell_type": "code",
   "execution_count": 9,
   "metadata": {},
   "outputs": [
    {
     "output_type": "execute_result",
     "data": {
      "text/plain": [
       "                                                  id  gender   dob  zipcode  \\\n",
       "0  97eb7a57528a1baea5a7be646149f9d75cc53f3c5ba87f...  female  1950    26904   \n",
       "1  730151ea90e546b7b8fe5911d91ac943a9095ebb6691ba...  female  1940    78088   \n",
       "2  ef150a1bf99c1188ff526b1408d959e2cdb1729c4f1153...  female  1966    51502   \n",
       "3  d9240d1730615fa39e50b22de35439c79814e162454e9e...  female  1943    54080   \n",
       "4  a445d7cdb7efbbc10c59a27331869c8151ddb55313fcd0...  female  1947    68785   \n",
       "\n",
       "     education employment  children marital_status  number_vehicles  \\\n",
       "0  High School    Retired         2        married                2   \n",
       "1       PhD/md    Retired         1        married                1   \n",
       "2     Bachelor   Employed         1        married                0   \n",
       "3     Bachelor    Retired         1        married                0   \n",
       "4  High School    Retired         1        married                0   \n",
       "\n",
       "   commute_time accommodation              disease  \n",
       "0           0.0     Own house  Alzheimer's disease  \n",
       "1           0.0     Rent flat   multiple sclerosis  \n",
       "2           0.1     Rent flat        heart disease  \n",
       "3           0.0     Rent room        endometriosis  \n",
       "4           0.0     Rent flat            gastritis  "
      ],
      "text/html": "<div>\n<style scoped>\n    .dataframe tbody tr th:only-of-type {\n        vertical-align: middle;\n    }\n\n    .dataframe tbody tr th {\n        vertical-align: top;\n    }\n\n    .dataframe thead th {\n        text-align: right;\n    }\n</style>\n<table border=\"1\" class=\"dataframe\">\n  <thead>\n    <tr style=\"text-align: right;\">\n      <th></th>\n      <th>id</th>\n      <th>gender</th>\n      <th>dob</th>\n      <th>zipcode</th>\n      <th>education</th>\n      <th>employment</th>\n      <th>children</th>\n      <th>marital_status</th>\n      <th>number_vehicles</th>\n      <th>commute_time</th>\n      <th>accommodation</th>\n      <th>disease</th>\n    </tr>\n  </thead>\n  <tbody>\n    <tr>\n      <th>0</th>\n      <td>97eb7a57528a1baea5a7be646149f9d75cc53f3c5ba87f...</td>\n      <td>female</td>\n      <td>1950</td>\n      <td>26904</td>\n      <td>High School</td>\n      <td>Retired</td>\n      <td>2</td>\n      <td>married</td>\n      <td>2</td>\n      <td>0.0</td>\n      <td>Own house</td>\n      <td>Alzheimer's disease</td>\n    </tr>\n    <tr>\n      <th>1</th>\n      <td>730151ea90e546b7b8fe5911d91ac943a9095ebb6691ba...</td>\n      <td>female</td>\n      <td>1940</td>\n      <td>78088</td>\n      <td>PhD/md</td>\n      <td>Retired</td>\n      <td>1</td>\n      <td>married</td>\n      <td>1</td>\n      <td>0.0</td>\n      <td>Rent flat</td>\n      <td>multiple sclerosis</td>\n    </tr>\n    <tr>\n      <th>2</th>\n      <td>ef150a1bf99c1188ff526b1408d959e2cdb1729c4f1153...</td>\n      <td>female</td>\n      <td>1966</td>\n      <td>51502</td>\n      <td>Bachelor</td>\n      <td>Employed</td>\n      <td>1</td>\n      <td>married</td>\n      <td>0</td>\n      <td>0.1</td>\n      <td>Rent flat</td>\n      <td>heart disease</td>\n    </tr>\n    <tr>\n      <th>3</th>\n      <td>d9240d1730615fa39e50b22de35439c79814e162454e9e...</td>\n      <td>female</td>\n      <td>1943</td>\n      <td>54080</td>\n      <td>Bachelor</td>\n      <td>Retired</td>\n      <td>1</td>\n      <td>married</td>\n      <td>0</td>\n      <td>0.0</td>\n      <td>Rent room</td>\n      <td>endometriosis</td>\n    </tr>\n    <tr>\n      <th>4</th>\n      <td>a445d7cdb7efbbc10c59a27331869c8151ddb55313fcd0...</td>\n      <td>female</td>\n      <td>1947</td>\n      <td>68785</td>\n      <td>High School</td>\n      <td>Retired</td>\n      <td>1</td>\n      <td>married</td>\n      <td>0</td>\n      <td>0.0</td>\n      <td>Rent flat</td>\n      <td>gastritis</td>\n    </tr>\n  </tbody>\n</table>\n</div>"
     },
     "metadata": {},
     "execution_count": 9
    }
   ],
   "source": [
    "df.head(5)"
   ]
  },
  {
   "cell_type": "code",
   "execution_count": 10,
   "metadata": {},
   "outputs": [],
   "source": [
    "def find_state(zip_code):\n",
    "    res = matched_zips.get(str(zip_code)[0:3])\n",
    "    if res is None: return \"Unknown\"\n",
    "    return res\n",
    "\n",
    "df['state'] = df.zipcode.apply(find_state)\n",
    "df = df.drop(\"zipcode\", axis=1)"
   ]
  },
  {
   "cell_type": "code",
   "execution_count": 11,
   "metadata": {},
   "outputs": [
    {
     "output_type": "execute_result",
     "data": {
      "text/plain": [
       "                                                  id  gender   dob  \\\n",
       "0  97eb7a57528a1baea5a7be646149f9d75cc53f3c5ba87f...  female  1950   \n",
       "1  730151ea90e546b7b8fe5911d91ac943a9095ebb6691ba...  female  1940   \n",
       "2  ef150a1bf99c1188ff526b1408d959e2cdb1729c4f1153...  female  1966   \n",
       "3  d9240d1730615fa39e50b22de35439c79814e162454e9e...  female  1943   \n",
       "4  a445d7cdb7efbbc10c59a27331869c8151ddb55313fcd0...  female  1947   \n",
       "\n",
       "          education employment  children marital_status  number_vehicles  \\\n",
       "0       High School    Retired      True        married                2   \n",
       "1  Masters and more    Retired      True        married                1   \n",
       "2          Bachelor   Employed      True        married                0   \n",
       "3          Bachelor    Retired      True        married                0   \n",
       "4       High School    Retired      True        married                0   \n",
       "\n",
       "  commute_time accommodation              disease           state  \n",
       "0            0           Own  Alzheimer's disease         Unknown  \n",
       "1            0          Rent   multiple sclerosis      (TX) Texas  \n",
       "2            1          Rent        heart disease       (IA) Iowa  \n",
       "3            0          Rent        endometriosis  (WI) Wisconsin  \n",
       "4            0          Rent            gastritis   (NE) Nebraska  "
      ],
      "text/html": "<div>\n<style scoped>\n    .dataframe tbody tr th:only-of-type {\n        vertical-align: middle;\n    }\n\n    .dataframe tbody tr th {\n        vertical-align: top;\n    }\n\n    .dataframe thead th {\n        text-align: right;\n    }\n</style>\n<table border=\"1\" class=\"dataframe\">\n  <thead>\n    <tr style=\"text-align: right;\">\n      <th></th>\n      <th>id</th>\n      <th>gender</th>\n      <th>dob</th>\n      <th>education</th>\n      <th>employment</th>\n      <th>children</th>\n      <th>marital_status</th>\n      <th>number_vehicles</th>\n      <th>commute_time</th>\n      <th>accommodation</th>\n      <th>disease</th>\n      <th>state</th>\n    </tr>\n  </thead>\n  <tbody>\n    <tr>\n      <th>0</th>\n      <td>97eb7a57528a1baea5a7be646149f9d75cc53f3c5ba87f...</td>\n      <td>female</td>\n      <td>1950</td>\n      <td>High School</td>\n      <td>Retired</td>\n      <td>True</td>\n      <td>married</td>\n      <td>2</td>\n      <td>0</td>\n      <td>Own</td>\n      <td>Alzheimer's disease</td>\n      <td>Unknown</td>\n    </tr>\n    <tr>\n      <th>1</th>\n      <td>730151ea90e546b7b8fe5911d91ac943a9095ebb6691ba...</td>\n      <td>female</td>\n      <td>1940</td>\n      <td>Masters and more</td>\n      <td>Retired</td>\n      <td>True</td>\n      <td>married</td>\n      <td>1</td>\n      <td>0</td>\n      <td>Rent</td>\n      <td>multiple sclerosis</td>\n      <td>(TX) Texas</td>\n    </tr>\n    <tr>\n      <th>2</th>\n      <td>ef150a1bf99c1188ff526b1408d959e2cdb1729c4f1153...</td>\n      <td>female</td>\n      <td>1966</td>\n      <td>Bachelor</td>\n      <td>Employed</td>\n      <td>True</td>\n      <td>married</td>\n      <td>0</td>\n      <td>1</td>\n      <td>Rent</td>\n      <td>heart disease</td>\n      <td>(IA) Iowa</td>\n    </tr>\n    <tr>\n      <th>3</th>\n      <td>d9240d1730615fa39e50b22de35439c79814e162454e9e...</td>\n      <td>female</td>\n      <td>1943</td>\n      <td>Bachelor</td>\n      <td>Retired</td>\n      <td>True</td>\n      <td>married</td>\n      <td>0</td>\n      <td>0</td>\n      <td>Rent</td>\n      <td>endometriosis</td>\n      <td>(WI) Wisconsin</td>\n    </tr>\n    <tr>\n      <th>4</th>\n      <td>a445d7cdb7efbbc10c59a27331869c8151ddb55313fcd0...</td>\n      <td>female</td>\n      <td>1947</td>\n      <td>High School</td>\n      <td>Retired</td>\n      <td>True</td>\n      <td>married</td>\n      <td>0</td>\n      <td>0</td>\n      <td>Rent</td>\n      <td>gastritis</td>\n      <td>(NE) Nebraska</td>\n    </tr>\n  </tbody>\n</table>\n</div>"
     },
     "metadata": {},
     "execution_count": 11
    }
   ],
   "source": [
    "def more_than_2_children(x):\n",
    "    if isinstance(x, str): return x\n",
    "    elif x == 0: return '0'\n",
    "    elif x == 1: return '1'\n",
    "    elif x > 1: return '2+'\n",
    "\n",
    "def has_child(childs):\n",
    "    if childs == 0: return False\n",
    "    return True#\n",
    "\n",
    "def more_than_1_hour(x):\n",
    "    if isinstance(x, str): return x\n",
    "    elif x == 0.0: return '0'\n",
    "    elif x <= 1.0: return '1'\n",
    "    elif x > 1.0: return '1+'\n",
    "\n",
    "def change_accom(accomod):\n",
    "    how, _ = accomod.split(' ')\n",
    "    return how\n",
    "\n",
    "def change_education(educ):\n",
    "    if educ == \"PhD/md\" or educ == \"Masters\": return \"Masters and more\"\n",
    "    return educ\n",
    "\n",
    "df.accommodation = df.accommodation.apply(change_accom)\n",
    "df.education = df.education.apply(change_education)\n",
    "# df.children=df.children.apply(more_than_2_children)\n",
    "\n",
    "df.children=df.children.apply(has_child)\n",
    "\n",
    "df.commute_time=df.commute_time.apply(more_than_1_hour)\n",
    "df.head()"
   ]
  },
  {
   "cell_type": "code",
   "execution_count": 12,
   "metadata": {},
   "outputs": [],
   "source": [
    "def entropy(C, N=2000): return round(- sum([(ci/N) * math.log(ci/N, 2) for i,ci in enumerate(C)]),4)\n",
    "# Max : 11"
   ]
  },
  {
   "cell_type": "code",
   "execution_count": 30,
   "metadata": {},
   "outputs": [
    {
     "output_type": "stream",
     "name": "stderr",
     "text": [
      "100%|██████████| 10/10 [00:09<00:00,  1.06it/s]\n"
     ]
    }
   ],
   "source": [
    "from itertools import *\n",
    "from tqdm import tqdm\n",
    "\n",
    "\n",
    "covariates = [\"education\", \"gender\", \"dob\", \"state\", \"children\", \"employment\", \"marital_status\", \"number_vehicles\", \"commute_time\", \"accommodation\"]\n",
    "\n",
    "results = []\n",
    "\n",
    "for c in tqdm(range(1, len(covariates)+1)):\n",
    "    for used in combinations(covariates, c):\n",
    "        used = used + (\"disease\",)\n",
    "        used = list(used)\n",
    "        ct = df.groupby(used).size().to_frame(\"count\")\n",
    "        len_groups = len(ct)\n",
    "        len_unique = sum(ct['count'] < 2)\n",
    "\n",
    "        C = ct['count'].to_numpy()\n",
    "        CR = C[C > 1]\n",
    "\n",
    "        size_cr = 2000-len_unique\n",
    "\n",
    "        entropy_full = entropy(C)\n",
    "        entropy_cut = entropy(CR, size_cr)\n",
    "\n",
    "        results.append(\n",
    "            {\n",
    "                \"used\": used,\n",
    "                \"len_groups\": len_groups,\n",
    "                \"len_unique\": len_unique,\n",
    "                \"diff\": size_cr,\n",
    "                \"entropy_full\": entropy_full,\n",
    "                \"entropy_cut\": entropy_cut\n",
    "            }\n",
    "        )"
   ]
  },
  {
   "cell_type": "code",
   "execution_count": 58,
   "metadata": {},
   "outputs": [],
   "source": [
    "results_sort = sorted(results, key=lambda x: (x['new_size'], x['len_groups'],  x['entropy_cut'], x['entropy_full'], ), reverse=True)"
   ]
  },
  {
   "cell_type": "code",
   "execution_count": 45,
   "metadata": {},
   "outputs": [],
   "source": [
    "# import csv\n",
    "\n",
    "# with open(os.path.join(os.curdir, \"datasets\", \"entropy_results.csv\"), \"w\", newline='') as out:\n",
    "#     dict_writer = csv.DictWriter(out, results_sort[0].keys())\n",
    "#     dict_writer.writeheader()\n",
    "#     dict_writer.writerows(results_sort)"
   ]
  },
  {
   "cell_type": "code",
   "execution_count": 70,
   "metadata": {},
   "outputs": [],
   "source": [
    "results_filter = [ dic for dic in results_sort if dic.get('len_unique') > 0 and dic.get('len_unique') < 100 and dic.get('entropy_full') > 5]    \n",
    "results_filter_sorted = sorted(results_filter, key=lambda x: x['entropy_cut'], reverse=True)"
   ]
  },
  {
   "cell_type": "code",
   "execution_count": 71,
   "metadata": {},
   "outputs": [
    {
     "output_type": "execute_result",
     "data": {
      "text/plain": [
       "[{'used': ['education',\n",
       "   'gender',\n",
       "   'number_vehicles',\n",
       "   'accommodation',\n",
       "   'disease'],\n",
       "  'len_groups': 430,\n",
       "  'len_unique': 94,\n",
       "  'new_size': 1906,\n",
       "  'entropy_full': 8.3062,\n",
       "  'entropy_cut': 8.1056},\n",
       " {'used': ['education', 'number_vehicles', 'commute_time', 'disease'],\n",
       "  'len_groups': 392,\n",
       "  'len_unique': 76,\n",
       "  'new_size': 1924,\n",
       "  'entropy_full': 8.1299,\n",
       "  'entropy_cut': 7.962},\n",
       " {'used': ['gender',\n",
       "   'number_vehicles',\n",
       "   'commute_time',\n",
       "   'accommodation',\n",
       "   'disease'],\n",
       "  'len_groups': 385,\n",
       "  'len_unique': 86,\n",
       "  'new_size': 1914,\n",
       "  'entropy_full': 8.0614,\n",
       "  'entropy_cut': 7.8675},\n",
       " {'used': ['marital_status', 'number_vehicles', 'commute_time', 'disease'],\n",
       "  'len_groups': 392,\n",
       "  'len_unique': 88,\n",
       "  'new_size': 1912,\n",
       "  'entropy_full': 7.996,\n",
       "  'entropy_cut': 7.7944},\n",
       " {'used': ['education', 'gender', 'number_vehicles', 'disease'],\n",
       "  'len_groups': 277,\n",
       "  'len_unique': 27,\n",
       "  'new_size': 1973,\n",
       "  'entropy_full': 7.7541,\n",
       "  'entropy_cut': 7.6905},\n",
       " {'used': ['education', 'gender', 'marital_status', 'disease'],\n",
       "  'len_groups': 338,\n",
       "  'len_unique': 59,\n",
       "  'new_size': 1941,\n",
       "  'entropy_full': 7.811,\n",
       "  'entropy_cut': 7.6719},\n",
       " {'used': ['education', 'gender', 'employment', 'disease'],\n",
       "  'len_groups': 307,\n",
       "  'len_unique': 55,\n",
       "  'new_size': 1945,\n",
       "  'entropy_full': 7.754,\n",
       "  'entropy_cut': 7.6229},\n",
       " {'used': ['education', 'marital_status', 'accommodation', 'disease'],\n",
       "  'len_groups': 342,\n",
       "  'len_unique': 73,\n",
       "  'new_size': 1927,\n",
       "  'entropy_full': 7.7639,\n",
       "  'entropy_cut': 7.589},\n",
       " {'used': ['gender', 'children', 'number_vehicles', 'commute_time', 'disease'],\n",
       "  'len_groups': 351,\n",
       "  'len_unique': 99,\n",
       "  'new_size': 1901,\n",
       "  'entropy_full': 7.8241,\n",
       "  'entropy_cut': 7.5873},\n",
       " {'used': ['education', 'gender', 'commute_time', 'disease'],\n",
       "  'len_groups': 274,\n",
       "  'len_unique': 27,\n",
       "  'new_size': 1973,\n",
       "  'entropy_full': 7.6492,\n",
       "  'entropy_cut': 7.5842}]"
      ]
     },
     "metadata": {},
     "execution_count": 71
    }
   ],
   "source": [
    "# Best ?\n",
    "results_filter_sorted[0:10]"
   ]
  }
 ],
 "metadata": {
  "kernelspec": {
   "display_name": "Python 3",
   "name": "python3"
  },
  "language_info": {
   "codemirror_mode": {
    "name": "ipython",
    "version": 3
   },
   "file_extension": ".py",
   "mimetype": "text/x-python",
   "name": "python",
   "nbconvert_exporter": "python",
   "pygments_lexer": "ipython3",
   "version": "3.8.3-final"
  },
  "orig_nbformat": 2
 },
 "nbformat": 4,
 "nbformat_minor": 2
}