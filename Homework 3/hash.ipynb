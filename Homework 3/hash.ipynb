{
 "cells": [
  {
   "cell_type": "code",
   "execution_count": 1,
   "metadata": {},
   "outputs": [],
   "source": [
    "import os\n",
    "import hashlib\n",
    "import pandas as pd\n",
    "import numpy as np\n",
    "\n",
    "csv_path = os.path.join(os.curdir, \"datasets\", \"dataset - Privacy-Engineering.csv\")\n",
    "df = pd.read_csv(csv_path)"
   ]
  },
  {
   "cell_type": "code",
   "execution_count": 2,
   "metadata": {},
   "outputs": [],
   "source": [
    "columns_to_drop = [\"ancestry\"]\n",
    "df = df.drop(columns_to_drop, axis=1)"
   ]
  },
  {
   "cell_type": "code",
   "execution_count": 3,
   "metadata": {},
   "outputs": [],
   "source": [
    "salt = b\"\\x91\\xff=s\\x18?JH\\x940\\xf1$wN\\xa4\\xbf\\x9f\\xcdi\\x8c\\xa2\\xf3\\xe3I\\xeb\\xf4\\x1f\\xc0y\\x94\\x84\\xa8\"\n",
    "\n",
    "df.id = df.id.apply(lambda x : hashlib.sha512(str(x).encode() + salt).hexdigest())\n",
    "df.dob = df.dob.apply(lambda x : x.split(\"/\")[1])"
   ]
  },
  {
   "cell_type": "code",
   "execution_count": 4,
   "metadata": {},
   "outputs": [
    {
     "output_type": "execute_result",
     "data": {
      "text/plain": [
       "                                                  id  gender   dob  zipcode  \\\n",
       "0  97eb7a57528a1baea5a7be646149f9d75cc53f3c5ba87f...  female  1950    26904   \n",
       "1  730151ea90e546b7b8fe5911d91ac943a9095ebb6691ba...  female  1940    78088   \n",
       "2  ef150a1bf99c1188ff526b1408d959e2cdb1729c4f1153...  female  1966    51502   \n",
       "3  d9240d1730615fa39e50b22de35439c79814e162454e9e...  female  1943    54080   \n",
       "4  a445d7cdb7efbbc10c59a27331869c8151ddb55313fcd0...  female  1947    68785   \n",
       "\n",
       "     education employment  children marital_status  number_vehicles  \\\n",
       "0  High School    Retired         2        married                2   \n",
       "1       PhD/md    Retired         1        married                1   \n",
       "2     Bachelor   Employed         1        married                0   \n",
       "3     Bachelor    Retired         1        married                0   \n",
       "4  High School    Retired         1        married                0   \n",
       "\n",
       "   commute_time accommodation              disease  \n",
       "0           0.0     Own house  Alzheimer's disease  \n",
       "1           0.0     Rent flat   multiple sclerosis  \n",
       "2           0.1     Rent flat        heart disease  \n",
       "3           0.0     Rent room        endometriosis  \n",
       "4           0.0     Rent flat            gastritis  "
      ],
      "text/html": "<div>\n<style scoped>\n    .dataframe tbody tr th:only-of-type {\n        vertical-align: middle;\n    }\n\n    .dataframe tbody tr th {\n        vertical-align: top;\n    }\n\n    .dataframe thead th {\n        text-align: right;\n    }\n</style>\n<table border=\"1\" class=\"dataframe\">\n  <thead>\n    <tr style=\"text-align: right;\">\n      <th></th>\n      <th>id</th>\n      <th>gender</th>\n      <th>dob</th>\n      <th>zipcode</th>\n      <th>education</th>\n      <th>employment</th>\n      <th>children</th>\n      <th>marital_status</th>\n      <th>number_vehicles</th>\n      <th>commute_time</th>\n      <th>accommodation</th>\n      <th>disease</th>\n    </tr>\n  </thead>\n  <tbody>\n    <tr>\n      <th>0</th>\n      <td>97eb7a57528a1baea5a7be646149f9d75cc53f3c5ba87f...</td>\n      <td>female</td>\n      <td>1950</td>\n      <td>26904</td>\n      <td>High School</td>\n      <td>Retired</td>\n      <td>2</td>\n      <td>married</td>\n      <td>2</td>\n      <td>0.0</td>\n      <td>Own house</td>\n      <td>Alzheimer's disease</td>\n    </tr>\n    <tr>\n      <th>1</th>\n      <td>730151ea90e546b7b8fe5911d91ac943a9095ebb6691ba...</td>\n      <td>female</td>\n      <td>1940</td>\n      <td>78088</td>\n      <td>PhD/md</td>\n      <td>Retired</td>\n      <td>1</td>\n      <td>married</td>\n      <td>1</td>\n      <td>0.0</td>\n      <td>Rent flat</td>\n      <td>multiple sclerosis</td>\n    </tr>\n    <tr>\n      <th>2</th>\n      <td>ef150a1bf99c1188ff526b1408d959e2cdb1729c4f1153...</td>\n      <td>female</td>\n      <td>1966</td>\n      <td>51502</td>\n      <td>Bachelor</td>\n      <td>Employed</td>\n      <td>1</td>\n      <td>married</td>\n      <td>0</td>\n      <td>0.1</td>\n      <td>Rent flat</td>\n      <td>heart disease</td>\n    </tr>\n    <tr>\n      <th>3</th>\n      <td>d9240d1730615fa39e50b22de35439c79814e162454e9e...</td>\n      <td>female</td>\n      <td>1943</td>\n      <td>54080</td>\n      <td>Bachelor</td>\n      <td>Retired</td>\n      <td>1</td>\n      <td>married</td>\n      <td>0</td>\n      <td>0.0</td>\n      <td>Rent room</td>\n      <td>endometriosis</td>\n    </tr>\n    <tr>\n      <th>4</th>\n      <td>a445d7cdb7efbbc10c59a27331869c8151ddb55313fcd0...</td>\n      <td>female</td>\n      <td>1947</td>\n      <td>68785</td>\n      <td>High School</td>\n      <td>Retired</td>\n      <td>1</td>\n      <td>married</td>\n      <td>0</td>\n      <td>0.0</td>\n      <td>Rent flat</td>\n      <td>gastritis</td>\n    </tr>\n  </tbody>\n</table>\n</div>"
     },
     "metadata": {},
     "execution_count": 4
    }
   ],
   "source": [
    "df.head(5)"
   ]
  },
  {
   "cell_type": "code",
   "execution_count": 5,
   "metadata": {},
   "outputs": [],
   "source": [
    "zip_path = os.path.join(os.curdir, \"datasets\", \"uszips.csv\")\n",
    "df_zip = pd.read_csv(zip_path, dtype={\"zip\": 'string'})\n",
    "df_zip = pd.DataFrame(df_zip)"
   ]
  },
  {
   "cell_type": "code",
   "execution_count": 6,
   "metadata": {},
   "outputs": [
    {
     "output_type": "execute_result",
     "data": {
      "text/plain": [
       "     zip       lat       lng       city state_id   state_name  zcta  \\\n",
       "0  00601  18.18004 -66.75218   Adjuntas       PR  Puerto Rico  True   \n",
       "1  00602  18.36073 -67.17517     Aguada       PR  Puerto Rico  True   \n",
       "2  00603  18.45439 -67.12202  Aguadilla       PR  Puerto Rico  True   \n",
       "3  00606  18.16724 -66.93828    Maricao       PR  Puerto Rico  True   \n",
       "4  00610  18.29032 -67.12243     Anasco       PR  Puerto Rico  True   \n",
       "\n",
       "   parent_zcta  population  density  county_fips county_name  \\\n",
       "0          NaN       17242    111.4        72001    Adjuntas   \n",
       "1          NaN       38442    523.5        72003      Aguada   \n",
       "2          NaN       48814    667.9        72005   Aguadilla   \n",
       "3          NaN        6437     60.4        72093     Maricao   \n",
       "4          NaN       27073    312.0        72011      Añasco   \n",
       "\n",
       "                              county_weights             county_names_all  \\\n",
       "0               {'72001':99.43,'72141':0.57}              Adjuntas|Utuado   \n",
       "1                              {'72003':100}                       Aguada   \n",
       "2                              {'72005':100}                    Aguadilla   \n",
       "3  {'72093':94.88,'72121':1.35,'72153':3.78}  Maricao|Yauco|Sabana Grande   \n",
       "4               {'72003':0.55,'72011':99.45}                Añasco|Aguada   \n",
       "\n",
       "     county_fips_all  imprecise  military             timezone  \n",
       "0        72001|72141      False     False  America/Puerto_Rico  \n",
       "1              72003      False     False  America/Puerto_Rico  \n",
       "2              72005      False     False  America/Puerto_Rico  \n",
       "3  72093|72153|72121      False     False  America/Puerto_Rico  \n",
       "4        72011|72003      False     False  America/Puerto_Rico  "
      ],
      "text/html": "<div>\n<style scoped>\n    .dataframe tbody tr th:only-of-type {\n        vertical-align: middle;\n    }\n\n    .dataframe tbody tr th {\n        vertical-align: top;\n    }\n\n    .dataframe thead th {\n        text-align: right;\n    }\n</style>\n<table border=\"1\" class=\"dataframe\">\n  <thead>\n    <tr style=\"text-align: right;\">\n      <th></th>\n      <th>zip</th>\n      <th>lat</th>\n      <th>lng</th>\n      <th>city</th>\n      <th>state_id</th>\n      <th>state_name</th>\n      <th>zcta</th>\n      <th>parent_zcta</th>\n      <th>population</th>\n      <th>density</th>\n      <th>county_fips</th>\n      <th>county_name</th>\n      <th>county_weights</th>\n      <th>county_names_all</th>\n      <th>county_fips_all</th>\n      <th>imprecise</th>\n      <th>military</th>\n      <th>timezone</th>\n    </tr>\n  </thead>\n  <tbody>\n    <tr>\n      <th>0</th>\n      <td>00601</td>\n      <td>18.18004</td>\n      <td>-66.75218</td>\n      <td>Adjuntas</td>\n      <td>PR</td>\n      <td>Puerto Rico</td>\n      <td>True</td>\n      <td>NaN</td>\n      <td>17242</td>\n      <td>111.4</td>\n      <td>72001</td>\n      <td>Adjuntas</td>\n      <td>{'72001':99.43,'72141':0.57}</td>\n      <td>Adjuntas|Utuado</td>\n      <td>72001|72141</td>\n      <td>False</td>\n      <td>False</td>\n      <td>America/Puerto_Rico</td>\n    </tr>\n    <tr>\n      <th>1</th>\n      <td>00602</td>\n      <td>18.36073</td>\n      <td>-67.17517</td>\n      <td>Aguada</td>\n      <td>PR</td>\n      <td>Puerto Rico</td>\n      <td>True</td>\n      <td>NaN</td>\n      <td>38442</td>\n      <td>523.5</td>\n      <td>72003</td>\n      <td>Aguada</td>\n      <td>{'72003':100}</td>\n      <td>Aguada</td>\n      <td>72003</td>\n      <td>False</td>\n      <td>False</td>\n      <td>America/Puerto_Rico</td>\n    </tr>\n    <tr>\n      <th>2</th>\n      <td>00603</td>\n      <td>18.45439</td>\n      <td>-67.12202</td>\n      <td>Aguadilla</td>\n      <td>PR</td>\n      <td>Puerto Rico</td>\n      <td>True</td>\n      <td>NaN</td>\n      <td>48814</td>\n      <td>667.9</td>\n      <td>72005</td>\n      <td>Aguadilla</td>\n      <td>{'72005':100}</td>\n      <td>Aguadilla</td>\n      <td>72005</td>\n      <td>False</td>\n      <td>False</td>\n      <td>America/Puerto_Rico</td>\n    </tr>\n    <tr>\n      <th>3</th>\n      <td>00606</td>\n      <td>18.16724</td>\n      <td>-66.93828</td>\n      <td>Maricao</td>\n      <td>PR</td>\n      <td>Puerto Rico</td>\n      <td>True</td>\n      <td>NaN</td>\n      <td>6437</td>\n      <td>60.4</td>\n      <td>72093</td>\n      <td>Maricao</td>\n      <td>{'72093':94.88,'72121':1.35,'72153':3.78}</td>\n      <td>Maricao|Yauco|Sabana Grande</td>\n      <td>72093|72153|72121</td>\n      <td>False</td>\n      <td>False</td>\n      <td>America/Puerto_Rico</td>\n    </tr>\n    <tr>\n      <th>4</th>\n      <td>00610</td>\n      <td>18.29032</td>\n      <td>-67.12243</td>\n      <td>Anasco</td>\n      <td>PR</td>\n      <td>Puerto Rico</td>\n      <td>True</td>\n      <td>NaN</td>\n      <td>27073</td>\n      <td>312.0</td>\n      <td>72011</td>\n      <td>Añasco</td>\n      <td>{'72003':0.55,'72011':99.45}</td>\n      <td>Añasco|Aguada</td>\n      <td>72011|72003</td>\n      <td>False</td>\n      <td>False</td>\n      <td>America/Puerto_Rico</td>\n    </tr>\n  </tbody>\n</table>\n</div>"
     },
     "metadata": {},
     "execution_count": 6
    }
   ],
   "source": [
    "df_zip.head()"
   ]
  },
  {
   "cell_type": "code",
   "execution_count": 7,
   "metadata": {},
   "outputs": [],
   "source": [
    "zip_match = {}\n",
    "for i, row in df_zip.iterrows():\n",
    "    row_zip = str(row['zip'])[0:2]\n",
    "    row_state_id = row['state_id']\n",
    "    row_state_name = row['state_name']\n",
    "\n",
    "    if row_zip not in zip_match: zip_match[row_zip] = f\"({row_state_id}) {row_state_name}\"\n"
   ]
  },
  {
   "cell_type": "code",
   "execution_count": 8,
   "metadata": {},
   "outputs": [],
   "source": [
    "def find_state(zip_code):\n",
    "    res = zip_match.get(str(zip_code)[0:2])\n",
    "    if res is None: return \"Not found\"\n",
    "    return res\n",
    "\n",
    "df['state'] = df.zipcode.apply(find_state)\n",
    "df = df.drop(\"zipcode\", axis=1)"
   ]
  },
  {
   "cell_type": "code",
   "execution_count": 9,
   "metadata": {},
   "outputs": [
    {
     "output_type": "execute_result",
     "data": {
      "text/plain": [
       "                                                  id  gender   dob  \\\n",
       "0  97eb7a57528a1baea5a7be646149f9d75cc53f3c5ba87f...  female  1950   \n",
       "1  730151ea90e546b7b8fe5911d91ac943a9095ebb6691ba...  female  1940   \n",
       "2  ef150a1bf99c1188ff526b1408d959e2cdb1729c4f1153...  female  1966   \n",
       "3  d9240d1730615fa39e50b22de35439c79814e162454e9e...  female  1943   \n",
       "4  a445d7cdb7efbbc10c59a27331869c8151ddb55313fcd0...  female  1947   \n",
       "\n",
       "     education employment  children marital_status  number_vehicles  \\\n",
       "0  High School    Retired         2        married                2   \n",
       "1       PhD/md    Retired         1        married                1   \n",
       "2     Bachelor   Employed         1        married                0   \n",
       "3     Bachelor    Retired         1        married                0   \n",
       "4  High School    Retired         1        married                0   \n",
       "\n",
       "   commute_time accommodation              disease               state  \n",
       "0           0.0     Own house  Alzheimer's disease  (WV) West Virginia  \n",
       "1           0.0     Rent flat   multiple sclerosis          (TX) Texas  \n",
       "2           0.1     Rent flat        heart disease           (IA) Iowa  \n",
       "3           0.0     Rent room        endometriosis      (WI) Wisconsin  \n",
       "4           0.0     Rent flat            gastritis       (NE) Nebraska  "
      ],
      "text/html": "<div>\n<style scoped>\n    .dataframe tbody tr th:only-of-type {\n        vertical-align: middle;\n    }\n\n    .dataframe tbody tr th {\n        vertical-align: top;\n    }\n\n    .dataframe thead th {\n        text-align: right;\n    }\n</style>\n<table border=\"1\" class=\"dataframe\">\n  <thead>\n    <tr style=\"text-align: right;\">\n      <th></th>\n      <th>id</th>\n      <th>gender</th>\n      <th>dob</th>\n      <th>education</th>\n      <th>employment</th>\n      <th>children</th>\n      <th>marital_status</th>\n      <th>number_vehicles</th>\n      <th>commute_time</th>\n      <th>accommodation</th>\n      <th>disease</th>\n      <th>state</th>\n    </tr>\n  </thead>\n  <tbody>\n    <tr>\n      <th>0</th>\n      <td>97eb7a57528a1baea5a7be646149f9d75cc53f3c5ba87f...</td>\n      <td>female</td>\n      <td>1950</td>\n      <td>High School</td>\n      <td>Retired</td>\n      <td>2</td>\n      <td>married</td>\n      <td>2</td>\n      <td>0.0</td>\n      <td>Own house</td>\n      <td>Alzheimer's disease</td>\n      <td>(WV) West Virginia</td>\n    </tr>\n    <tr>\n      <th>1</th>\n      <td>730151ea90e546b7b8fe5911d91ac943a9095ebb6691ba...</td>\n      <td>female</td>\n      <td>1940</td>\n      <td>PhD/md</td>\n      <td>Retired</td>\n      <td>1</td>\n      <td>married</td>\n      <td>1</td>\n      <td>0.0</td>\n      <td>Rent flat</td>\n      <td>multiple sclerosis</td>\n      <td>(TX) Texas</td>\n    </tr>\n    <tr>\n      <th>2</th>\n      <td>ef150a1bf99c1188ff526b1408d959e2cdb1729c4f1153...</td>\n      <td>female</td>\n      <td>1966</td>\n      <td>Bachelor</td>\n      <td>Employed</td>\n      <td>1</td>\n      <td>married</td>\n      <td>0</td>\n      <td>0.1</td>\n      <td>Rent flat</td>\n      <td>heart disease</td>\n      <td>(IA) Iowa</td>\n    </tr>\n    <tr>\n      <th>3</th>\n      <td>d9240d1730615fa39e50b22de35439c79814e162454e9e...</td>\n      <td>female</td>\n      <td>1943</td>\n      <td>Bachelor</td>\n      <td>Retired</td>\n      <td>1</td>\n      <td>married</td>\n      <td>0</td>\n      <td>0.0</td>\n      <td>Rent room</td>\n      <td>endometriosis</td>\n      <td>(WI) Wisconsin</td>\n    </tr>\n    <tr>\n      <th>4</th>\n      <td>a445d7cdb7efbbc10c59a27331869c8151ddb55313fcd0...</td>\n      <td>female</td>\n      <td>1947</td>\n      <td>High School</td>\n      <td>Retired</td>\n      <td>1</td>\n      <td>married</td>\n      <td>0</td>\n      <td>0.0</td>\n      <td>Rent flat</td>\n      <td>gastritis</td>\n      <td>(NE) Nebraska</td>\n    </tr>\n  </tbody>\n</table>\n</div>"
     },
     "metadata": {},
     "execution_count": 9
    }
   ],
   "source": [
    "df.head()"
   ]
  },
  {
   "cell_type": "code",
   "execution_count": 10,
   "metadata": {},
   "outputs": [
    {
     "output_type": "error",
     "ename": "IndexError",
     "evalue": "list index out of range",
     "traceback": [
      "\u001b[1;31m---------------------------------------------------------------------------\u001b[0m",
      "\u001b[1;31mIndexError\u001b[0m                                Traceback (most recent call last)",
      "\u001b[1;32m<ipython-input-10-8917c3f8c380>\u001b[0m in \u001b[0;36m<module>\u001b[1;34m\u001b[0m\n\u001b[0;32m     18\u001b[0m \u001b[0mdf\u001b[0m\u001b[1;33m.\u001b[0m\u001b[0mchildren\u001b[0m\u001b[1;33m=\u001b[0m\u001b[0mdf\u001b[0m\u001b[1;33m.\u001b[0m\u001b[0mchildren\u001b[0m\u001b[1;33m.\u001b[0m\u001b[0mapply\u001b[0m\u001b[1;33m(\u001b[0m\u001b[0mmore_than_2_children\u001b[0m\u001b[1;33m)\u001b[0m\u001b[1;33m\u001b[0m\u001b[1;33m\u001b[0m\u001b[0m\n\u001b[0;32m     19\u001b[0m \u001b[0mdf\u001b[0m\u001b[1;33m.\u001b[0m\u001b[0mcommute_time\u001b[0m\u001b[1;33m=\u001b[0m\u001b[0mdf\u001b[0m\u001b[1;33m.\u001b[0m\u001b[0mcommute_time\u001b[0m\u001b[1;33m.\u001b[0m\u001b[0mapply\u001b[0m\u001b[1;33m(\u001b[0m\u001b[0mmore_than_1_hour\u001b[0m\u001b[1;33m)\u001b[0m\u001b[1;33m\u001b[0m\u001b[1;33m\u001b[0m\u001b[0m\n\u001b[1;32m---> 20\u001b[1;33m \u001b[0mdf\u001b[0m\u001b[1;33m.\u001b[0m\u001b[0mdob\u001b[0m\u001b[1;33m=\u001b[0m\u001b[0mdf\u001b[0m\u001b[1;33m.\u001b[0m\u001b[0mdob\u001b[0m\u001b[1;33m.\u001b[0m\u001b[0mapply\u001b[0m\u001b[1;33m(\u001b[0m\u001b[0mget_year_ob\u001b[0m\u001b[1;33m)\u001b[0m\u001b[1;33m\u001b[0m\u001b[1;33m\u001b[0m\u001b[0m\n\u001b[0m\u001b[0;32m     21\u001b[0m \u001b[0mdf\u001b[0m\u001b[1;33m.\u001b[0m\u001b[0mhead\u001b[0m\u001b[1;33m(\u001b[0m\u001b[1;33m)\u001b[0m\u001b[1;33m\u001b[0m\u001b[1;33m\u001b[0m\u001b[0m\n",
      "\u001b[1;32m~\\AppData\\Roaming\\Python\\Python38\\site-packages\\pandas\\core\\series.py\u001b[0m in \u001b[0;36mapply\u001b[1;34m(self, func, convert_dtype, args, **kwds)\u001b[0m\n\u001b[0;32m   4198\u001b[0m             \u001b[1;32melse\u001b[0m\u001b[1;33m:\u001b[0m\u001b[1;33m\u001b[0m\u001b[1;33m\u001b[0m\u001b[0m\n\u001b[0;32m   4199\u001b[0m                 \u001b[0mvalues\u001b[0m \u001b[1;33m=\u001b[0m \u001b[0mself\u001b[0m\u001b[1;33m.\u001b[0m\u001b[0mastype\u001b[0m\u001b[1;33m(\u001b[0m\u001b[0mobject\u001b[0m\u001b[1;33m)\u001b[0m\u001b[1;33m.\u001b[0m\u001b[0m_values\u001b[0m\u001b[1;33m\u001b[0m\u001b[1;33m\u001b[0m\u001b[0m\n\u001b[1;32m-> 4200\u001b[1;33m                 \u001b[0mmapped\u001b[0m \u001b[1;33m=\u001b[0m \u001b[0mlib\u001b[0m\u001b[1;33m.\u001b[0m\u001b[0mmap_infer\u001b[0m\u001b[1;33m(\u001b[0m\u001b[0mvalues\u001b[0m\u001b[1;33m,\u001b[0m \u001b[0mf\u001b[0m\u001b[1;33m,\u001b[0m \u001b[0mconvert\u001b[0m\u001b[1;33m=\u001b[0m\u001b[0mconvert_dtype\u001b[0m\u001b[1;33m)\u001b[0m\u001b[1;33m\u001b[0m\u001b[1;33m\u001b[0m\u001b[0m\n\u001b[0m\u001b[0;32m   4201\u001b[0m \u001b[1;33m\u001b[0m\u001b[0m\n\u001b[0;32m   4202\u001b[0m         \u001b[1;32mif\u001b[0m \u001b[0mlen\u001b[0m\u001b[1;33m(\u001b[0m\u001b[0mmapped\u001b[0m\u001b[1;33m)\u001b[0m \u001b[1;32mand\u001b[0m \u001b[0misinstance\u001b[0m\u001b[1;33m(\u001b[0m\u001b[0mmapped\u001b[0m\u001b[1;33m[\u001b[0m\u001b[1;36m0\u001b[0m\u001b[1;33m]\u001b[0m\u001b[1;33m,\u001b[0m \u001b[0mSeries\u001b[0m\u001b[1;33m)\u001b[0m\u001b[1;33m:\u001b[0m\u001b[1;33m\u001b[0m\u001b[1;33m\u001b[0m\u001b[0m\n",
      "\u001b[1;32mpandas\\_libs\\lib.pyx\u001b[0m in \u001b[0;36mpandas._libs.lib.map_infer\u001b[1;34m()\u001b[0m\n",
      "\u001b[1;32m<ipython-input-10-8917c3f8c380>\u001b[0m in \u001b[0;36mget_year_ob\u001b[1;34m(x)\u001b[0m\n\u001b[0;32m     13\u001b[0m \u001b[1;32mdef\u001b[0m \u001b[0mget_year_ob\u001b[0m\u001b[1;33m(\u001b[0m\u001b[0mx\u001b[0m\u001b[1;33m)\u001b[0m\u001b[1;33m:\u001b[0m\u001b[1;33m\u001b[0m\u001b[1;33m\u001b[0m\u001b[0m\n\u001b[0;32m     14\u001b[0m     \u001b[0my\u001b[0m\u001b[1;33m=\u001b[0m\u001b[0mx\u001b[0m\u001b[1;33m.\u001b[0m\u001b[0msplit\u001b[0m\u001b[1;33m(\u001b[0m\u001b[1;34m'/'\u001b[0m\u001b[1;33m)\u001b[0m\u001b[1;33m\u001b[0m\u001b[1;33m\u001b[0m\u001b[0m\n\u001b[1;32m---> 15\u001b[1;33m     \u001b[1;32mreturn\u001b[0m \u001b[0my\u001b[0m\u001b[1;33m[\u001b[0m\u001b[1;36m1\u001b[0m\u001b[1;33m]\u001b[0m\u001b[1;33m\u001b[0m\u001b[1;33m\u001b[0m\u001b[0m\n\u001b[0m\u001b[0;32m     16\u001b[0m \u001b[1;33m\u001b[0m\u001b[0m\n\u001b[0;32m     17\u001b[0m \u001b[1;33m\u001b[0m\u001b[0m\n",
      "\u001b[1;31mIndexError\u001b[0m: list index out of range"
     ]
    }
   ],
   "source": [
    "def more_than_2_children(x):\n",
    "    if isinstance(x, str): return x\n",
    "    elif x == 0: return '0'\n",
    "    elif x == 1: return '1'\n",
    "    elif x > 1: return '2+'\n",
    "\n",
    "def more_than_1_hour(x):\n",
    "    if isinstance(x, str): return x\n",
    "    elif x == 0.0: return '0'\n",
    "    elif x <= 1.0: return '1.0-'\n",
    "    elif x > 1.0: return '+1.0'\n",
    "\n",
    "df.children=df.children.apply(more_than_2_children)\n",
    "df.commute_time=df.commute_time.apply(more_than_1_hour)\n",
    "df.head()"
   ]
  }
 ],
 "metadata": {
  "kernelspec": {
   "display_name": "Python 3",
   "name": "python3"
  },
  "language_info": {
   "codemirror_mode": {
    "name": "ipython",
    "version": 3
   },
   "file_extension": ".py",
   "mimetype": "text/x-python",
   "name": "python",
   "nbconvert_exporter": "python",
   "pygments_lexer": "ipython3",
   "version": "3.8.3-final"
  },
  "orig_nbformat": 2
 },
 "nbformat": 4,
 "nbformat_minor": 2
}