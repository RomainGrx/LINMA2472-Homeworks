{
 "cells": [
  {
   "cell_type": "code",
   "execution_count": 1,
   "metadata": {},
   "outputs": [],
   "source": [
    "import os\n",
    "import math\n",
    "import string\n",
    "import hashlib\n",
    "import numpy as np\n",
    "import pandas as pd\n",
    "\n",
    "datasets_path = os.path.join(os.curdir, \"datasets\")\n",
    "csv_path = os.path.join(datasets_path, \"dataset - Privacy-Engineering.csv\")\n",
    "zip_path = os.path.join(datasets_path, \"matched_zips.csv\")\n",
    "\n",
    "save_final_path = os.path.join(datasets_path, \"anonymized_hospital.csv\")\n",
    "\n",
    "df = pd.read_csv(csv_path)\n",
    "df_zip = pd.read_csv(zip_path, dtype={\"zip\": 'string'})\n",
    "matched_zips = df_zip.set_index('zip')['state'].to_dict()"
   ]
  },
  {
   "cell_type": "markdown",
   "metadata": {},
   "source": [
    "Keep useful columns\n",
    "---"
   ]
  },
  {
   "cell_type": "code",
   "execution_count": 2,
   "metadata": {},
   "outputs": [
    {
     "data": {
      "text/html": "<div>\n<style scoped>\n    .dataframe tbody tr th:only-of-type {\n        vertical-align: middle;\n    }\n\n    .dataframe tbody tr th {\n        vertical-align: top;\n    }\n\n    .dataframe thead th {\n        text-align: right;\n    }\n</style>\n<table border=\"1\" class=\"dataframe\">\n  <thead>\n    <tr style=\"text-align: right;\">\n      <th></th>\n      <th>id</th>\n      <th>zipcode</th>\n      <th>dob</th>\n      <th>disease</th>\n    </tr>\n  </thead>\n  <tbody>\n    <tr>\n      <th>0</th>\n      <td>Amelia Morrow</td>\n      <td>26904</td>\n      <td>12/1950</td>\n      <td>Alzheimer's disease</td>\n    </tr>\n    <tr>\n      <th>1</th>\n      <td>Lillian Cole</td>\n      <td>78088</td>\n      <td>4/1940</td>\n      <td>multiple sclerosis</td>\n    </tr>\n    <tr>\n      <th>2</th>\n      <td>Lillian Simpson</td>\n      <td>51502</td>\n      <td>12/1966</td>\n      <td>heart disease</td>\n    </tr>\n    <tr>\n      <th>3</th>\n      <td>Avery Richards</td>\n      <td>54080</td>\n      <td>4/1943</td>\n      <td>endometriosis</td>\n    </tr>\n    <tr>\n      <th>4</th>\n      <td>Sophia Alvarado</td>\n      <td>68785</td>\n      <td>10/1947</td>\n      <td>gastritis</td>\n    </tr>\n  </tbody>\n</table>\n</div>",
      "text/plain": "                id  zipcode      dob              disease\n0    Amelia Morrow    26904  12/1950  Alzheimer's disease\n1     Lillian Cole    78088   4/1940   multiple sclerosis\n2  Lillian Simpson    51502  12/1966        heart disease\n3   Avery Richards    54080   4/1943        endometriosis\n4  Sophia Alvarado    68785  10/1947            gastritis"
     },
     "execution_count": 2,
     "metadata": {},
     "output_type": "execute_result"
    }
   ],
   "source": [
    "columns_to_keep = [\"id\", \"zipcode\", \"dob\", \"disease\"]\n",
    "df = df[columns_to_keep]\n",
    "df.head(5)"
   ]
  },
  {
   "cell_type": "markdown",
   "metadata": {},
   "source": [
    "Generate a unique id based on the hash of the initial id, the date of birth and the zipcode\n",
    "---"
   ]
  },
  {
   "cell_type": "code",
   "execution_count": 3,
   "metadata": {},
   "outputs": [
    {
     "name": "stdout",
     "output_type": "stream",
     "text": [
      "All id unique ? True\n"
     ]
    },
    {
     "data": {
      "text/html": "<div>\n<style scoped>\n    .dataframe tbody tr th:only-of-type {\n        vertical-align: middle;\n    }\n\n    .dataframe tbody tr th {\n        vertical-align: top;\n    }\n\n    .dataframe thead th {\n        text-align: right;\n    }\n</style>\n<table border=\"1\" class=\"dataframe\">\n  <thead>\n    <tr style=\"text-align: right;\">\n      <th></th>\n      <th>id</th>\n      <th>zipcode</th>\n      <th>dob</th>\n      <th>disease</th>\n    </tr>\n  </thead>\n  <tbody>\n    <tr>\n      <th>0</th>\n      <td>7fe1cfe586f6f7865762a7dd4567721176092fe6016c84...</td>\n      <td>26904</td>\n      <td>12/1950</td>\n      <td>Alzheimer's disease</td>\n    </tr>\n    <tr>\n      <th>1</th>\n      <td>797e01b2f02c9944c043dc482447700a7f2a7440a5b421...</td>\n      <td>78088</td>\n      <td>4/1940</td>\n      <td>multiple sclerosis</td>\n    </tr>\n    <tr>\n      <th>2</th>\n      <td>1f43cd5962fd09813bf727850101899bd0235e98ef8e39...</td>\n      <td>51502</td>\n      <td>12/1966</td>\n      <td>heart disease</td>\n    </tr>\n    <tr>\n      <th>3</th>\n      <td>65168546582933b734037e5908fd93fd2c221c14a0c62f...</td>\n      <td>54080</td>\n      <td>4/1943</td>\n      <td>endometriosis</td>\n    </tr>\n    <tr>\n      <th>4</th>\n      <td>3a6f5eabf34660c5dc90dcd90903e244c99bb1dba8ebef...</td>\n      <td>68785</td>\n      <td>10/1947</td>\n      <td>gastritis</td>\n    </tr>\n  </tbody>\n</table>\n</div>",
      "text/plain": "                                                  id  zipcode      dob  \\\n0  7fe1cfe586f6f7865762a7dd4567721176092fe6016c84...    26904  12/1950   \n1  797e01b2f02c9944c043dc482447700a7f2a7440a5b421...    78088   4/1940   \n2  1f43cd5962fd09813bf727850101899bd0235e98ef8e39...    51502  12/1966   \n3  65168546582933b734037e5908fd93fd2c221c14a0c62f...    54080   4/1943   \n4  3a6f5eabf34660c5dc90dcd90903e244c99bb1dba8ebef...    68785  10/1947   \n\n               disease  \n0  Alzheimer's disease  \n1   multiple sclerosis  \n2        heart disease  \n3        endometriosis  \n4            gastritis  "
     },
     "execution_count": 3,
     "metadata": {},
     "output_type": "execute_result"
    }
   ],
   "source": [
    "\n",
    "def generate_salt(length:int) -> str:\n",
    "    \"\"\"\n",
    "        Generate a salt of ascii characters of length {length}\n",
    "    \"\"\"\n",
    "    return \"\".join(np.random.choice(list(string.printable), size=length))\n",
    "\n",
    "salt = generate_salt(50)\n",
    "\n",
    "df.id = df.apply(lambda x : hashlib.sha512((str(x.id) + str(x.zipcode) + str(x.dob) + salt).encode()).hexdigest(), axis=1)\n",
    "\n",
    "print(f\"All id unique ? {len(df.id) == df.id.nunique()}\")\n",
    "\n",
    "df.head(5)"
   ]
  },
  {
   "cell_type": "markdown",
   "metadata": {},
   "source": [
    "Change all zipcodes to corresponding state\n",
    "---"
   ]
  },
  {
   "cell_type": "code",
   "execution_count": 4,
   "metadata": {},
   "outputs": [
    {
     "data": {
      "text/html": "<div>\n<style scoped>\n    .dataframe tbody tr th:only-of-type {\n        vertical-align: middle;\n    }\n\n    .dataframe tbody tr th {\n        vertical-align: top;\n    }\n\n    .dataframe thead th {\n        text-align: right;\n    }\n</style>\n<table border=\"1\" class=\"dataframe\">\n  <thead>\n    <tr style=\"text-align: right;\">\n      <th></th>\n      <th>id</th>\n      <th>state</th>\n      <th>dob</th>\n      <th>disease</th>\n    </tr>\n  </thead>\n  <tbody>\n    <tr>\n      <th>0</th>\n      <td>7fe1cfe586f6f7865762a7dd4567721176092fe6016c84...</td>\n      <td>Unknown</td>\n      <td>12/1950</td>\n      <td>Alzheimer's disease</td>\n    </tr>\n    <tr>\n      <th>1</th>\n      <td>797e01b2f02c9944c043dc482447700a7f2a7440a5b421...</td>\n      <td>(TX) Texas</td>\n      <td>4/1940</td>\n      <td>multiple sclerosis</td>\n    </tr>\n    <tr>\n      <th>2</th>\n      <td>1f43cd5962fd09813bf727850101899bd0235e98ef8e39...</td>\n      <td>(IA) Iowa</td>\n      <td>12/1966</td>\n      <td>heart disease</td>\n    </tr>\n    <tr>\n      <th>3</th>\n      <td>65168546582933b734037e5908fd93fd2c221c14a0c62f...</td>\n      <td>(WI) Wisconsin</td>\n      <td>4/1943</td>\n      <td>endometriosis</td>\n    </tr>\n    <tr>\n      <th>4</th>\n      <td>3a6f5eabf34660c5dc90dcd90903e244c99bb1dba8ebef...</td>\n      <td>(NE) Nebraska</td>\n      <td>10/1947</td>\n      <td>gastritis</td>\n    </tr>\n  </tbody>\n</table>\n</div>",
      "text/plain": "                                                  id           state      dob  \\\n0  7fe1cfe586f6f7865762a7dd4567721176092fe6016c84...         Unknown  12/1950   \n1  797e01b2f02c9944c043dc482447700a7f2a7440a5b421...      (TX) Texas   4/1940   \n2  1f43cd5962fd09813bf727850101899bd0235e98ef8e39...       (IA) Iowa  12/1966   \n3  65168546582933b734037e5908fd93fd2c221c14a0c62f...  (WI) Wisconsin   4/1943   \n4  3a6f5eabf34660c5dc90dcd90903e244c99bb1dba8ebef...   (NE) Nebraska  10/1947   \n\n               disease  \n0  Alzheimer's disease  \n1   multiple sclerosis  \n2        heart disease  \n3        endometriosis  \n4            gastritis  "
     },
     "execution_count": 4,
     "metadata": {},
     "output_type": "execute_result"
    }
   ],
   "source": [
    "def find_state(zip_code):\n",
    "    \"\"\"\n",
    "        Return the state corresponding to the zipcode\n",
    "    \"\"\"\n",
    "    return matched_zips.get(str(zip_code)[0:3], \"Unknown\")\n",
    "\n",
    "df['zipcode'] = df.zipcode.apply(find_state)\n",
    "df.rename(columns={'zipcode':'state'}, inplace=True)\n",
    "df.head(5)"
   ]
  },
  {
   "cell_type": "markdown",
   "metadata": {},
   "source": [
    "Change all date of birth to its corresponding five years range\n",
    "--- "
   ]
  },
  {
   "cell_type": "code",
   "execution_count": 5,
   "metadata": {},
   "outputs": [
    {
     "data": {
      "text/html": "<div>\n<style scoped>\n    .dataframe tbody tr th:only-of-type {\n        vertical-align: middle;\n    }\n\n    .dataframe tbody tr th {\n        vertical-align: top;\n    }\n\n    .dataframe thead th {\n        text-align: right;\n    }\n</style>\n<table border=\"1\" class=\"dataframe\">\n  <thead>\n    <tr style=\"text-align: right;\">\n      <th></th>\n      <th>id</th>\n      <th>state</th>\n      <th>dob</th>\n      <th>disease</th>\n    </tr>\n  </thead>\n  <tbody>\n    <tr>\n      <th>0</th>\n      <td>7fe1cfe586f6f7865762a7dd4567721176092fe6016c84...</td>\n      <td>Unknown</td>\n      <td>[1950 - 1955]</td>\n      <td>Alzheimer's disease</td>\n    </tr>\n    <tr>\n      <th>1</th>\n      <td>797e01b2f02c9944c043dc482447700a7f2a7440a5b421...</td>\n      <td>(TX) Texas</td>\n      <td>[1940 - 1945]</td>\n      <td>multiple sclerosis</td>\n    </tr>\n    <tr>\n      <th>2</th>\n      <td>1f43cd5962fd09813bf727850101899bd0235e98ef8e39...</td>\n      <td>(IA) Iowa</td>\n      <td>[1965 - 1970]</td>\n      <td>heart disease</td>\n    </tr>\n    <tr>\n      <th>3</th>\n      <td>65168546582933b734037e5908fd93fd2c221c14a0c62f...</td>\n      <td>(WI) Wisconsin</td>\n      <td>[1940 - 1945]</td>\n      <td>endometriosis</td>\n    </tr>\n    <tr>\n      <th>4</th>\n      <td>3a6f5eabf34660c5dc90dcd90903e244c99bb1dba8ebef...</td>\n      <td>(NE) Nebraska</td>\n      <td>[1945 - 1950]</td>\n      <td>gastritis</td>\n    </tr>\n  </tbody>\n</table>\n</div>",
      "text/plain": "                                                  id           state  \\\n0  7fe1cfe586f6f7865762a7dd4567721176092fe6016c84...         Unknown   \n1  797e01b2f02c9944c043dc482447700a7f2a7440a5b421...      (TX) Texas   \n2  1f43cd5962fd09813bf727850101899bd0235e98ef8e39...       (IA) Iowa   \n3  65168546582933b734037e5908fd93fd2c221c14a0c62f...  (WI) Wisconsin   \n4  3a6f5eabf34660c5dc90dcd90903e244c99bb1dba8ebef...   (NE) Nebraska   \n\n             dob              disease  \n0  [1950 - 1955]  Alzheimer's disease  \n1  [1940 - 1945]   multiple sclerosis  \n2  [1965 - 1970]        heart disease  \n3  [1940 - 1945]        endometriosis  \n4  [1945 - 1950]            gastritis  "
     },
     "execution_count": 5,
     "metadata": {},
     "output_type": "execute_result"
    }
   ],
   "source": [
    "def change_dob(dob, power_ranger=5):\n",
    "    \"\"\"\n",
    "        Return the corresonding year range with the range of length {power_ranger}\n",
    "    \"\"\"\n",
    "    _, year = dob.split('/')\n",
    "    year = int(year)\n",
    "    while year % power_ranger != 0: year -= 1\n",
    "    return f\"[{year} - {year+power_ranger}]\"\n",
    "\n",
    "df.dob = df.dob.apply(change_dob)\n",
    "df.head(5)"
   ]
  },
  {
   "cell_type": "markdown",
   "metadata": {},
   "source": [
    "Drop all unique quasi-identifiers and not respecting the 2-diversity\n",
    "---"
   ]
  },
  {
   "cell_type": "code",
   "execution_count": 6,
   "metadata": {},
   "outputs": [
    {
     "name": "stdout",
     "output_type": "stream",
     "text": [
      "Percentage drop to respect 2-anonimity and 2-diversity = 8.25 %\n",
      "CSV saved to ./datasets/anonymized_hospital.csv\n"
     ]
    },
    {
     "data": {
      "text/html": "<div>\n<style scoped>\n    .dataframe tbody tr th:only-of-type {\n        vertical-align: middle;\n    }\n\n    .dataframe tbody tr th {\n        vertical-align: top;\n    }\n\n    .dataframe thead th {\n        text-align: right;\n    }\n</style>\n<table border=\"1\" class=\"dataframe\">\n  <thead>\n    <tr style=\"text-align: right;\">\n      <th></th>\n      <th>id</th>\n      <th>state</th>\n      <th>dob</th>\n      <th>disease</th>\n    </tr>\n  </thead>\n  <tbody>\n    <tr>\n      <th>0</th>\n      <td>7fe1cfe586f6f7865762a7dd4567721176092fe6016c84...</td>\n      <td>Unknown</td>\n      <td>[1950 - 1955]</td>\n      <td>Alzheimer's disease</td>\n    </tr>\n    <tr>\n      <th>1</th>\n      <td>797e01b2f02c9944c043dc482447700a7f2a7440a5b421...</td>\n      <td>(TX) Texas</td>\n      <td>[1940 - 1945]</td>\n      <td>multiple sclerosis</td>\n    </tr>\n    <tr>\n      <th>2</th>\n      <td>1f43cd5962fd09813bf727850101899bd0235e98ef8e39...</td>\n      <td>(IA) Iowa</td>\n      <td>[1965 - 1970]</td>\n      <td>heart disease</td>\n    </tr>\n    <tr>\n      <th>3</th>\n      <td>65168546582933b734037e5908fd93fd2c221c14a0c62f...</td>\n      <td>(WI) Wisconsin</td>\n      <td>[1940 - 1945]</td>\n      <td>endometriosis</td>\n    </tr>\n    <tr>\n      <th>4</th>\n      <td>3a6f5eabf34660c5dc90dcd90903e244c99bb1dba8ebef...</td>\n      <td>(NE) Nebraska</td>\n      <td>[1945 - 1950]</td>\n      <td>gastritis</td>\n    </tr>\n  </tbody>\n</table>\n</div>",
      "text/plain": "                                                  id           state  \\\n0  7fe1cfe586f6f7865762a7dd4567721176092fe6016c84...         Unknown   \n1  797e01b2f02c9944c043dc482447700a7f2a7440a5b421...      (TX) Texas   \n2  1f43cd5962fd09813bf727850101899bd0235e98ef8e39...       (IA) Iowa   \n3  65168546582933b734037e5908fd93fd2c221c14a0c62f...  (WI) Wisconsin   \n4  3a6f5eabf34660c5dc90dcd90903e244c99bb1dba8ebef...   (NE) Nebraska   \n\n             dob              disease  \n0  [1950 - 1955]  Alzheimer's disease  \n1  [1940 - 1945]   multiple sclerosis  \n2  [1965 - 1970]        heart disease  \n3  [1940 - 1945]        endometriosis  \n4  [1945 - 1950]            gastritis  "
     },
     "execution_count": 6,
     "metadata": {},
     "output_type": "execute_result"
    }
   ],
   "source": [
    "g = [\"state\", \"dob\"]\n",
    "gbqi = df[g+[\"disease\"]].groupby(g) # Group by quasi-identifiers\n",
    "indexes_to_drop = gbqi.filter(lambda x:x.disease.nunique()==1).index # Get the index of unique disease corresponding to a set of quasi-indentifiers\n",
    "final_df = df[[\"id\"]+g+[\"disease\"]].drop(indexes_to_drop).reset_index(drop=True) # Keep the rows respecting the 2-diversity\n",
    "\n",
    "print(f\"Percentage dropped to respect 2-anonimity and 2-diversity = {100*len(indexes_to_drop)/len(df)} %\")\n",
    "\n",
    "if input(f\"Save the dataset to {save_final_path} ? [y/n]\").lower() in [\"y\", \"yes\"]:\n",
    "    final_df.to_csv(save_final_path, index=False)\n",
    "    print(f\"CSV saved to {save_final_path}\")\n",
    "\n",
    "final_df.head(5)"
   ]
  }
 ],
 "metadata": {
  "kernelspec": {
   "display_name": "Python 3",
   "name": "python3"
  },
  "language_info": {
   "codemirror_mode": {
    "name": "ipython",
    "version": 3
   },
   "file_extension": ".py",
   "mimetype": "text/x-python",
   "name": "python",
   "nbconvert_exporter": "python",
   "pygments_lexer": "ipython3",
   "version": "3.7.6"
  },
  "orig_nbformat": 2
 },
 "nbformat": 4,
 "nbformat_minor": 2
}