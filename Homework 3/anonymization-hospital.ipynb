{
 "cells": [
  {
   "cell_type": "code",
   "execution_count": 1,
   "metadata": {},
   "outputs": [],
   "source": [
    "import os\n",
    "import string\n",
    "import hashlib\n",
    "import numpy as np\n",
    "import pandas as pd\n",
    "\n",
    "datasets_path = os.path.join(os.curdir, \"datasets\")\n",
    "csv_path = os.path.join(datasets_path, \"dataset - Privacy-Engineering.csv\")\n",
    "zip_path = os.path.join(datasets_path, \"matched_zips.csv\")\n",
    "\n",
    "save_final_path = os.path.join(datasets_path, \"final\", \"anonymized_hospital.csv\")\n",
    "\n",
    "raw_df = df = pd.read_csv(csv_path)\n",
    "df_zip = pd.read_csv(zip_path, dtype={\"zip\": 'string'})\n",
    "matched_zips = df_zip.set_index('zip')['state'].to_dict()"
   ]
  },
  {
   "cell_type": "markdown",
   "metadata": {},
   "source": [
    "Keep useful columns\n",
    "---"
   ]
  },
  {
   "cell_type": "code",
   "execution_count": 2,
   "metadata": {},
   "outputs": [
    {
     "data": {
      "text/html": "<div>\n<style scoped>\n    .dataframe tbody tr th:only-of-type {\n        vertical-align: middle;\n    }\n\n    .dataframe tbody tr th {\n        vertical-align: top;\n    }\n\n    .dataframe thead th {\n        text-align: right;\n    }\n</style>\n<table border=\"1\" class=\"dataframe\">\n  <thead>\n    <tr style=\"text-align: right;\">\n      <th></th>\n      <th>id</th>\n      <th>zipcode</th>\n      <th>dob</th>\n      <th>disease</th>\n    </tr>\n  </thead>\n  <tbody>\n    <tr>\n      <th>0</th>\n      <td>Amelia Morrow</td>\n      <td>26904</td>\n      <td>12/1950</td>\n      <td>Alzheimer's disease</td>\n    </tr>\n    <tr>\n      <th>1</th>\n      <td>Lillian Cole</td>\n      <td>78088</td>\n      <td>4/1940</td>\n      <td>multiple sclerosis</td>\n    </tr>\n    <tr>\n      <th>2</th>\n      <td>Lillian Simpson</td>\n      <td>51502</td>\n      <td>12/1966</td>\n      <td>heart disease</td>\n    </tr>\n    <tr>\n      <th>3</th>\n      <td>Avery Richards</td>\n      <td>54080</td>\n      <td>4/1943</td>\n      <td>endometriosis</td>\n    </tr>\n    <tr>\n      <th>4</th>\n      <td>Sophia Alvarado</td>\n      <td>68785</td>\n      <td>10/1947</td>\n      <td>gastritis</td>\n    </tr>\n  </tbody>\n</table>\n</div>",
      "text/plain": "                id  zipcode      dob              disease\n0    Amelia Morrow    26904  12/1950  Alzheimer's disease\n1     Lillian Cole    78088   4/1940   multiple sclerosis\n2  Lillian Simpson    51502  12/1966        heart disease\n3   Avery Richards    54080   4/1943        endometriosis\n4  Sophia Alvarado    68785  10/1947            gastritis"
     },
     "execution_count": 2,
     "metadata": {},
     "output_type": "execute_result"
    }
   ],
   "source": [
    "columns_to_keep = [\"id\", \"zipcode\", \"dob\", \"disease\"]\n",
    "df = df[columns_to_keep]\n",
    "df.head(5)"
   ]
  },
  {
   "cell_type": "markdown",
   "metadata": {},
   "source": [
    "Generate a unique id based on the hash of the initial id, the date of birth, the zipcode and a random salt\n",
    "---"
   ]
  },
  {
   "cell_type": "code",
   "execution_count": 3,
   "metadata": {},
   "outputs": [
    {
     "name": "stdout",
     "output_type": "stream",
     "text": [
      "All id unique ? True\n"
     ]
    },
    {
     "data": {
      "text/html": "<div>\n<style scoped>\n    .dataframe tbody tr th:only-of-type {\n        vertical-align: middle;\n    }\n\n    .dataframe tbody tr th {\n        vertical-align: top;\n    }\n\n    .dataframe thead th {\n        text-align: right;\n    }\n</style>\n<table border=\"1\" class=\"dataframe\">\n  <thead>\n    <tr style=\"text-align: right;\">\n      <th></th>\n      <th>id</th>\n      <th>zipcode</th>\n      <th>dob</th>\n      <th>disease</th>\n    </tr>\n  </thead>\n  <tbody>\n    <tr>\n      <th>0</th>\n      <td>acca8006f5ea3612008a334725b46072188c4768da162d...</td>\n      <td>26904</td>\n      <td>12/1950</td>\n      <td>Alzheimer's disease</td>\n    </tr>\n    <tr>\n      <th>1</th>\n      <td>962178310ebab3ca4bf3bc1f844034c5bc56f5fefb098e...</td>\n      <td>78088</td>\n      <td>4/1940</td>\n      <td>multiple sclerosis</td>\n    </tr>\n    <tr>\n      <th>2</th>\n      <td>399eb8bd888120fc3c63157c05fdc1cd29ce415ae6f704...</td>\n      <td>51502</td>\n      <td>12/1966</td>\n      <td>heart disease</td>\n    </tr>\n    <tr>\n      <th>3</th>\n      <td>e68f162b121686cc13485585be270e1c6789fd0d0afdac...</td>\n      <td>54080</td>\n      <td>4/1943</td>\n      <td>endometriosis</td>\n    </tr>\n    <tr>\n      <th>4</th>\n      <td>075209297829549515c45fa3763485eb493179bc63044e...</td>\n      <td>68785</td>\n      <td>10/1947</td>\n      <td>gastritis</td>\n    </tr>\n  </tbody>\n</table>\n</div>",
      "text/plain": "                                                  id  zipcode      dob  \\\n0  acca8006f5ea3612008a334725b46072188c4768da162d...    26904  12/1950   \n1  962178310ebab3ca4bf3bc1f844034c5bc56f5fefb098e...    78088   4/1940   \n2  399eb8bd888120fc3c63157c05fdc1cd29ce415ae6f704...    51502  12/1966   \n3  e68f162b121686cc13485585be270e1c6789fd0d0afdac...    54080   4/1943   \n4  075209297829549515c45fa3763485eb493179bc63044e...    68785  10/1947   \n\n               disease  \n0  Alzheimer's disease  \n1   multiple sclerosis  \n2        heart disease  \n3        endometriosis  \n4            gastritis  "
     },
     "execution_count": 3,
     "metadata": {},
     "output_type": "execute_result"
    }
   ],
   "source": [
    "df.id = df.apply(lambda x : hashlib.sha512((str(x.id) + str(x.zipcode) + str(x.dob)).encode() + os.urandom(256)).hexdigest(), axis=1)\n",
    "\n",
    "print(f\"All id unique ? {len(df.id) == df.id.nunique()}\")\n",
    "\n",
    "df.head(5)"
   ]
  },
  {
   "cell_type": "markdown",
   "metadata": {},
   "source": [
    "Change all zipcodes to corresponding state\n",
    "---"
   ]
  },
  {
   "cell_type": "code",
   "execution_count": 4,
   "metadata": {},
   "outputs": [
    {
     "data": {
      "text/html": "<div>\n<style scoped>\n    .dataframe tbody tr th:only-of-type {\n        vertical-align: middle;\n    }\n\n    .dataframe tbody tr th {\n        vertical-align: top;\n    }\n\n    .dataframe thead th {\n        text-align: right;\n    }\n</style>\n<table border=\"1\" class=\"dataframe\">\n  <thead>\n    <tr style=\"text-align: right;\">\n      <th></th>\n      <th>id</th>\n      <th>state</th>\n      <th>dob</th>\n      <th>disease</th>\n    </tr>\n  </thead>\n  <tbody>\n    <tr>\n      <th>0</th>\n      <td>acca8006f5ea3612008a334725b46072188c4768da162d...</td>\n      <td>Unknown</td>\n      <td>12/1950</td>\n      <td>Alzheimer's disease</td>\n    </tr>\n    <tr>\n      <th>1</th>\n      <td>962178310ebab3ca4bf3bc1f844034c5bc56f5fefb098e...</td>\n      <td>(TX) Texas</td>\n      <td>4/1940</td>\n      <td>multiple sclerosis</td>\n    </tr>\n    <tr>\n      <th>2</th>\n      <td>399eb8bd888120fc3c63157c05fdc1cd29ce415ae6f704...</td>\n      <td>(IA) Iowa</td>\n      <td>12/1966</td>\n      <td>heart disease</td>\n    </tr>\n    <tr>\n      <th>3</th>\n      <td>e68f162b121686cc13485585be270e1c6789fd0d0afdac...</td>\n      <td>(WI) Wisconsin</td>\n      <td>4/1943</td>\n      <td>endometriosis</td>\n    </tr>\n    <tr>\n      <th>4</th>\n      <td>075209297829549515c45fa3763485eb493179bc63044e...</td>\n      <td>(NE) Nebraska</td>\n      <td>10/1947</td>\n      <td>gastritis</td>\n    </tr>\n  </tbody>\n</table>\n</div>",
      "text/plain": "                                                  id           state      dob  \\\n0  acca8006f5ea3612008a334725b46072188c4768da162d...         Unknown  12/1950   \n1  962178310ebab3ca4bf3bc1f844034c5bc56f5fefb098e...      (TX) Texas   4/1940   \n2  399eb8bd888120fc3c63157c05fdc1cd29ce415ae6f704...       (IA) Iowa  12/1966   \n3  e68f162b121686cc13485585be270e1c6789fd0d0afdac...  (WI) Wisconsin   4/1943   \n4  075209297829549515c45fa3763485eb493179bc63044e...   (NE) Nebraska  10/1947   \n\n               disease  \n0  Alzheimer's disease  \n1   multiple sclerosis  \n2        heart disease  \n3        endometriosis  \n4            gastritis  "
     },
     "execution_count": 4,
     "metadata": {},
     "output_type": "execute_result"
    }
   ],
   "source": [
    "def find_state(zip_code):\n",
    "    \"\"\"\n",
    "        Return the state corresponding to the zipcode\n",
    "    \"\"\"\n",
    "    return matched_zips.get(str(zip_code)[0:3], \"Unknown\")\n",
    "\n",
    "df['zipcode'] = df.zipcode.apply(find_state)\n",
    "df.rename(columns={'zipcode':'state'}, inplace=True)\n",
    "df.head(5)"
   ]
  },
  {
   "cell_type": "markdown",
   "metadata": {},
   "source": [
    "Change all date of birth to its corresponding five years range\n",
    "--- "
   ]
  },
  {
   "cell_type": "code",
   "execution_count": 5,
   "metadata": {},
   "outputs": [
    {
     "data": {
      "text/html": "<div>\n<style scoped>\n    .dataframe tbody tr th:only-of-type {\n        vertical-align: middle;\n    }\n\n    .dataframe tbody tr th {\n        vertical-align: top;\n    }\n\n    .dataframe thead th {\n        text-align: right;\n    }\n</style>\n<table border=\"1\" class=\"dataframe\">\n  <thead>\n    <tr style=\"text-align: right;\">\n      <th></th>\n      <th>id</th>\n      <th>state</th>\n      <th>dob</th>\n      <th>disease</th>\n    </tr>\n  </thead>\n  <tbody>\n    <tr>\n      <th>0</th>\n      <td>acca8006f5ea3612008a334725b46072188c4768da162d...</td>\n      <td>Unknown</td>\n      <td>[1950 - 1954]</td>\n      <td>Alzheimer's disease</td>\n    </tr>\n    <tr>\n      <th>1</th>\n      <td>962178310ebab3ca4bf3bc1f844034c5bc56f5fefb098e...</td>\n      <td>(TX) Texas</td>\n      <td>[1940 - 1944]</td>\n      <td>multiple sclerosis</td>\n    </tr>\n    <tr>\n      <th>2</th>\n      <td>399eb8bd888120fc3c63157c05fdc1cd29ce415ae6f704...</td>\n      <td>(IA) Iowa</td>\n      <td>[1965 - 1969]</td>\n      <td>heart disease</td>\n    </tr>\n    <tr>\n      <th>3</th>\n      <td>e68f162b121686cc13485585be270e1c6789fd0d0afdac...</td>\n      <td>(WI) Wisconsin</td>\n      <td>[1940 - 1944]</td>\n      <td>endometriosis</td>\n    </tr>\n    <tr>\n      <th>4</th>\n      <td>075209297829549515c45fa3763485eb493179bc63044e...</td>\n      <td>(NE) Nebraska</td>\n      <td>[1945 - 1949]</td>\n      <td>gastritis</td>\n    </tr>\n  </tbody>\n</table>\n</div>",
      "text/plain": "                                                  id           state  \\\n0  acca8006f5ea3612008a334725b46072188c4768da162d...         Unknown   \n1  962178310ebab3ca4bf3bc1f844034c5bc56f5fefb098e...      (TX) Texas   \n2  399eb8bd888120fc3c63157c05fdc1cd29ce415ae6f704...       (IA) Iowa   \n3  e68f162b121686cc13485585be270e1c6789fd0d0afdac...  (WI) Wisconsin   \n4  075209297829549515c45fa3763485eb493179bc63044e...   (NE) Nebraska   \n\n             dob              disease  \n0  [1950 - 1954]  Alzheimer's disease  \n1  [1940 - 1944]   multiple sclerosis  \n2  [1965 - 1969]        heart disease  \n3  [1940 - 1944]        endometriosis  \n4  [1945 - 1949]            gastritis  "
     },
     "execution_count": 5,
     "metadata": {},
     "output_type": "execute_result"
    }
   ],
   "source": [
    "def change_dob(dob, power_ranger=5):\n",
    "    \"\"\"\n",
    "        Return the corresonding year range with the range of length {power_ranger}\n",
    "    \"\"\"\n",
    "\n",
    "    _, year = dob.split('/')\n",
    "    year = int(year)\n",
    "    while year % power_ranger != 0: year -= 1\n",
    "    return f\"[{year} - {year+power_ranger-1}]\"\n",
    "\n",
    "df.dob = df.dob.apply(change_dob)\n",
    "df.head(5)"
   ]
  },
  {
   "cell_type": "markdown",
   "metadata": {},
   "source": [
    "Drop all unique quasi-identifiers and those who do not respect the 2-diversity\n",
    "---"
   ]
  },
  {
   "cell_type": "code",
   "execution_count": 6,
   "metadata": {},
   "outputs": [],
   "source": [
    "quasi_identifiers = [\"state\", \"dob\"]\n",
    "sensitive_column = \"disease\"\n",
    "\n",
    "gbqi = df[quasi_identifiers+[sensitive_column]].groupby(quasi_identifiers) # Group by quasi-identifiers\n",
    "indexes_to_drop = gbqi.filter(lambda x:x.disease.nunique()==1).index # Get the index of unique disease corresponding to a set of quasi-indentifiers\n",
    "df = df[[\"id\"]+quasi_identifiers+[sensitive_column]].drop(indexes_to_drop) # Keep the rows respecting the 2-diversity"
   ]
  },
  {
   "cell_type": "markdown",
   "metadata": {},
   "source": [
    "To ensure that it's impossible to do a skewness attack, we need to drop 2 people\n",
    "---"
   ]
  },
  {
   "cell_type": "code",
   "execution_count": 7,
   "metadata": {},
   "outputs": [],
   "source": [
    "idx_to_drop_sorry_guys = [346, 846]\n",
    "df.drop(idx_to_drop_sorry_guys, inplace=True)"
   ]
  },
  {
   "cell_type": "markdown",
   "metadata": {},
   "source": [
    "Save the final dataset\n",
    "---"
   ]
  },
  {
   "cell_type": "code",
   "execution_count": 8,
   "metadata": {},
   "outputs": [
    {
     "name": "stdout",
     "output_type": "stream",
     "text": [
      "CSV saved to ./datasets/final/anonymized_hospital.csv\n",
      "Percentage dropped to respect 2-anonimity and 2-diversity = 8.25 %\n"
     ]
    },
    {
     "data": {
      "text/html": "<div>\n<style scoped>\n    .dataframe tbody tr th:only-of-type {\n        vertical-align: middle;\n    }\n\n    .dataframe tbody tr th {\n        vertical-align: top;\n    }\n\n    .dataframe thead th {\n        text-align: right;\n    }\n</style>\n<table border=\"1\" class=\"dataframe\">\n  <thead>\n    <tr style=\"text-align: right;\">\n      <th></th>\n      <th>id</th>\n      <th>state</th>\n      <th>dob</th>\n      <th>disease</th>\n    </tr>\n  </thead>\n  <tbody>\n    <tr>\n      <th>0</th>\n      <td>acca8006f5ea3612008a334725b46072188c4768da162d...</td>\n      <td>Unknown</td>\n      <td>[1950 - 1954]</td>\n      <td>Alzheimer's disease</td>\n    </tr>\n    <tr>\n      <th>1</th>\n      <td>962178310ebab3ca4bf3bc1f844034c5bc56f5fefb098e...</td>\n      <td>(TX) Texas</td>\n      <td>[1940 - 1944]</td>\n      <td>multiple sclerosis</td>\n    </tr>\n    <tr>\n      <th>2</th>\n      <td>399eb8bd888120fc3c63157c05fdc1cd29ce415ae6f704...</td>\n      <td>(IA) Iowa</td>\n      <td>[1965 - 1969]</td>\n      <td>heart disease</td>\n    </tr>\n    <tr>\n      <th>3</th>\n      <td>e68f162b121686cc13485585be270e1c6789fd0d0afdac...</td>\n      <td>(WI) Wisconsin</td>\n      <td>[1940 - 1944]</td>\n      <td>endometriosis</td>\n    </tr>\n    <tr>\n      <th>4</th>\n      <td>075209297829549515c45fa3763485eb493179bc63044e...</td>\n      <td>(NE) Nebraska</td>\n      <td>[1945 - 1949]</td>\n      <td>gastritis</td>\n    </tr>\n  </tbody>\n</table>\n</div>",
      "text/plain": "                                                  id           state  \\\n0  acca8006f5ea3612008a334725b46072188c4768da162d...         Unknown   \n1  962178310ebab3ca4bf3bc1f844034c5bc56f5fefb098e...      (TX) Texas   \n2  399eb8bd888120fc3c63157c05fdc1cd29ce415ae6f704...       (IA) Iowa   \n3  e68f162b121686cc13485585be270e1c6789fd0d0afdac...  (WI) Wisconsin   \n4  075209297829549515c45fa3763485eb493179bc63044e...   (NE) Nebraska   \n\n             dob              disease  \n0  [1950 - 1954]  Alzheimer's disease  \n1  [1940 - 1944]   multiple sclerosis  \n2  [1965 - 1969]        heart disease  \n3  [1940 - 1944]        endometriosis  \n4  [1945 - 1949]            gastritis  "
     },
     "execution_count": 8,
     "metadata": {},
     "output_type": "execute_result"
    }
   ],
   "source": [
    "if input(f\"Save the dataset to {save_final_path} ? [y/n]\").lower() in [\"y\", \"yes\"]:\n",
    "    df.to_csv(save_final_path, index=False)\n",
    "    print(f\"CSV saved to {save_final_path}\")\n",
    "\n",
    "print(f\"Percentage dropped to respect 2-anonimity and 2-diversity = {100*len(indexes_to_drop)/len(raw_df)} %\")\n",
    "df.head(5)"
   ]
  },
  {
   "cell_type": "markdown",
   "metadata": {},
   "source": [
    "Verificate if the final dataset is 2-anonym and 2-diverse\n",
    "---"
   ]
  },
  {
   "cell_type": "code",
   "execution_count": 9,
   "metadata": {},
   "outputs": [
    {
     "name": "stdout",
     "output_type": "stream",
     "text": [
      "Is the final dataset 2-anonym? True\n",
      "Is the final dataset 2-diverse? True\n"
     ]
    }
   ],
   "source": [
    "from utils import is_k_anonym, is_l_diverse # Personnal implemented functions\n",
    "\n",
    "k, l = 2, 2\n",
    "_is_k_anonym = is_k_anonym(df, quasi_identifiers, k)\n",
    "_is_l_diverse = is_l_diverse(df, sensitive_column, quasi_identifiers, l)\n",
    "\n",
    "print(f\"Is the final dataset {k}-anonym? {_is_k_anonym}\")\n",
    "print(f\"Is the final dataset {l}-diverse? {_is_l_diverse}\")"
   ]
  }
 ],
 "metadata": {
  "kernelspec": {
   "display_name": "Python 3.8.5 64-bit ('linma2472': conda)",
   "name": "python38564bitlinma2472conda3fd5d50668e246798fbdb3a5ee74f779"
  },
  "language_info": {
   "codemirror_mode": {
    "name": "ipython",
    "version": 3
   },
   "file_extension": ".py",
   "mimetype": "text/x-python",
   "name": "python",
   "nbconvert_exporter": "python",
   "pygments_lexer": "ipython3",
   "version": "3.8.5"
  },
  "orig_nbformat": 2
 },
 "nbformat": 4,
 "nbformat_minor": 2
}