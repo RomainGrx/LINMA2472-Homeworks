{
 "metadata": {
  "language_info": {
   "codemirror_mode": {
    "name": "ipython",
    "version": 3
   },
   "file_extension": ".py",
   "mimetype": "text/x-python",
   "name": "python",
   "nbconvert_exporter": "python",
   "pygments_lexer": "ipython3",
   "version": "3.8.3-final"
  },
  "orig_nbformat": 2,
  "kernelspec": {
   "name": "python3",
   "display_name": "Python 3.8.3 64-bit",
   "metadata": {
    "interpreter": {
     "hash": "56297cd0229b57c2ab24c9ec50848a7d86f74b08e1a4202a6e24fa79bb3d45be"
    }
   }
  }
 },
 "nbformat": 4,
 "nbformat_minor": 2,
 "cells": [
  {
   "cell_type": "code",
   "execution_count": 1,
   "metadata": {},
   "outputs": [],
   "source": [
    "from characters_real_names import *\n",
    "\n",
    "import re\n",
    "import spacy\n",
    "from spacy.tokens import Span\n",
    "\n",
    "import matplotlib.cm as cm\n",
    "import matplotlib.pyplot as plt\n",
    "import networkx as nx\n",
    "import numpy as np\n",
    "\n",
    "from community import community_louvain as louvain\n",
    "from netwulf import visualize\n",
    "\n",
    "nlp = spacy.load(\"en_core_web_sm\")\n",
    "\n",
    "# Used to get the gender and distinct people with same family noun. \n",
    "\n",
    "def get_person_title(span):\n",
    "    if span.label_ == \"PERSON\" and span.start != 0:\n",
    "        prev_token = span.doc[span.start - 1]\n",
    "        if prev_token.text in (\"Mr\", \"Mr.\", \"Mrs\", \"Mrs.\"):\n",
    "            return prev_token.text + \" \"\n",
    "    return \"\"\n",
    "\n",
    "Span.set_extension(\"person_title\", getter=get_person_title, force=True)\n",
    "\n",
    "book = open(\"../Homework 1/Harry Potter and the Sorcerer.txt\").read()\n",
    "\n",
    "book_chapters = re.split(r'CHAPTER [\\w+]+', book, flags=re.IGNORECASE)[1:]\n",
    "book_chapters[-1] = book_chapters[-1].split(\"THE END\")[0]\n"
   ]
  },
  {
   "cell_type": "code",
   "execution_count": 2,
   "metadata": {},
   "outputs": [],
   "source": [
    "docs = nlp(''.join(book_chapters))\n",
    "all_sentences = [sent.text.strip() for sent in docs.sents]"
   ]
  },
  {
   "cell_type": "code",
   "execution_count": 3,
   "metadata": {},
   "outputs": [
    {
     "output_type": "stream",
     "name": "stderr",
     "text": [
      "7275it [00:58, 124.42it/s]\n"
     ]
    }
   ],
   "source": [
    "from tqdm import tqdm\n",
    "all_characters_per_sentence = list()\n",
    "all_sentences_modified = list()\n",
    "\n",
    "# 7267 iterations\n",
    "for i,sentence in tqdm(enumerate(all_sentences)):\n",
    "    doc = nlp(sentence)\n",
    "    entities = [dict(title=ent._.person_title,name=ent.text,position=(ent.start,ent.end)) for ent in doc.ents if ent.label_ == \"PERSON\"]\n",
    "    all_characters_per_sentence.append(set())\n",
    "    all_sentences_modified.append(sentence)\n",
    "\n",
    "    for entity in entities:\n",
    "        full_name = (entity.get('title') + entity.get('name')).strip()\n",
    "        name_underscore = \"_\".join(entity.get('name').split(\" \"))\n",
    "        if name_underscore in all_real_names.keys():\n",
    "            all_characters_per_sentence[i].add(name_underscore)\n",
    "            continue\n",
    "        for real,check in all_real_names.items():\n",
    "            if full_name in check: \n",
    "                real_underscore = \"_\".join(real.split(\" \"))\n",
    "                all_sentences_modified[i] = re.sub(full_name, real_underscore, all_sentences_modified[i])\n",
    "                all_characters_per_sentence[i].add(real_underscore)\n"
   ]
  },
  {
   "cell_type": "code",
   "execution_count": 4,
   "metadata": {},
   "outputs": [],
   "source": [
    "all_characters_global = set()\n",
    "for characters in all_characters_per_sentence:\n",
    "    for character in characters:\n",
    "        all_characters_global.add(character)"
   ]
  },
  {
   "cell_type": "code",
   "execution_count": 5,
   "metadata": {},
   "outputs": [
    {
     "output_type": "execute_result",
     "data": {
      "text/plain": [
       "{'Aberforth_Dumbledore',\n",
       " 'Adalbert_Waffling',\n",
       " 'Albus_Dumbledore',\n",
       " 'Alicia_Spinnet',\n",
       " 'Angelina_Johnson',\n",
       " 'Arabella_Figg',\n",
       " 'Argus_Filch',\n",
       " 'Auntie_Marge',\n",
       " 'Bane',\n",
       " 'Bill_Weasley',\n",
       " 'Charlie_Weasley',\n",
       " 'Dean_Thomas',\n",
       " 'Dedalus_Diggle',\n",
       " 'Doris_Crockford',\n",
       " 'Draco_Malfoy',\n",
       " 'Dudley_Dursley',\n",
       " 'Dursleys_Family',\n",
       " 'Filius_Flitwick',\n",
       " 'Fred_Weasley',\n",
       " 'Garrick_Ollivander',\n",
       " 'George_Weasley',\n",
       " 'Ginny_Weasley',\n",
       " 'Gordon',\n",
       " 'Gregory_Goyle',\n",
       " 'Hannah_Abbott',\n",
       " 'Harry_Potter',\n",
       " 'Hedwig',\n",
       " 'Helga_Hufflepuff',\n",
       " 'Hermione_Granger',\n",
       " 'Irma_Pince',\n",
       " 'James_Potter',\n",
       " 'Katie_Bell',\n",
       " 'Lee_Jordan',\n",
       " 'Lily_Potter',\n",
       " 'Malcolm',\n",
       " 'Malfoys_Family',\n",
       " 'Marcus_Flint',\n",
       " 'Minerva_McGonagall',\n",
       " 'Molly_Weasley',\n",
       " 'Neville_Longbottom',\n",
       " 'Nicholas_de_Mimsy',\n",
       " 'Nicolas_Flamel',\n",
       " 'Norbert',\n",
       " 'Norris',\n",
       " 'Oliver_Wood',\n",
       " 'Percy_Weasley',\n",
       " 'Petunia_Dursley',\n",
       " 'Piers_Polkiss',\n",
       " 'Poppy_Pomfrey',\n",
       " 'Quentin_Trimble',\n",
       " 'Quirinus_Quirrell',\n",
       " 'Ron_Weasley',\n",
       " 'Rubeus_Hagrid',\n",
       " 'Salazar_Slytherin',\n",
       " 'Seamus_Finnigan',\n",
       " 'Severus_Snape',\n",
       " 'Sirius_Black',\n",
       " 'Susan_Bones',\n",
       " 'Tom_Riddle',\n",
       " 'Vernon_Dursley',\n",
       " 'Vincent_Crabbe',\n",
       " 'Weasley_Family'}"
      ]
     },
     "metadata": {},
     "execution_count": 5
    }
   ],
   "source": [
    "all_characters_global"
   ]
  },
  {
   "cell_type": "code",
   "execution_count": 6,
   "metadata": {},
   "outputs": [],
   "source": [
    "# Graph filling by sentence\n",
    "graph = nx.Graph()\n",
    "\n",
    "for characters in all_characters_per_sentence:\n",
    "    graph.add_nodes_from(characters)\n",
    "    if len(characters) < 2 : continue\n",
    "    unique = list(characters)\n",
    "    for idx in range(len(unique)-1):\n",
    "        edge = graph.get_edge_data(unique[idx], unique[idx-1])\n",
    "        if edge is not None : graph[unique[idx]][unique[idx-1]]['weight'] += 1\n",
    "        else : graph.add_edge(unique[idx], unique[idx-1], weight=1)\n",
    "\n"
   ]
  },
  {
   "cell_type": "code",
   "execution_count": 7,
   "metadata": {},
   "outputs": [
    {
     "output_type": "stream",
     "name": "stderr",
     "text": [
      "100%|██████████| 100/100 [00:00<00:00, 227.88it/s]\n"
     ]
    }
   ],
   "source": [
    "# ---\n",
    "# Louvain Algorithm\n",
    "# https://github.com/taynaud/python-louvain\n",
    "\n",
    "# Use mean partition of 100 partitions to smooth\n",
    "boot_partitions = {}\n",
    "for _ in tqdm(range(100)): \n",
    "    part = louvain.best_partition(graph)\n",
    "    for k,v in part.items():\n",
    "        if k in boot_partitions: boot_partitions[k].append(v)\n",
    "        else: boot_partitions[k] = [v]\n",
    "\n",
    "partition = {}\n",
    "for k,v in boot_partitions.items(): partition[k] = round(sum(v) / len(v))"
   ]
  },
  {
   "cell_type": "code",
   "execution_count": 8,
   "metadata": {},
   "outputs": [
    {
     "output_type": "execute_result",
     "data": {
      "text/plain": [
       "{0: ['Petunia_Dursley',\n",
       "  'Vernon_Dursley',\n",
       "  'Dudley_Dursley',\n",
       "  'Dursleys_Family',\n",
       "  'Auntie_Marge',\n",
       "  'Arabella_Figg',\n",
       "  'Piers_Polkiss',\n",
       "  'Malcolm',\n",
       "  'Gordon',\n",
       "  'Hedwig'],\n",
       " 1: ['Lily_Potter', 'Dedalus_Diggle', 'James_Potter', 'Doris_Crockford'],\n",
       " 2: ['Harry_Potter',\n",
       "  'Minerva_McGonagall',\n",
       "  'Aberforth_Dumbledore',\n",
       "  'Poppy_Pomfrey',\n",
       "  'Rubeus_Hagrid',\n",
       "  'Sirius_Black',\n",
       "  'Tom_Riddle',\n",
       "  'Quirinus_Quirrell',\n",
       "  'Garrick_Ollivander',\n",
       "  'Ginny_Weasley',\n",
       "  'Ron_Weasley',\n",
       "  'Nicolas_Flamel',\n",
       "  'Hermione_Granger',\n",
       "  'Seamus_Finnigan',\n",
       "  'Neville_Longbottom',\n",
       "  'Nicholas_de_Mimsy',\n",
       "  'Severus_Snape',\n",
       "  'Argus_Filch',\n",
       "  'Norris',\n",
       "  'Filius_Flitwick',\n",
       "  'Dean_Thomas',\n",
       "  'Marcus_Flint',\n",
       "  'Weasley_Family',\n",
       "  'Irma_Pince',\n",
       "  'Bane'],\n",
       " 3: ['Albus_Dumbledore'],\n",
       " 4: ['Adalbert_Waffling'],\n",
       " 5: ['Quentin_Trimble'],\n",
       " 6: ['Helga_Hufflepuff',\n",
       "  'Salazar_Slytherin',\n",
       "  'Fred_Weasley',\n",
       "  'George_Weasley',\n",
       "  'Vincent_Crabbe',\n",
       "  'Gregory_Goyle',\n",
       "  'Draco_Malfoy',\n",
       "  'Hannah_Abbott',\n",
       "  'Susan_Bones',\n",
       "  'Oliver_Wood',\n",
       "  'Malfoys_Family',\n",
       "  'Angelina_Johnson',\n",
       "  'Alicia_Spinnet'],\n",
       " 7: ['Percy_Weasley',\n",
       "  'Lee_Jordan',\n",
       "  'Bill_Weasley',\n",
       "  'Charlie_Weasley',\n",
       "  'Katie_Bell',\n",
       "  'Molly_Weasley',\n",
       "  'Norbert']}"
      ]
     },
     "metadata": {},
     "execution_count": 8
    }
   ],
   "source": [
    "partition\n",
    "part_clean = {}\n",
    "for v,k in partition.items():\n",
    "    if k not in part_clean:\n",
    "        part_clean[k] = [v]\n",
    "    else: part_clean[k].append(v)\n",
    "part_clean"
   ]
  },
  {
   "cell_type": "code",
   "execution_count": 9,
   "metadata": {},
   "outputs": [
    {
     "output_type": "stream",
     "name": "stderr",
     "text": [
      "100%|██████████| 7275/7275 [00:00<00:00, 51010.41it/s]\n"
     ]
    }
   ],
   "source": [
    "from gensim.parsing.preprocessing import preprocess_string\n",
    "\n",
    "from string import punctuation\n",
    "from gensim.parsing.preprocessing import strip_tags     \n",
    "from gensim.parsing.preprocessing import strip_short      \n",
    "from gensim.parsing.preprocessing import strip_multiple_whitespaces\n",
    "from gensim.parsing.preprocessing import strip_non_alphanum\n",
    "\n",
    "CUSTOM_FILTERS = [lambda x: strip_short(x.lower(), 1), strip_multiple_whitespaces, strip_tags, strip_non_alphanum]\n",
    "\n",
    "all_sentences_preprocessed = []\n",
    "punctuation_to_remove = punctuation.replace(\"_\", \"\")\n",
    "for sent in tqdm(all_sentences):\n",
    "    sent = sent.translate(str.maketrans('', '', punctuation_to_remove))\n",
    "    parsed_line = preprocess_string(sent, CUSTOM_FILTERS)\n",
    "    all_sentences_preprocessed.append(parsed_line)"
   ]
  },
  {
   "cell_type": "code",
   "execution_count": 16,
   "metadata": {},
   "outputs": [
    {
     "output_type": "stream",
     "name": "stdout",
     "text": [
      "Vocabulary size :: 6035\n"
     ]
    }
   ],
   "source": [
    "import gensim\n",
    "\n",
    "# DEFINE MODEL\n",
    "model = gensim.models.Word2Vec(size=100, window = 4,\n",
    "                               min_count=1, alpha = 0.01)\n",
    "\n",
    "# BUILD VOCABULARY\n",
    "model.build_vocab(all_sentences_preprocessed)\n",
    "\n",
    "# AND TRAIN THE MODEL\n",
    "iterations = range(10)\n",
    "for i in iterations:\n",
    "    model.train(all_sentences_preprocessed, total_examples=model.corpus_count, compute_loss = True, \n",
    "                epochs = 100)\n",
    "    \n",
    "# GET THE VOCABULARY FROM THE MODEL\n",
    "vocabulary = list(model.wv.vocab)\n",
    "print(f\"Vocabulary size :: {len(vocabulary)}\")\n",
    "\n",
    "# GET THE WORD EMBEDDING VECTORS\n",
    "embedding_vectors = model[model.wv.vocab]"
   ]
  },
  {
   "cell_type": "code",
   "execution_count": 17,
   "metadata": {},
   "outputs": [],
   "source": [
    "person_set_processed = [s for s in all_real_names if s.lower() in vocabulary]\n",
    "person_set_vocab = [s.lower() for s in person_set_processed]\n",
    "embedding_vectors_caracters=model[person_set_vocab]\n",
    "#person_set_vocab"
   ]
  },
  {
   "cell_type": "code",
   "execution_count": 18,
   "metadata": {},
   "outputs": [
    {
     "output_type": "execute_result",
     "data": {
      "text/plain": [
       "16"
      ]
     },
     "metadata": {},
     "execution_count": 18
    }
   ],
   "source": [
    "len(person_set_vocab)"
   ]
  },
  {
   "cell_type": "code",
   "execution_count": 14,
   "metadata": {},
   "outputs": [
    {
     "output_type": "error",
     "ename": "ModuleNotFoundError",
     "evalue": "No module named 'sklearn'",
     "traceback": [
      "\u001b[1;31m---------------------------------------------------------------------------\u001b[0m",
      "\u001b[1;31mModuleNotFoundError\u001b[0m                       Traceback (most recent call last)",
      "\u001b[1;32m<ipython-input-14-6dafc19a97c6>\u001b[0m in \u001b[0;36m<module>\u001b[1;34m\u001b[0m\n\u001b[1;32m----> 1\u001b[1;33m \u001b[1;32mfrom\u001b[0m \u001b[0msklearn\u001b[0m\u001b[1;33m.\u001b[0m\u001b[0mmanifold\u001b[0m \u001b[1;32mimport\u001b[0m \u001b[0mTSNE\u001b[0m\u001b[1;33m\u001b[0m\u001b[1;33m\u001b[0m\u001b[0m\n\u001b[0m\u001b[0;32m      2\u001b[0m \u001b[1;32mfrom\u001b[0m \u001b[0msklearn\u001b[0m\u001b[1;33m.\u001b[0m\u001b[0mdecomposition\u001b[0m \u001b[1;32mimport\u001b[0m \u001b[0mPCA\u001b[0m\u001b[1;33m\u001b[0m\u001b[1;33m\u001b[0m\u001b[0m\n\u001b[0;32m      3\u001b[0m \u001b[1;33m\u001b[0m\u001b[0m\n\u001b[0;32m      4\u001b[0m \u001b[1;31m# TRANSFORM THE EMBEDDING USING T-SNE INTO 2D\u001b[0m\u001b[1;33m\u001b[0m\u001b[1;33m\u001b[0m\u001b[1;33m\u001b[0m\u001b[0m\n\u001b[0;32m      5\u001b[0m \u001b[0mV_tranform\u001b[0m \u001b[1;33m=\u001b[0m \u001b[0mTSNE\u001b[0m\u001b[1;33m(\u001b[0m\u001b[0mn_components\u001b[0m\u001b[1;33m=\u001b[0m\u001b[1;36m2\u001b[0m\u001b[1;33m)\u001b[0m\u001b[1;33m.\u001b[0m\u001b[0mfit_transform\u001b[0m\u001b[1;33m(\u001b[0m\u001b[0membedding_vectors_caracters\u001b[0m\u001b[1;33m)\u001b[0m\u001b[1;33m\u001b[0m\u001b[1;33m\u001b[0m\u001b[0m\n",
      "\u001b[1;31mModuleNotFoundError\u001b[0m: No module named 'sklearn'"
     ]
    }
   ],
   "source": [
    "from sklearn.manifold import TSNE\n",
    "from sklearn.decomposition import PCA\n",
    "\n",
    "# TRANSFORM THE EMBEDDING USING T-SNE INTO 2D\n",
    "V_tranform = TSNE(n_components=2).fit_transform(embedding_vectors_caracters)"
   ]
  },
  {
   "cell_type": "code",
   "execution_count": 16,
   "metadata": {},
   "outputs": [
    {
     "output_type": "display_data",
     "data": {
      "text/plain": "<Figure size 900x720 with 1 Axes>",
      "image/svg+xml": "<?xml version=\"1.0\" encoding=\"utf-8\" standalone=\"no\"?>\r\n<!DOCTYPE svg PUBLIC \"-//W3C//DTD SVG 1.1//EN\"\r\n  \"http://www.w3.org/Graphics/SVG/1.1/DTD/svg11.dtd\">\r\n<!-- Created with matplotlib (https://matplotlib.org/) -->\r\n<svg height=\"479.63625pt\" version=\"1.1\" viewBox=\"0 0 620.545312 479.63625\" width=\"620.545312pt\" xmlns=\"http://www.w3.org/2000/svg\" xmlns:xlink=\"http://www.w3.org/1999/xlink\">\r\n <metadata>\r\n  <rdf:RDF xmlns:cc=\"http://creativecommons.org/ns#\" xmlns:dc=\"http://purl.org/dc/elements/1.1/\" xmlns:rdf=\"http://www.w3.org/1999/02/22-rdf-syntax-ns#\">\r\n   <cc:Work>\r\n    <dc:type rdf:resource=\"http://purl.org/dc/dcmitype/StillImage\"/>\r\n    <dc:date>2020-11-10T15:35:47.249464</dc:date>\r\n    <dc:format>image/svg+xml</dc:format>\r\n    <dc:creator>\r\n     <cc:Agent>\r\n      <dc:title>Matplotlib v3.3.2, https://matplotlib.org/</dc:title>\r\n     </cc:Agent>\r\n    </dc:creator>\r\n   </cc:Work>\r\n  </rdf:RDF>\r\n </metadata>\r\n <defs>\r\n  <style type=\"text/css\">*{stroke-linecap:butt;stroke-linejoin:round;}</style>\r\n </defs>\r\n <g id=\"figure_1\">\r\n  <g id=\"patch_1\">\r\n   <path d=\"M 0 479.63625 \r\nL 620.545312 479.63625 \r\nL 620.545312 0 \r\nL 0 0 \r\nz\r\n\" style=\"fill:none;\"/>\r\n  </g>\r\n  <g id=\"axes_1\">\r\n   <g id=\"patch_2\">\r\n    <path d=\"M 55.345313 442.08 \r\nL 613.345312 442.08 \r\nL 613.345312 7.2 \r\nL 55.345313 7.2 \r\nz\r\n\" style=\"fill:#ffffff;\"/>\r\n   </g>\r\n   <g id=\"PathCollection_1\">\r\n    <defs>\r\n     <path d=\"M 0 1.767767 \r\nC 0.468817 1.767767 0.918496 1.581504 1.25 1.25 \r\nC 1.581504 0.918496 1.767767 0.468817 1.767767 0 \r\nC 1.767767 -0.468817 1.581504 -0.918496 1.25 -1.25 \r\nC 0.918496 -1.581504 0.468817 -1.767767 0 -1.767767 \r\nC -0.468817 -1.767767 -0.918496 -1.581504 -1.25 -1.25 \r\nC -1.581504 -0.918496 -1.767767 -0.468817 -1.767767 0 \r\nC -1.767767 0.468817 -1.581504 0.918496 -1.25 1.25 \r\nC -0.918496 1.581504 -0.468817 1.767767 0 1.767767 \r\nz\r\n\" id=\"m1a2812133b\"/>\r\n    </defs>\r\n    <g clip-path=\"url(#p972e5cd353)\">\r\n     <use style=\"fill:#1f77b4;fill-opacity:0.7;\" x=\"273.747644\" xlink:href=\"#m1a2812133b\" y=\"189.571042\"/>\r\n     <use style=\"fill:#1f77b4;fill-opacity:0.7;\" x=\"336.935449\" xlink:href=\"#m1a2812133b\" y=\"163.112664\"/>\r\n     <use style=\"fill:#1f77b4;fill-opacity:0.7;\" x=\"155.796941\" xlink:href=\"#m1a2812133b\" y=\"208.798122\"/>\r\n     <use style=\"fill:#1f77b4;fill-opacity:0.7;\" x=\"173.594464\" xlink:href=\"#m1a2812133b\" y=\"149.46658\"/>\r\n     <use style=\"fill:#1f77b4;fill-opacity:0.7;\" x=\"456.816221\" xlink:href=\"#m1a2812133b\" y=\"158.32495\"/>\r\n     <use style=\"fill:#1f77b4;fill-opacity:0.7;\" x=\"411.840045\" xlink:href=\"#m1a2812133b\" y=\"278.849911\"/>\r\n     <use style=\"fill:#1f77b4;fill-opacity:0.7;\" x=\"350.647918\" xlink:href=\"#m1a2812133b\" y=\"422.312727\"/>\r\n     <use style=\"fill:#1f77b4;fill-opacity:0.7;\" x=\"398.159062\" xlink:href=\"#m1a2812133b\" y=\"87.474699\"/>\r\n     <use style=\"fill:#1f77b4;fill-opacity:0.7;\" x=\"278.862522\" xlink:href=\"#m1a2812133b\" y=\"32.66063\"/>\r\n     <use style=\"fill:#1f77b4;fill-opacity:0.7;\" x=\"493.458091\" xlink:href=\"#m1a2812133b\" y=\"409.952661\"/>\r\n     <use style=\"fill:#1f77b4;fill-opacity:0.7;\" x=\"278.803994\" xlink:href=\"#m1a2812133b\" y=\"371.591679\"/>\r\n     <use style=\"fill:#1f77b4;fill-opacity:0.7;\" x=\"366.213325\" xlink:href=\"#m1a2812133b\" y=\"198.326842\"/>\r\n     <use style=\"fill:#1f77b4;fill-opacity:0.7;\" x=\"315.060079\" xlink:href=\"#m1a2812133b\" y=\"263.760776\"/>\r\n     <use style=\"fill:#1f77b4;fill-opacity:0.7;\" x=\"362.841628\" xlink:href=\"#m1a2812133b\" y=\"296.289788\"/>\r\n     <use style=\"fill:#1f77b4;fill-opacity:0.7;\" x=\"579.830563\" xlink:href=\"#m1a2812133b\" y=\"195.35276\"/>\r\n     <use style=\"fill:#1f77b4;fill-opacity:0.7;\" x=\"154.797804\" xlink:href=\"#m1a2812133b\" y=\"54.419631\"/>\r\n     <use style=\"fill:#1f77b4;fill-opacity:0.7;\" x=\"319.512738\" xlink:href=\"#m1a2812133b\" y=\"194.585264\"/>\r\n     <use style=\"fill:#1f77b4;fill-opacity:0.7;\" x=\"363.00198\" xlink:href=\"#m1a2812133b\" y=\"347.715675\"/>\r\n     <use style=\"fill:#1f77b4;fill-opacity:0.7;\" x=\"439.987256\" xlink:href=\"#m1a2812133b\" y=\"237.51132\"/>\r\n     <use style=\"fill:#1f77b4;fill-opacity:0.7;\" x=\"195.983258\" xlink:href=\"#m1a2812133b\" y=\"375.833441\"/>\r\n     <use style=\"fill:#1f77b4;fill-opacity:0.7;\" x=\"425.692156\" xlink:href=\"#m1a2812133b\" y=\"329.224625\"/>\r\n     <use style=\"fill:#1f77b4;fill-opacity:0.7;\" x=\"310.208134\" xlink:href=\"#m1a2812133b\" y=\"311.032002\"/>\r\n     <use style=\"fill:#1f77b4;fill-opacity:0.7;\" x=\"337.576214\" xlink:href=\"#m1a2812133b\" y=\"73.389384\"/>\r\n     <use style=\"fill:#1f77b4;fill-opacity:0.7;\" x=\"236.716625\" xlink:href=\"#m1a2812133b\" y=\"138.412844\"/>\r\n     <use style=\"fill:#1f77b4;fill-opacity:0.7;\" x=\"392.653947\" xlink:href=\"#m1a2812133b\" y=\"229.037977\"/>\r\n     <use style=\"fill:#1f77b4;fill-opacity:0.7;\" x=\"384.96693\" xlink:href=\"#m1a2812133b\" y=\"165.785503\"/>\r\n     <use style=\"fill:#1f77b4;fill-opacity:0.7;\" x=\"286.986279\" xlink:href=\"#m1a2812133b\" y=\"103.161849\"/>\r\n     <use style=\"fill:#1f77b4;fill-opacity:0.7;\" x=\"250.77074\" xlink:href=\"#m1a2812133b\" y=\"316.515948\"/>\r\n     <use style=\"fill:#1f77b4;fill-opacity:0.7;\" x=\"362.612519\" xlink:href=\"#m1a2812133b\" y=\"257.35455\"/>\r\n     <use style=\"fill:#1f77b4;fill-opacity:0.7;\" x=\"230.788572\" xlink:href=\"#m1a2812133b\" y=\"193.363411\"/>\r\n     <use style=\"fill:#1f77b4;fill-opacity:0.7;\" x=\"354.859408\" xlink:href=\"#m1a2812133b\" y=\"125.677391\"/>\r\n     <use style=\"fill:#1f77b4;fill-opacity:0.7;\" x=\"339.940756\" xlink:href=\"#m1a2812133b\" y=\"226.290539\"/>\r\n     <use style=\"fill:#1f77b4;fill-opacity:0.7;\" x=\"294.894412\" xlink:href=\"#m1a2812133b\" y=\"228.435624\"/>\r\n     <use style=\"fill:#1f77b4;fill-opacity:0.7;\" x=\"420.581058\" xlink:href=\"#m1a2812133b\" y=\"385.975753\"/>\r\n     <use style=\"fill:#1f77b4;fill-opacity:0.7;\" x=\"537.7131\" xlink:href=\"#m1a2812133b\" y=\"252.244793\"/>\r\n     <use style=\"fill:#1f77b4;fill-opacity:0.7;\" x=\"542.979654\" xlink:href=\"#m1a2812133b\" y=\"75.68452\"/>\r\n     <use style=\"fill:#1f77b4;fill-opacity:0.7;\" x=\"497.176631\" xlink:href=\"#m1a2812133b\" y=\"339.688223\"/>\r\n     <use style=\"fill:#1f77b4;fill-opacity:0.7;\" x=\"80.708949\" xlink:href=\"#m1a2812133b\" y=\"168.778493\"/>\r\n     <use style=\"fill:#1f77b4;fill-opacity:0.7;\" x=\"412.22904\" xlink:href=\"#m1a2812133b\" y=\"133.968151\"/>\r\n     <use style=\"fill:#1f77b4;fill-opacity:0.7;\" x=\"471.996735\" xlink:href=\"#m1a2812133b\" y=\"277.219565\"/>\r\n     <use style=\"fill:#1f77b4;fill-opacity:0.7;\" x=\"263.68692\" xlink:href=\"#m1a2812133b\" y=\"266.841117\"/>\r\n     <use style=\"fill:#1f77b4;fill-opacity:0.7;\" x=\"292.793888\" xlink:href=\"#m1a2812133b\" y=\"152.742559\"/>\r\n     <use style=\"fill:#1f77b4;fill-opacity:0.7;\" x=\"208.145904\" xlink:href=\"#m1a2812133b\" y=\"79.883994\"/>\r\n     <use style=\"fill:#1f77b4;fill-opacity:0.7;\" x=\"465.61544\" xlink:href=\"#m1a2812133b\" y=\"95.869884\"/>\r\n     <use style=\"fill:#1f77b4;fill-opacity:0.7;\" x=\"405.550541\" xlink:href=\"#m1a2812133b\" y=\"26.967273\"/>\r\n     <use style=\"fill:#1f77b4;fill-opacity:0.7;\" x=\"180.164141\" xlink:href=\"#m1a2812133b\" y=\"305.139611\"/>\r\n     <use style=\"fill:#1f77b4;fill-opacity:0.7;\" x=\"587.981676\" xlink:href=\"#m1a2812133b\" y=\"308.246319\"/>\r\n     <use style=\"fill:#1f77b4;fill-opacity:0.7;\" x=\"483.018601\" xlink:href=\"#m1a2812133b\" y=\"204.947913\"/>\r\n     <use style=\"fill:#1f77b4;fill-opacity:0.7;\" x=\"523.769887\" xlink:href=\"#m1a2812133b\" y=\"149.736044\"/>\r\n     <use style=\"fill:#1f77b4;fill-opacity:0.7;\" x=\"104.321444\" xlink:href=\"#m1a2812133b\" y=\"270.789388\"/>\r\n     <use style=\"fill:#1f77b4;fill-opacity:0.7;\" x=\"202.245884\" xlink:href=\"#m1a2812133b\" y=\"251.730487\"/>\r\n     <use style=\"fill:#1f77b4;fill-opacity:0.7;\" x=\"418.909229\" xlink:href=\"#m1a2812133b\" y=\"193.935659\"/>\r\n     <use style=\"fill:#1f77b4;fill-opacity:0.7;\" x=\"249.960719\" xlink:href=\"#m1a2812133b\" y=\"220.162581\"/>\r\n    </g>\r\n   </g>\r\n   <g id=\"matplotlib.axis_1\">\r\n    <g id=\"xtick_1\">\r\n     <g id=\"line2d_1\">\r\n      <defs>\r\n       <path d=\"M 0 0 \r\nL 0 3.5 \r\n\" id=\"m8cab1a6373\" style=\"stroke:#000000;stroke-width:0.8;\"/>\r\n      </defs>\r\n      <g>\r\n       <use style=\"stroke:#000000;stroke-width:0.8;\" x=\"123.539345\" xlink:href=\"#m8cab1a6373\" y=\"442.08\"/>\r\n      </g>\r\n     </g>\r\n     <g id=\"text_1\">\r\n      <!-- −100 -->\r\n      <g transform=\"translate(109.805751 456.678437)scale(0.1 -0.1)\">\r\n       <defs>\r\n        <path d=\"M 10.59375 35.5 \r\nL 73.1875 35.5 \r\nL 73.1875 27.203125 \r\nL 10.59375 27.203125 \r\nz\r\n\" id=\"DejaVuSans-8722\"/>\r\n        <path d=\"M 12.40625 8.296875 \r\nL 28.515625 8.296875 \r\nL 28.515625 63.921875 \r\nL 10.984375 60.40625 \r\nL 10.984375 69.390625 \r\nL 28.421875 72.90625 \r\nL 38.28125 72.90625 \r\nL 38.28125 8.296875 \r\nL 54.390625 8.296875 \r\nL 54.390625 0 \r\nL 12.40625 0 \r\nz\r\n\" id=\"DejaVuSans-49\"/>\r\n        <path d=\"M 31.78125 66.40625 \r\nQ 24.171875 66.40625 20.328125 58.90625 \r\nQ 16.5 51.421875 16.5 36.375 \r\nQ 16.5 21.390625 20.328125 13.890625 \r\nQ 24.171875 6.390625 31.78125 6.390625 \r\nQ 39.453125 6.390625 43.28125 13.890625 \r\nQ 47.125 21.390625 47.125 36.375 \r\nQ 47.125 51.421875 43.28125 58.90625 \r\nQ 39.453125 66.40625 31.78125 66.40625 \r\nz\r\nM 31.78125 74.21875 \r\nQ 44.046875 74.21875 50.515625 64.515625 \r\nQ 56.984375 54.828125 56.984375 36.375 \r\nQ 56.984375 17.96875 50.515625 8.265625 \r\nQ 44.046875 -1.421875 31.78125 -1.421875 \r\nQ 19.53125 -1.421875 13.0625 8.265625 \r\nQ 6.59375 17.96875 6.59375 36.375 \r\nQ 6.59375 54.828125 13.0625 64.515625 \r\nQ 19.53125 74.21875 31.78125 74.21875 \r\nz\r\n\" id=\"DejaVuSans-48\"/>\r\n       </defs>\r\n       <use xlink:href=\"#DejaVuSans-8722\"/>\r\n       <use x=\"83.789062\" xlink:href=\"#DejaVuSans-49\"/>\r\n       <use x=\"147.412109\" xlink:href=\"#DejaVuSans-48\"/>\r\n       <use x=\"211.035156\" xlink:href=\"#DejaVuSans-48\"/>\r\n      </g>\r\n     </g>\r\n    </g>\r\n    <g id=\"xtick_2\">\r\n     <g id=\"line2d_2\">\r\n      <g>\r\n       <use style=\"stroke:#000000;stroke-width:0.8;\" x=\"223.740495\" xlink:href=\"#m8cab1a6373\" y=\"442.08\"/>\r\n      </g>\r\n     </g>\r\n     <g id=\"text_2\">\r\n      <!-- −50 -->\r\n      <g transform=\"translate(213.188151 456.678437)scale(0.1 -0.1)\">\r\n       <defs>\r\n        <path d=\"M 10.796875 72.90625 \r\nL 49.515625 72.90625 \r\nL 49.515625 64.59375 \r\nL 19.828125 64.59375 \r\nL 19.828125 46.734375 \r\nQ 21.96875 47.46875 24.109375 47.828125 \r\nQ 26.265625 48.1875 28.421875 48.1875 \r\nQ 40.625 48.1875 47.75 41.5 \r\nQ 54.890625 34.8125 54.890625 23.390625 \r\nQ 54.890625 11.625 47.5625 5.09375 \r\nQ 40.234375 -1.421875 26.90625 -1.421875 \r\nQ 22.3125 -1.421875 17.546875 -0.640625 \r\nQ 12.796875 0.140625 7.71875 1.703125 \r\nL 7.71875 11.625 \r\nQ 12.109375 9.234375 16.796875 8.0625 \r\nQ 21.484375 6.890625 26.703125 6.890625 \r\nQ 35.15625 6.890625 40.078125 11.328125 \r\nQ 45.015625 15.765625 45.015625 23.390625 \r\nQ 45.015625 31 40.078125 35.4375 \r\nQ 35.15625 39.890625 26.703125 39.890625 \r\nQ 22.75 39.890625 18.8125 39.015625 \r\nQ 14.890625 38.140625 10.796875 36.28125 \r\nz\r\n\" id=\"DejaVuSans-53\"/>\r\n       </defs>\r\n       <use xlink:href=\"#DejaVuSans-8722\"/>\r\n       <use x=\"83.789062\" xlink:href=\"#DejaVuSans-53\"/>\r\n       <use x=\"147.412109\" xlink:href=\"#DejaVuSans-48\"/>\r\n      </g>\r\n     </g>\r\n    </g>\r\n    <g id=\"xtick_3\">\r\n     <g id=\"line2d_3\">\r\n      <g>\r\n       <use style=\"stroke:#000000;stroke-width:0.8;\" x=\"323.941646\" xlink:href=\"#m8cab1a6373\" y=\"442.08\"/>\r\n      </g>\r\n     </g>\r\n     <g id=\"text_3\">\r\n      <!-- 0 -->\r\n      <g transform=\"translate(320.760396 456.678437)scale(0.1 -0.1)\">\r\n       <use xlink:href=\"#DejaVuSans-48\"/>\r\n      </g>\r\n     </g>\r\n    </g>\r\n    <g id=\"xtick_4\">\r\n     <g id=\"line2d_4\">\r\n      <g>\r\n       <use style=\"stroke:#000000;stroke-width:0.8;\" x=\"424.142796\" xlink:href=\"#m8cab1a6373\" y=\"442.08\"/>\r\n      </g>\r\n     </g>\r\n     <g id=\"text_4\">\r\n      <!-- 50 -->\r\n      <g transform=\"translate(417.780296 456.678437)scale(0.1 -0.1)\">\r\n       <use xlink:href=\"#DejaVuSans-53\"/>\r\n       <use x=\"63.623047\" xlink:href=\"#DejaVuSans-48\"/>\r\n      </g>\r\n     </g>\r\n    </g>\r\n    <g id=\"xtick_5\">\r\n     <g id=\"line2d_5\">\r\n      <g>\r\n       <use style=\"stroke:#000000;stroke-width:0.8;\" x=\"524.343946\" xlink:href=\"#m8cab1a6373\" y=\"442.08\"/>\r\n      </g>\r\n     </g>\r\n     <g id=\"text_5\">\r\n      <!-- 100 -->\r\n      <g transform=\"translate(514.800196 456.678437)scale(0.1 -0.1)\">\r\n       <use xlink:href=\"#DejaVuSans-49\"/>\r\n       <use x=\"63.623047\" xlink:href=\"#DejaVuSans-48\"/>\r\n       <use x=\"127.246094\" xlink:href=\"#DejaVuSans-48\"/>\r\n      </g>\r\n     </g>\r\n    </g>\r\n    <g id=\"text_6\">\r\n     <!-- t-SNE 1 -->\r\n     <g transform=\"translate(315.736719 470.356562)scale(0.1 -0.1)\">\r\n      <defs>\r\n       <path d=\"M 18.3125 70.21875 \r\nL 18.3125 54.6875 \r\nL 36.8125 54.6875 \r\nL 36.8125 47.703125 \r\nL 18.3125 47.703125 \r\nL 18.3125 18.015625 \r\nQ 18.3125 11.328125 20.140625 9.421875 \r\nQ 21.96875 7.515625 27.59375 7.515625 \r\nL 36.8125 7.515625 \r\nL 36.8125 0 \r\nL 27.59375 0 \r\nQ 17.1875 0 13.234375 3.875 \r\nQ 9.28125 7.765625 9.28125 18.015625 \r\nL 9.28125 47.703125 \r\nL 2.6875 47.703125 \r\nL 2.6875 54.6875 \r\nL 9.28125 54.6875 \r\nL 9.28125 70.21875 \r\nz\r\n\" id=\"DejaVuSans-116\"/>\r\n       <path d=\"M 4.890625 31.390625 \r\nL 31.203125 31.390625 \r\nL 31.203125 23.390625 \r\nL 4.890625 23.390625 \r\nz\r\n\" id=\"DejaVuSans-45\"/>\r\n       <path d=\"M 53.515625 70.515625 \r\nL 53.515625 60.890625 \r\nQ 47.90625 63.578125 42.921875 64.890625 \r\nQ 37.9375 66.21875 33.296875 66.21875 \r\nQ 25.25 66.21875 20.875 63.09375 \r\nQ 16.5 59.96875 16.5 54.203125 \r\nQ 16.5 49.359375 19.40625 46.890625 \r\nQ 22.3125 44.4375 30.421875 42.921875 \r\nL 36.375 41.703125 \r\nQ 47.40625 39.59375 52.65625 34.296875 \r\nQ 57.90625 29 57.90625 20.125 \r\nQ 57.90625 9.515625 50.796875 4.046875 \r\nQ 43.703125 -1.421875 29.984375 -1.421875 \r\nQ 24.8125 -1.421875 18.96875 -0.25 \r\nQ 13.140625 0.921875 6.890625 3.21875 \r\nL 6.890625 13.375 \r\nQ 12.890625 10.015625 18.65625 8.296875 \r\nQ 24.421875 6.59375 29.984375 6.59375 \r\nQ 38.421875 6.59375 43.015625 9.90625 \r\nQ 47.609375 13.234375 47.609375 19.390625 \r\nQ 47.609375 24.75 44.3125 27.78125 \r\nQ 41.015625 30.8125 33.5 32.328125 \r\nL 27.484375 33.5 \r\nQ 16.453125 35.6875 11.515625 40.375 \r\nQ 6.59375 45.0625 6.59375 53.421875 \r\nQ 6.59375 63.09375 13.40625 68.65625 \r\nQ 20.21875 74.21875 32.171875 74.21875 \r\nQ 37.3125 74.21875 42.625 73.28125 \r\nQ 47.953125 72.359375 53.515625 70.515625 \r\nz\r\n\" id=\"DejaVuSans-83\"/>\r\n       <path d=\"M 9.8125 72.90625 \r\nL 23.09375 72.90625 \r\nL 55.421875 11.921875 \r\nL 55.421875 72.90625 \r\nL 64.984375 72.90625 \r\nL 64.984375 0 \r\nL 51.703125 0 \r\nL 19.390625 60.984375 \r\nL 19.390625 0 \r\nL 9.8125 0 \r\nz\r\n\" id=\"DejaVuSans-78\"/>\r\n       <path d=\"M 9.8125 72.90625 \r\nL 55.90625 72.90625 \r\nL 55.90625 64.59375 \r\nL 19.671875 64.59375 \r\nL 19.671875 43.015625 \r\nL 54.390625 43.015625 \r\nL 54.390625 34.71875 \r\nL 19.671875 34.71875 \r\nL 19.671875 8.296875 \r\nL 56.78125 8.296875 \r\nL 56.78125 0 \r\nL 9.8125 0 \r\nz\r\n\" id=\"DejaVuSans-69\"/>\r\n       <path id=\"DejaVuSans-32\"/>\r\n      </defs>\r\n      <use xlink:href=\"#DejaVuSans-116\"/>\r\n      <use x=\"39.208984\" xlink:href=\"#DejaVuSans-45\"/>\r\n      <use x=\"75.292969\" xlink:href=\"#DejaVuSans-83\"/>\r\n      <use x=\"138.769531\" xlink:href=\"#DejaVuSans-78\"/>\r\n      <use x=\"213.574219\" xlink:href=\"#DejaVuSans-69\"/>\r\n      <use x=\"276.757812\" xlink:href=\"#DejaVuSans-32\"/>\r\n      <use x=\"308.544922\" xlink:href=\"#DejaVuSans-49\"/>\r\n     </g>\r\n    </g>\r\n   </g>\r\n   <g id=\"matplotlib.axis_2\">\r\n    <g id=\"ytick_1\">\r\n     <g id=\"line2d_6\">\r\n      <defs>\r\n       <path d=\"M 0 0 \r\nL -3.5 0 \r\n\" id=\"maf2f49121b\" style=\"stroke:#000000;stroke-width:0.8;\"/>\r\n      </defs>\r\n      <g>\r\n       <use style=\"stroke:#000000;stroke-width:0.8;\" x=\"55.345313\" xlink:href=\"#maf2f49121b\" y=\"371.889596\"/>\r\n      </g>\r\n     </g>\r\n     <g id=\"text_7\">\r\n      <!-- −100 -->\r\n      <g transform=\"translate(20.878125 375.688815)scale(0.1 -0.1)\">\r\n       <use xlink:href=\"#DejaVuSans-8722\"/>\r\n       <use x=\"83.789062\" xlink:href=\"#DejaVuSans-49\"/>\r\n       <use x=\"147.412109\" xlink:href=\"#DejaVuSans-48\"/>\r\n       <use x=\"211.035156\" xlink:href=\"#DejaVuSans-48\"/>\r\n      </g>\r\n     </g>\r\n    </g>\r\n    <g id=\"ytick_2\">\r\n     <g id=\"line2d_7\">\r\n      <g>\r\n       <use style=\"stroke:#000000;stroke-width:0.8;\" x=\"55.345313\" xlink:href=\"#maf2f49121b\" y=\"288.288169\"/>\r\n      </g>\r\n     </g>\r\n     <g id=\"text_8\">\r\n      <!-- −50 -->\r\n      <g transform=\"translate(27.240625 292.087388)scale(0.1 -0.1)\">\r\n       <use xlink:href=\"#DejaVuSans-8722\"/>\r\n       <use x=\"83.789062\" xlink:href=\"#DejaVuSans-53\"/>\r\n       <use x=\"147.412109\" xlink:href=\"#DejaVuSans-48\"/>\r\n      </g>\r\n     </g>\r\n    </g>\r\n    <g id=\"ytick_3\">\r\n     <g id=\"line2d_8\">\r\n      <g>\r\n       <use style=\"stroke:#000000;stroke-width:0.8;\" x=\"55.345313\" xlink:href=\"#maf2f49121b\" y=\"204.686742\"/>\r\n      </g>\r\n     </g>\r\n     <g id=\"text_9\">\r\n      <!-- 0 -->\r\n      <g transform=\"translate(41.982813 208.48596)scale(0.1 -0.1)\">\r\n       <use xlink:href=\"#DejaVuSans-48\"/>\r\n      </g>\r\n     </g>\r\n    </g>\r\n    <g id=\"ytick_4\">\r\n     <g id=\"line2d_9\">\r\n      <g>\r\n       <use style=\"stroke:#000000;stroke-width:0.8;\" x=\"55.345313\" xlink:href=\"#maf2f49121b\" y=\"121.085314\"/>\r\n      </g>\r\n     </g>\r\n     <g id=\"text_10\">\r\n      <!-- 50 -->\r\n      <g transform=\"translate(35.620313 124.884533)scale(0.1 -0.1)\">\r\n       <use xlink:href=\"#DejaVuSans-53\"/>\r\n       <use x=\"63.623047\" xlink:href=\"#DejaVuSans-48\"/>\r\n      </g>\r\n     </g>\r\n    </g>\r\n    <g id=\"ytick_5\">\r\n     <g id=\"line2d_10\">\r\n      <g>\r\n       <use style=\"stroke:#000000;stroke-width:0.8;\" x=\"55.345313\" xlink:href=\"#maf2f49121b\" y=\"37.483887\"/>\r\n      </g>\r\n     </g>\r\n     <g id=\"text_11\">\r\n      <!-- 100 -->\r\n      <g transform=\"translate(29.257813 41.283106)scale(0.1 -0.1)\">\r\n       <use xlink:href=\"#DejaVuSans-49\"/>\r\n       <use x=\"63.623047\" xlink:href=\"#DejaVuSans-48\"/>\r\n       <use x=\"127.246094\" xlink:href=\"#DejaVuSans-48\"/>\r\n      </g>\r\n     </g>\r\n    </g>\r\n    <g id=\"text_12\">\r\n     <!-- t-SNE 2 -->\r\n     <g transform=\"translate(14.798438 243.248594)rotate(-90)scale(0.1 -0.1)\">\r\n      <defs>\r\n       <path d=\"M 19.1875 8.296875 \r\nL 53.609375 8.296875 \r\nL 53.609375 0 \r\nL 7.328125 0 \r\nL 7.328125 8.296875 \r\nQ 12.9375 14.109375 22.625 23.890625 \r\nQ 32.328125 33.6875 34.8125 36.53125 \r\nQ 39.546875 41.84375 41.421875 45.53125 \r\nQ 43.3125 49.21875 43.3125 52.78125 \r\nQ 43.3125 58.59375 39.234375 62.25 \r\nQ 35.15625 65.921875 28.609375 65.921875 \r\nQ 23.96875 65.921875 18.8125 64.3125 \r\nQ 13.671875 62.703125 7.8125 59.421875 \r\nL 7.8125 69.390625 \r\nQ 13.765625 71.78125 18.9375 73 \r\nQ 24.125 74.21875 28.421875 74.21875 \r\nQ 39.75 74.21875 46.484375 68.546875 \r\nQ 53.21875 62.890625 53.21875 53.421875 \r\nQ 53.21875 48.921875 51.53125 44.890625 \r\nQ 49.859375 40.875 45.40625 35.40625 \r\nQ 44.1875 33.984375 37.640625 27.21875 \r\nQ 31.109375 20.453125 19.1875 8.296875 \r\nz\r\n\" id=\"DejaVuSans-50\"/>\r\n      </defs>\r\n      <use xlink:href=\"#DejaVuSans-116\"/>\r\n      <use x=\"39.208984\" xlink:href=\"#DejaVuSans-45\"/>\r\n      <use x=\"75.292969\" xlink:href=\"#DejaVuSans-83\"/>\r\n      <use x=\"138.769531\" xlink:href=\"#DejaVuSans-78\"/>\r\n      <use x=\"213.574219\" xlink:href=\"#DejaVuSans-69\"/>\r\n      <use x=\"276.757812\" xlink:href=\"#DejaVuSans-32\"/>\r\n      <use x=\"308.544922\" xlink:href=\"#DejaVuSans-50\"/>\r\n     </g>\r\n    </g>\r\n   </g>\r\n   <g id=\"patch_3\">\r\n    <path d=\"M 55.345313 442.08 \r\nL 55.345313 7.2 \r\n\" style=\"fill:none;stroke:#000000;stroke-linecap:square;stroke-linejoin:miter;stroke-width:0.8;\"/>\r\n   </g>\r\n   <g id=\"patch_4\">\r\n    <path d=\"M 613.345312 442.08 \r\nL 613.345312 7.2 \r\n\" style=\"fill:none;stroke:#000000;stroke-linecap:square;stroke-linejoin:miter;stroke-width:0.8;\"/>\r\n   </g>\r\n   <g id=\"patch_5\">\r\n    <path d=\"M 55.345312 442.08 \r\nL 613.345313 442.08 \r\n\" style=\"fill:none;stroke:#000000;stroke-linecap:square;stroke-linejoin:miter;stroke-width:0.8;\"/>\r\n   </g>\r\n   <g id=\"patch_6\">\r\n    <path d=\"M 55.345312 7.2 \r\nL 613.345313 7.2 \r\n\" style=\"fill:none;stroke:#000000;stroke-linecap:square;stroke-linejoin:miter;stroke-width:0.8;\"/>\r\n   </g>\r\n  </g>\r\n </g>\r\n <defs>\r\n  <clipPath id=\"p972e5cd353\">\r\n   <rect height=\"434.88\" width=\"558\" x=\"55.345313\" y=\"7.2\"/>\r\n  </clipPath>\r\n </defs>\r\n</svg>\r\n",
      "image/png": "[encoded data removed]"
     },
     "metadata": {
      "needs_background": "light"
     }
    }
   ],
   "source": [
    "# PLOT THE PROJECTION\n",
    "import matplotlib.pyplot as plt\n",
    "\n",
    "fig = plt.figure(figsize = (10,8), dpi = 90)\n",
    "plt.scatter(*zip(*V_tranform), marker='.', s=50, lw=0, alpha=0.7, \n",
    "                 edgecolor='k')\n",
    "# for i, (x,y) in enumerate(V_tranform):\n",
    "#     plt.text(x,y, vocabulary[i], \n",
    "#                 fontsize = 4, alpha = 0.5)\n",
    "plt.xlabel(\"t-SNE 1\")\n",
    "plt.ylabel(\"t-SNE 2\")\n",
    "plt.show()"
   ]
  },
  {
   "cell_type": "code",
   "execution_count": null,
   "metadata": {},
   "outputs": [],
   "source": []
  }
 ]
}