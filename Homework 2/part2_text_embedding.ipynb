{
 "cells": [
  {
   "cell_type": "markdown",
   "metadata": {
    "pycharm": {
     "name": "#%% md\n"
    }
   },
   "source": [
    "Useful stuff\n",
    "---"
   ]
  },
  {
   "cell_type": "code",
   "execution_count": 5,
   "metadata": {
    "pycharm": {
     "name": "#%%\n"
    }
   },
   "outputs": [],
   "source": [
    "class AttributeDict(dict):\n",
    "    \"\"\"Like dict but with attribute access and setting\"\"\"\n",
    "    __getattr__ = dict.__getitem__\n",
    "    __setattr__ = dict.__setitem__"
   ]
  },
  {
   "cell_type": "code",
   "execution_count": 6,
   "metadata": {
    "pycharm": {
     "name": "#%%\n"
    }
   },
   "outputs": [
    {
     "name": "stdout",
     "output_type": "stream",
     "text": [
      "Number of words in our train dataset : 7.084e+05\n"
     ]
    }
   ],
   "source": [
    "import os\n",
    "import pandas as pd\n",
    "\n",
    "\n",
    "# Directory containing all train and test csv\n",
    "dataset_dir = os.path.join(os.curdir, 'datasets', 'comments')\n",
    "\n",
    "DEFAULT_COLUMNS = [\"sentence\", \"class\", \"class_idx\"]\n",
    "dataset = AttributeDict(\n",
    "    train=pd.DataFrame(columns=DEFAULT_COLUMNS),\n",
    "    test=pd.DataFrame(columns=DEFAULT_COLUMNS)\n",
    ")\n",
    "\n",
    "classes = {\n",
    "        \"Donald Trump\" : \"Donald-Trump-%s.csv\",\n",
    "        \"Joe Biden\" : \"Joe-Biden-%s.csv\"\n",
    "        }\n",
    "\n",
    "\n",
    "for typ in dataset.keys(): # train, test\n",
    "    for class_idx, (class_name, class_path) in enumerate(classes.items()): # Donald Trump, Joe Biden\n",
    "        df = pd.read_csv(os.path.join(dataset_dir, class_path%typ), index_col=0)\n",
    "        df[\"class\"] =  class_name # Get the name (Donald Trump or Joe Biden)\n",
    "        df[\"class_idx\"] = class_idx # 0 -> Donald Trump, 1 -> Joe Biden\n",
    "        df.columns = DEFAULT_COLUMNS # Force columns name\n",
    "        dataset[typ] = dataset[typ].append(df, ignore_index=True) # Append train from Donald and Joe together (the same for test)\n",
    "\n",
    "assert dataset.train.shape[1:] == (3,), \"dataframe does not contain 3 columns named %s\"%DEFAULT_COLUMNS\n",
    "assert dataset.test.shape[1:] == (3,), \"dataframe does not contain 3 columns named %s\"%DEFAULT_COLUMNS\n",
    "\n",
    "print(f'Number of words in our train dataset : {dataset.train.sentence.apply(lambda x:len(x.split(\" \"))).sum():.3e}')"
   ]
  },
  {
   "cell_type": "markdown",
   "metadata": {
    "pycharm": {
     "name": "#%% md\n"
    }
   },
   "source": [
    "Preprocess all sentences\n",
    "---\n",
    "\n",
    "- Retrieve entities in the text using spacy `en_core_web_sm` and merged all words making the entity\n",
    "- Clean the text using custom filters such as : \n",
    "    - lower cases\n",
    "    - strip non alpha numeric values\n",
    "    - strip punctuation \n",
    "    - strip multiple whitespaces\n",
    "    - finally taking the lemma of the word"
   ]
  },
  {
   "cell_type": "code",
   "execution_count": 7,
   "metadata": {
    "pycharm": {
     "name": "#%%\n"
    }
   },
   "outputs": [],
   "source": [
    "from functools import partial\n",
    "from typing import Sequence, List\n",
    "from spacy.tokens.doc import Doc\n",
    "from gensim.models.doc2vec import TaggedDocument, Doc2Vec\n",
    "\n",
    "from gensim.parsing.preprocessing import preprocess_string\n",
    "from gensim.parsing.preprocessing import strip_tags       # strip html tags\n",
    "from gensim.parsing.preprocessing import strip_short\n",
    "from gensim.parsing.preprocessing import strip_multiple_whitespaces\n",
    "from gensim.parsing.preprocessing import stem_text\n",
    "from gensim.parsing.preprocessing import remove_stopwords\n",
    "from gensim.parsing.preprocessing import strip_punctuation, strip_non_alphanum\n",
    "from nltk.stem import WordNetLemmatizer \n",
    "\n",
    "lemmatize = WordNetLemmatizer().lemmatize\n",
    "\n",
    "def tokenize(sentence : str, spacy_model, to_merge_entities:Sequence[str]=[\"GPE\", \"LOC\", \"PERSON\"]) -> Doc:\n",
    "    doc = spacy_model(sentence)\n",
    "\n",
    "    # Retrieve entities to merge\n",
    "    ent_to_split = {ent.text:ent.text.split(' ') for ent in doc.ents if ent.label_ in to_merge_entities}\n",
    "\n",
    "    # Set all entities lemma to the merged name\n",
    "    for complete_entity, splitted_entity in ent_to_split.items():\n",
    "        merged_entity = \"_\".join(splitted_entity)\n",
    "        sentence.replace(complete_entity, merged_entity)\n",
    "\n",
    "    CUSTOM_FILTERS = [lambda x: x.lower(),\n",
    "                      strip_non_alphanum,\n",
    "                      strip_punctuation,\n",
    "                      #remove_stopwords,\n",
    "                      strip_multiple_whitespaces]\n",
    "    parsed_line = preprocess_string(sentence, CUSTOM_FILTERS)\n",
    "    parsed_line = [lemmatize(x) for x in parsed_line]\n",
    "\n",
    "    return parsed_line\n",
    "\n",
    "def filter_tokens(tokens:Sequence[str], to_avoid:Sequence[str]) -> List[str]:\n",
    "    returned_tokens = set()\n",
    "    for token in tokens:\n",
    "        if len(token)>1 and (token not in to_avoid):\n",
    "            returned_tokens.add(token)\n",
    "    return list(returned_tokens)\n",
    "\n",
    "\n",
    "\n",
    "def sent_preprocess(sentence:str, spacy_model, to_avoid:Sequence[str]) -> List[str]:\n",
    "    pipe = (partial(tokenize, spacy_model=spacy_model),\n",
    "            partial(filter_tokens, to_avoid=to_avoid))\n",
    "    x = sentence\n",
    "    for f in pipe:\n",
    "        x = f(x)\n",
    "    return x\n",
    "\n",
    "\n",
    "def df_preprocess(df:pd.DataFrame, column:str, inplace:bool=False, spacy_model_name:str=\"en_core_web_sm\") -> pd.DataFrame:\n",
    "    import spacy\n",
    "    import string\n",
    "    from functools import partial\n",
    "\n",
    "    try:\n",
    "        nlp = spacy.load(spacy_model_name)\n",
    "    except OSError as os_error:\n",
    "        import sys\n",
    "        import warnings\n",
    "        import subprocess\n",
    "        warnings.warn(f\"spacy model {spacy_model_name} was not yet installed. Install it now.\", ResourceWarning)\n",
    "        subprocess.check_call([sys.executable, \"-m\", \"spacy\", \"download\", spacy_model_name])\n",
    "        df_preprocess(df=df, column=column, inplace=inplace, spacy_model_name=spacy_model_name)\n",
    "\n",
    "    to_avoid = list(string.punctuation+' ') + ['\\n', '\\t']\n",
    "\n",
    "    try: # Speedup preprocess with parallelization\n",
    "        from pandarallel import pandarallel\n",
    "        pandarallel.initialize(progress_bar=False, verbose=0)\n",
    "        preprocessed_column = df[column].parallel_apply(partial(sent_preprocess, spacy_model=nlp, to_avoid=to_avoid))\n",
    "    except AttributeError: # not parallelized\n",
    "        preprocessed_column = df[column].apply(partial(sent_preprocess, spacy_model=nlp, to_avoid=to_avoid))\n",
    "\n",
    "\n",
    "    preprocessed_df = df if inplace else df.copy(deep=True)\n",
    "\n",
    "    preprocessed_df[\"preprocessed\"] = preprocessed_column\n",
    "\n",
    "    return preprocessed_df\n",
    "\n",
    "word_set = {\n",
    "    \"Donald Trump\" : set(),\n",
    "    \"Joe Biden\" : set()\n",
    "}\n",
    "\n",
    "def __make_docs(df_row):\n",
    "    global word_set\n",
    "    tokens = df_row.preprocessed\n",
    "    for token in tokens:\n",
    "        word_set[df_row[\"class\"]].add(token)\n",
    "    doc = TaggedDocument(words=tokens, tags=[df_row[\"class\"]])\n",
    "    return doc\n",
    "\n",
    "def df_make_doc(df:pd.DataFrame, inplace:bool=False) -> pd.DataFrame:\n",
    "\n",
    "    preprocessed_column = df.apply(__make_docs, axis=1)\n",
    "\n",
    "    preprocessed_df = df if inplace else df.copy(deep=True)\n",
    "\n",
    "    preprocessed_df[\"doc\"] = preprocessed_column\n",
    "\n",
    "\n",
    "    return preprocessed_df\n",
    "\n",
    "\n",
    "for typ in (\"train\", \"test\"):\n",
    "    df_preprocess(dataset[typ], \"sentence\", inplace=True) # Preprocess strings\n",
    "    df_make_doc(dataset[typ], inplace=True) # Build TaggedDocument from tokenized strings"
   ]
  },
  {
   "cell_type": "code",
   "execution_count": 8,
   "metadata": {
    "pycharm": {
     "name": "#%%\n"
    },
    "tags": []
   },
   "outputs": [
    {
     "name": "stdout",
     "output_type": "stream",
     "text": [
      "                       sentence      class class_idx  \\\n",
      "22569  Go Joe, TAKE TRUMP DOWN!  Joe Biden         1   \n",
      "\n",
      "                       preprocessed  \\\n",
      "22569  [joe, take, go, down, trump]   \n",
      "\n",
      "                                               doc  \n",
      "22569  ([joe, take, go, down, trump], [Joe Biden])  \n",
      "['48h', 'refill', 'typical', 'poltical', 'converted']\n"
     ]
    }
   ],
   "source": [
    "print(dataset.train.tail(1))\n",
    "\n",
    "print(list(word_set[\"Joe Biden\"])[:5])"
   ]
  },
  {
   "cell_type": "code",
   "execution_count": 9,
   "metadata": {
    "pycharm": {
     "name": "#%%\n"
    }
   },
   "outputs": [],
   "source": [
    "# import re\n",
    "# import nltk\n",
    "# from nltk.stem import WordNetLemmatizer\n",
    "# from pandarallel import pandarallel\n",
    "# pandarallel.initialize(progress_bar=False)\n",
    "#\n",
    "# from gensim.models.doc2vec import Doc2Vec, TaggedDocument\n",
    "#\n",
    "# # Used to know which class (Donald, Joe) each word belongs to\n",
    "# word_set = {\n",
    "#     \"Donald Trump\" : set(),\n",
    "#     \"Joe Biden\" : set()\n",
    "# }\n",
    "#\n",
    "# def clean_text(text):\n",
    "#     text = re.sub(r'\\|\\|\\|', r' ', text)\n",
    "#     text = text.lower()\n",
    "#     return text\n",
    "#\n",
    "# def tokenize_text(text):\n",
    "#     tokens = []\n",
    "#     for sent in nltk.sent_tokenize(text):\n",
    "#         for word in nltk.word_tokenize(sent):\n",
    "#             if len(word) < 2:\n",
    "#                 continue\n",
    "#             tokens.append(word.lower())\n",
    "#     return tokens\n",
    "#\n",
    "# def make_docs(df_row):\n",
    "#     tokens = tokenize_text(df_row.sentence)\n",
    "#     for token in tokens:\n",
    "#         word_set[df_row[\"class\"]].add(token)\n",
    "#     doc = TaggedDocument(words=tokens, tags=tokens)\n",
    "#     return doc\n",
    "#\n",
    "# # Apply clean text on both train and test dataset\n",
    "# for typ in (\"train\", \"test\"):\n",
    "#     dataset[typ].sentence = dataset[typ].sentence.parallel_apply(clean_text)\n",
    "#\n",
    "# # Apply tokenize and Tagged Documents for both train and test dataset\n",
    "# for typ in (\"train\", \"test\"):\n",
    "#     dataset[typ][\"doc\"] = dataset[typ].apply(make_docs, axis=1)\n",
    "#"
   ]
  },
  {
   "cell_type": "markdown",
   "metadata": {
    "pycharm": {
     "name": "#%% md\n"
    }
   },
   "source": [
    "Build the Doc2Vec model\n",
    "---"
   ]
  },
  {
   "cell_type": "code",
   "execution_count": 10,
   "metadata": {
    "pycharm": {
     "name": "#%%\n"
    }
   },
   "outputs": [],
   "source": [
    "from tqdm.notebook import tqdm\n",
    "from multiprocessing import cpu_count\n",
    "\n",
    "from gensim.models.doc2vec import Doc2Vec\n",
    "\n",
    "EMBEDDINGS_DIMS = 100\n",
    "N_WORKERS = 1 # cpu_count() # seems not to parallelize\n",
    "MIN_COUNT = 2\n",
    "WINDOW = 2\n",
    "EPOCHS = 50\n",
    "MODEL_NAME = f\"doc2vec-dims_{EMBEDDINGS_DIMS}-min_count_{MIN_COUNT}-window_{WINDOW}-epochs_{EPOCHS}\"\n",
    "\n",
    "doc2vec_model = Doc2Vec(\n",
    "    vector_size=EMBEDDINGS_DIMS,\n",
    "    min_count=MIN_COUNT,\n",
    "    workers=N_WORKERS,\n",
    "    epochs=EPOCHS,\n",
    "    compute_loss=True,\n",
    "    )\n",
    "\n",
    "doc2vec_model.build_vocab(dataset.train.doc.values)"
   ]
  },
  {
   "cell_type": "code",
   "execution_count": 11,
   "metadata": {
    "pycharm": {
     "name": "#%%\n"
    }
   },
   "outputs": [
    {
     "data": {
      "text/plain": "HBox(children=(HTML(value=''), FloatProgress(value=0.0, max=50.0), HTML(value='')))",
      "application/vnd.jupyter.widget-view+json": {
       "version_major": 2,
       "version_minor": 0,
       "model_id": "a82be4850ecc4322876b591a18a331fa"
      }
     },
     "metadata": {},
     "output_type": "display_data"
    }
   ],
   "source": [
    "from gensim.models.callbacks import CallbackAny2Vec, DiffMetric, ConvergenceMetric, PerplexityMetric\n",
    "from gensim.test.utils import common_corpus\n",
    "class PlotLogger(CallbackAny2Vec):\n",
    "    def __init__(self, model):\n",
    "        self.epoch = 0\n",
    "        self.epochs = model.epochs\n",
    "        self.p = tqdm(total=self.epochs)\n",
    "\n",
    "    def on_epoch_end(self, model):\n",
    "        self.epoch += 1\n",
    "        self.p.update(1)\n",
    "        if self.epoch == self.epochs: # Because tqdm does not have a write method for pickle dump\n",
    "            del self.p\n",
    "        # self.p.set_postfix_str(f\"Loss {model.get_latest_training_loss():.3e}\")\n",
    "        \n",
    "doc2vec_model.train(dataset.train.doc.values,\n",
    "                   total_examples=doc2vec_model.corpus_count,\n",
    "                   epochs=doc2vec_model.epochs,\n",
    "                   callbacks=[PlotLogger(doc2vec_model)]\n",
    "                   )"
   ]
  },
  {
   "cell_type": "code",
   "execution_count": null,
   "metadata": {
    "pycharm": {
     "name": "#%%\n"
    }
   },
   "outputs": [],
   "source": [
    "models_path = os.path.join(os.curdir, 'models')\n",
    "if not os.path.exists(models_path):\n",
    "    os.mkdir(models_path)\n",
    "\n",
    "#doc2vec_model.delete_temporary_training_data(keep_doctags_vectors=True, keep_inference=True)\n",
    "doc2vec_model.save(os.path.join(models_path, MODEL_NAME+\".model\"))"
   ]
  },
  {
   "cell_type": "markdown",
   "metadata": {
    "pycharm": {
     "is_executing": true,
     "name": "#%% md\n"
    }
   },
   "source": [
    "## Plot the Doc2Vec vectors in 2D using t-SNE"
   ]
  },
  {
   "cell_type": "code",
   "execution_count": 16,
   "metadata": {
    "pycharm": {
     "name": "#%%\n"
    }
   },
   "outputs": [
    {
     "name": "stdout",
     "output_type": "stream",
     "text": [
      "Using CPU TSNE : multicore\n"
     ]
    }
   ],
   "source": [
    "try:\n",
    "    str.je_lance_une_erreur()\n",
    "    from tsnecuda import TSNE\n",
    "    print(\"Using GPU TSNE\")\n",
    "except:\n",
    "    print(\"Using CPU TSNE : \", end='')\n",
    "    try :\n",
    "        from MulticoreTSNE import MulticoreTSNE\n",
    "        TSNE = partial(MulticoreTSNE, n_jobs=cpu_count())\n",
    "        print(\"multicore\")\n",
    "    except:\n",
    "        from sklearn.manifold import TSNE\n",
    "        print(\"sklearn\")\n",
    "\n",
    "\n",
    "vec_tsne = TSNE(n_components=2).fit_transform(doc2vec_model.wv.vectors)\n",
    "vocabulary = list(doc2vec_model.wv.vocab)"
   ]
  },
  {
   "cell_type": "markdown",
   "metadata": {
    "pycharm": {
     "name": "#%% md\n"
    }
   },
   "source": [
    "Word embeddings from Doc2Vec\n",
    "---"
   ]
  },
  {
   "cell_type": "code",
   "execution_count": 17,
   "metadata": {},
   "outputs": [],
   "source": [
    "from multiprocessing import Pool\n",
    "from bokeh.plotting import figure, output_notebook, output_file, show\n",
    "from bokeh.models import ColumnDataSource\n",
    "from bokeh.io import curdoc\n",
    "import numpy as np\n",
    "\n",
    "def get_class_word(word):\n",
    "    n = 0\n",
    "    if word in word_set[\"Donald Trump\"]:\n",
    "        n += 1\n",
    "    if word in word_set[\"Joe Biden\"]:\n",
    "        n += 2\n",
    "    return n\n",
    "\n",
    "def get_color_word(class_word:int, color_dict=(\"#000000\", \"#FF0000\", \"#0000FF\", \"#00FF00\")):\n",
    "#def get_color_word(class_word:int, color_dict=(\"#000000\", \"red\", \"blue\", \"green\")):\n",
    "    return color_dict[class_word]\n",
    "\n",
    "def get_class_name_word(class_word, classes=(\"\", \"Donald Trump\", \"Joe Biden\", \"Biden and Trump\")):\n",
    "    return classes[class_word]\n",
    "\n",
    "with Pool() as pool:\n",
    "    class_word = pool.map(get_class_word, vocabulary)\n",
    "    color_word = pool.map(get_color_word, class_word)\n",
    "    class_name_word = pool.map(get_class_name_word, class_word)\n",
    "\n",
    "\n",
    "plot_dict = AttributeDict(\n",
    "    x = vec_tsne[:,0],\n",
    "    y = vec_tsne[:,1],\n",
    "    fill_color = np.array(color_word),\n",
    "    legend_label = np.array(class_name_word),\n",
    "    word = np.array(vocabulary),\n",
    "    class_name_word = np.array(class_name_word)\n",
    "\n",
    ")\n",
    "source = ColumnDataSource(plot_dict)\n",
    "\n",
    "TITLE = \"Plot of Doc2Vec vocabulary trained vectors in 2D using t-SNE\"\n",
    "TOOLS = \"hover,pan,wheel_zoom,box_zoom,tap,reset,save\"\n",
    "p = figure(tools=TOOLS,\n",
    "           title=TITLE,\n",
    "           toolbar_location=\"above\",\n",
    "           plot_width=800,\n",
    "           plot_height=800)\n",
    "p.xaxis.axis_label = \"t-SNE variable 1\"\n",
    "p.yaxis.axis_label = \"t-SNE variable 2\"\n",
    "output_notebook()\n",
    "\n",
    "curdoc().theme = \"light_minimal\"\n",
    "#output_file(\"doc2vec.html\")\n",
    "\n",
    "# Show info per circle (pan)\n",
    "p.hover.tooltips = [\n",
    "    (\"word\", \"@word\"),\n",
    "    (\"class\",\"@class_name_word\")\n",
    "]\n",
    "\n",
    "# display all circles\n",
    "color_dict=(\"#000000\", \"#FF0000\", \"#0000FF\", \"#00FF00\")\n",
    "\n",
    "p.circle(x=\"x\",\n",
    "         y=\"y\",\n",
    "         radius=.4,\n",
    "         selection_color=\"black\",\n",
    "         fill_alpha=.5,\n",
    "         line_alpha=.6,\n",
    "         fill_color=\"fill_color\",\n",
    "         legend_group='class_name_word',\n",
    "         source=source)\n",
    "\n",
    "p.legend.location = \"top_left\"\n",
    "p.legend.click_policy=\"hide\"\n",
    "show(p)"
   ]
  },
  {
   "cell_type": "markdown",
   "source": [
    "Document embeddings from Doc2Vec\n",
    "---"
   ],
   "metadata": {
    "collapsed": false
   }
  },
  {
   "cell_type": "code",
   "execution_count": null,
   "outputs": [],
   "source": [
    "docvecs = doc2vec_model.docvecs\n",
    "print(docvecs[0])\n",
    "print(doc2vec_model.infer_vector(dataset.train.doc.values[0].words))"
   ],
   "metadata": {
    "collapsed": false,
    "pycharm": {
     "name": "#%%\n"
    }
   }
  },
  {
   "cell_type": "code",
   "execution_count": null,
   "outputs": [],
   "source": [
    "vec_tsne = TSNE(n_components=2).fit_transform(doc2vec_model.docvecs)\n",
    "\n",
    "color_word = dataset.train\n",
    "\n",
    "plot_dict = AttributeDict(\n",
    "    x = vec_tsne[:,0],\n",
    "    y = vec_tsne[:,1],\n",
    "    fill_color = np.array(color_word),\n",
    "    legend_label = np.array(class_name_word),\n",
    "    sentence = np.array(dataset.train.sentence.values),\n",
    "    class_name_word = np.array(dataset.train[\"class\"].values)\n",
    "\n",
    ")\n",
    "source = ColumnDataSource(plot_dict)\n",
    "\n",
    "TITLE = \"Plot of Doc2Vec sentence trained vectors in 2D using t-SNE\"\n",
    "TOOLS = \"hover,pan,wheel_zoom,box_zoom,tap,reset,save\"\n",
    "p = figure(tools=TOOLS,\n",
    "           title=TITLE,\n",
    "           toolbar_location=\"above\",\n",
    "           plot_width=800,\n",
    "           plot_height=800)\n",
    "p.xaxis.axis_label = \"t-SNE variable 1\"\n",
    "p.yaxis.axis_label = \"t-SNE variable 2\"\n",
    "output_notebook()\n",
    "\n",
    "curdoc().theme = \"light_minimal\"\n",
    "#output_file(\"doc2vec.html\")\n",
    "\n",
    "# Show info per circle (pan)\n",
    "p.hover.tooltips = [\n",
    "    (\"sentence\", \"@sentence\"),\n",
    "    (\"class\",\"@class_name_word\")\n",
    "]\n",
    "\n",
    "# display all circles\n",
    "color_dict=(\"#000000\", \"#FF0000\", \"#0000FF\", \"#00FF00\")\n",
    "\n",
    "p.circle(x=\"x\",\n",
    "         y=\"y\",\n",
    "         radius=.4,\n",
    "         selection_color=\"black\",\n",
    "         fill_alpha=.5,\n",
    "         line_alpha=.6,\n",
    "         fill_color=\"fill_color\",\n",
    "         legend_group='class_name_word',\n",
    "         source=source)\n",
    "\n",
    "p.legend.location = \"top_left\"\n",
    "p.legend.click_policy=\"hide\"\n",
    "show(p)"
   ],
   "metadata": {
    "collapsed": false,
    "pycharm": {
     "name": "#%%\n"
    }
   }
  },
  {
   "cell_type": "markdown",
   "source": [
    "# BERT model"
   ],
   "metadata": {
    "collapsed": false
   }
  },
  {
   "cell_type": "code",
   "execution_count": null,
   "outputs": [],
   "source": [
    "from sentence_transformers import SentenceTransformer\n",
    "\n",
    "embedder = SentenceTransformer('roberta-base-nli-stsb-mean-tokens')\n",
    "\n",
    "encoded_sentences = embedder.encode(dataset.train.sentence.values)"
   ],
   "metadata": {
    "collapsed": false,
    "pycharm": {
     "name": "#%%\n"
    }
   }
  },
  {
   "cell_type": "markdown",
   "source": [
    "## Get the t-SNE of the BERT model"
   ],
   "metadata": {
    "collapsed": false
   }
  },
  {
   "cell_type": "code",
   "execution_count": null,
   "outputs": [],
   "source": [
    "vec_tsne_bert = TSNE(n_components=2).fit_transform(encoded_sentences)\n",
    "vocabulary = dataset.train.sentence.values"
   ],
   "metadata": {
    "collapsed": false,
    "pycharm": {
     "name": "#%%\n"
    }
   }
  },
  {
   "cell_type": "code",
   "execution_count": null,
   "outputs": [],
   "source": [
    "plot_dict = AttributeDict(\n",
    "    x = vec_tsne_bert[:,0],\n",
    "    y = vec_tsne_bert[:,1],\n",
    "    sentence = np.array(vocabulary),\n",
    "    class_name_word = np.array(class_name_word)\n",
    "\n",
    ")\n",
    "source = ColumnDataSource(plot_dict)\n",
    "\n",
    "TITLE = \"Plot of BERT trained vectors in 2D using t-SNE\"\n",
    "TOOLS = \"hover,pan,wheel_zoom,box_zoom,tap,reset,save\"\n",
    "p = figure(tools=TOOLS,\n",
    "           title=TITLE,\n",
    "           toolbar_location=\"above\",\n",
    "           plot_width=800,\n",
    "           plot_height=800)\n",
    "p.xaxis.axis_label = \"t-SNE variable 1\"\n",
    "p.yaxis.axis_label = \"t-SNE variable 2\"\n",
    "\n",
    "curdoc().theme = \"light_minimal\"\n",
    "output_notebook()\n",
    "#output_file(\"doc2vec.html\")\n",
    "\n",
    "# Show info per circle (pan)\n",
    "p.hover.tooltips = [\n",
    "    (\"sentence\", \"@sentence\"),\n",
    "]\n",
    "\n",
    "# display all circles\n",
    "color_dict=(\"#000000\", \"#FF0000\", \"#0000FF\", \"#00FF00\")\n",
    "\n",
    "p.circle(x=\"x\",\n",
    "         y=\"y\",\n",
    "         radius=.4,\n",
    "         selection_color=\"black\",\n",
    "         fill_alpha=.5,\n",
    "         line_alpha=.6,\n",
    "         source=source)\n",
    "\n",
    "p.legend.location = \"top_left\"\n",
    "p.legend.click_policy=\"hide\"\n",
    "show(p)"
   ],
   "metadata": {
    "collapsed": false,
    "pycharm": {
     "name": "#%%\n"
    }
   }
  },
  {
   "cell_type": "code",
   "execution_count": null,
   "outputs": [],
   "source": [
    "plot_dict = AttributeDict(\n",
    "    x = vec_tsne_bert[:,0],\n",
    "    y = vec_tsne_bert[:,1],\n",
    "    sentence = np.array(vocabulary),\n",
    "    class_name_word = np.array(class_name_word)\n",
    "\n",
    ")\n",
    "source = ColumnDataSource(plot_dict)\n",
    "\n",
    "TITLE = \"Plot of BERT trained vectors in 2D using t-SNE\"\n",
    "TOOLS = \"hover,pan,wheel_zoom,box_zoom,tap,reset,save\"\n",
    "p = figure(tools=TOOLS,\n",
    "           title=TITLE,\n",
    "           toolbar_location=\"above\",\n",
    "           plot_width=800,\n",
    "           plot_height=800)\n",
    "p.xaxis.axis_label = \"t-SNE variable 1\"\n",
    "p.yaxis.axis_label = \"t-SNE variable 2\"\n",
    "\n",
    "curdoc().theme = \"light_minimal\"\n",
    "output_notebook()\n",
    "#output_file(\"doc2vec.html\")\n",
    "\n",
    "# Show info per circle (pan)\n",
    "p.hover.tooltips = [\n",
    "    (\"sentence\", \"@sentence\"),\n",
    "]\n",
    "\n",
    "# display all circles\n",
    "color_dict=(\"#000000\", \"#FF0000\", \"#0000FF\", \"#00FF00\")\n",
    "\n",
    "p.circle(x=\"x\",\n",
    "         y=\"y\",\n",
    "         radius=.4,\n",
    "         selection_color=\"black\",\n",
    "         fill_alpha=.5,\n",
    "         line_alpha=.6,\n",
    "         source=source)\n",
    "\n",
    "p.legend.location = \"top_left\"\n",
    "p.legend.click_policy=\"hide\"\n",
    "show(p)"
   ],
   "metadata": {
    "collapsed": false,
    "pycharm": {
     "name": "#%%\n"
    }
   }
  },
  {
   "cell_type": "code",
   "execution_count": null,
   "outputs": [],
   "source": [
    "plot_dict = AttributeDict(\n",
    "    x = vec_tsne_bert[:,0],\n",
    "    y = vec_tsne_bert[:,1],\n",
    "    sentence = np.array(vocabulary),\n",
    "    class_name_word = np.array(class_name_word)\n",
    "\n",
    ")\n",
    "source = ColumnDataSource(plot_dict)\n",
    "\n",
    "TITLE = \"Plot of BERT trained vectors in 2D using t-SNE\"\n",
    "TOOLS = \"hover,pan,wheel_zoom,box_zoom,tap,reset,save\"\n",
    "p = figure(tools=TOOLS,\n",
    "           title=TITLE,\n",
    "           toolbar_location=\"above\",\n",
    "           plot_width=800,\n",
    "           plot_height=800)\n",
    "p.xaxis.axis_label = \"t-SNE variable 1\"\n",
    "p.yaxis.axis_label = \"t-SNE variable 2\"\n",
    "\n",
    "curdoc().theme = \"light_minimal\"\n",
    "output_notebook()\n",
    "#output_file(\"doc2vec.html\")\n",
    "\n",
    "# Show info per circle (pan)\n",
    "p.hover.tooltips = [\n",
    "    (\"sentence\", \"@sentence\"),\n",
    "]\n",
    "\n",
    "# display all circles\n",
    "color_dict=(\"#000000\", \"#FF0000\", \"#0000FF\", \"#00FF00\")\n",
    "\n",
    "p.circle(x=\"x\",\n",
    "         y=\"y\",\n",
    "         radius=.4,\n",
    "         selection_color=\"black\",\n",
    "         fill_alpha=.5,\n",
    "         line_alpha=.6,\n",
    "         source=source)\n",
    "\n",
    "p.legend.location = \"top_left\"\n",
    "p.legend.click_policy=\"hide\"\n",
    "show(p)"
   ],
   "metadata": {
    "collapsed": false,
    "pycharm": {
     "name": "#%%\n"
    }
   }
  },
  {
   "cell_type": "markdown",
   "source": [
    "plot_dict = AttributeDict(\n",
    "    x = vec_tsne_bert[:,0],\n",
    "    y = vec_tsne_bert[:,1],\n",
    "    sentence = np.array(vocabulary),\n",
    "    class_name_word = np.array(class_name_word)\n",
    "\n",
    ")\n",
    "source = ColumnDataSource(plot_dict)\n",
    "\n",
    "TITLE = \"Plot of BERT trained vectors in 2D using t-SNE\"\n",
    "TOOLS = \"hover,pan,wheel_zoom,box_zoom,tap,reset,save\"\n",
    "p = figure(tools=TOOLS,\n",
    "           title=TITLE,\n",
    "           toolbar_location=\"above\",\n",
    "           plot_width=800,\n",
    "           plot_height=800)\n",
    "p.xaxis.axis_label = \"t-SNE variable 1\"\n",
    "p.yaxis.axis_label = \"t-SNE variable 2\"\n",
    "\n",
    "curdoc().theme = \"light_minimal\"\n",
    "output_notebook()\n",
    "#output_file(\"doc2vec.html\")\n",
    "\n",
    "# Show info per circle (pan)\n",
    "p.hover.tooltips = [\n",
    "    (\"sentence\", \"@sentence\"),\n",
    "]\n",
    "\n",
    "# display all circles\n",
    "color_dict=(\"#000000\", \"#FF0000\", \"#0000FF\", \"#00FF00\")\n",
    "\n",
    "p.circle(x=\"x\",\n",
    "         y=\"y\",\n",
    "         radius=.4,\n",
    "         selection_color=\"black\",\n",
    "         fill_alpha=.5,\n",
    "         line_alpha=.6,\n",
    "         source=source)\n",
    "\n",
    "p.legend.location = \"top_left\"\n",
    "p.legend.click_policy=\"hide\"\n",
    "show(p)"
   ],
   "metadata": {
    "collapsed": false
   }
  },
  {
   "cell_type": "code",
   "execution_count": null,
   "outputs": [],
   "source": [
    "docvecs = doc2vec_model.docvecs\n",
    "print(docvecs[0])\n",
    "print(doc2vec_model.infer_vector(dataset.train.doc.values[0].words))"
   ],
   "metadata": {
    "collapsed": false,
    "pycharm": {
     "name": "#%%\n"
    }
   }
  },
  {
   "cell_type": "code",
   "execution_count": null,
   "outputs": [],
   "source": [
    "vec_tsne = TSNE(n_components=2).fit_transform(doc2vec_model.docvecs)\n",
    "\n",
    "color_word = dataset.train\n",
    "\n",
    "plot_dict = AttributeDict(\n",
    "    x = vec_tsne[:,0],\n",
    "    y = vec_tsne[:,1],\n",
    "    fill_color = np.array(color_word),\n",
    "    legend_label = np.array(class_name_word),\n",
    "    sentence = np.array(dataset.train.sentence.values),\n",
    "    class_name_word = np.array(dataset.train[\"class\"].values)\n",
    "\n",
    ")\n",
    "source = ColumnDataSource(plot_dict)\n",
    "\n",
    "TITLE = \"Plot of Doc2Vec sentence trained vectors in 2D using t-SNE\"\n",
    "TOOLS = \"hover,pan,wheel_zoom,box_zoom,tap,reset,save\"\n",
    "p = figure(tools=TOOLS,\n",
    "           title=TITLE,\n",
    "           toolbar_location=\"above\",\n",
    "           plot_width=800,\n",
    "           plot_height=800)\n",
    "p.xaxis.axis_label = \"t-SNE variable 1\"\n",
    "p.yaxis.axis_label = \"t-SNE variable 2\"\n",
    "output_notebook()\n",
    "\n",
    "curdoc().theme = \"light_minimal\"\n",
    "#output_file(\"doc2vec.html\")\n",
    "\n",
    "# Show info per circle (pan)\n",
    "p.hover.tooltips = [\n",
    "    (\"sentence\", \"@sentence\"),\n",
    "    (\"class\",\"@class_name_word\")\n",
    "]\n",
    "\n",
    "# display all circles\n",
    "color_dict=(\"#000000\", \"#FF0000\", \"#0000FF\", \"#00FF00\")\n",
    "\n",
    "p.circle(x=\"x\",\n",
    "         y=\"y\",\n",
    "         radius=.4,\n",
    "         selection_color=\"black\",\n",
    "         fill_alpha=.5,\n",
    "         line_alpha=.6,\n",
    "         fill_color=\"fill_color\",\n",
    "         legend_group='class_name_word',\n",
    "         source=source)\n",
    "\n",
    "p.legend.location = \"top_left\"\n",
    "p.legend.click_policy=\"hide\"\n",
    "show(p)"
   ],
   "metadata": {
    "collapsed": false,
    "pycharm": {
     "name": "#%%\n"
    }
   }
  },
  {
   "cell_type": "markdown",
   "source": [
    "# BERT model"
   ],
   "metadata": {
    "collapsed": false
   }
  },
  {
   "cell_type": "code",
   "execution_count": null,
   "outputs": [],
   "source": [
    "from sentence_transformers import SentenceTransformer\n",
    "\n",
    "embedder = SentenceTransformer('roberta-base-nli-stsb-mean-tokens')\n",
    "\n",
    "encoded_sentences = embedder.encode(dataset.train.sentence.values)"
   ],
   "metadata": {
    "collapsed": false,
    "pycharm": {
     "name": "#%%\n"
    }
   }
  },
  {
   "cell_type": "markdown",
   "source": [
    "## Get the t-SNE of the BERT model"
   ],
   "metadata": {
    "collapsed": false
   }
  },
  {
   "cell_type": "code",
   "execution_count": null,
   "outputs": [],
   "source": [
    "vec_tsne_bert = TSNE(n_components=2).fit_transform(encoded_sentences)\n",
    "vocabulary = dataset.train.sentence.values"
   ],
   "metadata": {
    "collapsed": false,
    "pycharm": {
     "name": "#%%\n"
    }
   }
  },
  {
   "cell_type": "code",
   "execution_count": null,
   "outputs": [],
   "source": [
    "plot_dict = AttributeDict(\n",
    "    x = vec_tsne_bert[:,0],\n",
    "    y = vec_tsne_bert[:,1],\n",
    "    sentence = np.array(vocabulary),\n",
    "    class_name_word = np.array(class_name_word)\n",
    "\n",
    ")\n",
    "source = ColumnDataSource(plot_dict)\n",
    "\n",
    "TITLE = \"Plot of BERT trained vectors in 2D using t-SNE\"\n",
    "TOOLS = \"hover,pan,wheel_zoom,box_zoom,tap,reset,save\"\n",
    "p = figure(tools=TOOLS,\n",
    "           title=TITLE,\n",
    "           toolbar_location=\"above\",\n",
    "           plot_width=800,\n",
    "           plot_height=800)\n",
    "p.xaxis.axis_label = \"t-SNE variable 1\"\n",
    "p.yaxis.axis_label = \"t-SNE variable 2\"\n",
    "\n",
    "curdoc().theme = \"light_minimal\"\n",
    "output_notebook()\n",
    "#output_file(\"doc2vec.html\")\n",
    "\n",
    "# Show info per circle (pan)\n",
    "p.hover.tooltips = [\n",
    "    (\"sentence\", \"@sentence\"),\n",
    "]\n",
    "\n",
    "# display all circles\n",
    "color_dict=(\"#000000\", \"#FF0000\", \"#0000FF\", \"#00FF00\")\n",
    "\n",
    "p.circle(x=\"x\",\n",
    "         y=\"y\",\n",
    "         radius=.4,\n",
    "         selection_color=\"black\",\n",
    "         fill_alpha=.5,\n",
    "         line_alpha=.6,\n",
    "         source=source)\n",
    "\n",
    "p.legend.location = \"top_left\"\n",
    "p.legend.click_policy=\"hide\"\n",
    "show(p)"
   ],
   "metadata": {
    "collapsed": false,
    "pycharm": {
     "name": "#%%\n"
    }
   }
  },
  {
   "cell_type": "code",
   "execution_count": null,
   "outputs": [],
   "source": [
    "plot_dict = AttributeDict(\n",
    "    x = vec_tsne_bert[:,0],\n",
    "    y = vec_tsne_bert[:,1],\n",
    "    sentence = np.array(vocabulary),\n",
    "    class_name_word = np.array(class_name_word)\n",
    "\n",
    ")\n",
    "source = ColumnDataSource(plot_dict)\n",
    "\n",
    "TITLE = \"Plot of BERT trained vectors in 2D using t-SNE\"\n",
    "TOOLS = \"hover,pan,wheel_zoom,box_zoom,tap,reset,save\"\n",
    "p = figure(tools=TOOLS,\n",
    "           title=TITLE,\n",
    "           toolbar_location=\"above\",\n",
    "           plot_width=800,\n",
    "           plot_height=800)\n",
    "p.xaxis.axis_label = \"t-SNE variable 1\"\n",
    "p.yaxis.axis_label = \"t-SNE variable 2\"\n",
    "\n",
    "curdoc().theme = \"light_minimal\"\n",
    "output_notebook()\n",
    "#output_file(\"doc2vec.html\")\n",
    "\n",
    "# Show info per circle (pan)\n",
    "p.hover.tooltips = [\n",
    "    (\"sentence\", \"@sentence\"),\n",
    "]\n",
    "\n",
    "# display all circles\n",
    "color_dict=(\"#000000\", \"#FF0000\", \"#0000FF\", \"#00FF00\")\n",
    "\n",
    "p.circle(x=\"x\",\n",
    "         y=\"y\",\n",
    "         radius=.4,\n",
    "         selection_color=\"black\",\n",
    "         fill_alpha=.5,\n",
    "         line_alpha=.6,\n",
    "         source=source)\n",
    "\n",
    "p.legend.location = \"top_left\"\n",
    "p.legend.click_policy=\"hide\"\n",
    "show(p)"
   ],
   "metadata": {
    "collapsed": false,
    "pycharm": {
     "name": "#%%\n"
    }
   }
  },
  {
   "cell_type": "code",
   "execution_count": null,
   "outputs": [],
   "source": [
    "plot_dict = AttributeDict(\n",
    "    x = vec_tsne_bert[:,0],\n",
    "    y = vec_tsne_bert[:,1],\n",
    "    sentence = np.array(vocabulary),\n",
    "    class_name_word = np.array(class_name_word)\n",
    "\n",
    ")\n",
    "source = ColumnDataSource(plot_dict)\n",
    "\n",
    "TITLE = \"Plot of BERT trained vectors in 2D using t-SNE\"\n",
    "TOOLS = \"hover,pan,wheel_zoom,box_zoom,tap,reset,save\"\n",
    "p = figure(tools=TOOLS,\n",
    "           title=TITLE,\n",
    "           toolbar_location=\"above\",\n",
    "           plot_width=800,\n",
    "           plot_height=800)\n",
    "p.xaxis.axis_label = \"t-SNE variable 1\"\n",
    "p.yaxis.axis_label = \"t-SNE variable 2\"\n",
    "\n",
    "curdoc().theme = \"light_minimal\"\n",
    "output_notebook()\n",
    "#output_file(\"doc2vec.html\")\n",
    "\n",
    "# Show info per circle (pan)\n",
    "p.hover.tooltips = [\n",
    "    (\"sentence\", \"@sentence\"),\n",
    "]\n",
    "\n",
    "# display all circles\n",
    "color_dict=(\"#000000\", \"#FF0000\", \"#0000FF\", \"#00FF00\")\n",
    "\n",
    "p.circle(x=\"x\",\n",
    "         y=\"y\",\n",
    "         radius=.4,\n",
    "         selection_color=\"black\",\n",
    "         fill_alpha=.5,\n",
    "         line_alpha=.6,\n",
    "         source=source)\n",
    "\n",
    "p.legend.location = \"top_left\"\n",
    "p.legend.click_policy=\"hide\"\n",
    "show(p)"
   ],
   "metadata": {
    "collapsed": false,
    "pycharm": {
     "name": "#%%\n"
    }
   }
  },
  {
   "cell_type": "code",
   "source": [
    "plot_dict = AttributeDict(\n",
    "    x = vec_tsne_bert[:,0],\n",
    "    y = vec_tsne_bert[:,1],\n",
    "    sentence = np.array(vocabulary),\n",
    "    class_name_word = np.array(class_name_word)\n",
    "\n",
    ")\n",
    "source = ColumnDataSource(plot_dict)\n",
    "\n",
    "TITLE = \"Plot of BERT trained vectors in 2D using t-SNE\"\n",
    "TOOLS = \"hover,pan,wheel_zoom,box_zoom,tap,reset,save\"\n",
    "p = figure(tools=TOOLS,\n",
    "           title=TITLE,\n",
    "           toolbar_location=\"above\",\n",
    "           plot_width=800,\n",
    "           plot_height=800)\n",
    "p.xaxis.axis_label = \"t-SNE variable 1\"\n",
    "p.yaxis.axis_label = \"t-SNE variable 2\"\n",
    "\n",
    "curdoc().theme = \"light_minimal\"\n",
    "output_notebook()\n",
    "#output_file(\"doc2vec.html\")\n",
    "\n",
    "# Show info per circle (pan)\n",
    "p.hover.tooltips = [\n",
    "    (\"sentence\", \"@sentence\"),\n",
    "]\n",
    "\n",
    "# display all circles\n",
    "color_dict=(\"#000000\", \"#FF0000\", \"#0000FF\", \"#00FF00\")\n",
    "\n",
    "p.circle(x=\"x\",\n",
    "         y=\"y\",\n",
    "         radius=.4,\n",
    "         selection_color=\"black\",\n",
    "         fill_alpha=.5,\n",
    "         line_alpha=.6,\n",
    "         source=source)\n",
    "\n",
    "p.legend.location = \"top_left\"\n",
    "p.legend.click_policy=\"hide\"\n",
    "show(p)"
   ],
   "metadata": {
    "collapsed": false,
    "pycharm": {
     "name": "#%% \n"
    }
   },
   "execution_count": null,
   "outputs": []
  },
  {
   "cell_type": "code",
   "execution_count": null,
   "outputs": [],
   "source": [
    "docvecs = doc2vec_model.docvecs\n",
    "print(docvecs[0])\n",
    "print(doc2vec_model.infer_vector(dataset.train.doc.values[0].words))"
   ],
   "metadata": {
    "collapsed": false,
    "pycharm": {
     "name": "#%%\n"
    }
   }
  },
  {
   "cell_type": "code",
   "execution_count": null,
   "outputs": [],
   "source": [
    "vec_tsne = TSNE(n_components=2).fit_transform(doc2vec_model.docvecs)\n",
    "\n",
    "color_word = dataset.train\n",
    "\n",
    "plot_dict = AttributeDict(\n",
    "    x = vec_tsne[:,0],\n",
    "    y = vec_tsne[:,1],\n",
    "    fill_color = np.array(color_word),\n",
    "    legend_label = np.array(class_name_word),\n",
    "    sentence = np.array(dataset.train.sentence.values),\n",
    "    class_name_word = np.array(dataset.train[\"class\"].values)\n",
    "\n",
    ")\n",
    "source = ColumnDataSource(plot_dict)\n",
    "\n",
    "TITLE = \"Plot of Doc2Vec sentence trained vectors in 2D using t-SNE\"\n",
    "TOOLS = \"hover,pan,wheel_zoom,box_zoom,tap,reset,save\"\n",
    "p = figure(tools=TOOLS,\n",
    "           title=TITLE,\n",
    "           toolbar_location=\"above\",\n",
    "           plot_width=800,\n",
    "           plot_height=800)\n",
    "p.xaxis.axis_label = \"t-SNE variable 1\"\n",
    "p.yaxis.axis_label = \"t-SNE variable 2\"\n",
    "output_notebook()\n",
    "\n",
    "curdoc().theme = \"light_minimal\"\n",
    "#output_file(\"doc2vec.html\")\n",
    "\n",
    "# Show info per circle (pan)\n",
    "p.hover.tooltips = [\n",
    "    (\"sentence\", \"@sentence\"),\n",
    "    (\"class\",\"@class_name_word\")\n",
    "]\n",
    "\n",
    "# display all circles\n",
    "color_dict=(\"#000000\", \"#FF0000\", \"#0000FF\", \"#00FF00\")\n",
    "\n",
    "p.circle(x=\"x\",\n",
    "         y=\"y\",\n",
    "         radius=.4,\n",
    "         selection_color=\"black\",\n",
    "         fill_alpha=.5,\n",
    "         line_alpha=.6,\n",
    "         fill_color=\"fill_color\",\n",
    "         legend_group='class_name_word',\n",
    "         source=source)\n",
    "\n",
    "p.legend.location = \"top_left\"\n",
    "p.legend.click_policy=\"hide\"\n",
    "show(p)"
   ],
   "metadata": {
    "collapsed": false,
    "pycharm": {
     "name": "#%%\n"
    }
   }
  },
  {
   "cell_type": "markdown",
   "source": [
    "# BERT model"
   ],
   "metadata": {
    "collapsed": false
   }
  },
  {
   "cell_type": "code",
   "execution_count": null,
   "outputs": [],
   "source": [
    "from sentence_transformers import SentenceTransformer\n",
    "\n",
    "embedder = SentenceTransformer('roberta-base-nli-stsb-mean-tokens')\n",
    "\n",
    "encoded_sentences = embedder.encode(dataset.train.sentence.values)"
   ],
   "metadata": {
    "collapsed": false,
    "pycharm": {
     "name": "#%%\n"
    }
   }
  },
  {
   "cell_type": "markdown",
   "source": [
    "## Get the t-SNE of the BERT model"
   ],
   "metadata": {
    "collapsed": false
   }
  },
  {
   "cell_type": "code",
   "execution_count": null,
   "outputs": [],
   "source": [
    "vec_tsne_bert = TSNE(n_components=2).fit_transform(encoded_sentences)\n",
    "vocabulary = dataset.train.sentence.values"
   ],
   "metadata": {
    "collapsed": false,
    "pycharm": {
     "name": "#%%\n"
    }
   }
  },
  {
   "cell_type": "code",
   "execution_count": null,
   "outputs": [],
   "source": [
    "plot_dict = AttributeDict(\n",
    "    x = vec_tsne_bert[:,0],\n",
    "    y = vec_tsne_bert[:,1],\n",
    "    sentence = np.array(vocabulary),\n",
    "    class_name_word = np.array(class_name_word)\n",
    "\n",
    ")\n",
    "source = ColumnDataSource(plot_dict)\n",
    "\n",
    "TITLE = \"Plot of BERT trained vectors in 2D using t-SNE\"\n",
    "TOOLS = \"hover,pan,wheel_zoom,box_zoom,tap,reset,save\"\n",
    "p = figure(tools=TOOLS,\n",
    "           title=TITLE,\n",
    "           toolbar_location=\"above\",\n",
    "           plot_width=800,\n",
    "           plot_height=800)\n",
    "p.xaxis.axis_label = \"t-SNE variable 1\"\n",
    "p.yaxis.axis_label = \"t-SNE variable 2\"\n",
    "\n",
    "curdoc().theme = \"light_minimal\"\n",
    "output_notebook()\n",
    "#output_file(\"doc2vec.html\")\n",
    "\n",
    "# Show info per circle (pan)\n",
    "p.hover.tooltips = [\n",
    "    (\"sentence\", \"@sentence\"),\n",
    "]\n",
    "\n",
    "# display all circles\n",
    "color_dict=(\"#000000\", \"#FF0000\", \"#0000FF\", \"#00FF00\")\n",
    "\n",
    "p.circle(x=\"x\",\n",
    "         y=\"y\",\n",
    "         radius=.4,\n",
    "         selection_color=\"black\",\n",
    "         fill_alpha=.5,\n",
    "         line_alpha=.6,\n",
    "         source=source)\n",
    "\n",
    "p.legend.location = \"top_left\"\n",
    "p.legend.click_policy=\"hide\"\n",
    "show(p)"
   ],
   "metadata": {
    "collapsed": false,
    "pycharm": {
     "name": "#%%\n"
    }
   }
  },
  {
   "cell_type": "code",
   "execution_count": null,
   "outputs": [],
   "source": [
    "plot_dict = AttributeDict(\n",
    "    x = vec_tsne_bert[:,0],\n",
    "    y = vec_tsne_bert[:,1],\n",
    "    sentence = np.array(vocabulary),\n",
    "    class_name_word = np.array(class_name_word)\n",
    "\n",
    ")\n",
    "source = ColumnDataSource(plot_dict)\n",
    "\n",
    "TITLE = \"Plot of BERT trained vectors in 2D using t-SNE\"\n",
    "TOOLS = \"hover,pan,wheel_zoom,box_zoom,tap,reset,save\"\n",
    "p = figure(tools=TOOLS,\n",
    "           title=TITLE,\n",
    "           toolbar_location=\"above\",\n",
    "           plot_width=800,\n",
    "           plot_height=800)\n",
    "p.xaxis.axis_label = \"t-SNE variable 1\"\n",
    "p.yaxis.axis_label = \"t-SNE variable 2\"\n",
    "\n",
    "curdoc().theme = \"light_minimal\"\n",
    "output_notebook()\n",
    "#output_file(\"doc2vec.html\")\n",
    "\n",
    "# Show info per circle (pan)\n",
    "p.hover.tooltips = [\n",
    "    (\"sentence\", \"@sentence\"),\n",
    "]\n",
    "\n",
    "# display all circles\n",
    "color_dict=(\"#000000\", \"#FF0000\", \"#0000FF\", \"#00FF00\")\n",
    "\n",
    "p.circle(x=\"x\",\n",
    "         y=\"y\",\n",
    "         radius=.4,\n",
    "         selection_color=\"black\",\n",
    "         fill_alpha=.5,\n",
    "         line_alpha=.6,\n",
    "         source=source)\n",
    "\n",
    "p.legend.location = \"top_left\"\n",
    "p.legend.click_policy=\"hide\"\n",
    "show(p)"
   ],
   "metadata": {
    "collapsed": false,
    "pycharm": {
     "name": "#%%\n"
    }
   }
  },
  {
   "cell_type": "code",
   "execution_count": null,
   "outputs": [],
   "source": [
    "plot_dict = AttributeDict(\n",
    "    x = vec_tsne_bert[:,0],\n",
    "    y = vec_tsne_bert[:,1],\n",
    "    sentence = np.array(vocabulary),\n",
    "    class_name_word = np.array(class_name_word)\n",
    "\n",
    ")\n",
    "source = ColumnDataSource(plot_dict)\n",
    "\n",
    "TITLE = \"Plot of BERT trained vectors in 2D using t-SNE\"\n",
    "TOOLS = \"hover,pan,wheel_zoom,box_zoom,tap,reset,save\"\n",
    "p = figure(tools=TOOLS,\n",
    "           title=TITLE,\n",
    "           toolbar_location=\"above\",\n",
    "           plot_width=800,\n",
    "           plot_height=800)\n",
    "p.xaxis.axis_label = \"t-SNE variable 1\"\n",
    "p.yaxis.axis_label = \"t-SNE variable 2\"\n",
    "\n",
    "curdoc().theme = \"light_minimal\"\n",
    "output_notebook()\n",
    "#output_file(\"doc2vec.html\")\n",
    "\n",
    "# Show info per circle (pan)\n",
    "p.hover.tooltips = [\n",
    "    (\"sentence\", \"@sentence\"),\n",
    "]\n",
    "\n",
    "# display all circles\n",
    "color_dict=(\"#000000\", \"#FF0000\", \"#0000FF\", \"#00FF00\")\n",
    "\n",
    "p.circle(x=\"x\",\n",
    "         y=\"y\",\n",
    "         radius=.4,\n",
    "         selection_color=\"black\",\n",
    "         fill_alpha=.5,\n",
    "         line_alpha=.6,\n",
    "         source=source)\n",
    "\n",
    "p.legend.location = \"top_left\"\n",
    "p.legend.click_policy=\"hide\"\n",
    "show(p)"
   ],
   "metadata": {
    "collapsed": false,
    "pycharm": {
     "name": "#%%\n"
    }
   }
  },
  {
   "cell_type": "markdown",
   "source": [
    "plot_dict = AttributeDict(\n",
    "    x = vec_tsne_bert[:,0],\n",
    "    y = vec_tsne_bert[:,1],\n",
    "    sentence = np.array(vocabulary),\n",
    "    class_name_word = np.array(class_name_word)\n",
    "\n",
    ")\n",
    "source = ColumnDataSource(plot_dict)\n",
    "\n",
    "TITLE = \"Plot of BERT trained vectors in 2D using t-SNE\"\n",
    "TOOLS = \"hover,pan,wheel_zoom,box_zoom,tap,reset,save\"\n",
    "p = figure(tools=TOOLS,\n",
    "           title=TITLE,\n",
    "           toolbar_location=\"above\",\n",
    "           plot_width=800,\n",
    "           plot_height=800)\n",
    "p.xaxis.axis_label = \"t-SNE variable 1\"\n",
    "p.yaxis.axis_label = \"t-SNE variable 2\"\n",
    "\n",
    "curdoc().theme = \"light_minimal\"\n",
    "output_notebook()\n",
    "#output_file(\"doc2vec.html\")\n",
    "\n",
    "# Show info per circle (pan)\n",
    "p.hover.tooltips = [\n",
    "    (\"sentence\", \"@sentence\"),\n",
    "]\n",
    "\n",
    "# display all circles\n",
    "color_dict=(\"#000000\", \"#FF0000\", \"#0000FF\", \"#00FF00\")\n",
    "\n",
    "p.circle(x=\"x\",\n",
    "         y=\"y\",\n",
    "         radius=.4,\n",
    "         selection_color=\"black\",\n",
    "         fill_alpha=.5,\n",
    "         line_alpha=.6,\n",
    "         source=source)\n",
    "\n",
    "p.legend.location = \"top_left\"\n",
    "p.legend.click_policy=\"hide\"\n",
    "show(p)"
   ],
   "metadata": {
    "collapsed": false
   }
  },
  {
   "cell_type": "code",
   "execution_count": null,
   "outputs": [],
   "source": [
    "docvecs = doc2vec_model.docvecs\n",
    "print(docvecs[0])\n",
    "print(doc2vec_model.infer_vector(dataset.train.doc.values[0].words))"
   ],
   "metadata": {
    "collapsed": false,
    "pycharm": {
     "name": "#%%\n"
    }
   }
  },
  {
   "cell_type": "code",
   "execution_count": null,
   "outputs": [],
   "source": [
    "vec_tsne = TSNE(n_components=2).fit_transform(doc2vec_model.docvecs)\n",
    "\n",
    "color_word = dataset.train\n",
    "\n",
    "plot_dict = AttributeDict(\n",
    "    x = vec_tsne[:,0],\n",
    "    y = vec_tsne[:,1],\n",
    "    fill_color = np.array(color_word),\n",
    "    legend_label = np.array(class_name_word),\n",
    "    sentence = np.array(dataset.train.sentence.values),\n",
    "    class_name_word = np.array(dataset.train[\"class\"].values)\n",
    "\n",
    ")\n",
    "source = ColumnDataSource(plot_dict)\n",
    "\n",
    "TITLE = \"Plot of Doc2Vec sentence trained vectors in 2D using t-SNE\"\n",
    "TOOLS = \"hover,pan,wheel_zoom,box_zoom,tap,reset,save\"\n",
    "p = figure(tools=TOOLS,\n",
    "           title=TITLE,\n",
    "           toolbar_location=\"above\",\n",
    "           plot_width=800,\n",
    "           plot_height=800)\n",
    "p.xaxis.axis_label = \"t-SNE variable 1\"\n",
    "p.yaxis.axis_label = \"t-SNE variable 2\"\n",
    "output_notebook()\n",
    "\n",
    "curdoc().theme = \"light_minimal\"\n",
    "#output_file(\"doc2vec.html\")\n",
    "\n",
    "# Show info per circle (pan)\n",
    "p.hover.tooltips = [\n",
    "    (\"sentence\", \"@sentence\"),\n",
    "    (\"class\",\"@class_name_word\")\n",
    "]\n",
    "\n",
    "# display all circles\n",
    "color_dict=(\"#000000\", \"#FF0000\", \"#0000FF\", \"#00FF00\")\n",
    "\n",
    "p.circle(x=\"x\",\n",
    "         y=\"y\",\n",
    "         radius=.4,\n",
    "         selection_color=\"black\",\n",
    "         fill_alpha=.5,\n",
    "         line_alpha=.6,\n",
    "         fill_color=\"fill_color\",\n",
    "         legend_group='class_name_word',\n",
    "         source=source)\n",
    "\n",
    "p.legend.location = \"top_left\"\n",
    "p.legend.click_policy=\"hide\"\n",
    "show(p)"
   ],
   "metadata": {
    "collapsed": false,
    "pycharm": {
     "name": "#%%\n"
    }
   }
  },
  {
   "cell_type": "markdown",
   "source": [
    "# BERT model"
   ],
   "metadata": {
    "collapsed": false
   }
  },
  {
   "cell_type": "code",
   "execution_count": null,
   "outputs": [],
   "source": [
    "from sentence_transformers import SentenceTransformer\n",
    "\n",
    "embedder = SentenceTransformer('roberta-base-nli-stsb-mean-tokens')\n",
    "\n",
    "encoded_sentences = embedder.encode(dataset.train.sentence.values)"
   ],
   "metadata": {
    "collapsed": false,
    "pycharm": {
     "name": "#%%\n"
    }
   }
  },
  {
   "cell_type": "markdown",
   "source": [
    "## Get the t-SNE of the BERT model"
   ],
   "metadata": {
    "collapsed": false
   }
  },
  {
   "cell_type": "code",
   "execution_count": null,
   "outputs": [],
   "source": [
    "vec_tsne_bert = TSNE(n_components=2).fit_transform(encoded_sentences)\n",
    "vocabulary = dataset.train.sentence.values"
   ],
   "metadata": {
    "collapsed": false,
    "pycharm": {
     "name": "#%%\n"
    }
   }
  },
  {
   "cell_type": "code",
   "execution_count": null,
   "outputs": [],
   "source": [
    "plot_dict = AttributeDict(\n",
    "    x = vec_tsne_bert[:,0],\n",
    "    y = vec_tsne_bert[:,1],\n",
    "    sentence = np.array(vocabulary),\n",
    "    class_name_word = np.array(class_name_word)\n",
    "\n",
    ")\n",
    "source = ColumnDataSource(plot_dict)\n",
    "\n",
    "TITLE = \"Plot of BERT trained vectors in 2D using t-SNE\"\n",
    "TOOLS = \"hover,pan,wheel_zoom,box_zoom,tap,reset,save\"\n",
    "p = figure(tools=TOOLS,\n",
    "           title=TITLE,\n",
    "           toolbar_location=\"above\",\n",
    "           plot_width=800,\n",
    "           plot_height=800)\n",
    "p.xaxis.axis_label = \"t-SNE variable 1\"\n",
    "p.yaxis.axis_label = \"t-SNE variable 2\"\n",
    "\n",
    "curdoc().theme = \"light_minimal\"\n",
    "output_notebook()\n",
    "#output_file(\"doc2vec.html\")\n",
    "\n",
    "# Show info per circle (pan)\n",
    "p.hover.tooltips = [\n",
    "    (\"sentence\", \"@sentence\"),\n",
    "]\n",
    "\n",
    "# display all circles\n",
    "color_dict=(\"#000000\", \"#FF0000\", \"#0000FF\", \"#00FF00\")\n",
    "\n",
    "p.circle(x=\"x\",\n",
    "         y=\"y\",\n",
    "         radius=.4,\n",
    "         selection_color=\"black\",\n",
    "         fill_alpha=.5,\n",
    "         line_alpha=.6,\n",
    "         source=source)\n",
    "\n",
    "p.legend.location = \"top_left\"\n",
    "p.legend.click_policy=\"hide\"\n",
    "show(p)"
   ],
   "metadata": {
    "collapsed": false,
    "pycharm": {
     "name": "#%%\n"
    }
   }
  },
  {
   "cell_type": "code",
   "execution_count": null,
   "outputs": [],
   "source": [
    "plot_dict = AttributeDict(\n",
    "    x = vec_tsne_bert[:,0],\n",
    "    y = vec_tsne_bert[:,1],\n",
    "    sentence = np.array(vocabulary),\n",
    "    class_name_word = np.array(class_name_word)\n",
    "\n",
    ")\n",
    "source = ColumnDataSource(plot_dict)\n",
    "\n",
    "TITLE = \"Plot of BERT trained vectors in 2D using t-SNE\"\n",
    "TOOLS = \"hover,pan,wheel_zoom,box_zoom,tap,reset,save\"\n",
    "p = figure(tools=TOOLS,\n",
    "           title=TITLE,\n",
    "           toolbar_location=\"above\",\n",
    "           plot_width=800,\n",
    "           plot_height=800)\n",
    "p.xaxis.axis_label = \"t-SNE variable 1\"\n",
    "p.yaxis.axis_label = \"t-SNE variable 2\"\n",
    "\n",
    "curdoc().theme = \"light_minimal\"\n",
    "output_notebook()\n",
    "#output_file(\"doc2vec.html\")\n",
    "\n",
    "# Show info per circle (pan)\n",
    "p.hover.tooltips = [\n",
    "    (\"sentence\", \"@sentence\"),\n",
    "]\n",
    "\n",
    "# display all circles\n",
    "color_dict=(\"#000000\", \"#FF0000\", \"#0000FF\", \"#00FF00\")\n",
    "\n",
    "p.circle(x=\"x\",\n",
    "         y=\"y\",\n",
    "         radius=.4,\n",
    "         selection_color=\"black\",\n",
    "         fill_alpha=.5,\n",
    "         line_alpha=.6,\n",
    "         source=source)\n",
    "\n",
    "p.legend.location = \"top_left\"\n",
    "p.legend.click_policy=\"hide\"\n",
    "show(p)"
   ],
   "metadata": {
    "collapsed": false,
    "pycharm": {
     "name": "#%%\n"
    }
   }
  },
  {
   "cell_type": "code",
   "execution_count": null,
   "outputs": [],
   "source": [
    "plot_dict = AttributeDict(\n",
    "    x = vec_tsne_bert[:,0],\n",
    "    y = vec_tsne_bert[:,1],\n",
    "    sentence = np.array(vocabulary),\n",
    "    class_name_word = np.array(class_name_word)\n",
    "\n",
    ")\n",
    "source = ColumnDataSource(plot_dict)\n",
    "\n",
    "TITLE = \"Plot of BERT trained vectors in 2D using t-SNE\"\n",
    "TOOLS = \"hover,pan,wheel_zoom,box_zoom,tap,reset,save\"\n",
    "p = figure(tools=TOOLS,\n",
    "           title=TITLE,\n",
    "           toolbar_location=\"above\",\n",
    "           plot_width=800,\n",
    "           plot_height=800)\n",
    "p.xaxis.axis_label = \"t-SNE variable 1\"\n",
    "p.yaxis.axis_label = \"t-SNE variable 2\"\n",
    "\n",
    "curdoc().theme = \"light_minimal\"\n",
    "output_notebook()\n",
    "#output_file(\"doc2vec.html\")\n",
    "\n",
    "# Show info per circle (pan)\n",
    "p.hover.tooltips = [\n",
    "    (\"sentence\", \"@sentence\"),\n",
    "]\n",
    "\n",
    "# display all circles\n",
    "color_dict=(\"#000000\", \"#FF0000\", \"#0000FF\", \"#00FF00\")\n",
    "\n",
    "p.circle(x=\"x\",\n",
    "         y=\"y\",\n",
    "         radius=.4,\n",
    "         selection_color=\"black\",\n",
    "         fill_alpha=.5,\n",
    "         line_alpha=.6,\n",
    "         source=source)\n",
    "\n",
    "p.legend.location = \"top_left\"\n",
    "p.legend.click_policy=\"hide\"\n",
    "show(p)"
   ],
   "metadata": {
    "collapsed": false,
    "pycharm": {
     "name": "#%%\n"
    }
   }
  },
  {
   "cell_type": "code",
   "source": [
    "plot_dict = AttributeDict(\n",
    "    x = vec_tsne_bert[:,0],\n",
    "    y = vec_tsne_bert[:,1],\n",
    "    sentence = np.array(vocabulary),\n",
    "    class_name_word = np.array(class_name_word)\n",
    "\n",
    ")\n",
    "source = ColumnDataSource(plot_dict)\n",
    "\n",
    "TITLE = \"Plot of BERT trained vectors in 2D using t-SNE\"\n",
    "TOOLS = \"hover,pan,wheel_zoom,box_zoom,tap,reset,save\"\n",
    "p = figure(tools=TOOLS,\n",
    "           title=TITLE,\n",
    "           toolbar_location=\"above\",\n",
    "           plot_width=800,\n",
    "           plot_height=800)\n",
    "p.xaxis.axis_label = \"t-SNE variable 1\"\n",
    "p.yaxis.axis_label = \"t-SNE variable 2\"\n",
    "\n",
    "curdoc().theme = \"light_minimal\"\n",
    "output_notebook()\n",
    "#output_file(\"doc2vec.html\")\n",
    "\n",
    "# Show info per circle (pan)\n",
    "p.hover.tooltips = [\n",
    "    (\"sentence\", \"@sentence\"),\n",
    "]\n",
    "\n",
    "# display all circles\n",
    "color_dict=(\"#000000\", \"#FF0000\", \"#0000FF\", \"#00FF00\")\n",
    "\n",
    "p.circle(x=\"x\",\n",
    "         y=\"y\",\n",
    "         radius=.4,\n",
    "         selection_color=\"black\",\n",
    "         fill_alpha=.5,\n",
    "         line_alpha=.6,\n",
    "         source=source)\n",
    "\n",
    "p.legend.location = \"top_left\"\n",
    "p.legend.click_policy=\"hide\"\n",
    "show(p)"
   ],
   "metadata": {
    "collapsed": false,
    "pycharm": {
     "name": "#%%\n"
    }
   },
   "execution_count": null,
   "outputs": []
  },
  {
   "cell_type": "code",
   "execution_count": null,
   "outputs": [],
   "source": [
    "docvecs = doc2vec_model.docvecs\n",
    "print(docvecs[0])\n",
    "print(doc2vec_model.infer_vector(dataset.train.doc.values[0].words))"
   ],
   "metadata": {
    "collapsed": false,
    "pycharm": {
     "name": "#%%\n"
    }
   }
  },
  {
   "cell_type": "code",
   "execution_count": null,
   "outputs": [],
   "source": [
    "vec_tsne = TSNE(n_components=2).fit_transform(doc2vec_model.docvecs)\n",
    "\n",
    "color_word = dataset.train\n",
    "\n",
    "plot_dict = AttributeDict(\n",
    "    x = vec_tsne[:,0],\n",
    "    y = vec_tsne[:,1],\n",
    "    fill_color = np.array(color_word),\n",
    "    legend_label = np.array(class_name_word),\n",
    "    sentence = np.array(dataset.train.sentence.values),\n",
    "    class_name_word = np.array(dataset.train[\"class\"].values)\n",
    "\n",
    ")\n",
    "source = ColumnDataSource(plot_dict)\n",
    "\n",
    "TITLE = \"Plot of Doc2Vec sentence trained vectors in 2D using t-SNE\"\n",
    "TOOLS = \"hover,pan,wheel_zoom,box_zoom,tap,reset,save\"\n",
    "p = figure(tools=TOOLS,\n",
    "           title=TITLE,\n",
    "           toolbar_location=\"above\",\n",
    "           plot_width=800,\n",
    "           plot_height=800)\n",
    "p.xaxis.axis_label = \"t-SNE variable 1\"\n",
    "p.yaxis.axis_label = \"t-SNE variable 2\"\n",
    "output_notebook()\n",
    "\n",
    "curdoc().theme = \"light_minimal\"\n",
    "#output_file(\"doc2vec.html\")\n",
    "\n",
    "# Show info per circle (pan)\n",
    "p.hover.tooltips = [\n",
    "    (\"sentence\", \"@sentence\"),\n",
    "    (\"class\",\"@class_name_word\")\n",
    "]\n",
    "\n",
    "# display all circles\n",
    "color_dict=(\"#000000\", \"#FF0000\", \"#0000FF\", \"#00FF00\")\n",
    "\n",
    "p.circle(x=\"x\",\n",
    "         y=\"y\",\n",
    "         radius=.4,\n",
    "         selection_color=\"black\",\n",
    "         fill_alpha=.5,\n",
    "         line_alpha=.6,\n",
    "         fill_color=\"fill_color\",\n",
    "         legend_group='class_name_word',\n",
    "         source=source)\n",
    "\n",
    "p.legend.location = \"top_left\"\n",
    "p.legend.click_policy=\"hide\"\n",
    "show(p)"
   ],
   "metadata": {
    "collapsed": false,
    "pycharm": {
     "name": "#%%\n"
    }
   }
  },
  {
   "cell_type": "markdown",
   "source": [
    "# BERT model"
   ],
   "metadata": {
    "collapsed": false
   }
  },
  {
   "cell_type": "code",
   "execution_count": null,
   "outputs": [],
   "source": [
    "from sentence_transformers import SentenceTransformer\n",
    "\n",
    "embedder = SentenceTransformer('roberta-base-nli-stsb-mean-tokens')\n",
    "\n",
    "encoded_sentences = embedder.encode(dataset.train.sentence.values)"
   ],
   "metadata": {
    "collapsed": false,
    "pycharm": {
     "name": "#%%\n"
    }
   }
  },
  {
   "cell_type": "markdown",
   "source": [
    "## Get the t-SNE of the BERT model"
   ],
   "metadata": {
    "collapsed": false
   }
  },
  {
   "cell_type": "code",
   "execution_count": null,
   "outputs": [],
   "source": [
    "vec_tsne_bert = TSNE(n_components=2).fit_transform(encoded_sentences)\n",
    "vocabulary = dataset.train.sentence.values"
   ],
   "metadata": {
    "collapsed": false,
    "pycharm": {
     "name": "#%%\n"
    }
   }
  },
  {
   "cell_type": "code",
   "execution_count": null,
   "outputs": [],
   "source": [
    "plot_dict = AttributeDict(\n",
    "    x = vec_tsne_bert[:,0],\n",
    "    y = vec_tsne_bert[:,1],\n",
    "    sentence = np.array(vocabulary),\n",
    "    class_name_word = np.array(class_name_word)\n",
    "\n",
    ")\n",
    "source = ColumnDataSource(plot_dict)\n",
    "\n",
    "TITLE = \"Plot of BERT trained vectors in 2D using t-SNE\"\n",
    "TOOLS = \"hover,pan,wheel_zoom,box_zoom,tap,reset,save\"\n",
    "p = figure(tools=TOOLS,\n",
    "           title=TITLE,\n",
    "           toolbar_location=\"above\",\n",
    "           plot_width=800,\n",
    "           plot_height=800)\n",
    "p.xaxis.axis_label = \"t-SNE variable 1\"\n",
    "p.yaxis.axis_label = \"t-SNE variable 2\"\n",
    "\n",
    "curdoc().theme = \"light_minimal\"\n",
    "output_notebook()\n",
    "#output_file(\"doc2vec.html\")\n",
    "\n",
    "# Show info per circle (pan)\n",
    "p.hover.tooltips = [\n",
    "    (\"sentence\", \"@sentence\"),\n",
    "]\n",
    "\n",
    "# display all circles\n",
    "color_dict=(\"#000000\", \"#FF0000\", \"#0000FF\", \"#00FF00\")\n",
    "\n",
    "p.circle(x=\"x\",\n",
    "         y=\"y\",\n",
    "         radius=.4,\n",
    "         selection_color=\"black\",\n",
    "         fill_alpha=.5,\n",
    "         line_alpha=.6,\n",
    "         source=source)\n",
    "\n",
    "p.legend.location = \"top_left\"\n",
    "p.legend.click_policy=\"hide\"\n",
    "show(p)"
   ],
   "metadata": {
    "collapsed": false,
    "pycharm": {
     "name": "#%%\n"
    }
   }
  },
  {
   "cell_type": "code",
   "execution_count": null,
   "outputs": [],
   "source": [
    "plot_dict = AttributeDict(\n",
    "    x = vec_tsne_bert[:,0],\n",
    "    y = vec_tsne_bert[:,1],\n",
    "    sentence = np.array(vocabulary),\n",
    "    class_name_word = np.array(class_name_word)\n",
    "\n",
    ")\n",
    "source = ColumnDataSource(plot_dict)\n",
    "\n",
    "TITLE = \"Plot of BERT trained vectors in 2D using t-SNE\"\n",
    "TOOLS = \"hover,pan,wheel_zoom,box_zoom,tap,reset,save\"\n",
    "p = figure(tools=TOOLS,\n",
    "           title=TITLE,\n",
    "           toolbar_location=\"above\",\n",
    "           plot_width=800,\n",
    "           plot_height=800)\n",
    "p.xaxis.axis_label = \"t-SNE variable 1\"\n",
    "p.yaxis.axis_label = \"t-SNE variable 2\"\n",
    "\n",
    "curdoc().theme = \"light_minimal\"\n",
    "output_notebook()\n",
    "#output_file(\"doc2vec.html\")\n",
    "\n",
    "# Show info per circle (pan)\n",
    "p.hover.tooltips = [\n",
    "    (\"sentence\", \"@sentence\"),\n",
    "]\n",
    "\n",
    "# display all circles\n",
    "color_dict=(\"#000000\", \"#FF0000\", \"#0000FF\", \"#00FF00\")\n",
    "\n",
    "p.circle(x=\"x\",\n",
    "         y=\"y\",\n",
    "         radius=.4,\n",
    "         selection_color=\"black\",\n",
    "         fill_alpha=.5,\n",
    "         line_alpha=.6,\n",
    "         source=source)\n",
    "\n",
    "p.legend.location = \"top_left\"\n",
    "p.legend.click_policy=\"hide\"\n",
    "show(p)"
   ],
   "metadata": {
    "collapsed": false,
    "pycharm": {
     "name": "#%%\n"
    }
   }
  },
  {
   "cell_type": "code",
   "execution_count": null,
   "outputs": [],
   "source": [
    "plot_dict = AttributeDict(\n",
    "    x = vec_tsne_bert[:,0],\n",
    "    y = vec_tsne_bert[:,1],\n",
    "    sentence = np.array(vocabulary),\n",
    "    class_name_word = np.array(class_name_word)\n",
    "\n",
    ")\n",
    "source = ColumnDataSource(plot_dict)\n",
    "\n",
    "TITLE = \"Plot of BERT trained vectors in 2D using t-SNE\"\n",
    "TOOLS = \"hover,pan,wheel_zoom,box_zoom,tap,reset,save\"\n",
    "p = figure(tools=TOOLS,\n",
    "           title=TITLE,\n",
    "           toolbar_location=\"above\",\n",
    "           plot_width=800,\n",
    "           plot_height=800)\n",
    "p.xaxis.axis_label = \"t-SNE variable 1\"\n",
    "p.yaxis.axis_label = \"t-SNE variable 2\"\n",
    "\n",
    "curdoc().theme = \"light_minimal\"\n",
    "output_notebook()\n",
    "#output_file(\"doc2vec.html\")\n",
    "\n",
    "# Show info per circle (pan)\n",
    "p.hover.tooltips = [\n",
    "    (\"sentence\", \"@sentence\"),\n",
    "]\n",
    "\n",
    "# display all circles\n",
    "color_dict=(\"#000000\", \"#FF0000\", \"#0000FF\", \"#00FF00\")\n",
    "\n",
    "p.circle(x=\"x\",\n",
    "         y=\"y\",\n",
    "         radius=.4,\n",
    "         selection_color=\"black\",\n",
    "         fill_alpha=.5,\n",
    "         line_alpha=.6,\n",
    "         source=source)\n",
    "\n",
    "p.legend.location = \"top_left\"\n",
    "p.legend.click_policy=\"hide\"\n",
    "show(p)"
   ],
   "metadata": {
    "collapsed": false,
    "pycharm": {
     "name": "#%%\n"
    }
   }
  },
  {
   "cell_type": "markdown",
   "source": [
    "plot_dict = AttributeDict(\n",
    "    x = vec_tsne_bert[:,0],\n",
    "    y = vec_tsne_bert[:,1],\n",
    "    sentence = np.array(vocabulary),\n",
    "    class_name_word = np.array(class_name_word)\n",
    "\n",
    ")\n",
    "source = ColumnDataSource(plot_dict)\n",
    "\n",
    "TITLE = \"Plot of BERT trained vectors in 2D using t-SNE\"\n",
    "TOOLS = \"hover,pan,wheel_zoom,box_zoom,tap,reset,save\"\n",
    "p = figure(tools=TOOLS,\n",
    "           title=TITLE,\n",
    "           toolbar_location=\"above\",\n",
    "           plot_width=800,\n",
    "           plot_height=800)\n",
    "p.xaxis.axis_label = \"t-SNE variable 1\"\n",
    "p.yaxis.axis_label = \"t-SNE variable 2\"\n",
    "\n",
    "curdoc().theme = \"light_minimal\"\n",
    "output_notebook()\n",
    "#output_file(\"doc2vec.html\")\n",
    "\n",
    "# Show info per circle (pan)\n",
    "p.hover.tooltips = [\n",
    "    (\"sentence\", \"@sentence\"),\n",
    "]\n",
    "\n",
    "# display all circles\n",
    "color_dict=(\"#000000\", \"#FF0000\", \"#0000FF\", \"#00FF00\")\n",
    "\n",
    "p.circle(x=\"x\",\n",
    "         y=\"y\",\n",
    "         radius=.4,\n",
    "         selection_color=\"black\",\n",
    "         fill_alpha=.5,\n",
    "         line_alpha=.6,\n",
    "         source=source)\n",
    "\n",
    "p.legend.location = \"top_left\"\n",
    "p.legend.click_policy=\"hide\"\n",
    "show(p)"
   ],
   "metadata": {
    "collapsed": false
   }
  },
  {
   "cell_type": "code",
   "execution_count": null,
   "outputs": [],
   "source": [
    "docvecs = doc2vec_model.docvecs\n",
    "print(docvecs[0])\n",
    "print(doc2vec_model.infer_vector(dataset.train.doc.values[0].words))"
   ],
   "metadata": {
    "collapsed": false,
    "pycharm": {
     "name": "#%%\n"
    }
   }
  },
  {
   "cell_type": "code",
   "execution_count": null,
   "outputs": [],
   "source": [
    "vec_tsne = TSNE(n_components=2).fit_transform(doc2vec_model.docvecs)\n",
    "\n",
    "color_word = dataset.train\n",
    "\n",
    "plot_dict = AttributeDict(\n",
    "    x = vec_tsne[:,0],\n",
    "    y = vec_tsne[:,1],\n",
    "    fill_color = np.array(color_word),\n",
    "    legend_label = np.array(class_name_word),\n",
    "    sentence = np.array(dataset.train.sentence.values),\n",
    "    class_name_word = np.array(dataset.train[\"class\"].values)\n",
    "\n",
    ")\n",
    "source = ColumnDataSource(plot_dict)\n",
    "\n",
    "TITLE = \"Plot of Doc2Vec sentence trained vectors in 2D using t-SNE\"\n",
    "TOOLS = \"hover,pan,wheel_zoom,box_zoom,tap,reset,save\"\n",
    "p = figure(tools=TOOLS,\n",
    "           title=TITLE,\n",
    "           toolbar_location=\"above\",\n",
    "           plot_width=800,\n",
    "           plot_height=800)\n",
    "p.xaxis.axis_label = \"t-SNE variable 1\"\n",
    "p.yaxis.axis_label = \"t-SNE variable 2\"\n",
    "output_notebook()\n",
    "\n",
    "curdoc().theme = \"light_minimal\"\n",
    "#output_file(\"doc2vec.html\")\n",
    "\n",
    "# Show info per circle (pan)\n",
    "p.hover.tooltips = [\n",
    "    (\"sentence\", \"@sentence\"),\n",
    "    (\"class\",\"@class_name_word\")\n",
    "]\n",
    "\n",
    "# display all circles\n",
    "color_dict=(\"#000000\", \"#FF0000\", \"#0000FF\", \"#00FF00\")\n",
    "\n",
    "p.circle(x=\"x\",\n",
    "         y=\"y\",\n",
    "         radius=.4,\n",
    "         selection_color=\"black\",\n",
    "         fill_alpha=.5,\n",
    "         line_alpha=.6,\n",
    "         fill_color=\"fill_color\",\n",
    "         legend_group='class_name_word',\n",
    "         source=source)\n",
    "\n",
    "p.legend.location = \"top_left\"\n",
    "p.legend.click_policy=\"hide\"\n",
    "show(p)"
   ],
   "metadata": {
    "collapsed": false,
    "pycharm": {
     "name": "#%%\n"
    }
   }
  },
  {
   "cell_type": "markdown",
   "source": [
    "# BERT model"
   ],
   "metadata": {
    "collapsed": false
   }
  },
  {
   "cell_type": "code",
   "execution_count": null,
   "outputs": [],
   "source": [
    "from sentence_transformers import SentenceTransformer\n",
    "\n",
    "embedder = SentenceTransformer('roberta-base-nli-stsb-mean-tokens')\n",
    "\n",
    "encoded_sentences = embedder.encode(dataset.train.sentence.values)"
   ],
   "metadata": {
    "collapsed": false,
    "pycharm": {
     "name": "#%%\n"
    }
   }
  },
  {
   "cell_type": "markdown",
   "source": [
    "## Get the t-SNE of the BERT model"
   ],
   "metadata": {
    "collapsed": false
   }
  },
  {
   "cell_type": "code",
   "execution_count": null,
   "outputs": [],
   "source": [
    "vec_tsne_bert = TSNE(n_components=2).fit_transform(encoded_sentences)\n",
    "vocabulary = dataset.train.sentence.values"
   ],
   "metadata": {
    "collapsed": false,
    "pycharm": {
     "name": "#%%\n"
    }
   }
  },
  {
   "cell_type": "code",
   "execution_count": null,
   "outputs": [],
   "source": [
    "plot_dict = AttributeDict(\n",
    "    x = vec_tsne_bert[:,0],\n",
    "    y = vec_tsne_bert[:,1],\n",
    "    sentence = np.array(vocabulary),\n",
    "    class_name_word = np.array(class_name_word)\n",
    "\n",
    ")\n",
    "source = ColumnDataSource(plot_dict)\n",
    "\n",
    "TITLE = \"Plot of BERT trained vectors in 2D using t-SNE\"\n",
    "TOOLS = \"hover,pan,wheel_zoom,box_zoom,tap,reset,save\"\n",
    "p = figure(tools=TOOLS,\n",
    "           title=TITLE,\n",
    "           toolbar_location=\"above\",\n",
    "           plot_width=800,\n",
    "           plot_height=800)\n",
    "p.xaxis.axis_label = \"t-SNE variable 1\"\n",
    "p.yaxis.axis_label = \"t-SNE variable 2\"\n",
    "\n",
    "curdoc().theme = \"light_minimal\"\n",
    "output_notebook()\n",
    "#output_file(\"doc2vec.html\")\n",
    "\n",
    "# Show info per circle (pan)\n",
    "p.hover.tooltips = [\n",
    "    (\"sentence\", \"@sentence\"),\n",
    "]\n",
    "\n",
    "# display all circles\n",
    "color_dict=(\"#000000\", \"#FF0000\", \"#0000FF\", \"#00FF00\")\n",
    "\n",
    "p.circle(x=\"x\",\n",
    "         y=\"y\",\n",
    "         radius=.4,\n",
    "         selection_color=\"black\",\n",
    "         fill_alpha=.5,\n",
    "         line_alpha=.6,\n",
    "         source=source)\n",
    "\n",
    "p.legend.location = \"top_left\"\n",
    "p.legend.click_policy=\"hide\"\n",
    "show(p)"
   ],
   "metadata": {
    "collapsed": false,
    "pycharm": {
     "name": "#%%\n"
    }
   }
  },
  {
   "cell_type": "code",
   "execution_count": null,
   "outputs": [],
   "source": [
    "plot_dict = AttributeDict(\n",
    "    x = vec_tsne_bert[:,0],\n",
    "    y = vec_tsne_bert[:,1],\n",
    "    sentence = np.array(vocabulary),\n",
    "    class_name_word = np.array(class_name_word)\n",
    "\n",
    ")\n",
    "source = ColumnDataSource(plot_dict)\n",
    "\n",
    "TITLE = \"Plot of BERT trained vectors in 2D using t-SNE\"\n",
    "TOOLS = \"hover,pan,wheel_zoom,box_zoom,tap,reset,save\"\n",
    "p = figure(tools=TOOLS,\n",
    "           title=TITLE,\n",
    "           toolbar_location=\"above\",\n",
    "           plot_width=800,\n",
    "           plot_height=800)\n",
    "p.xaxis.axis_label = \"t-SNE variable 1\"\n",
    "p.yaxis.axis_label = \"t-SNE variable 2\"\n",
    "\n",
    "curdoc().theme = \"light_minimal\"\n",
    "output_notebook()\n",
    "#output_file(\"doc2vec.html\")\n",
    "\n",
    "# Show info per circle (pan)\n",
    "p.hover.tooltips = [\n",
    "    (\"sentence\", \"@sentence\"),\n",
    "]\n",
    "\n",
    "# display all circles\n",
    "color_dict=(\"#000000\", \"#FF0000\", \"#0000FF\", \"#00FF00\")\n",
    "\n",
    "p.circle(x=\"x\",\n",
    "         y=\"y\",\n",
    "         radius=.4,\n",
    "         selection_color=\"black\",\n",
    "         fill_alpha=.5,\n",
    "         line_alpha=.6,\n",
    "         source=source)\n",
    "\n",
    "p.legend.location = \"top_left\"\n",
    "p.legend.click_policy=\"hide\"\n",
    "show(p)"
   ],
   "metadata": {
    "collapsed": false,
    "pycharm": {
     "name": "#%%\n"
    }
   }
  },
  {
   "cell_type": "code",
   "execution_count": null,
   "outputs": [],
   "source": [
    "plot_dict = AttributeDict(\n",
    "    x = vec_tsne_bert[:,0],\n",
    "    y = vec_tsne_bert[:,1],\n",
    "    sentence = np.array(vocabulary),\n",
    "    class_name_word = np.array(class_name_word)\n",
    "\n",
    ")\n",
    "source = ColumnDataSource(plot_dict)\n",
    "\n",
    "TITLE = \"Plot of BERT trained vectors in 2D using t-SNE\"\n",
    "TOOLS = \"hover,pan,wheel_zoom,box_zoom,tap,reset,save\"\n",
    "p = figure(tools=TOOLS,\n",
    "           title=TITLE,\n",
    "           toolbar_location=\"above\",\n",
    "           plot_width=800,\n",
    "           plot_height=800)\n",
    "p.xaxis.axis_label = \"t-SNE variable 1\"\n",
    "p.yaxis.axis_label = \"t-SNE variable 2\"\n",
    "\n",
    "curdoc().theme = \"light_minimal\"\n",
    "output_notebook()\n",
    "#output_file(\"doc2vec.html\")\n",
    "\n",
    "# Show info per circle (pan)\n",
    "p.hover.tooltips = [\n",
    "    (\"sentence\", \"@sentence\"),\n",
    "]\n",
    "\n",
    "# display all circles\n",
    "color_dict=(\"#000000\", \"#FF0000\", \"#0000FF\", \"#00FF00\")\n",
    "\n",
    "p.circle(x=\"x\",\n",
    "         y=\"y\",\n",
    "         radius=.4,\n",
    "         selection_color=\"black\",\n",
    "         fill_alpha=.5,\n",
    "         line_alpha=.6,\n",
    "         source=source)\n",
    "\n",
    "p.legend.location = \"top_left\"\n",
    "p.legend.click_policy=\"hide\"\n",
    "show(p)"
   ],
   "metadata": {
    "collapsed": false,
    "pycharm": {
     "name": "#%%\n"
    }
   }
  },
  {
   "cell_type": "markdown",
   "source": [
    "plot_dict = AttributeDict(\n",
    "    x = vec_tsne_bert[:,0],\n",
    "    y = vec_tsne_bert[:,1],\n",
    "    sentence = np.array(vocabulary),\n",
    "    class_name_word = np.array(class_name_word)\n",
    "\n",
    ")\n",
    "source = ColumnDataSource(plot_dict)\n",
    "\n",
    "TITLE = \"Plot of BERT trained vectors in 2D using t-SNE\"\n",
    "TOOLS = \"hover,pan,wheel_zoom,box_zoom,tap,reset,save\"\n",
    "p = figure(tools=TOOLS,\n",
    "           title=TITLE,\n",
    "           toolbar_location=\"above\",\n",
    "           plot_width=800,\n",
    "           plot_height=800)\n",
    "p.xaxis.axis_label = \"t-SNE variable 1\"\n",
    "p.yaxis.axis_label = \"t-SNE variable 2\"\n",
    "\n",
    "curdoc().theme = \"light_minimal\"\n",
    "output_notebook()\n",
    "#output_file(\"doc2vec.html\")\n",
    "\n",
    "# Show info per circle (pan)\n",
    "p.hover.tooltips = [\n",
    "    (\"sentence\", \"@sentence\"),\n",
    "]\n",
    "\n",
    "# display all circles\n",
    "color_dict=(\"#000000\", \"#FF0000\", \"#0000FF\", \"#00FF00\")\n",
    "\n",
    "p.circle(x=\"x\",\n",
    "         y=\"y\",\n",
    "         radius=.4,\n",
    "         selection_color=\"black\",\n",
    "         fill_alpha=.5,\n",
    "         line_alpha=.6,\n",
    "         source=source)\n",
    "\n",
    "p.legend.location = \"top_left\"\n",
    "p.legend.click_policy=\"hide\"\n",
    "show(p)"
   ],
   "metadata": {
    "collapsed": false
   }
  },
  {
   "cell_type": "code",
   "execution_count": null,
   "outputs": [],
   "source": [
    "docvecs = doc2vec_model.docvecs\n",
    "print(docvecs[0])\n",
    "print(doc2vec_model.infer_vector(dataset.train.doc.values[0].words))"
   ],
   "metadata": {
    "collapsed": false,
    "pycharm": {
     "name": "#%%\n"
    }
   }
  },
  {
   "cell_type": "code",
   "execution_count": null,
   "outputs": [],
   "source": [
    "vec_tsne = TSNE(n_components=2).fit_transform(doc2vec_model.docvecs)\n",
    "\n",
    "color_word = dataset.train\n",
    "\n",
    "plot_dict = AttributeDict(\n",
    "    x = vec_tsne[:,0],\n",
    "    y = vec_tsne[:,1],\n",
    "    fill_color = np.array(color_word),\n",
    "    legend_label = np.array(class_name_word),\n",
    "    sentence = np.array(dataset.train.sentence.values),\n",
    "    class_name_word = np.array(dataset.train[\"class\"].values)\n",
    "\n",
    ")\n",
    "source = ColumnDataSource(plot_dict)\n",
    "\n",
    "TITLE = \"Plot of Doc2Vec sentence trained vectors in 2D using t-SNE\"\n",
    "TOOLS = \"hover,pan,wheel_zoom,box_zoom,tap,reset,save\"\n",
    "p = figure(tools=TOOLS,\n",
    "           title=TITLE,\n",
    "           toolbar_location=\"above\",\n",
    "           plot_width=800,\n",
    "           plot_height=800)\n",
    "p.xaxis.axis_label = \"t-SNE variable 1\"\n",
    "p.yaxis.axis_label = \"t-SNE variable 2\"\n",
    "output_notebook()\n",
    "\n",
    "curdoc().theme = \"light_minimal\"\n",
    "#output_file(\"doc2vec.html\")\n",
    "\n",
    "# Show info per circle (pan)\n",
    "p.hover.tooltips = [\n",
    "    (\"sentence\", \"@sentence\"),\n",
    "    (\"class\",\"@class_name_word\")\n",
    "]\n",
    "\n",
    "# display all circles\n",
    "color_dict=(\"#000000\", \"#FF0000\", \"#0000FF\", \"#00FF00\")\n",
    "\n",
    "p.circle(x=\"x\",\n",
    "         y=\"y\",\n",
    "         radius=.4,\n",
    "         selection_color=\"black\",\n",
    "         fill_alpha=.5,\n",
    "         line_alpha=.6,\n",
    "         fill_color=\"fill_color\",\n",
    "         legend_group='class_name_word',\n",
    "         source=source)\n",
    "\n",
    "p.legend.location = \"top_left\"\n",
    "p.legend.click_policy=\"hide\"\n",
    "show(p)"
   ],
   "metadata": {
    "collapsed": false,
    "pycharm": {
     "name": "#%%\n"
    }
   }
  },
  {
   "cell_type": "markdown",
   "source": [
    "# BERT model"
   ],
   "metadata": {
    "collapsed": false
   }
  },
  {
   "cell_type": "code",
   "execution_count": null,
   "outputs": [],
   "source": [
    "from sentence_transformers import SentenceTransformer\n",
    "\n",
    "embedder = SentenceTransformer('roberta-base-nli-stsb-mean-tokens')\n",
    "\n",
    "encoded_sentences = embedder.encode(dataset.train.sentence.values)"
   ],
   "metadata": {
    "collapsed": false,
    "pycharm": {
     "name": "#%%\n"
    }
   }
  },
  {
   "cell_type": "markdown",
   "source": [
    "## Get the t-SNE of the BERT model"
   ],
   "metadata": {
    "collapsed": false
   }
  },
  {
   "cell_type": "code",
   "execution_count": null,
   "outputs": [],
   "source": [
    "vec_tsne_bert = TSNE(n_components=2).fit_transform(encoded_sentences)\n",
    "vocabulary = dataset.train.sentence.values"
   ],
   "metadata": {
    "collapsed": false,
    "pycharm": {
     "name": "#%%\n"
    }
   }
  },
  {
   "cell_type": "code",
   "execution_count": null,
   "outputs": [],
   "source": [
    "plot_dict = AttributeDict(\n",
    "    x = vec_tsne_bert[:,0],\n",
    "    y = vec_tsne_bert[:,1],\n",
    "    sentence = np.array(vocabulary),\n",
    "    class_name_word = np.array(class_name_word)\n",
    "\n",
    ")\n",
    "source = ColumnDataSource(plot_dict)\n",
    "\n",
    "TITLE = \"Plot of BERT trained vectors in 2D using t-SNE\"\n",
    "TOOLS = \"hover,pan,wheel_zoom,box_zoom,tap,reset,save\"\n",
    "p = figure(tools=TOOLS,\n",
    "           title=TITLE,\n",
    "           toolbar_location=\"above\",\n",
    "           plot_width=800,\n",
    "           plot_height=800)\n",
    "p.xaxis.axis_label = \"t-SNE variable 1\"\n",
    "p.yaxis.axis_label = \"t-SNE variable 2\"\n",
    "\n",
    "curdoc().theme = \"light_minimal\"\n",
    "output_notebook()\n",
    "#output_file(\"doc2vec.html\")\n",
    "\n",
    "# Show info per circle (pan)\n",
    "p.hover.tooltips = [\n",
    "    (\"sentence\", \"@sentence\"),\n",
    "]\n",
    "\n",
    "# display all circles\n",
    "color_dict=(\"#000000\", \"#FF0000\", \"#0000FF\", \"#00FF00\")\n",
    "\n",
    "p.circle(x=\"x\",\n",
    "         y=\"y\",\n",
    "         radius=.4,\n",
    "         selection_color=\"black\",\n",
    "         fill_alpha=.5,\n",
    "         line_alpha=.6,\n",
    "         source=source)\n",
    "\n",
    "p.legend.location = \"top_left\"\n",
    "p.legend.click_policy=\"hide\"\n",
    "show(p)"
   ],
   "metadata": {
    "collapsed": false,
    "pycharm": {
     "name": "#%%\n"
    }
   }
  },
  {
   "cell_type": "code",
   "execution_count": null,
   "outputs": [],
   "source": [
    "plot_dict = AttributeDict(\n",
    "    x = vec_tsne_bert[:,0],\n",
    "    y = vec_tsne_bert[:,1],\n",
    "    sentence = np.array(vocabulary),\n",
    "    class_name_word = np.array(class_name_word)\n",
    "\n",
    ")\n",
    "source = ColumnDataSource(plot_dict)\n",
    "\n",
    "TITLE = \"Plot of BERT trained vectors in 2D using t-SNE\"\n",
    "TOOLS = \"hover,pan,wheel_zoom,box_zoom,tap,reset,save\"\n",
    "p = figure(tools=TOOLS,\n",
    "           title=TITLE,\n",
    "           toolbar_location=\"above\",\n",
    "           plot_width=800,\n",
    "           plot_height=800)\n",
    "p.xaxis.axis_label = \"t-SNE variable 1\"\n",
    "p.yaxis.axis_label = \"t-SNE variable 2\"\n",
    "\n",
    "curdoc().theme = \"light_minimal\"\n",
    "output_notebook()\n",
    "#output_file(\"doc2vec.html\")\n",
    "\n",
    "# Show info per circle (pan)\n",
    "p.hover.tooltips = [\n",
    "    (\"sentence\", \"@sentence\"),\n",
    "]\n",
    "\n",
    "# display all circles\n",
    "color_dict=(\"#000000\", \"#FF0000\", \"#0000FF\", \"#00FF00\")\n",
    "\n",
    "p.circle(x=\"x\",\n",
    "         y=\"y\",\n",
    "         radius=.4,\n",
    "         selection_color=\"black\",\n",
    "         fill_alpha=.5,\n",
    "         line_alpha=.6,\n",
    "         source=source)\n",
    "\n",
    "p.legend.location = \"top_left\"\n",
    "p.legend.click_policy=\"hide\"\n",
    "show(p)"
   ],
   "metadata": {
    "collapsed": false,
    "pycharm": {
     "name": "#%%\n"
    }
   }
  },
  {
   "cell_type": "code",
   "execution_count": null,
   "outputs": [],
   "source": [
    "plot_dict = AttributeDict(\n",
    "    x = vec_tsne_bert[:,0],\n",
    "    y = vec_tsne_bert[:,1],\n",
    "    sentence = np.array(vocabulary),\n",
    "    class_name_word = np.array(class_name_word)\n",
    "\n",
    ")\n",
    "source = ColumnDataSource(plot_dict)\n",
    "\n",
    "TITLE = \"Plot of BERT trained vectors in 2D using t-SNE\"\n",
    "TOOLS = \"hover,pan,wheel_zoom,box_zoom,tap,reset,save\"\n",
    "p = figure(tools=TOOLS,\n",
    "           title=TITLE,\n",
    "           toolbar_location=\"above\",\n",
    "           plot_width=800,\n",
    "           plot_height=800)\n",
    "p.xaxis.axis_label = \"t-SNE variable 1\"\n",
    "p.yaxis.axis_label = \"t-SNE variable 2\"\n",
    "\n",
    "curdoc().theme = \"light_minimal\"\n",
    "output_notebook()\n",
    "#output_file(\"doc2vec.html\")\n",
    "\n",
    "# Show info per circle (pan)\n",
    "p.hover.tooltips = [\n",
    "    (\"sentence\", \"@sentence\"),\n",
    "]\n",
    "\n",
    "# display all circles\n",
    "color_dict=(\"#000000\", \"#FF0000\", \"#0000FF\", \"#00FF00\")\n",
    "\n",
    "p.circle(x=\"x\",\n",
    "         y=\"y\",\n",
    "         radius=.4,\n",
    "         selection_color=\"black\",\n",
    "         fill_alpha=.5,\n",
    "         line_alpha=.6,\n",
    "         source=source)\n",
    "\n",
    "p.legend.location = \"top_left\"\n",
    "p.legend.click_policy=\"hide\"\n",
    "show(p)"
   ],
   "metadata": {
    "collapsed": false,
    "pycharm": {
     "name": "#%%\n"
    }
   }
  },
  {
   "cell_type": "markdown",
   "source": [
    "plot_dict = AttributeDict(\n",
    "    x = vec_tsne_bert[:,0],\n",
    "    y = vec_tsne_bert[:,1],\n",
    "    sentence = np.array(vocabulary),\n",
    "    class_name_word = np.array(class_name_word)\n",
    "\n",
    ")\n",
    "source = ColumnDataSource(plot_dict)\n",
    "\n",
    "TITLE = \"Plot of BERT trained vectors in 2D using t-SNE\"\n",
    "TOOLS = \"hover,pan,wheel_zoom,box_zoom,tap,reset,save\"\n",
    "p = figure(tools=TOOLS,\n",
    "           title=TITLE,\n",
    "           toolbar_location=\"above\",\n",
    "           plot_width=800,\n",
    "           plot_height=800)\n",
    "p.xaxis.axis_label = \"t-SNE variable 1\"\n",
    "p.yaxis.axis_label = \"t-SNE variable 2\"\n",
    "\n",
    "curdoc().theme = \"light_minimal\"\n",
    "output_notebook()\n",
    "#output_file(\"doc2vec.html\")\n",
    "\n",
    "# Show info per circle (pan)\n",
    "p.hover.tooltips = [\n",
    "    (\"sentence\", \"@sentence\"),\n",
    "]\n",
    "\n",
    "# display all circles\n",
    "color_dict=(\"#000000\", \"#FF0000\", \"#0000FF\", \"#00FF00\")\n",
    "\n",
    "p.circle(x=\"x\",\n",
    "         y=\"y\",\n",
    "         radius=.4,\n",
    "         selection_color=\"black\",\n",
    "         fill_alpha=.5,\n",
    "         line_alpha=.6,\n",
    "         source=source)\n",
    "\n",
    "p.legend.location = \"top_left\"\n",
    "p.legend.click_policy=\"hide\"\n",
    "show(p)"
   ],
   "metadata": {
    "collapsed": false
   }
  },
  {
   "cell_type": "code",
   "execution_count": null,
   "outputs": [],
   "source": [
    "docvecs = doc2vec_model.docvecs\n",
    "print(docvecs[0])\n",
    "print(doc2vec_model.infer_vector(dataset.train.doc.values[0].words))"
   ],
   "metadata": {
    "collapsed": false,
    "pycharm": {
     "name": "#%%\n"
    }
   }
  },
  {
   "cell_type": "code",
   "execution_count": null,
   "outputs": [],
   "source": [
    "vec_tsne = TSNE(n_components=2).fit_transform(doc2vec_model.docvecs)\n",
    "\n",
    "color_word = dataset.train\n",
    "\n",
    "plot_dict = AttributeDict(\n",
    "    x = vec_tsne[:,0],\n",
    "    y = vec_tsne[:,1],\n",
    "    fill_color = np.array(color_word),\n",
    "    legend_label = np.array(class_name_word),\n",
    "    sentence = np.array(dataset.train.sentence.values),\n",
    "    class_name_word = np.array(dataset.train[\"class\"].values)\n",
    "\n",
    ")\n",
    "source = ColumnDataSource(plot_dict)\n",
    "\n",
    "TITLE = \"Plot of Doc2Vec sentence trained vectors in 2D using t-SNE\"\n",
    "TOOLS = \"hover,pan,wheel_zoom,box_zoom,tap,reset,save\"\n",
    "p = figure(tools=TOOLS,\n",
    "           title=TITLE,\n",
    "           toolbar_location=\"above\",\n",
    "           plot_width=800,\n",
    "           plot_height=800)\n",
    "p.xaxis.axis_label = \"t-SNE variable 1\"\n",
    "p.yaxis.axis_label = \"t-SNE variable 2\"\n",
    "output_notebook()\n",
    "\n",
    "curdoc().theme = \"light_minimal\"\n",
    "#output_file(\"doc2vec.html\")\n",
    "\n",
    "# Show info per circle (pan)\n",
    "p.hover.tooltips = [\n",
    "    (\"sentence\", \"@sentence\"),\n",
    "    (\"class\",\"@class_name_word\")\n",
    "]\n",
    "\n",
    "# display all circles\n",
    "color_dict=(\"#000000\", \"#FF0000\", \"#0000FF\", \"#00FF00\")\n",
    "\n",
    "p.circle(x=\"x\",\n",
    "         y=\"y\",\n",
    "         radius=.4,\n",
    "         selection_color=\"black\",\n",
    "         fill_alpha=.5,\n",
    "         line_alpha=.6,\n",
    "         fill_color=\"fill_color\",\n",
    "         legend_group='class_name_word',\n",
    "         source=source)\n",
    "\n",
    "p.legend.location = \"top_left\"\n",
    "p.legend.click_policy=\"hide\"\n",
    "show(p)"
   ],
   "metadata": {
    "collapsed": false,
    "pycharm": {
     "name": "#%%\n"
    }
   }
  },
  {
   "cell_type": "markdown",
   "source": [
    "# BERT model"
   ],
   "metadata": {
    "collapsed": false
   }
  },
  {
   "cell_type": "code",
   "execution_count": null,
   "outputs": [],
   "source": [
    "from sentence_transformers import SentenceTransformer\n",
    "\n",
    "embedder = SentenceTransformer('roberta-base-nli-stsb-mean-tokens')\n",
    "\n",
    "encoded_sentences = embedder.encode(dataset.train.sentence.values)"
   ],
   "metadata": {
    "collapsed": false,
    "pycharm": {
     "name": "#%%\n"
    }
   }
  },
  {
   "cell_type": "markdown",
   "source": [
    "## Get the t-SNE of the BERT model"
   ],
   "metadata": {
    "collapsed": false
   }
  },
  {
   "cell_type": "code",
   "execution_count": null,
   "outputs": [],
   "source": [
    "vec_tsne_bert = TSNE(n_components=2).fit_transform(encoded_sentences)\n",
    "vocabulary = dataset.train.sentence.values"
   ],
   "metadata": {
    "collapsed": false,
    "pycharm": {
     "name": "#%%\n"
    }
   }
  },
  {
   "cell_type": "code",
   "execution_count": null,
   "outputs": [],
   "source": [
    "plot_dict = AttributeDict(\n",
    "    x = vec_tsne_bert[:,0],\n",
    "    y = vec_tsne_bert[:,1],\n",
    "    sentence = np.array(vocabulary),\n",
    "    class_name_word = np.array(class_name_word)\n",
    "\n",
    ")\n",
    "source = ColumnDataSource(plot_dict)\n",
    "\n",
    "TITLE = \"Plot of BERT trained vectors in 2D using t-SNE\"\n",
    "TOOLS = \"hover,pan,wheel_zoom,box_zoom,tap,reset,save\"\n",
    "p = figure(tools=TOOLS,\n",
    "           title=TITLE,\n",
    "           toolbar_location=\"above\",\n",
    "           plot_width=800,\n",
    "           plot_height=800)\n",
    "p.xaxis.axis_label = \"t-SNE variable 1\"\n",
    "p.yaxis.axis_label = \"t-SNE variable 2\"\n",
    "\n",
    "curdoc().theme = \"light_minimal\"\n",
    "output_notebook()\n",
    "#output_file(\"doc2vec.html\")\n",
    "\n",
    "# Show info per circle (pan)\n",
    "p.hover.tooltips = [\n",
    "    (\"sentence\", \"@sentence\"),\n",
    "]\n",
    "\n",
    "# display all circles\n",
    "color_dict=(\"#000000\", \"#FF0000\", \"#0000FF\", \"#00FF00\")\n",
    "\n",
    "p.circle(x=\"x\",\n",
    "         y=\"y\",\n",
    "         radius=.4,\n",
    "         selection_color=\"black\",\n",
    "         fill_alpha=.5,\n",
    "         line_alpha=.6,\n",
    "         source=source)\n",
    "\n",
    "p.legend.location = \"top_left\"\n",
    "p.legend.click_policy=\"hide\"\n",
    "show(p)"
   ],
   "metadata": {
    "collapsed": false,
    "pycharm": {
     "name": "#%%\n"
    }
   }
  },
  {
   "cell_type": "code",
   "execution_count": null,
   "outputs": [],
   "source": [
    "plot_dict = AttributeDict(\n",
    "    x = vec_tsne_bert[:,0],\n",
    "    y = vec_tsne_bert[:,1],\n",
    "    sentence = np.array(vocabulary),\n",
    "    class_name_word = np.array(class_name_word)\n",
    "\n",
    ")\n",
    "source = ColumnDataSource(plot_dict)\n",
    "\n",
    "TITLE = \"Plot of BERT trained vectors in 2D using t-SNE\"\n",
    "TOOLS = \"hover,pan,wheel_zoom,box_zoom,tap,reset,save\"\n",
    "p = figure(tools=TOOLS,\n",
    "           title=TITLE,\n",
    "           toolbar_location=\"above\",\n",
    "           plot_width=800,\n",
    "           plot_height=800)\n",
    "p.xaxis.axis_label = \"t-SNE variable 1\"\n",
    "p.yaxis.axis_label = \"t-SNE variable 2\"\n",
    "\n",
    "curdoc().theme = \"light_minimal\"\n",
    "output_notebook()\n",
    "#output_file(\"doc2vec.html\")\n",
    "\n",
    "# Show info per circle (pan)\n",
    "p.hover.tooltips = [\n",
    "    (\"sentence\", \"@sentence\"),\n",
    "]\n",
    "\n",
    "# display all circles\n",
    "color_dict=(\"#000000\", \"#FF0000\", \"#0000FF\", \"#00FF00\")\n",
    "\n",
    "p.circle(x=\"x\",\n",
    "         y=\"y\",\n",
    "         radius=.4,\n",
    "         selection_color=\"black\",\n",
    "         fill_alpha=.5,\n",
    "         line_alpha=.6,\n",
    "         source=source)\n",
    "\n",
    "p.legend.location = \"top_left\"\n",
    "p.legend.click_policy=\"hide\"\n",
    "show(p)"
   ],
   "metadata": {
    "collapsed": false,
    "pycharm": {
     "name": "#%%\n"
    }
   }
  },
  {
   "cell_type": "code",
   "execution_count": null,
   "outputs": [],
   "source": [
    "plot_dict = AttributeDict(\n",
    "    x = vec_tsne_bert[:,0],\n",
    "    y = vec_tsne_bert[:,1],\n",
    "    sentence = np.array(vocabulary),\n",
    "    class_name_word = np.array(class_name_word)\n",
    "\n",
    ")\n",
    "source = ColumnDataSource(plot_dict)\n",
    "\n",
    "TITLE = \"Plot of BERT trained vectors in 2D using t-SNE\"\n",
    "TOOLS = \"hover,pan,wheel_zoom,box_zoom,tap,reset,save\"\n",
    "p = figure(tools=TOOLS,\n",
    "           title=TITLE,\n",
    "           toolbar_location=\"above\",\n",
    "           plot_width=800,\n",
    "           plot_height=800)\n",
    "p.xaxis.axis_label = \"t-SNE variable 1\"\n",
    "p.yaxis.axis_label = \"t-SNE variable 2\"\n",
    "\n",
    "curdoc().theme = \"light_minimal\"\n",
    "output_notebook()\n",
    "#output_file(\"doc2vec.html\")\n",
    "\n",
    "# Show info per circle (pan)\n",
    "p.hover.tooltips = [\n",
    "    (\"sentence\", \"@sentence\"),\n",
    "]\n",
    "\n",
    "# display all circles\n",
    "color_dict=(\"#000000\", \"#FF0000\", \"#0000FF\", \"#00FF00\")\n",
    "\n",
    "p.circle(x=\"x\",\n",
    "         y=\"y\",\n",
    "         radius=.4,\n",
    "         selection_color=\"black\",\n",
    "         fill_alpha=.5,\n",
    "         line_alpha=.6,\n",
    "         source=source)\n",
    "\n",
    "p.legend.location = \"top_left\"\n",
    "p.legend.click_policy=\"hide\"\n",
    "show(p)"
   ],
   "metadata": {
    "collapsed": false,
    "pycharm": {
     "name": "#%%\n"
    }
   }
  },
  {
   "cell_type": "markdown",
   "source": [
    "plot_dict = AttributeDict(\n",
    "    x = vec_tsne_bert[:,0],\n",
    "    y = vec_tsne_bert[:,1],\n",
    "    sentence = np.array(vocabulary),\n",
    "    class_name_word = np.array(class_name_word)\n",
    "\n",
    ")\n",
    "source = ColumnDataSource(plot_dict)\n",
    "\n",
    "TITLE = \"Plot of BERT trained vectors in 2D using t-SNE\"\n",
    "TOOLS = \"hover,pan,wheel_zoom,box_zoom,tap,reset,save\"\n",
    "p = figure(tools=TOOLS,\n",
    "           title=TITLE,\n",
    "           toolbar_location=\"above\",\n",
    "           plot_width=800,\n",
    "           plot_height=800)\n",
    "p.xaxis.axis_label = \"t-SNE variable 1\"\n",
    "p.yaxis.axis_label = \"t-SNE variable 2\"\n",
    "\n",
    "curdoc().theme = \"light_minimal\"\n",
    "output_notebook()\n",
    "#output_file(\"doc2vec.html\")\n",
    "\n",
    "# Show info per circle (pan)\n",
    "p.hover.tooltips = [\n",
    "    (\"sentence\", \"@sentence\"),\n",
    "]\n",
    "\n",
    "# display all circles\n",
    "color_dict=(\"#000000\", \"#FF0000\", \"#0000FF\", \"#00FF00\")\n",
    "\n",
    "p.circle(x=\"x\",\n",
    "         y=\"y\",\n",
    "         radius=.4,\n",
    "         selection_color=\"black\",\n",
    "         fill_alpha=.5,\n",
    "         line_alpha=.6,\n",
    "         source=source)\n",
    "\n",
    "p.legend.location = \"top_left\"\n",
    "p.legend.click_policy=\"hide\"\n",
    "show(p)"
   ],
   "metadata": {
    "collapsed": false
   }
  },
  {
   "cell_type": "code",
   "execution_count": null,
   "outputs": [],
   "source": [
    "docvecs = doc2vec_model.docvecs\n",
    "print(docvecs[0])\n",
    "print(doc2vec_model.infer_vector(dataset.train.doc.values[0].words))"
   ],
   "metadata": {
    "collapsed": false,
    "pycharm": {
     "name": "#%%\n"
    }
   }
  },
  {
   "cell_type": "code",
   "execution_count": null,
   "outputs": [],
   "source": [
    "vec_tsne = TSNE(n_components=2).fit_transform(doc2vec_model.docvecs)\n",
    "\n",
    "color_word = dataset.train\n",
    "\n",
    "plot_dict = AttributeDict(\n",
    "    x = vec_tsne[:,0],\n",
    "    y = vec_tsne[:,1],\n",
    "    fill_color = np.array(color_word),\n",
    "    legend_label = np.array(class_name_word),\n",
    "    sentence = np.array(dataset.train.sentence.values),\n",
    "    class_name_word = np.array(dataset.train[\"class\"].values)\n",
    "\n",
    ")\n",
    "source = ColumnDataSource(plot_dict)\n",
    "\n",
    "TITLE = \"Plot of Doc2Vec sentence trained vectors in 2D using t-SNE\"\n",
    "TOOLS = \"hover,pan,wheel_zoom,box_zoom,tap,reset,save\"\n",
    "p = figure(tools=TOOLS,\n",
    "           title=TITLE,\n",
    "           toolbar_location=\"above\",\n",
    "           plot_width=800,\n",
    "           plot_height=800)\n",
    "p.xaxis.axis_label = \"t-SNE variable 1\"\n",
    "p.yaxis.axis_label = \"t-SNE variable 2\"\n",
    "output_notebook()\n",
    "\n",
    "curdoc().theme = \"light_minimal\"\n",
    "#output_file(\"doc2vec.html\")\n",
    "\n",
    "# Show info per circle (pan)\n",
    "p.hover.tooltips = [\n",
    "    (\"sentence\", \"@sentence\"),\n",
    "    (\"class\",\"@class_name_word\")\n",
    "]\n",
    "\n",
    "# display all circles\n",
    "color_dict=(\"#000000\", \"#FF0000\", \"#0000FF\", \"#00FF00\")\n",
    "\n",
    "p.circle(x=\"x\",\n",
    "         y=\"y\",\n",
    "         radius=.4,\n",
    "         selection_color=\"black\",\n",
    "         fill_alpha=.5,\n",
    "         line_alpha=.6,\n",
    "         fill_color=\"fill_color\",\n",
    "         legend_group='class_name_word',\n",
    "         source=source)\n",
    "\n",
    "p.legend.location = \"top_left\"\n",
    "p.legend.click_policy=\"hide\"\n",
    "show(p)"
   ],
   "metadata": {
    "collapsed": false,
    "pycharm": {
     "name": "#%%\n"
    }
   }
  },
  {
   "cell_type": "markdown",
   "source": [
    "# BERT model"
   ],
   "metadata": {
    "collapsed": false
   }
  },
  {
   "cell_type": "code",
   "execution_count": null,
   "outputs": [],
   "source": [
    "from sentence_transformers import SentenceTransformer\n",
    "\n",
    "embedder = SentenceTransformer('roberta-base-nli-stsb-mean-tokens')\n",
    "\n",
    "encoded_sentences = embedder.encode(dataset.train.sentence.values)"
   ],
   "metadata": {
    "collapsed": false,
    "pycharm": {
     "name": "#%%\n"
    }
   }
  },
  {
   "cell_type": "markdown",
   "source": [
    "## Get the t-SNE of the BERT model"
   ],
   "metadata": {
    "collapsed": false
   }
  },
  {
   "cell_type": "code",
   "execution_count": null,
   "outputs": [],
   "source": [
    "vec_tsne_bert = TSNE(n_components=2).fit_transform(encoded_sentences)\n",
    "vocabulary = dataset.train.sentence.values"
   ],
   "metadata": {
    "collapsed": false,
    "pycharm": {
     "name": "#%%\n"
    }
   }
  },
  {
   "cell_type": "code",
   "execution_count": null,
   "outputs": [],
   "source": [
    "plot_dict = AttributeDict(\n",
    "    x = vec_tsne_bert[:,0],\n",
    "    y = vec_tsne_bert[:,1],\n",
    "    sentence = np.array(vocabulary),\n",
    "    class_name_word = np.array(class_name_word)\n",
    "\n",
    ")\n",
    "source = ColumnDataSource(plot_dict)\n",
    "\n",
    "TITLE = \"Plot of BERT trained vectors in 2D using t-SNE\"\n",
    "TOOLS = \"hover,pan,wheel_zoom,box_zoom,tap,reset,save\"\n",
    "p = figure(tools=TOOLS,\n",
    "           title=TITLE,\n",
    "           toolbar_location=\"above\",\n",
    "           plot_width=800,\n",
    "           plot_height=800)\n",
    "p.xaxis.axis_label = \"t-SNE variable 1\"\n",
    "p.yaxis.axis_label = \"t-SNE variable 2\"\n",
    "\n",
    "curdoc().theme = \"light_minimal\"\n",
    "output_notebook()\n",
    "#output_file(\"doc2vec.html\")\n",
    "\n",
    "# Show info per circle (pan)\n",
    "p.hover.tooltips = [\n",
    "    (\"sentence\", \"@sentence\"),\n",
    "]\n",
    "\n",
    "# display all circles\n",
    "color_dict=(\"#000000\", \"#FF0000\", \"#0000FF\", \"#00FF00\")\n",
    "\n",
    "p.circle(x=\"x\",\n",
    "         y=\"y\",\n",
    "         radius=.4,\n",
    "         selection_color=\"black\",\n",
    "         fill_alpha=.5,\n",
    "         line_alpha=.6,\n",
    "         source=source)\n",
    "\n",
    "p.legend.location = \"top_left\"\n",
    "p.legend.click_policy=\"hide\"\n",
    "show(p)"
   ],
   "metadata": {
    "collapsed": false,
    "pycharm": {
     "name": "#%%\n"
    }
   }
  },
  {
   "cell_type": "code",
   "execution_count": null,
   "outputs": [],
   "source": [
    "plot_dict = AttributeDict(\n",
    "    x = vec_tsne_bert[:,0],\n",
    "    y = vec_tsne_bert[:,1],\n",
    "    sentence = np.array(vocabulary),\n",
    "    class_name_word = np.array(class_name_word)\n",
    "\n",
    ")\n",
    "source = ColumnDataSource(plot_dict)\n",
    "\n",
    "TITLE = \"Plot of BERT trained vectors in 2D using t-SNE\"\n",
    "TOOLS = \"hover,pan,wheel_zoom,box_zoom,tap,reset,save\"\n",
    "p = figure(tools=TOOLS,\n",
    "           title=TITLE,\n",
    "           toolbar_location=\"above\",\n",
    "           plot_width=800,\n",
    "           plot_height=800)\n",
    "p.xaxis.axis_label = \"t-SNE variable 1\"\n",
    "p.yaxis.axis_label = \"t-SNE variable 2\"\n",
    "\n",
    "curdoc().theme = \"light_minimal\"\n",
    "output_notebook()\n",
    "#output_file(\"doc2vec.html\")\n",
    "\n",
    "# Show info per circle (pan)\n",
    "p.hover.tooltips = [\n",
    "    (\"sentence\", \"@sentence\"),\n",
    "]\n",
    "\n",
    "# display all circles\n",
    "color_dict=(\"#000000\", \"#FF0000\", \"#0000FF\", \"#00FF00\")\n",
    "\n",
    "p.circle(x=\"x\",\n",
    "         y=\"y\",\n",
    "         radius=.4,\n",
    "         selection_color=\"black\",\n",
    "         fill_alpha=.5,\n",
    "         line_alpha=.6,\n",
    "         source=source)\n",
    "\n",
    "p.legend.location = \"top_left\"\n",
    "p.legend.click_policy=\"hide\"\n",
    "show(p)"
   ],
   "metadata": {
    "collapsed": false,
    "pycharm": {
     "name": "#%%\n"
    }
   }
  },
  {
   "cell_type": "code",
   "execution_count": null,
   "outputs": [],
   "source": [
    "plot_dict = AttributeDict(\n",
    "    x = vec_tsne_bert[:,0],\n",
    "    y = vec_tsne_bert[:,1],\n",
    "    sentence = np.array(vocabulary),\n",
    "    class_name_word = np.array(class_name_word)\n",
    "\n",
    ")\n",
    "source = ColumnDataSource(plot_dict)\n",
    "\n",
    "TITLE = \"Plot of BERT trained vectors in 2D using t-SNE\"\n",
    "TOOLS = \"hover,pan,wheel_zoom,box_zoom,tap,reset,save\"\n",
    "p = figure(tools=TOOLS,\n",
    "           title=TITLE,\n",
    "           toolbar_location=\"above\",\n",
    "           plot_width=800,\n",
    "           plot_height=800)\n",
    "p.xaxis.axis_label = \"t-SNE variable 1\"\n",
    "p.yaxis.axis_label = \"t-SNE variable 2\"\n",
    "\n",
    "curdoc().theme = \"light_minimal\"\n",
    "output_notebook()\n",
    "#output_file(\"doc2vec.html\")\n",
    "\n",
    "# Show info per circle (pan)\n",
    "p.hover.tooltips = [\n",
    "    (\"sentence\", \"@sentence\"),\n",
    "]\n",
    "\n",
    "# display all circles\n",
    "color_dict=(\"#000000\", \"#FF0000\", \"#0000FF\", \"#00FF00\")\n",
    "\n",
    "p.circle(x=\"x\",\n",
    "         y=\"y\",\n",
    "         radius=.4,\n",
    "         selection_color=\"black\",\n",
    "         fill_alpha=.5,\n",
    "         line_alpha=.6,\n",
    "         source=source)\n",
    "\n",
    "p.legend.location = \"top_left\"\n",
    "p.legend.click_policy=\"hide\"\n",
    "show(p)"
   ],
   "metadata": {
    "collapsed": false,
    "pycharm": {
     "name": "#%%\n"
    }
   }
  },
  {
   "cell_type": "markdown",
   "metadata": {},
   "source": [
    "plot_dict = AttributeDict(\n",
    "    x = vec_tsne_bert[:,0],\n",
    "    y = vec_tsne_bert[:,1],\n",
    "    sentence = np.array(vocabulary),\n",
    "    class_name_word = np.array(class_name_word)\n",
    "\n",
    ")\n",
    "source = ColumnDataSource(plot_dict)\n",
    "\n",
    "TITLE = \"Plot of BERT trained vectors in 2D using t-SNE\"\n",
    "TOOLS = \"hover,pan,wheel_zoom,box_zoom,tap,reset,save\"\n",
    "p = figure(tools=TOOLS,\n",
    "           title=TITLE,\n",
    "           toolbar_location=\"above\",\n",
    "           plot_width=800,\n",
    "           plot_height=800)\n",
    "p.xaxis.axis_label = \"t-SNE variable 1\"\n",
    "p.yaxis.axis_label = \"t-SNE variable 2\"\n",
    "\n",
    "curdoc().theme = \"light_minimal\"\n",
    "output_notebook()\n",
    "#output_file(\"doc2vec.html\")\n",
    "\n",
    "# Show info per circle (pan)\n",
    "p.hover.tooltips = [\n",
    "    (\"sentence\", \"@sentence\"),\n",
    "]\n",
    "\n",
    "# display all circles\n",
    "color_dict=(\"#000000\", \"#FF0000\", \"#0000FF\", \"#00FF00\")\n",
    "\n",
    "p.circle(x=\"x\",\n",
    "         y=\"y\",\n",
    "         radius=.4,\n",
    "         selection_color=\"black\",\n",
    "         fill_alpha=.5,\n",
    "         line_alpha=.6,\n",
    "         source=source)\n",
    "\n",
    "p.legend.location = \"top_left\"\n",
    "p.legend.click_policy=\"hide\"\n",
    "show(p)"
   ]
  },
  {
   "cell_type": "code",
   "execution_count": 39,
   "metadata": {},
   "outputs": [
    {
     "name": "stdout",
     "output_type": "stream",
     "text": [
      "[-2.5301938   0.8577112  -1.133557    0.41244704  0.29898098 -1.5561557\n",
      " -1.3114977  -1.0765412  -1.0237803  -1.0805854   0.7517884   1.3011371\n",
      "  2.6683095   0.23335105 -1.9845157  -3.1121237  -0.77441806 -0.30762368\n",
      "  1.0664773   0.70978934 -1.1972789  -1.8598366  -1.2793047  -0.38386145\n",
      " -0.12632996 -0.13723433 -0.05695308  0.26827598  0.49709436 -0.35507977\n",
      " -0.21036208 -0.4060113   1.0179808  -1.4772539  -1.029674   -1.0657368\n",
      " -1.1598835   0.22190884 -0.4017658  -1.1223317  -1.8644214   0.24103406\n",
      "  0.09477831  0.890395    1.2215052   0.44075644 -0.7238971  -2.6096463\n",
      " -2.7384253   2.4185088  -2.3352869  -0.49660042  0.96990883 -1.1435165\n",
      " -0.3198669  -0.07223254  0.50009274  0.5545506  -0.40994018 -0.75209355\n",
      " -0.2961104  -0.25702167  1.5777469   0.7424367  -0.04122495 -0.10209477\n",
      "  0.50789887 -0.88307506 -0.8880999   0.78167677 -0.74615973  0.01241894\n",
      "  1.3692627   0.10308021 -0.24192078  0.6519565   1.048242    0.08129063\n",
      "  0.9761686   1.9510846   1.8412081  -0.07635148  3.5468903  -0.826276\n",
      " -1.4133906   1.2008244   2.126998   -3.0843787   0.5500948   0.77948236\n",
      " -3.251596   -0.9382487  -0.41234735 -1.006468    0.612603    0.9529847\n",
      " -2.1205156   1.2882345   0.971785   -1.5403186 ]\n",
      "[ 0.11700509  0.5196315  -0.28680378  0.6019686  -0.10545577 -0.3769563\n",
      " -0.17386377 -0.20645529 -0.21344098 -0.6325527   0.16765219 -0.27761248\n",
      "  0.14922196 -0.42868838 -0.1929345  -0.04966814  0.00616413 -0.03972712\n",
      "  0.03580333  0.23203272  0.11286248  0.14987388 -0.2698023   0.46421635\n",
      "  0.14223738 -0.01038891  0.15877621  0.08695678  0.6824699   0.4530608\n",
      " -0.04667413 -0.3903225   0.452993   -0.08041459 -0.42029953  0.07407103\n",
      " -0.71271294 -0.38892087 -0.32266393 -0.18344748 -0.4756835   0.07431079\n",
      " -0.08047336 -0.17262407 -0.26503682 -0.18175815 -0.1152858  -0.4516151\n",
      " -0.3531986   0.43868887 -0.5279875   0.11538868 -0.5195548  -0.27150536\n",
      "  0.02737382  0.2674376  -0.27343425 -0.07662923  0.252853    0.36010355\n",
      "  0.02935822 -0.06465252  0.4622593   0.5507196  -0.02366954 -0.04176362\n",
      "  0.00162687  0.06845354 -0.24979185  0.07132708 -0.05803704  0.07505205\n",
      "  0.79438174  0.32462963 -0.00628481  0.32177186  0.20501584 -0.19751744\n",
      " -0.27017537  0.74553984  0.44941974  0.37511492  0.92188346 -0.34022394\n",
      " -0.21881548 -0.19348875  0.33283105 -0.339971    0.5595342   0.3648138\n",
      " -0.19930743 -0.21985655 -0.29981604  0.25997257  0.24642855  0.5474208\n",
      "  0.38629124  0.44510177  0.45734903 -0.07167912]\n"
     ]
    }
   ],
   "source": [
    "docvecs = doc2vec_model.docvecs\n",
    "print(docvecs[0])\n",
    "print(doc2vec_model.infer_vector(dataset.train.doc.values[0].words))"
   ]
  },
  {
   "cell_type": "code",
   "execution_count": null,
   "metadata": {},
   "outputs": [],
   "source": [
    "vec_tsne = TSNE(n_components=2).fit_transform(doc2vec_model.docvecs)\n",
    "\n",
    "color_word = dataset.train\n",
    "\n",
    "plot_dict = AttributeDict(\n",
    "    x = vec_tsne[:,0],\n",
    "    y = vec_tsne[:,1],\n",
    "    fill_color = np.array(color_word),\n",
    "    legend_label = np.array(class_name_word),\n",
    "    sentence = np.array(dataset.train.sentence.values),\n",
    "    class_name_word = np.array(dataset.train[\"class\"].values)\n",
    "\n",
    ")\n",
    "source = ColumnDataSource(plot_dict)\n",
    "\n",
    "TITLE = \"Plot of Doc2Vec sentence trained vectors in 2D using t-SNE\"\n",
    "TOOLS = \"hover,pan,wheel_zoom,box_zoom,tap,reset,save\"\n",
    "p = figure(tools=TOOLS,\n",
    "           title=TITLE,\n",
    "           toolbar_location=\"above\",\n",
    "           plot_width=800,\n",
    "           plot_height=800)\n",
    "p.xaxis.axis_label = \"t-SNE variable 1\"\n",
    "p.yaxis.axis_label = \"t-SNE variable 2\"\n",
    "output_notebook()\n",
    "\n",
    "curdoc().theme = \"light_minimal\"\n",
    "#output_file(\"doc2vec.html\")\n",
    "\n",
    "# Show info per circle (pan)\n",
    "p.hover.tooltips = [\n",
    "    (\"sentence\", \"@sentence\"),\n",
    "    (\"class\",\"@class_name_word\")\n",
    "]\n",
    "\n",
    "# display all circles\n",
    "color_dict=(\"#000000\", \"#FF0000\", \"#0000FF\", \"#00FF00\")\n",
    "\n",
    "p.circle(x=\"x\",\n",
    "         y=\"y\",\n",
    "         radius=.4,\n",
    "         selection_color=\"black\",\n",
    "         fill_alpha=.5,\n",
    "         line_alpha=.6,\n",
    "         fill_color=\"fill_color\",\n",
    "         legend_group='class_name_word',\n",
    "         source=source)\n",
    "\n",
    "p.legend.location = \"top_left\"\n",
    "p.legend.click_policy=\"hide\"\n",
    "show(p)"
   ]
  },
  {
   "cell_type": "markdown",
   "metadata": {
    "pycharm": {
     "name": "#%% md\n"
    }
   },
   "source": [
    "# BERT model"
   ]
  },
  {
   "cell_type": "code",
   "execution_count": null,
   "metadata": {},
   "outputs": [],
   "source": [
    "from sentence_transformers import SentenceTransformer\n",
    "\n",
    "embedder = SentenceTransformer('roberta-base-nli-stsb-mean-tokens')\n",
    "\n",
    "encoded_sentences = embedder.encode(dataset.train.sentence.values)"
   ]
  },
  {
   "cell_type": "markdown",
   "metadata": {},
   "source": [
    "## Get the t-SNE of the BERT model"
   ]
  },
  {
   "cell_type": "code",
   "execution_count": null,
   "metadata": {
    "pycharm": {
     "name": "#%%\n"
    }
   },
   "outputs": [],
   "source": [
    "vec_tsne_bert = TSNE(n_components=2).fit_transform(encoded_sentences)\n",
    "vocabulary = dataset.train.sentence.values"
   ]
  },
  {
   "cell_type": "code",
   "execution_count": null,
   "metadata": {
    "pycharm": {
     "name": "#%%\n"
    }
   },
   "outputs": [],
   "source": [
    "plot_dict = AttributeDict(\n",
    "    x = vec_tsne_bert[:,0],\n",
    "    y = vec_tsne_bert[:,1],\n",
    "    sentence = np.array(vocabulary),\n",
    "    class_name_word = np.array(class_name_word)\n",
    "\n",
    ")\n",
    "source = ColumnDataSource(plot_dict)\n",
    "\n",
    "TITLE = \"Plot of BERT trained vectors in 2D using t-SNE\"\n",
    "TOOLS = \"hover,pan,wheel_zoom,box_zoom,tap,reset,save\"\n",
    "p = figure(tools=TOOLS,\n",
    "           title=TITLE,\n",
    "           toolbar_location=\"above\",\n",
    "           plot_width=800,\n",
    "           plot_height=800)\n",
    "p.xaxis.axis_label = \"t-SNE variable 1\"\n",
    "p.yaxis.axis_label = \"t-SNE variable 2\"\n",
    "\n",
    "curdoc().theme = \"light_minimal\"\n",
    "output_notebook()\n",
    "#output_file(\"doc2vec.html\")\n",
    "\n",
    "# Show info per circle (pan)\n",
    "p.hover.tooltips = [\n",
    "    (\"sentence\", \"@sentence\"),\n",
    "]\n",
    "\n",
    "# display all circles\n",
    "color_dict=(\"#000000\", \"#FF0000\", \"#0000FF\", \"#00FF00\")\n",
    "\n",
    "p.circle(x=\"x\",\n",
    "         y=\"y\",\n",
    "         radius=.4,\n",
    "         selection_color=\"black\",\n",
    "         fill_alpha=.5,\n",
    "         line_alpha=.6,\n",
    "         source=source)\n",
    "\n",
    "p.legend.location = \"top_left\"\n",
    "p.legend.click_policy=\"hide\"\n",
    "show(p)"
   ]
  },
  {
   "cell_type": "code",
   "execution_count": null,
   "metadata": {},
   "outputs": [],
   "source": [
    "plot_dict = AttributeDict(\n",
    "    x = vec_tsne_bert[:,0],\n",
    "    y = vec_tsne_bert[:,1],\n",
    "    sentence = np.array(vocabulary),\n",
    "    class_name_word = np.array(class_name_word)\n",
    "\n",
    ")\n",
    "source = ColumnDataSource(plot_dict)\n",
    "\n",
    "TITLE = \"Plot of BERT trained vectors in 2D using t-SNE\"\n",
    "TOOLS = \"hover,pan,wheel_zoom,box_zoom,tap,reset,save\"\n",
    "p = figure(tools=TOOLS,\n",
    "           title=TITLE,\n",
    "           toolbar_location=\"above\",\n",
    "           plot_width=800,\n",
    "           plot_height=800)\n",
    "p.xaxis.axis_label = \"t-SNE variable 1\"\n",
    "p.yaxis.axis_label = \"t-SNE variable 2\"\n",
    "\n",
    "curdoc().theme = \"light_minimal\"\n",
    "output_notebook()\n",
    "#output_file(\"doc2vec.html\")\n",
    "\n",
    "# Show info per circle (pan)\n",
    "p.hover.tooltips = [\n",
    "    (\"sentence\", \"@sentence\"),\n",
    "]\n",
    "\n",
    "# display all circles\n",
    "color_dict=(\"#000000\", \"#FF0000\", \"#0000FF\", \"#00FF00\")\n",
    "\n",
    "p.circle(x=\"x\",\n",
    "         y=\"y\",\n",
    "         radius=.4,\n",
    "         selection_color=\"black\",\n",
    "         fill_alpha=.5,\n",
    "         line_alpha=.6,\n",
    "         source=source)\n",
    "\n",
    "p.legend.location = \"top_left\"\n",
    "p.legend.click_policy=\"hide\"\n",
    "show(p)"
   ]
  },
  {
   "cell_type": "code",
   "execution_count": null,
   "metadata": {},
   "outputs": [],
   "source": [
    "plot_dict = AttributeDict(\n",
    "    x = vec_tsne_bert[:,0],\n",
    "    y = vec_tsne_bert[:,1],\n",
    "    sentence = np.array(vocabulary),\n",
    "    class_name_word = np.array(class_name_word)\n",
    "\n",
    ")\n",
    "source = ColumnDataSource(plot_dict)\n",
    "\n",
    "TITLE = \"Plot of BERT trained vectors in 2D using t-SNE\"\n",
    "TOOLS = \"hover,pan,wheel_zoom,box_zoom,tap,reset,save\"\n",
    "p = figure(tools=TOOLS,\n",
    "           title=TITLE,\n",
    "           toolbar_location=\"above\",\n",
    "           plot_width=800,\n",
    "           plot_height=800)\n",
    "p.xaxis.axis_label = \"t-SNE variable 1\"\n",
    "p.yaxis.axis_label = \"t-SNE variable 2\"\n",
    "\n",
    "curdoc().theme = \"light_minimal\"\n",
    "output_notebook()\n",
    "#output_file(\"doc2vec.html\")\n",
    "\n",
    "# Show info per circle (pan)\n",
    "p.hover.tooltips = [\n",
    "    (\"sentence\", \"@sentence\"),\n",
    "]\n",
    "\n",
    "# display all circles\n",
    "color_dict=(\"#000000\", \"#FF0000\", \"#0000FF\", \"#00FF00\")\n",
    "\n",
    "p.circle(x=\"x\",\n",
    "         y=\"y\",\n",
    "         radius=.4,\n",
    "         selection_color=\"black\",\n",
    "         fill_alpha=.5,\n",
    "         line_alpha=.6,\n",
    "         source=source)\n",
    "\n",
    "p.legend.location = \"top_left\"\n",
    "p.legend.click_policy=\"hide\"\n",
    "show(p)"
   ]
  }
 ],
 "metadata": {
  "kernelspec": {
   "display_name": "Python 3",
   "language": "python",
   "name": "python3"
  }
 },
 "nbformat": 4,
 "nbformat_minor": 4
}