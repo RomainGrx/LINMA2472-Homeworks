{
 "cells": [
  {
   "cell_type": "markdown",
   "source": [
    "Useful stuff\n",
    "---"
   ],
   "metadata": {
    "collapsed": false,
    "pycharm": {
     "name": "#%% md\n"
    }
   }
  },
  {
   "cell_type": "code",
   "execution_count": 1,
   "outputs": [],
   "source": [
    "class AttributeDict(dict):\n",
    "    __getattr__ = dict.__getitem__\n",
    "    __setattr__ = dict.__setitem__"
   ],
   "metadata": {
    "collapsed": false,
    "pycharm": {
     "name": "#%%\n"
    }
   }
  },
  {
   "cell_type": "markdown",
   "metadata": {
    "pycharm": {
     "name": "#%% md\n"
    }
   },
   "source": [
    "Treat csv dataset\n",
    "---"
   ]
  },
  {
   "cell_type": "code",
   "execution_count": 2,
   "outputs": [],
   "source": [
    "import os\n",
    "from collections import defaultdict\n",
    "import pandas as pd\n",
    "\n",
    "dataset_dir = os.path.join(os.curdir, 'datasets', 'comments')\n",
    "dataset_dict = AttributeDict(\n",
    "    Donald_Trump=AttributeDict(\n",
    "        train=None,\n",
    "        test=None,\n",
    "        path=os.path.join(dataset_dir, \"Donald-Trump-%s.csv\")\n",
    "    ),\n",
    "    Joe_Biden=AttributeDict(\n",
    "        train=None,\n",
    "        test=None,\n",
    "        path=os.path.join(dataset_dir, \"Joe-Biden-%s.csv\")\n",
    "    )\n",
    ")\n",
    "\n",
    "# You need to force the first column to be set as \"index\" in the raw csv file\n",
    "for name, dic in dataset_dict.items():\n",
    "    for tp in (\"train\", \"test\"):\n",
    "        dataset_dict[name][tp] = pd.read_csv(dic.path%tp, index_col=0)\n"
   ],
   "metadata": {
    "collapsed": false,
    "pycharm": {
     "name": "#%%\n"
    }
   }
  },
  {
   "cell_type": "code",
   "execution_count": 3,
   "outputs": [
    {
     "name": "stdout",
     "output_type": "stream",
     "text": [
      "                                                    body\n",
      "index                                                   \n",
      "0      We love you, Tom! And we love Judicial Watch! ...\n",
      "1                             I don’t know what that is.\n",
      "2      To be honest, it probably is. But more publici...\n",
      "3      Definitely eRection interference, pun intended...\n",
      "4                                            Ant update?\n",
      "...                                                  ...\n",
      "11280  Look at the comment count vs the actual number...\n",
      "11281  I got 3 wanings, including 1 for upvoting wron...\n",
      "11282  Less than half the comments are showing.  This...\n",
      "11283  You seem just a little *too* content there, champ\n",
      "11284                  Yeah, says 52 but there's like 24\n",
      "\n",
      "[11285 rows x 1 columns]\n"
     ]
    }
   ],
   "source": [
    "print(dataset_dict.Donald_Trump.train)"
   ],
   "metadata": {
    "collapsed": false,
    "pycharm": {
     "name": "#%%\n"
    }
   }
  }
 ],
 "metadata": {
  "kernelspec": {
   "display_name": "Python 3",
   "language": "python",
   "name": "python3"
  },
  "language_info": {
   "codemirror_mode": {
    "name": "ipython",
    "version": 3
   },
   "file_extension": ".py",
   "mimetype": "text/x-python",
   "name": "python",
   "nbconvert_exporter": "python",
   "pygments_lexer": "ipython3",
   "version": "3.8.5"
  }
 },
 "nbformat": 4,
 "nbformat_minor": 4
}